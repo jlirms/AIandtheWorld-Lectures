{
  "nbformat": 4,
  "nbformat_minor": 0,
  "metadata": {
    "colab": {
      "name": "MOD 4: This is it!.ipynb",
      "provenance": [],
      "collapsed_sections": [
        "NVZHdPW-R4aW",
        "whBA8FNFS_sF",
        "nNEruMJJ6WEJ",
        "8oGlkC2m7Wy5",
        "JJ7czN5yRxX3"
      ]
    },
    "kernelspec": {
      "name": "python3",
      "display_name": "Python 3"
    }
  },
  "cells": [
    {
      "cell_type": "markdown",
      "metadata": {
        "id": "NVZHdPW-R4aW"
      },
      "source": [
        "# DAY 4.0: This is it!!\n",
        "a few more topics to cover, and then tons of time for your projects!!"
      ]
    },
    {
      "cell_type": "code",
      "metadata": {
        "id": "Wie6L0FB1NQg",
        "outputId": "03495147-bf52-4156-86d1-781ef5104436",
        "colab": {
          "base_uri": "https://localhost:8080/",
          "height": 70
        }
      },
      "source": [
        "import pandas as pd\n",
        "import matplotlib.pyplot as plt\n",
        "import seaborn as sns\n",
        "\n",
        "\n",
        "from sklearn import linear_model\n",
        "from sklearn.metrics import mean_absolute_error\n",
        "from sklearn.metrics import mean_squared_error\n",
        "from sklearn.model_selection import train_test_split"
      ],
      "execution_count": null,
      "outputs": [
        {
          "output_type": "stream",
          "text": [
            "/usr/local/lib/python3.6/dist-packages/statsmodels/tools/_testing.py:19: FutureWarning: pandas.util.testing is deprecated. Use the functions in the public API at pandas.testing instead.\n",
            "  import pandas.util.testing as tm\n"
          ],
          "name": "stderr"
        }
      ]
    },
    {
      "cell_type": "markdown",
      "metadata": {
        "id": "dOmSsTYgR00x"
      },
      "source": [
        "Let's load in the diamonds dataset, with the same transformations as yesterday!"
      ]
    },
    {
      "cell_type": "code",
      "metadata": {
        "id": "J7wfdZQu1Qh9",
        "outputId": "062b6874-91ce-44bf-9017-f9173a20ed2e",
        "colab": {
          "base_uri": "https://localhost:8080/",
          "height": 402
        }
      },
      "source": [
        "df_in = sns.load_dataset('diamonds')\n",
        "df_in['color'].map( {'D':1 , 'E':2, 'F':3, 'G':4,'H':5,'I':6 ,'J':7})\n",
        "df_in['is_Ideal'] = (df_in['cut'] == 'Ideal') \n",
        "df_in['is_Premium'] = (df_in['cut'] == 'Premium') \n",
        "df_in['is_Very Good'] = (df_in['cut'] == 'Very Good') \n",
        "df_in['is_Good'] = (df_in['cut'] == 'Good') \n",
        "df_in['is_Fair'] = (df_in['cut'] == 'Fair') \n",
        "df_in"
      ],
      "execution_count": null,
      "outputs": [
        {
          "output_type": "execute_result",
          "data": {
            "text/html": [
              "<div>\n",
              "<style scoped>\n",
              "    .dataframe tbody tr th:only-of-type {\n",
              "        vertical-align: middle;\n",
              "    }\n",
              "\n",
              "    .dataframe tbody tr th {\n",
              "        vertical-align: top;\n",
              "    }\n",
              "\n",
              "    .dataframe thead th {\n",
              "        text-align: right;\n",
              "    }\n",
              "</style>\n",
              "<table border=\"1\" class=\"dataframe\">\n",
              "  <thead>\n",
              "    <tr style=\"text-align: right;\">\n",
              "      <th></th>\n",
              "      <th>carat</th>\n",
              "      <th>cut</th>\n",
              "      <th>color</th>\n",
              "      <th>clarity</th>\n",
              "      <th>depth</th>\n",
              "      <th>table</th>\n",
              "      <th>price</th>\n",
              "      <th>x</th>\n",
              "      <th>y</th>\n",
              "      <th>z</th>\n",
              "      <th>is_Ideal</th>\n",
              "      <th>is_Premium</th>\n",
              "      <th>is_Very Good</th>\n",
              "      <th>is_Good</th>\n",
              "      <th>is_Fair</th>\n",
              "    </tr>\n",
              "  </thead>\n",
              "  <tbody>\n",
              "    <tr>\n",
              "      <th>0</th>\n",
              "      <td>0.23</td>\n",
              "      <td>Ideal</td>\n",
              "      <td>E</td>\n",
              "      <td>SI2</td>\n",
              "      <td>61.5</td>\n",
              "      <td>55.0</td>\n",
              "      <td>326</td>\n",
              "      <td>3.95</td>\n",
              "      <td>3.98</td>\n",
              "      <td>2.43</td>\n",
              "      <td>True</td>\n",
              "      <td>False</td>\n",
              "      <td>False</td>\n",
              "      <td>False</td>\n",
              "      <td>False</td>\n",
              "    </tr>\n",
              "    <tr>\n",
              "      <th>1</th>\n",
              "      <td>0.21</td>\n",
              "      <td>Premium</td>\n",
              "      <td>E</td>\n",
              "      <td>SI1</td>\n",
              "      <td>59.8</td>\n",
              "      <td>61.0</td>\n",
              "      <td>326</td>\n",
              "      <td>3.89</td>\n",
              "      <td>3.84</td>\n",
              "      <td>2.31</td>\n",
              "      <td>False</td>\n",
              "      <td>True</td>\n",
              "      <td>False</td>\n",
              "      <td>False</td>\n",
              "      <td>False</td>\n",
              "    </tr>\n",
              "    <tr>\n",
              "      <th>2</th>\n",
              "      <td>0.23</td>\n",
              "      <td>Good</td>\n",
              "      <td>E</td>\n",
              "      <td>VS1</td>\n",
              "      <td>56.9</td>\n",
              "      <td>65.0</td>\n",
              "      <td>327</td>\n",
              "      <td>4.05</td>\n",
              "      <td>4.07</td>\n",
              "      <td>2.31</td>\n",
              "      <td>False</td>\n",
              "      <td>False</td>\n",
              "      <td>False</td>\n",
              "      <td>True</td>\n",
              "      <td>False</td>\n",
              "    </tr>\n",
              "    <tr>\n",
              "      <th>3</th>\n",
              "      <td>0.29</td>\n",
              "      <td>Premium</td>\n",
              "      <td>I</td>\n",
              "      <td>VS2</td>\n",
              "      <td>62.4</td>\n",
              "      <td>58.0</td>\n",
              "      <td>334</td>\n",
              "      <td>4.20</td>\n",
              "      <td>4.23</td>\n",
              "      <td>2.63</td>\n",
              "      <td>False</td>\n",
              "      <td>True</td>\n",
              "      <td>False</td>\n",
              "      <td>False</td>\n",
              "      <td>False</td>\n",
              "    </tr>\n",
              "    <tr>\n",
              "      <th>4</th>\n",
              "      <td>0.31</td>\n",
              "      <td>Good</td>\n",
              "      <td>J</td>\n",
              "      <td>SI2</td>\n",
              "      <td>63.3</td>\n",
              "      <td>58.0</td>\n",
              "      <td>335</td>\n",
              "      <td>4.34</td>\n",
              "      <td>4.35</td>\n",
              "      <td>2.75</td>\n",
              "      <td>False</td>\n",
              "      <td>False</td>\n",
              "      <td>False</td>\n",
              "      <td>True</td>\n",
              "      <td>False</td>\n",
              "    </tr>\n",
              "    <tr>\n",
              "      <th>...</th>\n",
              "      <td>...</td>\n",
              "      <td>...</td>\n",
              "      <td>...</td>\n",
              "      <td>...</td>\n",
              "      <td>...</td>\n",
              "      <td>...</td>\n",
              "      <td>...</td>\n",
              "      <td>...</td>\n",
              "      <td>...</td>\n",
              "      <td>...</td>\n",
              "      <td>...</td>\n",
              "      <td>...</td>\n",
              "      <td>...</td>\n",
              "      <td>...</td>\n",
              "      <td>...</td>\n",
              "    </tr>\n",
              "    <tr>\n",
              "      <th>53935</th>\n",
              "      <td>0.72</td>\n",
              "      <td>Ideal</td>\n",
              "      <td>D</td>\n",
              "      <td>SI1</td>\n",
              "      <td>60.8</td>\n",
              "      <td>57.0</td>\n",
              "      <td>2757</td>\n",
              "      <td>5.75</td>\n",
              "      <td>5.76</td>\n",
              "      <td>3.50</td>\n",
              "      <td>True</td>\n",
              "      <td>False</td>\n",
              "      <td>False</td>\n",
              "      <td>False</td>\n",
              "      <td>False</td>\n",
              "    </tr>\n",
              "    <tr>\n",
              "      <th>53936</th>\n",
              "      <td>0.72</td>\n",
              "      <td>Good</td>\n",
              "      <td>D</td>\n",
              "      <td>SI1</td>\n",
              "      <td>63.1</td>\n",
              "      <td>55.0</td>\n",
              "      <td>2757</td>\n",
              "      <td>5.69</td>\n",
              "      <td>5.75</td>\n",
              "      <td>3.61</td>\n",
              "      <td>False</td>\n",
              "      <td>False</td>\n",
              "      <td>False</td>\n",
              "      <td>True</td>\n",
              "      <td>False</td>\n",
              "    </tr>\n",
              "    <tr>\n",
              "      <th>53937</th>\n",
              "      <td>0.70</td>\n",
              "      <td>Very Good</td>\n",
              "      <td>D</td>\n",
              "      <td>SI1</td>\n",
              "      <td>62.8</td>\n",
              "      <td>60.0</td>\n",
              "      <td>2757</td>\n",
              "      <td>5.66</td>\n",
              "      <td>5.68</td>\n",
              "      <td>3.56</td>\n",
              "      <td>False</td>\n",
              "      <td>False</td>\n",
              "      <td>True</td>\n",
              "      <td>False</td>\n",
              "      <td>False</td>\n",
              "    </tr>\n",
              "    <tr>\n",
              "      <th>53938</th>\n",
              "      <td>0.86</td>\n",
              "      <td>Premium</td>\n",
              "      <td>H</td>\n",
              "      <td>SI2</td>\n",
              "      <td>61.0</td>\n",
              "      <td>58.0</td>\n",
              "      <td>2757</td>\n",
              "      <td>6.15</td>\n",
              "      <td>6.12</td>\n",
              "      <td>3.74</td>\n",
              "      <td>False</td>\n",
              "      <td>True</td>\n",
              "      <td>False</td>\n",
              "      <td>False</td>\n",
              "      <td>False</td>\n",
              "    </tr>\n",
              "    <tr>\n",
              "      <th>53939</th>\n",
              "      <td>0.75</td>\n",
              "      <td>Ideal</td>\n",
              "      <td>D</td>\n",
              "      <td>SI2</td>\n",
              "      <td>62.2</td>\n",
              "      <td>55.0</td>\n",
              "      <td>2757</td>\n",
              "      <td>5.83</td>\n",
              "      <td>5.87</td>\n",
              "      <td>3.64</td>\n",
              "      <td>True</td>\n",
              "      <td>False</td>\n",
              "      <td>False</td>\n",
              "      <td>False</td>\n",
              "      <td>False</td>\n",
              "    </tr>\n",
              "  </tbody>\n",
              "</table>\n",
              "<p>53940 rows × 15 columns</p>\n",
              "</div>"
            ],
            "text/plain": [
              "       carat        cut color  ... is_Very Good  is_Good  is_Fair\n",
              "0       0.23      Ideal     E  ...        False    False    False\n",
              "1       0.21    Premium     E  ...        False    False    False\n",
              "2       0.23       Good     E  ...        False     True    False\n",
              "3       0.29    Premium     I  ...        False    False    False\n",
              "4       0.31       Good     J  ...        False     True    False\n",
              "...      ...        ...   ...  ...          ...      ...      ...\n",
              "53935   0.72      Ideal     D  ...        False    False    False\n",
              "53936   0.72       Good     D  ...        False     True    False\n",
              "53937   0.70  Very Good     D  ...         True    False    False\n",
              "53938   0.86    Premium     H  ...        False    False    False\n",
              "53939   0.75      Ideal     D  ...        False    False    False\n",
              "\n",
              "[53940 rows x 15 columns]"
            ]
          },
          "metadata": {
            "tags": []
          },
          "execution_count": 2
        }
      ]
    },
    {
      "cell_type": "code",
      "metadata": {
        "id": "vnp9mSvo1Qkj",
        "outputId": "7558823f-3cb6-4220-ed71-2177f6b7d3e4",
        "colab": {
          "base_uri": "https://localhost:8080/",
          "height": 402
        }
      },
      "source": [
        "true_price = df_in['price']\n",
        "df_input = df_in.drop(columns = ['cut','color','clarity','price'])\n",
        "df_input"
      ],
      "execution_count": null,
      "outputs": [
        {
          "output_type": "execute_result",
          "data": {
            "text/html": [
              "<div>\n",
              "<style scoped>\n",
              "    .dataframe tbody tr th:only-of-type {\n",
              "        vertical-align: middle;\n",
              "    }\n",
              "\n",
              "    .dataframe tbody tr th {\n",
              "        vertical-align: top;\n",
              "    }\n",
              "\n",
              "    .dataframe thead th {\n",
              "        text-align: right;\n",
              "    }\n",
              "</style>\n",
              "<table border=\"1\" class=\"dataframe\">\n",
              "  <thead>\n",
              "    <tr style=\"text-align: right;\">\n",
              "      <th></th>\n",
              "      <th>carat</th>\n",
              "      <th>depth</th>\n",
              "      <th>table</th>\n",
              "      <th>x</th>\n",
              "      <th>y</th>\n",
              "      <th>z</th>\n",
              "      <th>is_Ideal</th>\n",
              "      <th>is_Premium</th>\n",
              "      <th>is_Very Good</th>\n",
              "      <th>is_Good</th>\n",
              "      <th>is_Fair</th>\n",
              "    </tr>\n",
              "  </thead>\n",
              "  <tbody>\n",
              "    <tr>\n",
              "      <th>0</th>\n",
              "      <td>0.23</td>\n",
              "      <td>61.5</td>\n",
              "      <td>55.0</td>\n",
              "      <td>3.95</td>\n",
              "      <td>3.98</td>\n",
              "      <td>2.43</td>\n",
              "      <td>True</td>\n",
              "      <td>False</td>\n",
              "      <td>False</td>\n",
              "      <td>False</td>\n",
              "      <td>False</td>\n",
              "    </tr>\n",
              "    <tr>\n",
              "      <th>1</th>\n",
              "      <td>0.21</td>\n",
              "      <td>59.8</td>\n",
              "      <td>61.0</td>\n",
              "      <td>3.89</td>\n",
              "      <td>3.84</td>\n",
              "      <td>2.31</td>\n",
              "      <td>False</td>\n",
              "      <td>True</td>\n",
              "      <td>False</td>\n",
              "      <td>False</td>\n",
              "      <td>False</td>\n",
              "    </tr>\n",
              "    <tr>\n",
              "      <th>2</th>\n",
              "      <td>0.23</td>\n",
              "      <td>56.9</td>\n",
              "      <td>65.0</td>\n",
              "      <td>4.05</td>\n",
              "      <td>4.07</td>\n",
              "      <td>2.31</td>\n",
              "      <td>False</td>\n",
              "      <td>False</td>\n",
              "      <td>False</td>\n",
              "      <td>True</td>\n",
              "      <td>False</td>\n",
              "    </tr>\n",
              "    <tr>\n",
              "      <th>3</th>\n",
              "      <td>0.29</td>\n",
              "      <td>62.4</td>\n",
              "      <td>58.0</td>\n",
              "      <td>4.20</td>\n",
              "      <td>4.23</td>\n",
              "      <td>2.63</td>\n",
              "      <td>False</td>\n",
              "      <td>True</td>\n",
              "      <td>False</td>\n",
              "      <td>False</td>\n",
              "      <td>False</td>\n",
              "    </tr>\n",
              "    <tr>\n",
              "      <th>4</th>\n",
              "      <td>0.31</td>\n",
              "      <td>63.3</td>\n",
              "      <td>58.0</td>\n",
              "      <td>4.34</td>\n",
              "      <td>4.35</td>\n",
              "      <td>2.75</td>\n",
              "      <td>False</td>\n",
              "      <td>False</td>\n",
              "      <td>False</td>\n",
              "      <td>True</td>\n",
              "      <td>False</td>\n",
              "    </tr>\n",
              "    <tr>\n",
              "      <th>...</th>\n",
              "      <td>...</td>\n",
              "      <td>...</td>\n",
              "      <td>...</td>\n",
              "      <td>...</td>\n",
              "      <td>...</td>\n",
              "      <td>...</td>\n",
              "      <td>...</td>\n",
              "      <td>...</td>\n",
              "      <td>...</td>\n",
              "      <td>...</td>\n",
              "      <td>...</td>\n",
              "    </tr>\n",
              "    <tr>\n",
              "      <th>53935</th>\n",
              "      <td>0.72</td>\n",
              "      <td>60.8</td>\n",
              "      <td>57.0</td>\n",
              "      <td>5.75</td>\n",
              "      <td>5.76</td>\n",
              "      <td>3.50</td>\n",
              "      <td>True</td>\n",
              "      <td>False</td>\n",
              "      <td>False</td>\n",
              "      <td>False</td>\n",
              "      <td>False</td>\n",
              "    </tr>\n",
              "    <tr>\n",
              "      <th>53936</th>\n",
              "      <td>0.72</td>\n",
              "      <td>63.1</td>\n",
              "      <td>55.0</td>\n",
              "      <td>5.69</td>\n",
              "      <td>5.75</td>\n",
              "      <td>3.61</td>\n",
              "      <td>False</td>\n",
              "      <td>False</td>\n",
              "      <td>False</td>\n",
              "      <td>True</td>\n",
              "      <td>False</td>\n",
              "    </tr>\n",
              "    <tr>\n",
              "      <th>53937</th>\n",
              "      <td>0.70</td>\n",
              "      <td>62.8</td>\n",
              "      <td>60.0</td>\n",
              "      <td>5.66</td>\n",
              "      <td>5.68</td>\n",
              "      <td>3.56</td>\n",
              "      <td>False</td>\n",
              "      <td>False</td>\n",
              "      <td>True</td>\n",
              "      <td>False</td>\n",
              "      <td>False</td>\n",
              "    </tr>\n",
              "    <tr>\n",
              "      <th>53938</th>\n",
              "      <td>0.86</td>\n",
              "      <td>61.0</td>\n",
              "      <td>58.0</td>\n",
              "      <td>6.15</td>\n",
              "      <td>6.12</td>\n",
              "      <td>3.74</td>\n",
              "      <td>False</td>\n",
              "      <td>True</td>\n",
              "      <td>False</td>\n",
              "      <td>False</td>\n",
              "      <td>False</td>\n",
              "    </tr>\n",
              "    <tr>\n",
              "      <th>53939</th>\n",
              "      <td>0.75</td>\n",
              "      <td>62.2</td>\n",
              "      <td>55.0</td>\n",
              "      <td>5.83</td>\n",
              "      <td>5.87</td>\n",
              "      <td>3.64</td>\n",
              "      <td>True</td>\n",
              "      <td>False</td>\n",
              "      <td>False</td>\n",
              "      <td>False</td>\n",
              "      <td>False</td>\n",
              "    </tr>\n",
              "  </tbody>\n",
              "</table>\n",
              "<p>53940 rows × 11 columns</p>\n",
              "</div>"
            ],
            "text/plain": [
              "       carat  depth  table     x  ...  is_Premium  is_Very Good  is_Good  is_Fair\n",
              "0       0.23   61.5   55.0  3.95  ...       False         False    False    False\n",
              "1       0.21   59.8   61.0  3.89  ...        True         False    False    False\n",
              "2       0.23   56.9   65.0  4.05  ...       False         False     True    False\n",
              "3       0.29   62.4   58.0  4.20  ...        True         False    False    False\n",
              "4       0.31   63.3   58.0  4.34  ...       False         False     True    False\n",
              "...      ...    ...    ...   ...  ...         ...           ...      ...      ...\n",
              "53935   0.72   60.8   57.0  5.75  ...       False         False    False    False\n",
              "53936   0.72   63.1   55.0  5.69  ...       False         False     True    False\n",
              "53937   0.70   62.8   60.0  5.66  ...       False          True    False    False\n",
              "53938   0.86   61.0   58.0  6.15  ...        True         False    False    False\n",
              "53939   0.75   62.2   55.0  5.83  ...       False         False    False    False\n",
              "\n",
              "[53940 rows x 11 columns]"
            ]
          },
          "metadata": {
            "tags": []
          },
          "execution_count": 3
        }
      ]
    },
    {
      "cell_type": "code",
      "metadata": {
        "id": "cjIMR55cn62l",
        "outputId": "10699def-78b5-4c23-f667-371404c1d84c",
        "colab": {
          "base_uri": "https://localhost:8080/",
          "height": 639
        }
      },
      "source": [
        "df_input.head(20)"
      ],
      "execution_count": null,
      "outputs": [
        {
          "output_type": "execute_result",
          "data": {
            "text/html": [
              "<div>\n",
              "<style scoped>\n",
              "    .dataframe tbody tr th:only-of-type {\n",
              "        vertical-align: middle;\n",
              "    }\n",
              "\n",
              "    .dataframe tbody tr th {\n",
              "        vertical-align: top;\n",
              "    }\n",
              "\n",
              "    .dataframe thead th {\n",
              "        text-align: right;\n",
              "    }\n",
              "</style>\n",
              "<table border=\"1\" class=\"dataframe\">\n",
              "  <thead>\n",
              "    <tr style=\"text-align: right;\">\n",
              "      <th></th>\n",
              "      <th>carat</th>\n",
              "      <th>depth</th>\n",
              "      <th>table</th>\n",
              "      <th>x</th>\n",
              "      <th>y</th>\n",
              "      <th>z</th>\n",
              "      <th>is_Ideal</th>\n",
              "      <th>is_Premium</th>\n",
              "      <th>is_Very Good</th>\n",
              "      <th>is_Good</th>\n",
              "      <th>is_Fair</th>\n",
              "    </tr>\n",
              "  </thead>\n",
              "  <tbody>\n",
              "    <tr>\n",
              "      <th>0</th>\n",
              "      <td>0.23</td>\n",
              "      <td>61.5</td>\n",
              "      <td>55.0</td>\n",
              "      <td>3.95</td>\n",
              "      <td>3.98</td>\n",
              "      <td>2.43</td>\n",
              "      <td>True</td>\n",
              "      <td>False</td>\n",
              "      <td>False</td>\n",
              "      <td>False</td>\n",
              "      <td>False</td>\n",
              "    </tr>\n",
              "    <tr>\n",
              "      <th>1</th>\n",
              "      <td>0.21</td>\n",
              "      <td>59.8</td>\n",
              "      <td>61.0</td>\n",
              "      <td>3.89</td>\n",
              "      <td>3.84</td>\n",
              "      <td>2.31</td>\n",
              "      <td>False</td>\n",
              "      <td>True</td>\n",
              "      <td>False</td>\n",
              "      <td>False</td>\n",
              "      <td>False</td>\n",
              "    </tr>\n",
              "    <tr>\n",
              "      <th>2</th>\n",
              "      <td>0.23</td>\n",
              "      <td>56.9</td>\n",
              "      <td>65.0</td>\n",
              "      <td>4.05</td>\n",
              "      <td>4.07</td>\n",
              "      <td>2.31</td>\n",
              "      <td>False</td>\n",
              "      <td>False</td>\n",
              "      <td>False</td>\n",
              "      <td>True</td>\n",
              "      <td>False</td>\n",
              "    </tr>\n",
              "    <tr>\n",
              "      <th>3</th>\n",
              "      <td>0.29</td>\n",
              "      <td>62.4</td>\n",
              "      <td>58.0</td>\n",
              "      <td>4.20</td>\n",
              "      <td>4.23</td>\n",
              "      <td>2.63</td>\n",
              "      <td>False</td>\n",
              "      <td>True</td>\n",
              "      <td>False</td>\n",
              "      <td>False</td>\n",
              "      <td>False</td>\n",
              "    </tr>\n",
              "    <tr>\n",
              "      <th>4</th>\n",
              "      <td>0.31</td>\n",
              "      <td>63.3</td>\n",
              "      <td>58.0</td>\n",
              "      <td>4.34</td>\n",
              "      <td>4.35</td>\n",
              "      <td>2.75</td>\n",
              "      <td>False</td>\n",
              "      <td>False</td>\n",
              "      <td>False</td>\n",
              "      <td>True</td>\n",
              "      <td>False</td>\n",
              "    </tr>\n",
              "    <tr>\n",
              "      <th>5</th>\n",
              "      <td>0.24</td>\n",
              "      <td>62.8</td>\n",
              "      <td>57.0</td>\n",
              "      <td>3.94</td>\n",
              "      <td>3.96</td>\n",
              "      <td>2.48</td>\n",
              "      <td>False</td>\n",
              "      <td>False</td>\n",
              "      <td>True</td>\n",
              "      <td>False</td>\n",
              "      <td>False</td>\n",
              "    </tr>\n",
              "    <tr>\n",
              "      <th>6</th>\n",
              "      <td>0.24</td>\n",
              "      <td>62.3</td>\n",
              "      <td>57.0</td>\n",
              "      <td>3.95</td>\n",
              "      <td>3.98</td>\n",
              "      <td>2.47</td>\n",
              "      <td>False</td>\n",
              "      <td>False</td>\n",
              "      <td>True</td>\n",
              "      <td>False</td>\n",
              "      <td>False</td>\n",
              "    </tr>\n",
              "    <tr>\n",
              "      <th>7</th>\n",
              "      <td>0.26</td>\n",
              "      <td>61.9</td>\n",
              "      <td>55.0</td>\n",
              "      <td>4.07</td>\n",
              "      <td>4.11</td>\n",
              "      <td>2.53</td>\n",
              "      <td>False</td>\n",
              "      <td>False</td>\n",
              "      <td>True</td>\n",
              "      <td>False</td>\n",
              "      <td>False</td>\n",
              "    </tr>\n",
              "    <tr>\n",
              "      <th>8</th>\n",
              "      <td>0.22</td>\n",
              "      <td>65.1</td>\n",
              "      <td>61.0</td>\n",
              "      <td>3.87</td>\n",
              "      <td>3.78</td>\n",
              "      <td>2.49</td>\n",
              "      <td>False</td>\n",
              "      <td>False</td>\n",
              "      <td>False</td>\n",
              "      <td>False</td>\n",
              "      <td>True</td>\n",
              "    </tr>\n",
              "    <tr>\n",
              "      <th>9</th>\n",
              "      <td>0.23</td>\n",
              "      <td>59.4</td>\n",
              "      <td>61.0</td>\n",
              "      <td>4.00</td>\n",
              "      <td>4.05</td>\n",
              "      <td>2.39</td>\n",
              "      <td>False</td>\n",
              "      <td>False</td>\n",
              "      <td>True</td>\n",
              "      <td>False</td>\n",
              "      <td>False</td>\n",
              "    </tr>\n",
              "    <tr>\n",
              "      <th>10</th>\n",
              "      <td>0.30</td>\n",
              "      <td>64.0</td>\n",
              "      <td>55.0</td>\n",
              "      <td>4.25</td>\n",
              "      <td>4.28</td>\n",
              "      <td>2.73</td>\n",
              "      <td>False</td>\n",
              "      <td>False</td>\n",
              "      <td>False</td>\n",
              "      <td>True</td>\n",
              "      <td>False</td>\n",
              "    </tr>\n",
              "    <tr>\n",
              "      <th>11</th>\n",
              "      <td>0.23</td>\n",
              "      <td>62.8</td>\n",
              "      <td>56.0</td>\n",
              "      <td>3.93</td>\n",
              "      <td>3.90</td>\n",
              "      <td>2.46</td>\n",
              "      <td>True</td>\n",
              "      <td>False</td>\n",
              "      <td>False</td>\n",
              "      <td>False</td>\n",
              "      <td>False</td>\n",
              "    </tr>\n",
              "    <tr>\n",
              "      <th>12</th>\n",
              "      <td>0.22</td>\n",
              "      <td>60.4</td>\n",
              "      <td>61.0</td>\n",
              "      <td>3.88</td>\n",
              "      <td>3.84</td>\n",
              "      <td>2.33</td>\n",
              "      <td>False</td>\n",
              "      <td>True</td>\n",
              "      <td>False</td>\n",
              "      <td>False</td>\n",
              "      <td>False</td>\n",
              "    </tr>\n",
              "    <tr>\n",
              "      <th>13</th>\n",
              "      <td>0.31</td>\n",
              "      <td>62.2</td>\n",
              "      <td>54.0</td>\n",
              "      <td>4.35</td>\n",
              "      <td>4.37</td>\n",
              "      <td>2.71</td>\n",
              "      <td>True</td>\n",
              "      <td>False</td>\n",
              "      <td>False</td>\n",
              "      <td>False</td>\n",
              "      <td>False</td>\n",
              "    </tr>\n",
              "    <tr>\n",
              "      <th>14</th>\n",
              "      <td>0.20</td>\n",
              "      <td>60.2</td>\n",
              "      <td>62.0</td>\n",
              "      <td>3.79</td>\n",
              "      <td>3.75</td>\n",
              "      <td>2.27</td>\n",
              "      <td>False</td>\n",
              "      <td>True</td>\n",
              "      <td>False</td>\n",
              "      <td>False</td>\n",
              "      <td>False</td>\n",
              "    </tr>\n",
              "    <tr>\n",
              "      <th>15</th>\n",
              "      <td>0.32</td>\n",
              "      <td>60.9</td>\n",
              "      <td>58.0</td>\n",
              "      <td>4.38</td>\n",
              "      <td>4.42</td>\n",
              "      <td>2.68</td>\n",
              "      <td>False</td>\n",
              "      <td>True</td>\n",
              "      <td>False</td>\n",
              "      <td>False</td>\n",
              "      <td>False</td>\n",
              "    </tr>\n",
              "    <tr>\n",
              "      <th>16</th>\n",
              "      <td>0.30</td>\n",
              "      <td>62.0</td>\n",
              "      <td>54.0</td>\n",
              "      <td>4.31</td>\n",
              "      <td>4.34</td>\n",
              "      <td>2.68</td>\n",
              "      <td>True</td>\n",
              "      <td>False</td>\n",
              "      <td>False</td>\n",
              "      <td>False</td>\n",
              "      <td>False</td>\n",
              "    </tr>\n",
              "    <tr>\n",
              "      <th>17</th>\n",
              "      <td>0.30</td>\n",
              "      <td>63.4</td>\n",
              "      <td>54.0</td>\n",
              "      <td>4.23</td>\n",
              "      <td>4.29</td>\n",
              "      <td>2.70</td>\n",
              "      <td>False</td>\n",
              "      <td>False</td>\n",
              "      <td>False</td>\n",
              "      <td>True</td>\n",
              "      <td>False</td>\n",
              "    </tr>\n",
              "    <tr>\n",
              "      <th>18</th>\n",
              "      <td>0.30</td>\n",
              "      <td>63.8</td>\n",
              "      <td>56.0</td>\n",
              "      <td>4.23</td>\n",
              "      <td>4.26</td>\n",
              "      <td>2.71</td>\n",
              "      <td>False</td>\n",
              "      <td>False</td>\n",
              "      <td>False</td>\n",
              "      <td>True</td>\n",
              "      <td>False</td>\n",
              "    </tr>\n",
              "    <tr>\n",
              "      <th>19</th>\n",
              "      <td>0.30</td>\n",
              "      <td>62.7</td>\n",
              "      <td>59.0</td>\n",
              "      <td>4.21</td>\n",
              "      <td>4.27</td>\n",
              "      <td>2.66</td>\n",
              "      <td>False</td>\n",
              "      <td>False</td>\n",
              "      <td>True</td>\n",
              "      <td>False</td>\n",
              "      <td>False</td>\n",
              "    </tr>\n",
              "  </tbody>\n",
              "</table>\n",
              "</div>"
            ],
            "text/plain": [
              "    carat  depth  table     x  ...  is_Premium  is_Very Good  is_Good  is_Fair\n",
              "0    0.23   61.5   55.0  3.95  ...       False         False    False    False\n",
              "1    0.21   59.8   61.0  3.89  ...        True         False    False    False\n",
              "2    0.23   56.9   65.0  4.05  ...       False         False     True    False\n",
              "3    0.29   62.4   58.0  4.20  ...        True         False    False    False\n",
              "4    0.31   63.3   58.0  4.34  ...       False         False     True    False\n",
              "5    0.24   62.8   57.0  3.94  ...       False          True    False    False\n",
              "6    0.24   62.3   57.0  3.95  ...       False          True    False    False\n",
              "7    0.26   61.9   55.0  4.07  ...       False          True    False    False\n",
              "8    0.22   65.1   61.0  3.87  ...       False         False    False     True\n",
              "9    0.23   59.4   61.0  4.00  ...       False          True    False    False\n",
              "10   0.30   64.0   55.0  4.25  ...       False         False     True    False\n",
              "11   0.23   62.8   56.0  3.93  ...       False         False    False    False\n",
              "12   0.22   60.4   61.0  3.88  ...        True         False    False    False\n",
              "13   0.31   62.2   54.0  4.35  ...       False         False    False    False\n",
              "14   0.20   60.2   62.0  3.79  ...        True         False    False    False\n",
              "15   0.32   60.9   58.0  4.38  ...        True         False    False    False\n",
              "16   0.30   62.0   54.0  4.31  ...       False         False    False    False\n",
              "17   0.30   63.4   54.0  4.23  ...       False         False     True    False\n",
              "18   0.30   63.8   56.0  4.23  ...       False         False     True    False\n",
              "19   0.30   62.7   59.0  4.21  ...       False          True    False    False\n",
              "\n",
              "[20 rows x 11 columns]"
            ]
          },
          "metadata": {
            "tags": []
          },
          "execution_count": 4
        }
      ]
    },
    {
      "cell_type": "code",
      "metadata": {
        "id": "gZGISffm11NV",
        "outputId": "fe1f263b-8887-45a6-9a4d-ac82305d736d",
        "colab": {
          "base_uri": "https://localhost:8080/",
          "height": 370
        }
      },
      "source": [
        "true_price.head(20)"
      ],
      "execution_count": null,
      "outputs": [
        {
          "output_type": "execute_result",
          "data": {
            "text/plain": [
              "0     326\n",
              "1     326\n",
              "2     327\n",
              "3     334\n",
              "4     335\n",
              "5     336\n",
              "6     336\n",
              "7     337\n",
              "8     337\n",
              "9     338\n",
              "10    339\n",
              "11    340\n",
              "12    342\n",
              "13    344\n",
              "14    345\n",
              "15    345\n",
              "16    348\n",
              "17    351\n",
              "18    351\n",
              "19    351\n",
              "Name: price, dtype: int64"
            ]
          },
          "metadata": {
            "tags": []
          },
          "execution_count": 5
        }
      ]
    },
    {
      "cell_type": "markdown",
      "metadata": {
        "id": "mvSYKwTfSFGl"
      },
      "source": [
        "Remember this function?"
      ]
    },
    {
      "cell_type": "code",
      "metadata": {
        "id": "n6eSglCt2NTb"
      },
      "source": [
        "X_train, X_test, y_train, y_test = train_test_split(df_input, true_price, test_size = 0.20)"
      ],
      "execution_count": null,
      "outputs": []
    },
    {
      "cell_type": "code",
      "metadata": {
        "id": "1gc6uFAK4Fx-",
        "outputId": "3a82da04-7f05-49fa-b4e8-4299855dbd3b",
        "colab": {
          "base_uri": "https://localhost:8080/",
          "height": 402
        }
      },
      "source": [
        "X_test"
      ],
      "execution_count": null,
      "outputs": [
        {
          "output_type": "execute_result",
          "data": {
            "text/html": [
              "<div>\n",
              "<style scoped>\n",
              "    .dataframe tbody tr th:only-of-type {\n",
              "        vertical-align: middle;\n",
              "    }\n",
              "\n",
              "    .dataframe tbody tr th {\n",
              "        vertical-align: top;\n",
              "    }\n",
              "\n",
              "    .dataframe thead th {\n",
              "        text-align: right;\n",
              "    }\n",
              "</style>\n",
              "<table border=\"1\" class=\"dataframe\">\n",
              "  <thead>\n",
              "    <tr style=\"text-align: right;\">\n",
              "      <th></th>\n",
              "      <th>carat</th>\n",
              "      <th>depth</th>\n",
              "      <th>table</th>\n",
              "      <th>x</th>\n",
              "      <th>y</th>\n",
              "      <th>z</th>\n",
              "      <th>is_Ideal</th>\n",
              "      <th>is_Premium</th>\n",
              "      <th>is_Very Good</th>\n",
              "      <th>is_Good</th>\n",
              "      <th>is_Fair</th>\n",
              "    </tr>\n",
              "  </thead>\n",
              "  <tbody>\n",
              "    <tr>\n",
              "      <th>17128</th>\n",
              "      <td>1.23</td>\n",
              "      <td>62.3</td>\n",
              "      <td>58.0</td>\n",
              "      <td>6.81</td>\n",
              "      <td>6.78</td>\n",
              "      <td>4.23</td>\n",
              "      <td>False</td>\n",
              "      <td>True</td>\n",
              "      <td>False</td>\n",
              "      <td>False</td>\n",
              "      <td>False</td>\n",
              "    </tr>\n",
              "    <tr>\n",
              "      <th>7378</th>\n",
              "      <td>0.97</td>\n",
              "      <td>62.9</td>\n",
              "      <td>57.0</td>\n",
              "      <td>6.28</td>\n",
              "      <td>6.31</td>\n",
              "      <td>3.96</td>\n",
              "      <td>False</td>\n",
              "      <td>False</td>\n",
              "      <td>True</td>\n",
              "      <td>False</td>\n",
              "      <td>False</td>\n",
              "    </tr>\n",
              "    <tr>\n",
              "      <th>13730</th>\n",
              "      <td>0.27</td>\n",
              "      <td>61.6</td>\n",
              "      <td>55.0</td>\n",
              "      <td>4.18</td>\n",
              "      <td>4.16</td>\n",
              "      <td>2.57</td>\n",
              "      <td>True</td>\n",
              "      <td>False</td>\n",
              "      <td>False</td>\n",
              "      <td>False</td>\n",
              "      <td>False</td>\n",
              "    </tr>\n",
              "    <tr>\n",
              "      <th>38017</th>\n",
              "      <td>0.39</td>\n",
              "      <td>62.3</td>\n",
              "      <td>59.0</td>\n",
              "      <td>4.69</td>\n",
              "      <td>4.65</td>\n",
              "      <td>2.91</td>\n",
              "      <td>False</td>\n",
              "      <td>True</td>\n",
              "      <td>False</td>\n",
              "      <td>False</td>\n",
              "      <td>False</td>\n",
              "    </tr>\n",
              "    <tr>\n",
              "      <th>6804</th>\n",
              "      <td>1.05</td>\n",
              "      <td>60.0</td>\n",
              "      <td>60.0</td>\n",
              "      <td>6.46</td>\n",
              "      <td>6.43</td>\n",
              "      <td>4.00</td>\n",
              "      <td>False</td>\n",
              "      <td>True</td>\n",
              "      <td>False</td>\n",
              "      <td>False</td>\n",
              "      <td>False</td>\n",
              "    </tr>\n",
              "    <tr>\n",
              "      <th>...</th>\n",
              "      <td>...</td>\n",
              "      <td>...</td>\n",
              "      <td>...</td>\n",
              "      <td>...</td>\n",
              "      <td>...</td>\n",
              "      <td>...</td>\n",
              "      <td>...</td>\n",
              "      <td>...</td>\n",
              "      <td>...</td>\n",
              "      <td>...</td>\n",
              "      <td>...</td>\n",
              "    </tr>\n",
              "    <tr>\n",
              "      <th>16042</th>\n",
              "      <td>0.30</td>\n",
              "      <td>60.9</td>\n",
              "      <td>61.0</td>\n",
              "      <td>4.35</td>\n",
              "      <td>4.32</td>\n",
              "      <td>2.64</td>\n",
              "      <td>False</td>\n",
              "      <td>True</td>\n",
              "      <td>False</td>\n",
              "      <td>False</td>\n",
              "      <td>False</td>\n",
              "    </tr>\n",
              "    <tr>\n",
              "      <th>42192</th>\n",
              "      <td>0.50</td>\n",
              "      <td>59.1</td>\n",
              "      <td>58.0</td>\n",
              "      <td>5.23</td>\n",
              "      <td>5.19</td>\n",
              "      <td>3.08</td>\n",
              "      <td>False</td>\n",
              "      <td>True</td>\n",
              "      <td>False</td>\n",
              "      <td>False</td>\n",
              "      <td>False</td>\n",
              "    </tr>\n",
              "    <tr>\n",
              "      <th>53850</th>\n",
              "      <td>0.71</td>\n",
              "      <td>61.1</td>\n",
              "      <td>58.0</td>\n",
              "      <td>5.71</td>\n",
              "      <td>5.77</td>\n",
              "      <td>3.51</td>\n",
              "      <td>False</td>\n",
              "      <td>False</td>\n",
              "      <td>True</td>\n",
              "      <td>False</td>\n",
              "      <td>False</td>\n",
              "    </tr>\n",
              "    <tr>\n",
              "      <th>43416</th>\n",
              "      <td>0.57</td>\n",
              "      <td>61.4</td>\n",
              "      <td>56.0</td>\n",
              "      <td>5.33</td>\n",
              "      <td>5.38</td>\n",
              "      <td>3.29</td>\n",
              "      <td>True</td>\n",
              "      <td>False</td>\n",
              "      <td>False</td>\n",
              "      <td>False</td>\n",
              "      <td>False</td>\n",
              "    </tr>\n",
              "    <tr>\n",
              "      <th>9632</th>\n",
              "      <td>0.92</td>\n",
              "      <td>61.7</td>\n",
              "      <td>57.0</td>\n",
              "      <td>6.32</td>\n",
              "      <td>6.20</td>\n",
              "      <td>3.86</td>\n",
              "      <td>False</td>\n",
              "      <td>True</td>\n",
              "      <td>False</td>\n",
              "      <td>False</td>\n",
              "      <td>False</td>\n",
              "    </tr>\n",
              "  </tbody>\n",
              "</table>\n",
              "<p>10788 rows × 11 columns</p>\n",
              "</div>"
            ],
            "text/plain": [
              "       carat  depth  table     x  ...  is_Premium  is_Very Good  is_Good  is_Fair\n",
              "17128   1.23   62.3   58.0  6.81  ...        True         False    False    False\n",
              "7378    0.97   62.9   57.0  6.28  ...       False          True    False    False\n",
              "13730   0.27   61.6   55.0  4.18  ...       False         False    False    False\n",
              "38017   0.39   62.3   59.0  4.69  ...        True         False    False    False\n",
              "6804    1.05   60.0   60.0  6.46  ...        True         False    False    False\n",
              "...      ...    ...    ...   ...  ...         ...           ...      ...      ...\n",
              "16042   0.30   60.9   61.0  4.35  ...        True         False    False    False\n",
              "42192   0.50   59.1   58.0  5.23  ...        True         False    False    False\n",
              "53850   0.71   61.1   58.0  5.71  ...       False          True    False    False\n",
              "43416   0.57   61.4   56.0  5.33  ...       False         False    False    False\n",
              "9632    0.92   61.7   57.0  6.32  ...        True         False    False    False\n",
              "\n",
              "[10788 rows x 11 columns]"
            ]
          },
          "metadata": {
            "tags": []
          },
          "execution_count": 7
        }
      ]
    },
    {
      "cell_type": "code",
      "metadata": {
        "id": "G9tJh3ne4Hy0",
        "outputId": "9c332dfc-02da-42e6-f08b-73b4b9235785",
        "colab": {
          "base_uri": "https://localhost:8080/",
          "height": 218
        }
      },
      "source": [
        "y_test"
      ],
      "execution_count": null,
      "outputs": [
        {
          "output_type": "execute_result",
          "data": {
            "text/plain": [
              "17128    6833\n",
              "7378     4223\n",
              "13730     603\n",
              "38017    1009\n",
              "6804     4116\n",
              "         ... \n",
              "16042     608\n",
              "42192    1286\n",
              "53850    2742\n",
              "43416    1413\n",
              "9632     4637\n",
              "Name: price, Length: 10788, dtype: int64"
            ]
          },
          "metadata": {
            "tags": []
          },
          "execution_count": 8
        }
      ]
    },
    {
      "cell_type": "markdown",
      "metadata": {
        "id": "ZULO823yrRZs"
      },
      "source": [
        "The training and prediction is a four step process:\n",
        "1. Declare the `model` you want to use\n",
        "\n",
        "2. “FIT” the model using X Train and y Train\n",
        "(This step is also called “training”)\n",
        "\n",
        "*The `model` LEARNS the relationship between:\n",
        "X features -> the cut, quality of diamond and y target -> the price of the diamond*\n",
        "\n",
        "3. Make predictions using brand new data, called \n",
        "X TEST -> same features as X TRAIN, but not seen before by `model`\n",
        "\n",
        "*The `model` uses what it learned from the .fit() about the relationship of X and y, to make predictions about X TEST*\n",
        "\n",
        "4. COMPARE predicted values (from X TEST), to y TEST (the actual price of those diamonds)\n"
      ]
    },
    {
      "cell_type": "code",
      "metadata": {
        "id": "UmW4xau526sp"
      },
      "source": [
        "## MANDATORY EXERCISE: Build a model with is fitted (trained) on X_train\n",
        "## And make predictions on X_test"
      ],
      "execution_count": null,
      "outputs": []
    },
    {
      "cell_type": "code",
      "metadata": {
        "id": "vpoxAAY825JJ",
        "outputId": "f02a7a9b-70b7-4062-f816-da223e1966c1",
        "colab": {
          "base_uri": "https://localhost:8080/",
          "height": 50
        }
      },
      "source": [
        "model = linear_model.LinearRegression()\n",
        "model.fit(X = X_train, y = y_train)\n",
        "model.predict(X = X_test)"
      ],
      "execution_count": null,
      "outputs": [
        {
          "output_type": "execute_result",
          "data": {
            "text/plain": [
              "array([7091.80487962, 4991.82119934,  495.20709915, ..., 3081.8176129 ,\n",
              "       2295.70587391, 4493.37704115])"
            ]
          },
          "metadata": {
            "tags": []
          },
          "execution_count": 10
        }
      ]
    },
    {
      "cell_type": "code",
      "metadata": {
        "id": "0RNNXKp42oaT",
        "outputId": "9b9ebf4b-e9c4-45c7-9d0d-cf37caf1c41e",
        "colab": {
          "base_uri": "https://localhost:8080/",
          "height": 34
        }
      },
      "source": [
        "y_predicted = model.predict(X = X_test)\n",
        "mean_absolute_error(y_true = y_test, y_pred = y_predicted)"
      ],
      "execution_count": null,
      "outputs": [
        {
          "output_type": "execute_result",
          "data": {
            "text/plain": [
              "883.8142741352187"
            ]
          },
          "metadata": {
            "tags": []
          },
          "execution_count": 11
        }
      ]
    },
    {
      "cell_type": "code",
      "metadata": {
        "id": "-i_LQ6lm31Yh"
      },
      "source": [
        "### What did you get?"
      ],
      "execution_count": null,
      "outputs": []
    },
    {
      "cell_type": "markdown",
      "metadata": {
        "id": "ANVNmGmHSOi9"
      },
      "source": [
        "It turns out when the data is split using `train_test_split()` the training and testing allocation is random. *This is actually what we want because the order of the data should not affect our model!! \n",
        "\n",
        "*  Eg if all of the \"easy\" to predict diamonds were at the front then our test will be unneccessarily difficult"
      ]
    },
    {
      "cell_type": "markdown",
      "metadata": {
        "id": "5sK6lv_NSwzC"
      },
      "source": [
        "So your data will be split differently than mine, so our models and errors will be slightly different too! To make sure we have the same split, we can set the random_state variabe to the same integer (any will do, I'm using the area code for Toronto)"
      ]
    },
    {
      "cell_type": "code",
      "metadata": {
        "id": "RsphtXEA35wf",
        "outputId": "483fd496-497a-485d-81f9-407b6c7cb32d",
        "colab": {
          "base_uri": "https://localhost:8080/",
          "height": 34
        }
      },
      "source": [
        "X_train, X_test, y_train, y_test = train_test_split(df_input, true_price, test_size = 0.20, random_state = 416)\n",
        "model = linear_model.LinearRegression()\n",
        "model.fit(X = X_train, y = y_train)\n",
        "model.predict(X = X_test)\n",
        "y_predicted = model.predict(X = X_test)\n",
        "mean_absolute_error(y_true = y_test, y_pred = y_predicted)"
      ],
      "execution_count": null,
      "outputs": [
        {
          "output_type": "execute_result",
          "data": {
            "text/plain": [
              "881.1094301550673"
            ]
          },
          "metadata": {
            "tags": []
          },
          "execution_count": 13
        }
      ]
    },
    {
      "cell_type": "markdown",
      "metadata": {
        "id": "whBA8FNFS_sF"
      },
      "source": [
        "# 4.1 A BETTER WAY!\n",
        "But now, our errors are dependent on our split, how do we know the true accuracy of our model? There are millions of ways of splitting our data. It turns out there is another function we can use to solve this problem. "
      ]
    },
    {
      "cell_type": "markdown",
      "metadata": {
        "id": "tLhOigMSTXWF"
      },
      "source": [
        "This problem is worse in small datasets since a few tough values will really ramp up the error. So a model might just be lucky that the hardest to predict values were not in the test set, lucky rather than good. Imagine if the mpg was: \n",
        "`10,11,13,15,35,9,9,11...` then wherever that 35 is - will ruin everything. "
      ]
    },
    {
      "cell_type": "markdown",
      "metadata": {
        "id": "40jjYYufTgga"
      },
      "source": [
        "What we need is cross validation, best shown in a picture: \n",
        "![Cross Validation](https://upload.wikimedia.org/wikipedia/commons/thumb/b/b5/K-fold_cross_validation_EN.svg/1024px-K-fold_cross_validation_EN.svg.png)"
      ]
    },
    {
      "cell_type": "markdown",
      "metadata": {
        "id": "Z7ocKTsZTiqW"
      },
      "source": [
        "Essentially all of our data gets to be in the **testing set** exactly **once**. Each iteration takes a different slice or ***fold*** of the data to **test with**, we keep track of the error and use the median of all the tests as our result. Here is the function we're using!!"
      ]
    },
    {
      "cell_type": "code",
      "metadata": {
        "id": "KFOseizv4Tvp"
      },
      "source": [
        "from sklearn.model_selection import cross_val_score"
      ],
      "execution_count": null,
      "outputs": []
    },
    {
      "cell_type": "markdown",
      "metadata": {
        "id": "cowNluwvTrMc"
      },
      "source": [
        "We still declare (or initialize) a model, just like before"
      ]
    },
    {
      "cell_type": "code",
      "metadata": {
        "id": "5avQT_V64a-i"
      },
      "source": [
        "model = linear_model.LinearRegression()"
      ],
      "execution_count": null,
      "outputs": []
    },
    {
      "cell_type": "markdown",
      "metadata": {
        "id": "vL9A6TPvTvOe"
      },
      "source": [
        "But rather than specifying the size of the test set, we specity the number of folds we want to use. (5 folds means 20%) will be tested at once. `cross_val_score()` will:\n",
        "\n",
        "1. Take the model passed in as the `estimator = ` and fit it to **all but 1 fold of the data** (read this CAREFULLY)\n",
        "2. Test the model on the 1 fold and save the result\n",
        "3. Repeat for each of the folds, as specified by the cv. \n",
        "4. Return an array of the test score from each fold"
      ]
    },
    {
      "cell_type": "code",
      "metadata": {
        "id": "ahQoaWFt4cEf"
      },
      "source": [
        "scores = cross_val_score(estimator = model, X = df_input, y = true_price, cv = 5, scoring = 'neg_mean_absolute_error')"
      ],
      "execution_count": null,
      "outputs": []
    },
    {
      "cell_type": "markdown",
      "metadata": {
        "id": "nAdZ2U9yT9Vg"
      },
      "source": [
        "What we have are the scores from each test. 5 folds -> 5 tests"
      ]
    },
    {
      "cell_type": "code",
      "metadata": {
        "id": "ixT53mDf4deR",
        "outputId": "ed0e80d6-ed04-49ef-b3ce-0918b50e1cfe",
        "colab": {
          "base_uri": "https://localhost:8080/",
          "height": 50
        }
      },
      "source": [
        "scores"
      ],
      "execution_count": null,
      "outputs": [
        {
          "output_type": "execute_result",
          "data": {
            "text/plain": [
              "array([-1080.21266733, -1273.13630103, -2265.35674359,  -362.33255078,\n",
              "        -581.91501123])"
            ]
          },
          "metadata": {
            "tags": []
          },
          "execution_count": 17
        }
      ]
    },
    {
      "cell_type": "code",
      "metadata": {
        "id": "dnhH4Sx54ntT",
        "outputId": "7f39f1fb-6af1-4029-8ccb-7b603d26f48e",
        "colab": {
          "base_uri": "https://localhost:8080/",
          "height": 34
        }
      },
      "source": [
        "scores.mean()"
      ],
      "execution_count": null,
      "outputs": [
        {
          "output_type": "execute_result",
          "data": {
            "text/plain": [
              "-1112.5906547910358"
            ]
          },
          "metadata": {
            "tags": []
          },
          "execution_count": 18
        }
      ]
    },
    {
      "cell_type": "markdown",
      "metadata": {
        "id": "mie6gXAc12F5"
      },
      "source": [
        "A keen observation to make would be how the errors vary much between the folds, significantly more than the variation we saw when taking a random `train_test_split()`. This is because `cross_val_score()` does NOT take a random split of the data, the fifth error (extremely low value of 581) comes from using the last 20% of the data as our test set. "
      ]
    },
    {
      "cell_type": "markdown",
      "metadata": {
        "id": "I8aukgzY3Y5w"
      },
      "source": [
        "We can investigate by using the plot function, of one variable. `ax.plot` automatically plots the data in the order that its given. "
      ]
    },
    {
      "cell_type": "code",
      "metadata": {
        "id": "1a624Paw3YaY",
        "outputId": "e5d9c21c-730d-4471-8d27-e22a33d8392e",
        "colab": {
          "base_uri": "https://localhost:8080/",
          "height": 265
        }
      },
      "source": [
        "fig, ax = plt.subplots()\n",
        "ax.plot(df_input['depth'], 'o')\n",
        "fig.show()"
      ],
      "execution_count": null,
      "outputs": [
        {
          "output_type": "display_data",
          "data": {
            "image/png": "[encoded data removed]",
            "text/plain": [
              "<Figure size 432x288 with 1 Axes>"
            ]
          },
          "metadata": {
            "tags": [],
            "needs_background": "light"
          }
        }
      ]
    },
    {
      "cell_type": "markdown",
      "metadata": {
        "id": "-NVpe40z2lAc"
      },
      "source": [
        "This plot is showing that the data from 0 to 50 000 has a good scramble of `depth` values. On the X axis is the row numbers, we see that depth doesn't changes much from the start of the dataset to the end. "
      ]
    },
    {
      "cell_type": "code",
      "metadata": {
        "id": "3G4ZoEE935v6",
        "outputId": "097f0e7c-e21b-44f8-f769-921967560fe0",
        "colab": {
          "base_uri": "https://localhost:8080/",
          "height": 265
        }
      },
      "source": [
        "fig, ax = plt.subplots()\n",
        "ax.plot(df_input['carat'], 'o')\n",
        "fig.show()"
      ],
      "execution_count": null,
      "outputs": [
        {
          "output_type": "display_data",
          "data": {
            "image/png": "[encoded data removed]",
            "text/plain": [
              "<Figure size 432x288 with 1 Axes>"
            ]
          },
          "metadata": {
            "tags": [],
            "needs_background": "light"
          }
        }
      ]
    },
    {
      "cell_type": "markdown",
      "metadata": {
        "id": "e77mCsR_34BY"
      },
      "source": [
        "But carat changes dramatically as the data increases! The largest (and likely most expensive) diamonds are in the MIDDLE of the dataset, just before the 30 000 mark, which would put it at the THIRD FOLD. If you recall, that's where the greatest error was!!"
      ]
    },
    {
      "cell_type": "markdown",
      "metadata": {
        "id": "oUsZF7zj5fVe"
      },
      "source": [
        "To avoid this problem, we can scramble the data using the `sample(frac = 1)` function. The `.reset_index()` aftewards was to reset the row numbers. "
      ]
    },
    {
      "cell_type": "code",
      "metadata": {
        "id": "ttB_nryE4Lh9",
        "outputId": "88825c38-ba1a-4553-caf5-d9da9a244ae9",
        "colab": {
          "base_uri": "https://localhost:8080/",
          "height": 402
        }
      },
      "source": [
        "df_shuffled = df_input.sample(frac = 1).reset_index(drop = 'True')\n",
        "df_shuffled"
      ],
      "execution_count": null,
      "outputs": [
        {
          "output_type": "execute_result",
          "data": {
            "text/html": [
              "<div>\n",
              "<style scoped>\n",
              "    .dataframe tbody tr th:only-of-type {\n",
              "        vertical-align: middle;\n",
              "    }\n",
              "\n",
              "    .dataframe tbody tr th {\n",
              "        vertical-align: top;\n",
              "    }\n",
              "\n",
              "    .dataframe thead th {\n",
              "        text-align: right;\n",
              "    }\n",
              "</style>\n",
              "<table border=\"1\" class=\"dataframe\">\n",
              "  <thead>\n",
              "    <tr style=\"text-align: right;\">\n",
              "      <th></th>\n",
              "      <th>carat</th>\n",
              "      <th>depth</th>\n",
              "      <th>table</th>\n",
              "      <th>x</th>\n",
              "      <th>y</th>\n",
              "      <th>z</th>\n",
              "      <th>is_Ideal</th>\n",
              "      <th>is_Premium</th>\n",
              "      <th>is_Very Good</th>\n",
              "      <th>is_Good</th>\n",
              "      <th>is_Fair</th>\n",
              "    </tr>\n",
              "  </thead>\n",
              "  <tbody>\n",
              "    <tr>\n",
              "      <th>0</th>\n",
              "      <td>0.32</td>\n",
              "      <td>61.4</td>\n",
              "      <td>55.0</td>\n",
              "      <td>4.46</td>\n",
              "      <td>4.40</td>\n",
              "      <td>2.72</td>\n",
              "      <td>True</td>\n",
              "      <td>False</td>\n",
              "      <td>False</td>\n",
              "      <td>False</td>\n",
              "      <td>False</td>\n",
              "    </tr>\n",
              "    <tr>\n",
              "      <th>1</th>\n",
              "      <td>0.30</td>\n",
              "      <td>62.2</td>\n",
              "      <td>60.0</td>\n",
              "      <td>4.28</td>\n",
              "      <td>4.24</td>\n",
              "      <td>2.65</td>\n",
              "      <td>False</td>\n",
              "      <td>True</td>\n",
              "      <td>False</td>\n",
              "      <td>False</td>\n",
              "      <td>False</td>\n",
              "    </tr>\n",
              "    <tr>\n",
              "      <th>2</th>\n",
              "      <td>1.08</td>\n",
              "      <td>63.2</td>\n",
              "      <td>59.0</td>\n",
              "      <td>6.40</td>\n",
              "      <td>6.57</td>\n",
              "      <td>4.10</td>\n",
              "      <td>False</td>\n",
              "      <td>False</td>\n",
              "      <td>False</td>\n",
              "      <td>True</td>\n",
              "      <td>False</td>\n",
              "    </tr>\n",
              "    <tr>\n",
              "      <th>3</th>\n",
              "      <td>2.03</td>\n",
              "      <td>60.9</td>\n",
              "      <td>59.0</td>\n",
              "      <td>8.17</td>\n",
              "      <td>8.14</td>\n",
              "      <td>4.97</td>\n",
              "      <td>False</td>\n",
              "      <td>True</td>\n",
              "      <td>False</td>\n",
              "      <td>False</td>\n",
              "      <td>False</td>\n",
              "    </tr>\n",
              "    <tr>\n",
              "      <th>4</th>\n",
              "      <td>1.05</td>\n",
              "      <td>62.7</td>\n",
              "      <td>61.0</td>\n",
              "      <td>6.58</td>\n",
              "      <td>6.49</td>\n",
              "      <td>4.09</td>\n",
              "      <td>False</td>\n",
              "      <td>True</td>\n",
              "      <td>False</td>\n",
              "      <td>False</td>\n",
              "      <td>False</td>\n",
              "    </tr>\n",
              "    <tr>\n",
              "      <th>...</th>\n",
              "      <td>...</td>\n",
              "      <td>...</td>\n",
              "      <td>...</td>\n",
              "      <td>...</td>\n",
              "      <td>...</td>\n",
              "      <td>...</td>\n",
              "      <td>...</td>\n",
              "      <td>...</td>\n",
              "      <td>...</td>\n",
              "      <td>...</td>\n",
              "      <td>...</td>\n",
              "    </tr>\n",
              "    <tr>\n",
              "      <th>53935</th>\n",
              "      <td>1.01</td>\n",
              "      <td>61.8</td>\n",
              "      <td>58.0</td>\n",
              "      <td>6.33</td>\n",
              "      <td>6.38</td>\n",
              "      <td>3.93</td>\n",
              "      <td>False</td>\n",
              "      <td>False</td>\n",
              "      <td>True</td>\n",
              "      <td>False</td>\n",
              "      <td>False</td>\n",
              "    </tr>\n",
              "    <tr>\n",
              "      <th>53936</th>\n",
              "      <td>1.51</td>\n",
              "      <td>61.7</td>\n",
              "      <td>58.0</td>\n",
              "      <td>7.33</td>\n",
              "      <td>7.28</td>\n",
              "      <td>4.51</td>\n",
              "      <td>False</td>\n",
              "      <td>True</td>\n",
              "      <td>False</td>\n",
              "      <td>False</td>\n",
              "      <td>False</td>\n",
              "    </tr>\n",
              "    <tr>\n",
              "      <th>53937</th>\n",
              "      <td>1.53</td>\n",
              "      <td>62.0</td>\n",
              "      <td>56.0</td>\n",
              "      <td>7.47</td>\n",
              "      <td>7.39</td>\n",
              "      <td>4.61</td>\n",
              "      <td>False</td>\n",
              "      <td>True</td>\n",
              "      <td>False</td>\n",
              "      <td>False</td>\n",
              "      <td>False</td>\n",
              "    </tr>\n",
              "    <tr>\n",
              "      <th>53938</th>\n",
              "      <td>1.57</td>\n",
              "      <td>62.4</td>\n",
              "      <td>53.6</td>\n",
              "      <td>7.42</td>\n",
              "      <td>7.47</td>\n",
              "      <td>4.64</td>\n",
              "      <td>True</td>\n",
              "      <td>False</td>\n",
              "      <td>False</td>\n",
              "      <td>False</td>\n",
              "      <td>False</td>\n",
              "    </tr>\n",
              "    <tr>\n",
              "      <th>53939</th>\n",
              "      <td>2.21</td>\n",
              "      <td>61.1</td>\n",
              "      <td>59.0</td>\n",
              "      <td>8.42</td>\n",
              "      <td>8.37</td>\n",
              "      <td>5.13</td>\n",
              "      <td>False</td>\n",
              "      <td>True</td>\n",
              "      <td>False</td>\n",
              "      <td>False</td>\n",
              "      <td>False</td>\n",
              "    </tr>\n",
              "  </tbody>\n",
              "</table>\n",
              "<p>53940 rows × 11 columns</p>\n",
              "</div>"
            ],
            "text/plain": [
              "       carat  depth  table     x  ...  is_Premium  is_Very Good  is_Good  is_Fair\n",
              "0       0.32   61.4   55.0  4.46  ...       False         False    False    False\n",
              "1       0.30   62.2   60.0  4.28  ...        True         False    False    False\n",
              "2       1.08   63.2   59.0  6.40  ...       False         False     True    False\n",
              "3       2.03   60.9   59.0  8.17  ...        True         False    False    False\n",
              "4       1.05   62.7   61.0  6.58  ...        True         False    False    False\n",
              "...      ...    ...    ...   ...  ...         ...           ...      ...      ...\n",
              "53935   1.01   61.8   58.0  6.33  ...       False          True    False    False\n",
              "53936   1.51   61.7   58.0  7.33  ...        True         False    False    False\n",
              "53937   1.53   62.0   56.0  7.47  ...        True         False    False    False\n",
              "53938   1.57   62.4   53.6  7.42  ...       False         False    False    False\n",
              "53939   2.21   61.1   59.0  8.42  ...        True         False    False    False\n",
              "\n",
              "[53940 rows x 11 columns]"
            ]
          },
          "metadata": {
            "tags": []
          },
          "execution_count": 37
        }
      ]
    },
    {
      "cell_type": "code",
      "metadata": {
        "id": "MYnzshH84bVn",
        "outputId": "a057b228-c5d7-4c0c-c449-ab9fcd9d1172",
        "colab": {
          "base_uri": "https://localhost:8080/",
          "height": 265
        }
      },
      "source": [
        "fig, ax = plt.subplots()\n",
        "ax.plot(df_shuffled['carat'], 'o')\n",
        "fig.show()"
      ],
      "execution_count": null,
      "outputs": [
        {
          "output_type": "display_data",
          "data": {
            "image/png": "[encoded data removed]",
            "text/plain": [
              "<Figure size 432x288 with 1 Axes>"
            ]
          },
          "metadata": {
            "tags": [],
            "needs_background": "light"
          }
        }
      ]
    },
    {
      "cell_type": "markdown",
      "metadata": {
        "id": "1oaCS7OC5vMl"
      },
      "source": [
        "Can we just put df_shuffled directly into `cross_val_score()`? Let's try it!"
      ]
    },
    {
      "cell_type": "code",
      "metadata": {
        "id": "gA3Sk_e48wLy"
      },
      "source": [
        "scores = cross_val_score(estimator = model, X = df_shuffled, y = true_price, cv = 5, scoring = 'neg_mean_absolute_error')"
      ],
      "execution_count": null,
      "outputs": []
    },
    {
      "cell_type": "code",
      "metadata": {
        "id": "0U4HuTak9P87",
        "outputId": "81f8f3ab-8d81-42d5-f84e-a09a3b49eae0",
        "colab": {
          "base_uri": "https://localhost:8080/",
          "height": 50
        }
      },
      "source": [
        "scores"
      ],
      "execution_count": null,
      "outputs": [
        {
          "output_type": "execute_result",
          "data": {
            "text/plain": [
              "array([ -878.56855787, -3282.1075986 , -6479.45161809, -3701.88233289,\n",
              "       -2564.11352079])"
            ]
          },
          "metadata": {
            "tags": []
          },
          "execution_count": 41
        }
      ]
    },
    {
      "cell_type": "markdown",
      "metadata": {
        "id": "QIHDuD3C9VZ8"
      },
      "source": [
        "How did our errors get so high? This can't be right. Hint: We made all kinds of changes to the inputs: `X = df_shuffled` did we touch `y = true_price`? To properly shuffle, we'd have to to backtrack a few steps, it happens in the data world, and will be left as an exercise to the reader. "
      ]
    },
    {
      "cell_type": "markdown",
      "metadata": {
        "id": "5Np0UDimUH8-"
      },
      "source": [
        "With all this talk about test and validation, did we fix the problem of overfitting? Well let's bring in the about `df_carsnames` dataset, which had too many columns. We were getting very low errors, let's see what the testing score is on this dataset. "
      ]
    },
    {
      "cell_type": "code",
      "metadata": {
        "id": "2T7VSg4O46e4",
        "outputId": "b2fbcda7-c482-4139-a0f0-e72a19f9658b",
        "colab": {
          "base_uri": "https://localhost:8080/",
          "height": 479
        }
      },
      "source": [
        "import sklearn.preprocessing as skpre \n",
        "df_in2 = sns.load_dataset('mpg')\n",
        "df_in2 = df_in2.dropna().copy()\n",
        "encoder = skpre.OneHotEncoder()\n",
        "encoder.fit(X = df_in2[['origin', 'name']].values)\n",
        "\n",
        "array = encoder.transform(X = df_in2[['origin','name']].values).toarray() \n",
        "df_encoded= pd.DataFrame(data = array, index = df_in2.index, columns = encoder.get_feature_names())\n",
        "df_carsnames = pd.concat(objs = [df_in2, df_encoded], axis = 1)\n",
        "\n",
        "true_mpg = df_carsnames['mpg']\n",
        "df_carsnames= df_carsnames.drop(columns = ['origin', 'name','mpg'])\n",
        "df_carsnames"
      ],
      "execution_count": null,
      "outputs": [
        {
          "output_type": "execute_result",
          "data": {
            "text/html": [
              "<div>\n",
              "<style scoped>\n",
              "    .dataframe tbody tr th:only-of-type {\n",
              "        vertical-align: middle;\n",
              "    }\n",
              "\n",
              "    .dataframe tbody tr th {\n",
              "        vertical-align: top;\n",
              "    }\n",
              "\n",
              "    .dataframe thead th {\n",
              "        text-align: right;\n",
              "    }\n",
              "</style>\n",
              "<table border=\"1\" class=\"dataframe\">\n",
              "  <thead>\n",
              "    <tr style=\"text-align: right;\">\n",
              "      <th></th>\n",
              "      <th>cylinders</th>\n",
              "      <th>displacement</th>\n",
              "      <th>horsepower</th>\n",
              "      <th>weight</th>\n",
              "      <th>acceleration</th>\n",
              "      <th>model_year</th>\n",
              "      <th>x0_europe</th>\n",
              "      <th>x0_japan</th>\n",
              "      <th>x0_usa</th>\n",
              "      <th>x1_amc ambassador brougham</th>\n",
              "      <th>x1_amc ambassador dpl</th>\n",
              "      <th>x1_amc ambassador sst</th>\n",
              "      <th>x1_amc concord</th>\n",
              "      <th>x1_amc concord d/l</th>\n",
              "      <th>x1_amc concord dl 6</th>\n",
              "      <th>x1_amc gremlin</th>\n",
              "      <th>x1_amc hornet</th>\n",
              "      <th>x1_amc hornet sportabout (sw)</th>\n",
              "      <th>x1_amc matador</th>\n",
              "      <th>x1_amc matador (sw)</th>\n",
              "      <th>x1_amc pacer</th>\n",
              "      <th>x1_amc pacer d/l</th>\n",
              "      <th>x1_amc rebel sst</th>\n",
              "      <th>x1_amc spirit dl</th>\n",
              "      <th>x1_audi 100 ls</th>\n",
              "      <th>x1_audi 100ls</th>\n",
              "      <th>x1_audi 4000</th>\n",
              "      <th>x1_audi 5000</th>\n",
              "      <th>x1_audi 5000s (diesel)</th>\n",
              "      <th>x1_audi fox</th>\n",
              "      <th>x1_bmw 2002</th>\n",
              "      <th>x1_bmw 320i</th>\n",
              "      <th>x1_buick century</th>\n",
              "      <th>x1_buick century 350</th>\n",
              "      <th>x1_buick century limited</th>\n",
              "      <th>x1_buick century luxus (sw)</th>\n",
              "      <th>x1_buick century special</th>\n",
              "      <th>x1_buick electra 225 custom</th>\n",
              "      <th>x1_buick estate wagon (sw)</th>\n",
              "      <th>x1_buick lesabre custom</th>\n",
              "      <th>...</th>\n",
              "      <th>x1_toyota celica gt liftback</th>\n",
              "      <th>x1_toyota corolla</th>\n",
              "      <th>x1_toyota corolla 1200</th>\n",
              "      <th>x1_toyota corolla 1600 (sw)</th>\n",
              "      <th>x1_toyota corolla liftback</th>\n",
              "      <th>x1_toyota corolla tercel</th>\n",
              "      <th>x1_toyota corona</th>\n",
              "      <th>x1_toyota corona hardtop</th>\n",
              "      <th>x1_toyota corona liftback</th>\n",
              "      <th>x1_toyota corona mark ii</th>\n",
              "      <th>x1_toyota cressida</th>\n",
              "      <th>x1_toyota mark ii</th>\n",
              "      <th>x1_toyota starlet</th>\n",
              "      <th>x1_toyota tercel</th>\n",
              "      <th>x1_toyouta corona mark ii (sw)</th>\n",
              "      <th>x1_triumph tr7 coupe</th>\n",
              "      <th>x1_vokswagen rabbit</th>\n",
              "      <th>x1_volkswagen 1131 deluxe sedan</th>\n",
              "      <th>x1_volkswagen 411 (sw)</th>\n",
              "      <th>x1_volkswagen dasher</th>\n",
              "      <th>x1_volkswagen jetta</th>\n",
              "      <th>x1_volkswagen model 111</th>\n",
              "      <th>x1_volkswagen rabbit</th>\n",
              "      <th>x1_volkswagen rabbit custom</th>\n",
              "      <th>x1_volkswagen rabbit custom diesel</th>\n",
              "      <th>x1_volkswagen rabbit l</th>\n",
              "      <th>x1_volkswagen scirocco</th>\n",
              "      <th>x1_volkswagen super beetle</th>\n",
              "      <th>x1_volkswagen type 3</th>\n",
              "      <th>x1_volvo 144ea</th>\n",
              "      <th>x1_volvo 145e (sw)</th>\n",
              "      <th>x1_volvo 244dl</th>\n",
              "      <th>x1_volvo 245</th>\n",
              "      <th>x1_volvo 264gl</th>\n",
              "      <th>x1_volvo diesel</th>\n",
              "      <th>x1_vw dasher (diesel)</th>\n",
              "      <th>x1_vw pickup</th>\n",
              "      <th>x1_vw rabbit</th>\n",
              "      <th>x1_vw rabbit c (diesel)</th>\n",
              "      <th>x1_vw rabbit custom</th>\n",
              "    </tr>\n",
              "  </thead>\n",
              "  <tbody>\n",
              "    <tr>\n",
              "      <th>0</th>\n",
              "      <td>8</td>\n",
              "      <td>307.0</td>\n",
              "      <td>130.0</td>\n",
              "      <td>3504</td>\n",
              "      <td>12.0</td>\n",
              "      <td>70</td>\n",
              "      <td>0.0</td>\n",
              "      <td>0.0</td>\n",
              "      <td>1.0</td>\n",
              "      <td>0.0</td>\n",
              "      <td>0.0</td>\n",
              "      <td>0.0</td>\n",
              "      <td>0.0</td>\n",
              "      <td>0.0</td>\n",
              "      <td>0.0</td>\n",
              "      <td>0.0</td>\n",
              "      <td>0.0</td>\n",
              "      <td>0.0</td>\n",
              "      <td>0.0</td>\n",
              "      <td>0.0</td>\n",
              "      <td>0.0</td>\n",
              "      <td>0.0</td>\n",
              "      <td>0.0</td>\n",
              "      <td>0.0</td>\n",
              "      <td>0.0</td>\n",
              "      <td>0.0</td>\n",
              "      <td>0.0</td>\n",
              "      <td>0.0</td>\n",
              "      <td>0.0</td>\n",
              "      <td>0.0</td>\n",
              "      <td>0.0</td>\n",
              "      <td>0.0</td>\n",
              "      <td>0.0</td>\n",
              "      <td>0.0</td>\n",
              "      <td>0.0</td>\n",
              "      <td>0.0</td>\n",
              "      <td>0.0</td>\n",
              "      <td>0.0</td>\n",
              "      <td>0.0</td>\n",
              "      <td>0.0</td>\n",
              "      <td>...</td>\n",
              "      <td>0.0</td>\n",
              "      <td>0.0</td>\n",
              "      <td>0.0</td>\n",
              "      <td>0.0</td>\n",
              "      <td>0.0</td>\n",
              "      <td>0.0</td>\n",
              "      <td>0.0</td>\n",
              "      <td>0.0</td>\n",
              "      <td>0.0</td>\n",
              "      <td>0.0</td>\n",
              "      <td>0.0</td>\n",
              "      <td>0.0</td>\n",
              "      <td>0.0</td>\n",
              "      <td>0.0</td>\n",
              "      <td>0.0</td>\n",
              "      <td>0.0</td>\n",
              "      <td>0.0</td>\n",
              "      <td>0.0</td>\n",
              "      <td>0.0</td>\n",
              "      <td>0.0</td>\n",
              "      <td>0.0</td>\n",
              "      <td>0.0</td>\n",
              "      <td>0.0</td>\n",
              "      <td>0.0</td>\n",
              "      <td>0.0</td>\n",
              "      <td>0.0</td>\n",
              "      <td>0.0</td>\n",
              "      <td>0.0</td>\n",
              "      <td>0.0</td>\n",
              "      <td>0.0</td>\n",
              "      <td>0.0</td>\n",
              "      <td>0.0</td>\n",
              "      <td>0.0</td>\n",
              "      <td>0.0</td>\n",
              "      <td>0.0</td>\n",
              "      <td>0.0</td>\n",
              "      <td>0.0</td>\n",
              "      <td>0.0</td>\n",
              "      <td>0.0</td>\n",
              "      <td>0.0</td>\n",
              "    </tr>\n",
              "    <tr>\n",
              "      <th>1</th>\n",
              "      <td>8</td>\n",
              "      <td>350.0</td>\n",
              "      <td>165.0</td>\n",
              "      <td>3693</td>\n",
              "      <td>11.5</td>\n",
              "      <td>70</td>\n",
              "      <td>0.0</td>\n",
              "      <td>0.0</td>\n",
              "      <td>1.0</td>\n",
              "      <td>0.0</td>\n",
              "      <td>0.0</td>\n",
              "      <td>0.0</td>\n",
              "      <td>0.0</td>\n",
              "      <td>0.0</td>\n",
              "      <td>0.0</td>\n",
              "      <td>0.0</td>\n",
              "      <td>0.0</td>\n",
              "      <td>0.0</td>\n",
              "      <td>0.0</td>\n",
              "      <td>0.0</td>\n",
              "      <td>0.0</td>\n",
              "      <td>0.0</td>\n",
              "      <td>0.0</td>\n",
              "      <td>0.0</td>\n",
              "      <td>0.0</td>\n",
              "      <td>0.0</td>\n",
              "      <td>0.0</td>\n",
              "      <td>0.0</td>\n",
              "      <td>0.0</td>\n",
              "      <td>0.0</td>\n",
              "      <td>0.0</td>\n",
              "      <td>0.0</td>\n",
              "      <td>0.0</td>\n",
              "      <td>0.0</td>\n",
              "      <td>0.0</td>\n",
              "      <td>0.0</td>\n",
              "      <td>0.0</td>\n",
              "      <td>0.0</td>\n",
              "      <td>0.0</td>\n",
              "      <td>0.0</td>\n",
              "      <td>...</td>\n",
              "      <td>0.0</td>\n",
              "      <td>0.0</td>\n",
              "      <td>0.0</td>\n",
              "      <td>0.0</td>\n",
              "      <td>0.0</td>\n",
              "      <td>0.0</td>\n",
              "      <td>0.0</td>\n",
              "      <td>0.0</td>\n",
              "      <td>0.0</td>\n",
              "      <td>0.0</td>\n",
              "      <td>0.0</td>\n",
              "      <td>0.0</td>\n",
              "      <td>0.0</td>\n",
              "      <td>0.0</td>\n",
              "      <td>0.0</td>\n",
              "      <td>0.0</td>\n",
              "      <td>0.0</td>\n",
              "      <td>0.0</td>\n",
              "      <td>0.0</td>\n",
              "      <td>0.0</td>\n",
              "      <td>0.0</td>\n",
              "      <td>0.0</td>\n",
              "      <td>0.0</td>\n",
              "      <td>0.0</td>\n",
              "      <td>0.0</td>\n",
              "      <td>0.0</td>\n",
              "      <td>0.0</td>\n",
              "      <td>0.0</td>\n",
              "      <td>0.0</td>\n",
              "      <td>0.0</td>\n",
              "      <td>0.0</td>\n",
              "      <td>0.0</td>\n",
              "      <td>0.0</td>\n",
              "      <td>0.0</td>\n",
              "      <td>0.0</td>\n",
              "      <td>0.0</td>\n",
              "      <td>0.0</td>\n",
              "      <td>0.0</td>\n",
              "      <td>0.0</td>\n",
              "      <td>0.0</td>\n",
              "    </tr>\n",
              "    <tr>\n",
              "      <th>2</th>\n",
              "      <td>8</td>\n",
              "      <td>318.0</td>\n",
              "      <td>150.0</td>\n",
              "      <td>3436</td>\n",
              "      <td>11.0</td>\n",
              "      <td>70</td>\n",
              "      <td>0.0</td>\n",
              "      <td>0.0</td>\n",
              "      <td>1.0</td>\n",
              "      <td>0.0</td>\n",
              "      <td>0.0</td>\n",
              "      <td>0.0</td>\n",
              "      <td>0.0</td>\n",
              "      <td>0.0</td>\n",
              "      <td>0.0</td>\n",
              "      <td>0.0</td>\n",
              "      <td>0.0</td>\n",
              "      <td>0.0</td>\n",
              "      <td>0.0</td>\n",
              "      <td>0.0</td>\n",
              "      <td>0.0</td>\n",
              "      <td>0.0</td>\n",
              "      <td>0.0</td>\n",
              "      <td>0.0</td>\n",
              "      <td>0.0</td>\n",
              "      <td>0.0</td>\n",
              "      <td>0.0</td>\n",
              "      <td>0.0</td>\n",
              "      <td>0.0</td>\n",
              "      <td>0.0</td>\n",
              "      <td>0.0</td>\n",
              "      <td>0.0</td>\n",
              "      <td>0.0</td>\n",
              "      <td>0.0</td>\n",
              "      <td>0.0</td>\n",
              "      <td>0.0</td>\n",
              "      <td>0.0</td>\n",
              "      <td>0.0</td>\n",
              "      <td>0.0</td>\n",
              "      <td>0.0</td>\n",
              "      <td>...</td>\n",
              "      <td>0.0</td>\n",
              "      <td>0.0</td>\n",
              "      <td>0.0</td>\n",
              "      <td>0.0</td>\n",
              "      <td>0.0</td>\n",
              "      <td>0.0</td>\n",
              "      <td>0.0</td>\n",
              "      <td>0.0</td>\n",
              "      <td>0.0</td>\n",
              "      <td>0.0</td>\n",
              "      <td>0.0</td>\n",
              "      <td>0.0</td>\n",
              "      <td>0.0</td>\n",
              "      <td>0.0</td>\n",
              "      <td>0.0</td>\n",
              "      <td>0.0</td>\n",
              "      <td>0.0</td>\n",
              "      <td>0.0</td>\n",
              "      <td>0.0</td>\n",
              "      <td>0.0</td>\n",
              "      <td>0.0</td>\n",
              "      <td>0.0</td>\n",
              "      <td>0.0</td>\n",
              "      <td>0.0</td>\n",
              "      <td>0.0</td>\n",
              "      <td>0.0</td>\n",
              "      <td>0.0</td>\n",
              "      <td>0.0</td>\n",
              "      <td>0.0</td>\n",
              "      <td>0.0</td>\n",
              "      <td>0.0</td>\n",
              "      <td>0.0</td>\n",
              "      <td>0.0</td>\n",
              "      <td>0.0</td>\n",
              "      <td>0.0</td>\n",
              "      <td>0.0</td>\n",
              "      <td>0.0</td>\n",
              "      <td>0.0</td>\n",
              "      <td>0.0</td>\n",
              "      <td>0.0</td>\n",
              "    </tr>\n",
              "    <tr>\n",
              "      <th>3</th>\n",
              "      <td>8</td>\n",
              "      <td>304.0</td>\n",
              "      <td>150.0</td>\n",
              "      <td>3433</td>\n",
              "      <td>12.0</td>\n",
              "      <td>70</td>\n",
              "      <td>0.0</td>\n",
              "      <td>0.0</td>\n",
              "      <td>1.0</td>\n",
              "      <td>0.0</td>\n",
              "      <td>0.0</td>\n",
              "      <td>0.0</td>\n",
              "      <td>0.0</td>\n",
              "      <td>0.0</td>\n",
              "      <td>0.0</td>\n",
              "      <td>0.0</td>\n",
              "      <td>0.0</td>\n",
              "      <td>0.0</td>\n",
              "      <td>0.0</td>\n",
              "      <td>0.0</td>\n",
              "      <td>0.0</td>\n",
              "      <td>0.0</td>\n",
              "      <td>1.0</td>\n",
              "      <td>0.0</td>\n",
              "      <td>0.0</td>\n",
              "      <td>0.0</td>\n",
              "      <td>0.0</td>\n",
              "      <td>0.0</td>\n",
              "      <td>0.0</td>\n",
              "      <td>0.0</td>\n",
              "      <td>0.0</td>\n",
              "      <td>0.0</td>\n",
              "      <td>0.0</td>\n",
              "      <td>0.0</td>\n",
              "      <td>0.0</td>\n",
              "      <td>0.0</td>\n",
              "      <td>0.0</td>\n",
              "      <td>0.0</td>\n",
              "      <td>0.0</td>\n",
              "      <td>0.0</td>\n",
              "      <td>...</td>\n",
              "      <td>0.0</td>\n",
              "      <td>0.0</td>\n",
              "      <td>0.0</td>\n",
              "      <td>0.0</td>\n",
              "      <td>0.0</td>\n",
              "      <td>0.0</td>\n",
              "      <td>0.0</td>\n",
              "      <td>0.0</td>\n",
              "      <td>0.0</td>\n",
              "      <td>0.0</td>\n",
              "      <td>0.0</td>\n",
              "      <td>0.0</td>\n",
              "      <td>0.0</td>\n",
              "      <td>0.0</td>\n",
              "      <td>0.0</td>\n",
              "      <td>0.0</td>\n",
              "      <td>0.0</td>\n",
              "      <td>0.0</td>\n",
              "      <td>0.0</td>\n",
              "      <td>0.0</td>\n",
              "      <td>0.0</td>\n",
              "      <td>0.0</td>\n",
              "      <td>0.0</td>\n",
              "      <td>0.0</td>\n",
              "      <td>0.0</td>\n",
              "      <td>0.0</td>\n",
              "      <td>0.0</td>\n",
              "      <td>0.0</td>\n",
              "      <td>0.0</td>\n",
              "      <td>0.0</td>\n",
              "      <td>0.0</td>\n",
              "      <td>0.0</td>\n",
              "      <td>0.0</td>\n",
              "      <td>0.0</td>\n",
              "      <td>0.0</td>\n",
              "      <td>0.0</td>\n",
              "      <td>0.0</td>\n",
              "      <td>0.0</td>\n",
              "      <td>0.0</td>\n",
              "      <td>0.0</td>\n",
              "    </tr>\n",
              "    <tr>\n",
              "      <th>4</th>\n",
              "      <td>8</td>\n",
              "      <td>302.0</td>\n",
              "      <td>140.0</td>\n",
              "      <td>3449</td>\n",
              "      <td>10.5</td>\n",
              "      <td>70</td>\n",
              "      <td>0.0</td>\n",
              "      <td>0.0</td>\n",
              "      <td>1.0</td>\n",
              "      <td>0.0</td>\n",
              "      <td>0.0</td>\n",
              "      <td>0.0</td>\n",
              "      <td>0.0</td>\n",
              "      <td>0.0</td>\n",
              "      <td>0.0</td>\n",
              "      <td>0.0</td>\n",
              "      <td>0.0</td>\n",
              "      <td>0.0</td>\n",
              "      <td>0.0</td>\n",
              "      <td>0.0</td>\n",
              "      <td>0.0</td>\n",
              "      <td>0.0</td>\n",
              "      <td>0.0</td>\n",
              "      <td>0.0</td>\n",
              "      <td>0.0</td>\n",
              "      <td>0.0</td>\n",
              "      <td>0.0</td>\n",
              "      <td>0.0</td>\n",
              "      <td>0.0</td>\n",
              "      <td>0.0</td>\n",
              "      <td>0.0</td>\n",
              "      <td>0.0</td>\n",
              "      <td>0.0</td>\n",
              "      <td>0.0</td>\n",
              "      <td>0.0</td>\n",
              "      <td>0.0</td>\n",
              "      <td>0.0</td>\n",
              "      <td>0.0</td>\n",
              "      <td>0.0</td>\n",
              "      <td>0.0</td>\n",
              "      <td>...</td>\n",
              "      <td>0.0</td>\n",
              "      <td>0.0</td>\n",
              "      <td>0.0</td>\n",
              "      <td>0.0</td>\n",
              "      <td>0.0</td>\n",
              "      <td>0.0</td>\n",
              "      <td>0.0</td>\n",
              "      <td>0.0</td>\n",
              "      <td>0.0</td>\n",
              "      <td>0.0</td>\n",
              "      <td>0.0</td>\n",
              "      <td>0.0</td>\n",
              "      <td>0.0</td>\n",
              "      <td>0.0</td>\n",
              "      <td>0.0</td>\n",
              "      <td>0.0</td>\n",
              "      <td>0.0</td>\n",
              "      <td>0.0</td>\n",
              "      <td>0.0</td>\n",
              "      <td>0.0</td>\n",
              "      <td>0.0</td>\n",
              "      <td>0.0</td>\n",
              "      <td>0.0</td>\n",
              "      <td>0.0</td>\n",
              "      <td>0.0</td>\n",
              "      <td>0.0</td>\n",
              "      <td>0.0</td>\n",
              "      <td>0.0</td>\n",
              "      <td>0.0</td>\n",
              "      <td>0.0</td>\n",
              "      <td>0.0</td>\n",
              "      <td>0.0</td>\n",
              "      <td>0.0</td>\n",
              "      <td>0.0</td>\n",
              "      <td>0.0</td>\n",
              "      <td>0.0</td>\n",
              "      <td>0.0</td>\n",
              "      <td>0.0</td>\n",
              "      <td>0.0</td>\n",
              "      <td>0.0</td>\n",
              "    </tr>\n",
              "    <tr>\n",
              "      <th>...</th>\n",
              "      <td>...</td>\n",
              "      <td>...</td>\n",
              "      <td>...</td>\n",
              "      <td>...</td>\n",
              "      <td>...</td>\n",
              "      <td>...</td>\n",
              "      <td>...</td>\n",
              "      <td>...</td>\n",
              "      <td>...</td>\n",
              "      <td>...</td>\n",
              "      <td>...</td>\n",
              "      <td>...</td>\n",
              "      <td>...</td>\n",
              "      <td>...</td>\n",
              "      <td>...</td>\n",
              "      <td>...</td>\n",
              "      <td>...</td>\n",
              "      <td>...</td>\n",
              "      <td>...</td>\n",
              "      <td>...</td>\n",
              "      <td>...</td>\n",
              "      <td>...</td>\n",
              "      <td>...</td>\n",
              "      <td>...</td>\n",
              "      <td>...</td>\n",
              "      <td>...</td>\n",
              "      <td>...</td>\n",
              "      <td>...</td>\n",
              "      <td>...</td>\n",
              "      <td>...</td>\n",
              "      <td>...</td>\n",
              "      <td>...</td>\n",
              "      <td>...</td>\n",
              "      <td>...</td>\n",
              "      <td>...</td>\n",
              "      <td>...</td>\n",
              "      <td>...</td>\n",
              "      <td>...</td>\n",
              "      <td>...</td>\n",
              "      <td>...</td>\n",
              "      <td>...</td>\n",
              "      <td>...</td>\n",
              "      <td>...</td>\n",
              "      <td>...</td>\n",
              "      <td>...</td>\n",
              "      <td>...</td>\n",
              "      <td>...</td>\n",
              "      <td>...</td>\n",
              "      <td>...</td>\n",
              "      <td>...</td>\n",
              "      <td>...</td>\n",
              "      <td>...</td>\n",
              "      <td>...</td>\n",
              "      <td>...</td>\n",
              "      <td>...</td>\n",
              "      <td>...</td>\n",
              "      <td>...</td>\n",
              "      <td>...</td>\n",
              "      <td>...</td>\n",
              "      <td>...</td>\n",
              "      <td>...</td>\n",
              "      <td>...</td>\n",
              "      <td>...</td>\n",
              "      <td>...</td>\n",
              "      <td>...</td>\n",
              "      <td>...</td>\n",
              "      <td>...</td>\n",
              "      <td>...</td>\n",
              "      <td>...</td>\n",
              "      <td>...</td>\n",
              "      <td>...</td>\n",
              "      <td>...</td>\n",
              "      <td>...</td>\n",
              "      <td>...</td>\n",
              "      <td>...</td>\n",
              "      <td>...</td>\n",
              "      <td>...</td>\n",
              "      <td>...</td>\n",
              "      <td>...</td>\n",
              "      <td>...</td>\n",
              "      <td>...</td>\n",
              "    </tr>\n",
              "    <tr>\n",
              "      <th>393</th>\n",
              "      <td>4</td>\n",
              "      <td>140.0</td>\n",
              "      <td>86.0</td>\n",
              "      <td>2790</td>\n",
              "      <td>15.6</td>\n",
              "      <td>82</td>\n",
              "      <td>0.0</td>\n",
              "      <td>0.0</td>\n",
              "      <td>1.0</td>\n",
              "      <td>0.0</td>\n",
              "      <td>0.0</td>\n",
              "      <td>0.0</td>\n",
              "      <td>0.0</td>\n",
              "      <td>0.0</td>\n",
              "      <td>0.0</td>\n",
              "      <td>0.0</td>\n",
              "      <td>0.0</td>\n",
              "      <td>0.0</td>\n",
              "      <td>0.0</td>\n",
              "      <td>0.0</td>\n",
              "      <td>0.0</td>\n",
              "      <td>0.0</td>\n",
              "      <td>0.0</td>\n",
              "      <td>0.0</td>\n",
              "      <td>0.0</td>\n",
              "      <td>0.0</td>\n",
              "      <td>0.0</td>\n",
              "      <td>0.0</td>\n",
              "      <td>0.0</td>\n",
              "      <td>0.0</td>\n",
              "      <td>0.0</td>\n",
              "      <td>0.0</td>\n",
              "      <td>0.0</td>\n",
              "      <td>0.0</td>\n",
              "      <td>0.0</td>\n",
              "      <td>0.0</td>\n",
              "      <td>0.0</td>\n",
              "      <td>0.0</td>\n",
              "      <td>0.0</td>\n",
              "      <td>0.0</td>\n",
              "      <td>...</td>\n",
              "      <td>0.0</td>\n",
              "      <td>0.0</td>\n",
              "      <td>0.0</td>\n",
              "      <td>0.0</td>\n",
              "      <td>0.0</td>\n",
              "      <td>0.0</td>\n",
              "      <td>0.0</td>\n",
              "      <td>0.0</td>\n",
              "      <td>0.0</td>\n",
              "      <td>0.0</td>\n",
              "      <td>0.0</td>\n",
              "      <td>0.0</td>\n",
              "      <td>0.0</td>\n",
              "      <td>0.0</td>\n",
              "      <td>0.0</td>\n",
              "      <td>0.0</td>\n",
              "      <td>0.0</td>\n",
              "      <td>0.0</td>\n",
              "      <td>0.0</td>\n",
              "      <td>0.0</td>\n",
              "      <td>0.0</td>\n",
              "      <td>0.0</td>\n",
              "      <td>0.0</td>\n",
              "      <td>0.0</td>\n",
              "      <td>0.0</td>\n",
              "      <td>0.0</td>\n",
              "      <td>0.0</td>\n",
              "      <td>0.0</td>\n",
              "      <td>0.0</td>\n",
              "      <td>0.0</td>\n",
              "      <td>0.0</td>\n",
              "      <td>0.0</td>\n",
              "      <td>0.0</td>\n",
              "      <td>0.0</td>\n",
              "      <td>0.0</td>\n",
              "      <td>0.0</td>\n",
              "      <td>0.0</td>\n",
              "      <td>0.0</td>\n",
              "      <td>0.0</td>\n",
              "      <td>0.0</td>\n",
              "    </tr>\n",
              "    <tr>\n",
              "      <th>394</th>\n",
              "      <td>4</td>\n",
              "      <td>97.0</td>\n",
              "      <td>52.0</td>\n",
              "      <td>2130</td>\n",
              "      <td>24.6</td>\n",
              "      <td>82</td>\n",
              "      <td>1.0</td>\n",
              "      <td>0.0</td>\n",
              "      <td>0.0</td>\n",
              "      <td>0.0</td>\n",
              "      <td>0.0</td>\n",
              "      <td>0.0</td>\n",
              "      <td>0.0</td>\n",
              "      <td>0.0</td>\n",
              "      <td>0.0</td>\n",
              "      <td>0.0</td>\n",
              "      <td>0.0</td>\n",
              "      <td>0.0</td>\n",
              "      <td>0.0</td>\n",
              "      <td>0.0</td>\n",
              "      <td>0.0</td>\n",
              "      <td>0.0</td>\n",
              "      <td>0.0</td>\n",
              "      <td>0.0</td>\n",
              "      <td>0.0</td>\n",
              "      <td>0.0</td>\n",
              "      <td>0.0</td>\n",
              "      <td>0.0</td>\n",
              "      <td>0.0</td>\n",
              "      <td>0.0</td>\n",
              "      <td>0.0</td>\n",
              "      <td>0.0</td>\n",
              "      <td>0.0</td>\n",
              "      <td>0.0</td>\n",
              "      <td>0.0</td>\n",
              "      <td>0.0</td>\n",
              "      <td>0.0</td>\n",
              "      <td>0.0</td>\n",
              "      <td>0.0</td>\n",
              "      <td>0.0</td>\n",
              "      <td>...</td>\n",
              "      <td>0.0</td>\n",
              "      <td>0.0</td>\n",
              "      <td>0.0</td>\n",
              "      <td>0.0</td>\n",
              "      <td>0.0</td>\n",
              "      <td>0.0</td>\n",
              "      <td>0.0</td>\n",
              "      <td>0.0</td>\n",
              "      <td>0.0</td>\n",
              "      <td>0.0</td>\n",
              "      <td>0.0</td>\n",
              "      <td>0.0</td>\n",
              "      <td>0.0</td>\n",
              "      <td>0.0</td>\n",
              "      <td>0.0</td>\n",
              "      <td>0.0</td>\n",
              "      <td>0.0</td>\n",
              "      <td>0.0</td>\n",
              "      <td>0.0</td>\n",
              "      <td>0.0</td>\n",
              "      <td>0.0</td>\n",
              "      <td>0.0</td>\n",
              "      <td>0.0</td>\n",
              "      <td>0.0</td>\n",
              "      <td>0.0</td>\n",
              "      <td>0.0</td>\n",
              "      <td>0.0</td>\n",
              "      <td>0.0</td>\n",
              "      <td>0.0</td>\n",
              "      <td>0.0</td>\n",
              "      <td>0.0</td>\n",
              "      <td>0.0</td>\n",
              "      <td>0.0</td>\n",
              "      <td>0.0</td>\n",
              "      <td>0.0</td>\n",
              "      <td>0.0</td>\n",
              "      <td>1.0</td>\n",
              "      <td>0.0</td>\n",
              "      <td>0.0</td>\n",
              "      <td>0.0</td>\n",
              "    </tr>\n",
              "    <tr>\n",
              "      <th>395</th>\n",
              "      <td>4</td>\n",
              "      <td>135.0</td>\n",
              "      <td>84.0</td>\n",
              "      <td>2295</td>\n",
              "      <td>11.6</td>\n",
              "      <td>82</td>\n",
              "      <td>0.0</td>\n",
              "      <td>0.0</td>\n",
              "      <td>1.0</td>\n",
              "      <td>0.0</td>\n",
              "      <td>0.0</td>\n",
              "      <td>0.0</td>\n",
              "      <td>0.0</td>\n",
              "      <td>0.0</td>\n",
              "      <td>0.0</td>\n",
              "      <td>0.0</td>\n",
              "      <td>0.0</td>\n",
              "      <td>0.0</td>\n",
              "      <td>0.0</td>\n",
              "      <td>0.0</td>\n",
              "      <td>0.0</td>\n",
              "      <td>0.0</td>\n",
              "      <td>0.0</td>\n",
              "      <td>0.0</td>\n",
              "      <td>0.0</td>\n",
              "      <td>0.0</td>\n",
              "      <td>0.0</td>\n",
              "      <td>0.0</td>\n",
              "      <td>0.0</td>\n",
              "      <td>0.0</td>\n",
              "      <td>0.0</td>\n",
              "      <td>0.0</td>\n",
              "      <td>0.0</td>\n",
              "      <td>0.0</td>\n",
              "      <td>0.0</td>\n",
              "      <td>0.0</td>\n",
              "      <td>0.0</td>\n",
              "      <td>0.0</td>\n",
              "      <td>0.0</td>\n",
              "      <td>0.0</td>\n",
              "      <td>...</td>\n",
              "      <td>0.0</td>\n",
              "      <td>0.0</td>\n",
              "      <td>0.0</td>\n",
              "      <td>0.0</td>\n",
              "      <td>0.0</td>\n",
              "      <td>0.0</td>\n",
              "      <td>0.0</td>\n",
              "      <td>0.0</td>\n",
              "      <td>0.0</td>\n",
              "      <td>0.0</td>\n",
              "      <td>0.0</td>\n",
              "      <td>0.0</td>\n",
              "      <td>0.0</td>\n",
              "      <td>0.0</td>\n",
              "      <td>0.0</td>\n",
              "      <td>0.0</td>\n",
              "      <td>0.0</td>\n",
              "      <td>0.0</td>\n",
              "      <td>0.0</td>\n",
              "      <td>0.0</td>\n",
              "      <td>0.0</td>\n",
              "      <td>0.0</td>\n",
              "      <td>0.0</td>\n",
              "      <td>0.0</td>\n",
              "      <td>0.0</td>\n",
              "      <td>0.0</td>\n",
              "      <td>0.0</td>\n",
              "      <td>0.0</td>\n",
              "      <td>0.0</td>\n",
              "      <td>0.0</td>\n",
              "      <td>0.0</td>\n",
              "      <td>0.0</td>\n",
              "      <td>0.0</td>\n",
              "      <td>0.0</td>\n",
              "      <td>0.0</td>\n",
              "      <td>0.0</td>\n",
              "      <td>0.0</td>\n",
              "      <td>0.0</td>\n",
              "      <td>0.0</td>\n",
              "      <td>0.0</td>\n",
              "    </tr>\n",
              "    <tr>\n",
              "      <th>396</th>\n",
              "      <td>4</td>\n",
              "      <td>120.0</td>\n",
              "      <td>79.0</td>\n",
              "      <td>2625</td>\n",
              "      <td>18.6</td>\n",
              "      <td>82</td>\n",
              "      <td>0.0</td>\n",
              "      <td>0.0</td>\n",
              "      <td>1.0</td>\n",
              "      <td>0.0</td>\n",
              "      <td>0.0</td>\n",
              "      <td>0.0</td>\n",
              "      <td>0.0</td>\n",
              "      <td>0.0</td>\n",
              "      <td>0.0</td>\n",
              "      <td>0.0</td>\n",
              "      <td>0.0</td>\n",
              "      <td>0.0</td>\n",
              "      <td>0.0</td>\n",
              "      <td>0.0</td>\n",
              "      <td>0.0</td>\n",
              "      <td>0.0</td>\n",
              "      <td>0.0</td>\n",
              "      <td>0.0</td>\n",
              "      <td>0.0</td>\n",
              "      <td>0.0</td>\n",
              "      <td>0.0</td>\n",
              "      <td>0.0</td>\n",
              "      <td>0.0</td>\n",
              "      <td>0.0</td>\n",
              "      <td>0.0</td>\n",
              "      <td>0.0</td>\n",
              "      <td>0.0</td>\n",
              "      <td>0.0</td>\n",
              "      <td>0.0</td>\n",
              "      <td>0.0</td>\n",
              "      <td>0.0</td>\n",
              "      <td>0.0</td>\n",
              "      <td>0.0</td>\n",
              "      <td>0.0</td>\n",
              "      <td>...</td>\n",
              "      <td>0.0</td>\n",
              "      <td>0.0</td>\n",
              "      <td>0.0</td>\n",
              "      <td>0.0</td>\n",
              "      <td>0.0</td>\n",
              "      <td>0.0</td>\n",
              "      <td>0.0</td>\n",
              "      <td>0.0</td>\n",
              "      <td>0.0</td>\n",
              "      <td>0.0</td>\n",
              "      <td>0.0</td>\n",
              "      <td>0.0</td>\n",
              "      <td>0.0</td>\n",
              "      <td>0.0</td>\n",
              "      <td>0.0</td>\n",
              "      <td>0.0</td>\n",
              "      <td>0.0</td>\n",
              "      <td>0.0</td>\n",
              "      <td>0.0</td>\n",
              "      <td>0.0</td>\n",
              "      <td>0.0</td>\n",
              "      <td>0.0</td>\n",
              "      <td>0.0</td>\n",
              "      <td>0.0</td>\n",
              "      <td>0.0</td>\n",
              "      <td>0.0</td>\n",
              "      <td>0.0</td>\n",
              "      <td>0.0</td>\n",
              "      <td>0.0</td>\n",
              "      <td>0.0</td>\n",
              "      <td>0.0</td>\n",
              "      <td>0.0</td>\n",
              "      <td>0.0</td>\n",
              "      <td>0.0</td>\n",
              "      <td>0.0</td>\n",
              "      <td>0.0</td>\n",
              "      <td>0.0</td>\n",
              "      <td>0.0</td>\n",
              "      <td>0.0</td>\n",
              "      <td>0.0</td>\n",
              "    </tr>\n",
              "    <tr>\n",
              "      <th>397</th>\n",
              "      <td>4</td>\n",
              "      <td>119.0</td>\n",
              "      <td>82.0</td>\n",
              "      <td>2720</td>\n",
              "      <td>19.4</td>\n",
              "      <td>82</td>\n",
              "      <td>0.0</td>\n",
              "      <td>0.0</td>\n",
              "      <td>1.0</td>\n",
              "      <td>0.0</td>\n",
              "      <td>0.0</td>\n",
              "      <td>0.0</td>\n",
              "      <td>0.0</td>\n",
              "      <td>0.0</td>\n",
              "      <td>0.0</td>\n",
              "      <td>0.0</td>\n",
              "      <td>0.0</td>\n",
              "      <td>0.0</td>\n",
              "      <td>0.0</td>\n",
              "      <td>0.0</td>\n",
              "      <td>0.0</td>\n",
              "      <td>0.0</td>\n",
              "      <td>0.0</td>\n",
              "      <td>0.0</td>\n",
              "      <td>0.0</td>\n",
              "      <td>0.0</td>\n",
              "      <td>0.0</td>\n",
              "      <td>0.0</td>\n",
              "      <td>0.0</td>\n",
              "      <td>0.0</td>\n",
              "      <td>0.0</td>\n",
              "      <td>0.0</td>\n",
              "      <td>0.0</td>\n",
              "      <td>0.0</td>\n",
              "      <td>0.0</td>\n",
              "      <td>0.0</td>\n",
              "      <td>0.0</td>\n",
              "      <td>0.0</td>\n",
              "      <td>0.0</td>\n",
              "      <td>0.0</td>\n",
              "      <td>...</td>\n",
              "      <td>0.0</td>\n",
              "      <td>0.0</td>\n",
              "      <td>0.0</td>\n",
              "      <td>0.0</td>\n",
              "      <td>0.0</td>\n",
              "      <td>0.0</td>\n",
              "      <td>0.0</td>\n",
              "      <td>0.0</td>\n",
              "      <td>0.0</td>\n",
              "      <td>0.0</td>\n",
              "      <td>0.0</td>\n",
              "      <td>0.0</td>\n",
              "      <td>0.0</td>\n",
              "      <td>0.0</td>\n",
              "      <td>0.0</td>\n",
              "      <td>0.0</td>\n",
              "      <td>0.0</td>\n",
              "      <td>0.0</td>\n",
              "      <td>0.0</td>\n",
              "      <td>0.0</td>\n",
              "      <td>0.0</td>\n",
              "      <td>0.0</td>\n",
              "      <td>0.0</td>\n",
              "      <td>0.0</td>\n",
              "      <td>0.0</td>\n",
              "      <td>0.0</td>\n",
              "      <td>0.0</td>\n",
              "      <td>0.0</td>\n",
              "      <td>0.0</td>\n",
              "      <td>0.0</td>\n",
              "      <td>0.0</td>\n",
              "      <td>0.0</td>\n",
              "      <td>0.0</td>\n",
              "      <td>0.0</td>\n",
              "      <td>0.0</td>\n",
              "      <td>0.0</td>\n",
              "      <td>0.0</td>\n",
              "      <td>0.0</td>\n",
              "      <td>0.0</td>\n",
              "      <td>0.0</td>\n",
              "    </tr>\n",
              "  </tbody>\n",
              "</table>\n",
              "<p>392 rows × 310 columns</p>\n",
              "</div>"
            ],
            "text/plain": [
              "     cylinders  displacement  ...  x1_vw rabbit c (diesel)  x1_vw rabbit custom\n",
              "0            8         307.0  ...                      0.0                  0.0\n",
              "1            8         350.0  ...                      0.0                  0.0\n",
              "2            8         318.0  ...                      0.0                  0.0\n",
              "3            8         304.0  ...                      0.0                  0.0\n",
              "4            8         302.0  ...                      0.0                  0.0\n",
              "..         ...           ...  ...                      ...                  ...\n",
              "393          4         140.0  ...                      0.0                  0.0\n",
              "394          4          97.0  ...                      0.0                  0.0\n",
              "395          4         135.0  ...                      0.0                  0.0\n",
              "396          4         120.0  ...                      0.0                  0.0\n",
              "397          4         119.0  ...                      0.0                  0.0\n",
              "\n",
              "[392 rows x 310 columns]"
            ]
          },
          "metadata": {
            "tags": []
          },
          "execution_count": 31
        }
      ]
    },
    {
      "cell_type": "code",
      "metadata": {
        "id": "vclTZgpyUcm0"
      },
      "source": [
        "### MANDATORY EXERCISE\n",
        "### MAKE ANOTHER LINEAR MODEL on the CARSNAMES dataset, and use cross_val_score to test the data and see what errors you get"
      ],
      "execution_count": null,
      "outputs": []
    },
    {
      "cell_type": "markdown",
      "metadata": {
        "id": "nNEruMJJ6WEJ"
      },
      "source": [
        "# 4.2 NEW MODELs may fix the problem!"
      ]
    },
    {
      "cell_type": "markdown",
      "metadata": {
        "id": "IjK2MLQEU2Pf"
      },
      "source": [
        "We know that `df_carsnames` as a dataset is prone to overfitting, what if I told you there is a simple fix?"
      ]
    },
    {
      "cell_type": "code",
      "metadata": {
        "id": "BLOU-3mW6KXe"
      },
      "source": [
        "model_cars2 = linear_model.Lasso()\n",
        "scores = cross_val_score(estimator = model_cars2, X = df_carsnames, y = true_mpg, cv = 3, scoring = 'neg_mean_absolute_error')"
      ],
      "execution_count": null,
      "outputs": []
    },
    {
      "cell_type": "code",
      "metadata": {
        "id": "TI7lU9qa6bp1",
        "outputId": "56fed570-6c07-49d6-c372-08f827a806bf",
        "colab": {
          "base_uri": "https://localhost:8080/",
          "height": 34
        }
      },
      "source": [
        "scores"
      ],
      "execution_count": null,
      "outputs": [
        {
          "output_type": "execute_result",
          "data": {
            "text/plain": [
              "array([-3.44874264, -2.36206126, -4.71074359])"
            ]
          },
          "metadata": {
            "tags": []
          },
          "execution_count": 66
        }
      ]
    },
    {
      "cell_type": "markdown",
      "metadata": {
        "id": "RLtqRHPHU8zr"
      },
      "source": [
        "Wow! The errors are reasonable again! And it wasn't just the `cross_val_score` method, if we did it the \"old way\" using `train_test_split` we can also see great improvement. "
      ]
    },
    {
      "cell_type": "code",
      "metadata": {
        "id": "lSuGg-ReVQbJ",
        "outputId": "56a3119d-7892-4c13-f1d7-b54bcf612e12",
        "colab": {
          "base_uri": "https://localhost:8080/",
          "height": 34
        }
      },
      "source": [
        "X_train, X_test, y_train, y_test = train_test_split(df_carsnames, true_mpg, test_size = 0.20, random_state = 0)\n",
        "\n",
        "lasso_linear_model = linear_model.Lasso()\n",
        "lasso_linear_model.fit(X = X_train, y = y_train)\n",
        "y_predicted_test = lasso_linear_model.predict(X = X_test)\n",
        "mean_absolute_error(y_test, y_predicted_test)"
      ],
      "execution_count": null,
      "outputs": [
        {
          "output_type": "execute_result",
          "data": {
            "text/plain": [
              "11.919422233359253"
            ]
          },
          "metadata": {
            "tags": []
          },
          "execution_count": 117
        }
      ]
    },
    {
      "cell_type": "markdown",
      "metadata": {
        "id": "UYvQJxuqVjeg"
      },
      "source": [
        "Remember how we can look at the fitted coefficients?"
      ]
    },
    {
      "cell_type": "code",
      "metadata": {
        "id": "cByeFQa4VXR1",
        "outputId": "17768b2d-ef8f-4aa9-9e61-d2efbb7e0a42",
        "colab": {
          "base_uri": "https://localhost:8080/",
          "height": 1000
        }
      },
      "source": [
        "lasso_linear_model.coef_"
      ],
      "execution_count": null,
      "outputs": [
        {
          "output_type": "execute_result",
          "data": {
            "text/plain": [
              "array([-0.        ,  0.        , -0.00824087, -0.00651267,  0.        ,\n",
              "        0.64968408,  0.        ,  0.        , -0.        , -0.        ,\n",
              "        0.        ,  0.        , -0.        , -0.        , -0.        ,\n",
              "       -0.        , -0.        , -0.        , -0.        ,  0.        ,\n",
              "       -0.        , -0.        , -0.        , -0.        ,  0.        ,\n",
              "       -0.        ,  0.        , -0.        ,  0.        ,  0.        ,\n",
              "        0.        , -0.        , -0.        , -0.        ,  0.        ,\n",
              "        0.        , -0.        ,  0.        , -0.        ,  0.        ,\n",
              "        0.        , -0.        ,  0.        , -0.        ,  0.        ,\n",
              "        0.        ,  0.        ,  0.        , -0.        ,  0.        ,\n",
              "        0.        , -0.        , -0.        , -0.        ,  0.        ,\n",
              "        0.        , -0.        ,  0.        ,  0.        , -0.        ,\n",
              "       -0.        , -0.        ,  0.        , -0.        , -0.        ,\n",
              "        0.        , -0.        ,  0.        , -0.        , -0.        ,\n",
              "       -0.        , -0.        ,  0.        ,  0.        , -0.        ,\n",
              "       -0.        ,  0.        ,  0.        ,  0.        , -0.        ,\n",
              "       -0.        , -0.        ,  0.        ,  0.        ,  0.        ,\n",
              "       -0.        ,  0.        , -0.        ,  0.        ,  0.        ,\n",
              "        0.        ,  0.        , -0.        ,  0.        ,  0.        ,\n",
              "       -0.        ,  0.        , -0.        , -0.        ,  0.        ,\n",
              "        0.        ,  0.        ,  0.        ,  0.        ,  0.        ,\n",
              "        0.        , -0.        , -0.        ,  0.        ,  0.        ,\n",
              "        0.        , -0.        ,  0.        , -0.        ,  0.        ,\n",
              "        0.        ,  0.        , -0.        ,  0.        , -0.        ,\n",
              "        0.        , -0.        , -0.        ,  0.        ,  0.        ,\n",
              "        0.        ,  0.        ,  0.        , -0.        ,  0.        ,\n",
              "        0.        ,  0.        , -0.        ,  0.        ,  0.        ,\n",
              "        0.        ,  0.        ,  0.        , -0.        ,  0.        ,\n",
              "       -0.        ,  0.        , -0.        , -0.        ,  0.        ,\n",
              "        0.        , -0.        ,  0.        , -0.        ,  0.        ,\n",
              "       -0.        ,  0.        , -0.        , -0.        ,  0.        ,\n",
              "       -0.        ,  0.        ,  0.        , -0.        , -0.        ,\n",
              "       -0.        ,  0.        , -0.        , -0.        , -0.        ,\n",
              "        0.        , -0.        ,  0.        ,  0.        ,  0.        ,\n",
              "        0.        ,  0.        ,  0.        , -0.        ,  0.        ,\n",
              "       -0.        ,  0.        ,  0.        ,  0.        ,  0.        ,\n",
              "        0.        , -0.        ,  0.        ,  0.        ,  0.        ,\n",
              "       -0.        ,  0.        ,  0.        , -0.        , -0.        ,\n",
              "       -0.        ,  0.        ,  0.        , -0.        , -0.        ,\n",
              "       -0.        , -0.        , -0.        ,  0.        ,  0.        ,\n",
              "        0.        , -0.        , -0.        , -0.        , -0.        ,\n",
              "        0.        ,  0.        ,  0.        , -0.        ,  0.        ,\n",
              "        0.        , -0.        , -0.        , -0.        ,  0.        ,\n",
              "       -0.        , -0.        ,  0.        ,  0.        ,  0.        ,\n",
              "        0.        , -0.        , -0.        , -0.        ,  0.        ,\n",
              "        0.        ,  0.        ,  0.        ,  0.        ,  0.        ,\n",
              "        0.        ,  0.        ,  0.        ,  0.        ,  0.        ,\n",
              "        0.        , -0.        , -0.        ,  0.        , -0.        ,\n",
              "        0.        ,  0.        , -0.        , -0.        , -0.        ,\n",
              "       -0.        , -0.        , -0.        ,  0.        ,  0.        ,\n",
              "        0.        ,  0.        ,  0.        ,  0.        , -0.        ,\n",
              "        0.        , -0.        ,  0.        ,  0.        , -0.        ,\n",
              "        0.        , -0.        ,  0.        ,  0.        ,  0.        ,\n",
              "        0.        , -0.        , -0.        ,  0.        ,  0.        ,\n",
              "       -0.        ,  0.        ,  0.        ,  0.        , -0.        ,\n",
              "        0.        , -0.        , -0.        ,  0.        ,  0.        ,\n",
              "       -0.        , -0.        ,  0.        ,  0.        , -0.        ,\n",
              "        0.        , -0.        , -0.        ,  0.        , -0.        ,\n",
              "        0.        ,  0.        , -0.        ,  0.        ,  0.        ,\n",
              "        0.        ,  0.        , -0.        , -0.        , -0.        ,\n",
              "       -0.        , -0.        , -0.        , -0.        ,  0.        ,\n",
              "        0.        ,  0.        , -0.        ,  0.        , -0.        ])"
            ]
          },
          "metadata": {
            "tags": []
          },
          "execution_count": 118
        }
      ]
    },
    {
      "cell_type": "markdown",
      "metadata": {
        "id": "jEorGpFqVopG"
      },
      "source": [
        "But what is Lasso? It is still a linear model that finds coefficients etc..\n",
        "However as we analyze the coefficients we can see that the majority are zeros. This is intentinoal, and reflected in its \"goal.\""
      ]
    },
    {
      "cell_type": "markdown",
      "metadata": {
        "id": "CB7yRK8VVuMO"
      },
      "source": [
        "Its still trying to minimize the total squared error, however it tries to do so with the fewest non-zero coefficients possible. It's *objective* is:\n",
        "\n",
        "\n",
        "```\n",
        "minimize squared error + alpha*(absolute value of all coefficients, summed) \n",
        "```\n",
        "\n",
        "So having many zeroes will benefit the model, and the model wants zeroes which benefits us. Since the majority of the columns will no longer be used, we avoid the problem of overfitting by only using the important columns that applies to all the data. "
      ]
    },
    {
      "cell_type": "markdown",
      "metadata": {
        "id": "6p-tk1GrV_Mq"
      },
      "source": [
        "It turns out that the *objective* of a basic linear regression is: \n",
        "```\n",
        "minimize squared error\n",
        "```\n",
        "Which is basically the lasso without the extra term or `Lasso` with alpha = 0. It turns out for `Lasso`: the alpha value is key. By hovering, we can see there is a default value for `alpha = 1.0` , when we declare/initiate `linear_model.Lasso()`, lets change that to be really big, like 10"
      ]
    },
    {
      "cell_type": "code",
      "metadata": {
        "id": "1467gFxvVcCM",
        "outputId": "1d4ffdd2-add2-490f-b049-64825ad7aebe",
        "colab": {
          "base_uri": "https://localhost:8080/",
          "height": 34
        }
      },
      "source": [
        "X_train, X_test, y_train, y_test = train_test_split(df_carsnames, true_mpg, test_size = 0.20, random_state = 0)\n",
        "\n",
        "lasso_linear_model = linear_model.Lasso(10)\n",
        "lasso_linear_model.fit(X = X_train, y = y_train)\n",
        "y_predicted_test = lasso_linear_model.predict(X = X_test)\n",
        "mean_absolute_error(y_test, y_predicted_test)"
      ],
      "execution_count": null,
      "outputs": [
        {
          "output_type": "execute_result",
          "data": {
            "text/plain": [
              "19.192603490629743"
            ]
          },
          "metadata": {
            "tags": []
          },
          "execution_count": 121
        }
      ]
    },
    {
      "cell_type": "markdown",
      "metadata": {
        "id": "nDkwmp2dWjfu"
      },
      "source": [
        "Now something really small, like 0.001"
      ]
    },
    {
      "cell_type": "code",
      "metadata": {
        "id": "lHi-lpPSWi6C",
        "outputId": "5f1b3222-039d-475c-c128-057d1cf38f3f",
        "colab": {
          "base_uri": "https://localhost:8080/",
          "height": 34
        }
      },
      "source": [
        "X_train, X_test, y_train, y_test = train_test_split(df_carsnames, true_mpg, test_size = 0.20, random_state = 0)\n",
        "\n",
        "lasso_linear_model = linear_model.Lasso(0.001)\n",
        "lasso_linear_model.fit(X = X_train, y = y_train)\n",
        "y_predicted_test = lasso_linear_model.predict(X = X_test)\n",
        "mean_absolute_error(y_test, y_predicted_test)"
      ],
      "execution_count": null,
      "outputs": [
        {
          "output_type": "execute_result",
          "data": {
            "text/plain": [
              "9.800035262198563"
            ]
          },
          "metadata": {
            "tags": []
          },
          "execution_count": 123
        }
      ]
    },
    {
      "cell_type": "markdown",
      "metadata": {
        "id": "QoZxzcaqWqzh"
      },
      "source": [
        "As we can see, the errors are very dependent on the value of alpha."
      ]
    },
    {
      "cell_type": "code",
      "metadata": {
        "id": "nUYrKoDp6eQ1"
      },
      "source": [
        "### USE linear_model.Lasso(alpha = 0.1) on the diamonds dataset, experiment with alpha values. \n",
        "### Check your errors using cross_val_score() USE CROSS VAL SCORE, not the XTRAIN ytrain thing\n",
        "## WE LEARNED IT THIS MORNING!!!\n",
        "### another dataset which has a alpha value is linear_model.Ridge(), try that on any dataset"
      ],
      "execution_count": null,
      "outputs": []
    },
    {
      "cell_type": "markdown",
      "metadata": {
        "id": "8oGlkC2m7Wy5"
      },
      "source": [
        "# 4.3 A few more cool models"
      ]
    },
    {
      "cell_type": "markdown",
      "metadata": {
        "id": "lZAu9DVD3Zro"
      },
      "source": [
        "First option: a decision tree! Here x1 and x2 represent features such as cut and clarity etc. "
      ]
    },
    {
      "cell_type": "markdown",
      "metadata": {
        "id": "HTYvkjBl3dl5"
      },
      "source": [
        "![decisiontree.png](data:image/png;base64,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)"
      ]
    },
    {
      "cell_type": "code",
      "metadata": {
        "id": "HqbnXYcP7V-_",
        "outputId": "cd634b3e-c8c7-490e-fc5c-648310bf0fa5",
        "colab": {
          "base_uri": "https://localhost:8080/",
          "height": 34
        }
      },
      "source": [
        "from sklearn.tree import DecisionTreeRegressor\n",
        "tree_reg = DecisionTreeRegressor(max_depth = 20)\n",
        "tree_scores = cross_val_score(estimator = tree_reg, X = df_carsnames, y = true_mpg, scoring = 'neg_mean_absolute_error')\n",
        "tree_scores"
      ],
      "execution_count": null,
      "outputs": [
        {
          "output_type": "execute_result",
          "data": {
            "text/plain": [
              "array([-1.7164557 , -1.83924051, -2.95      , -4.27564103, -3.57307692])"
            ]
          },
          "metadata": {
            "tags": []
          },
          "execution_count": 127
        }
      ]
    },
    {
      "cell_type": "code",
      "metadata": {
        "id": "CIL95lzy7iRU",
        "outputId": "b550b30b-e33b-48b4-8958-27abbb0ea677",
        "colab": {
          "base_uri": "https://localhost:8080/",
          "height": 34
        }
      },
      "source": [
        "tree_scores.mean()"
      ],
      "execution_count": null,
      "outputs": [
        {
          "output_type": "execute_result",
          "data": {
            "text/plain": [
              "-2.8708828302499185"
            ]
          },
          "metadata": {
            "tags": []
          },
          "execution_count": 128
        }
      ]
    },
    {
      "cell_type": "markdown",
      "metadata": {
        "id": "zJxiFDYPXmfN"
      },
      "source": [
        "It turns out the `alpha` from `linear_model.Lasso()` is actually called a ***HYPERPARAMETER***. It controls the behaviour of the model and needs to be adjusted for best results. \n",
        ">Now, we introduced decision tree regressor, a completely different model which works a completely different way, and has completely different hyperparameters! (Max_depth) Check the documentation for a full list."
      ]
    },
    {
      "cell_type": "markdown",
      "metadata": {
        "id": "p0Bw5LN6Xzs5"
      },
      "source": [
        "A decision tree by itself isn't actually that powerful, but when we put many of them together like so: "
      ]
    },
    {
      "cell_type": "markdown",
      "metadata": {
        "id": "lPx_J8SD4A3P"
      },
      "source": [
        "![randoforest.png](data:image/png;base64,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)"
      ]
    },
    {
      "cell_type": "code",
      "metadata": {
        "id": "9kwfsVPU7ylk",
        "outputId": "d62aa599-ef07-4e0e-acbf-93992bc8627a",
        "colab": {
          "base_uri": "https://localhost:8080/",
          "height": 34
        }
      },
      "source": [
        "from sklearn.ensemble import RandomForestRegressor\n",
        "forest_reg = RandomForestRegressor(n_estimators = 50, min_samples_split = 10)\n",
        "forest_scores = cross_val_score(forest_reg, X = df_carsnames, y = true_mpg, scoring = 'neg_mean_absolute_error')\n",
        "forest_scores"
      ],
      "execution_count": null,
      "outputs": [
        {
          "output_type": "execute_result",
          "data": {
            "text/plain": [
              "array([-1.44272959, -1.84344729, -1.68139806, -2.54014029, -4.05860618])"
            ]
          },
          "metadata": {
            "tags": []
          },
          "execution_count": 129
        }
      ]
    },
    {
      "cell_type": "code",
      "metadata": {
        "id": "jOSTD0mY8A_3",
        "outputId": "9de43f95-d720-4712-8e2a-642de4327ce7",
        "colab": {
          "base_uri": "https://localhost:8080/",
          "height": 34
        }
      },
      "source": [
        "forest_scores.mean()"
      ],
      "execution_count": null,
      "outputs": [
        {
          "output_type": "execute_result",
          "data": {
            "text/plain": [
              "-2.313264280844712"
            ]
          },
          "metadata": {
            "tags": []
          },
          "execution_count": 130
        }
      ]
    },
    {
      "cell_type": "markdown",
      "metadata": {
        "id": "-pl0BfdXYAaZ"
      },
      "source": [
        "`RandomForestRegressor()` is more complex and has even more hyperparameters to alter, the trade off of complexity, accuracy and ease of use is real! Now one more!"
      ]
    },
    {
      "cell_type": "code",
      "metadata": {
        "id": "J77F5L2U4W2H",
        "outputId": "377f3e50-db14-457f-f359-fd8f18673cc8",
        "colab": {
          "base_uri": "https://localhost:8080/",
          "height": 54
        }
      },
      "source": [
        "from sklearn.neural_network import MLPRegressor\n",
        "neuralnet = MLPRegressor(hidden_layer_sizes = (100,50), activation = 'tanh', solver = 'sgd')\n",
        "neural_scores = cross_val_score(neuralnet, X = df_carsnames, y = true_mpg, scoring = 'neg_mean_absolute_error')\n",
        "neural_scores"
      ],
      "execution_count": null,
      "outputs": [
        {
          "output_type": "execute_result",
          "data": {
            "text/plain": [
              "array([ -7.06355038,  -6.77831984,  -5.23297965,  -5.87564103,\n",
              "       -10.67625058])"
            ]
          },
          "metadata": {
            "tags": []
          },
          "execution_count": 36
        }
      ]
    },
    {
      "cell_type": "code",
      "metadata": {
        "id": "SDJba9VkXXFE"
      },
      "source": [
        "## CAN YOU FIND A MODEL (and its hyperparameters) which give a better prediction than the linear model \n",
        "## on the ___diamonds___ dataset?"
      ],
      "execution_count": null,
      "outputs": []
    },
    {
      "cell_type": "markdown",
      "metadata": {
        "id": "JJ7czN5yRxX3"
      },
      "source": [
        "# 4.4 What about classification?\n",
        "Everything thus far we have been trying to predict a real number, but what if we wanted to predict a category?\n"
      ]
    },
    {
      "cell_type": "code",
      "metadata": {
        "id": "EuDrSkP59COS",
        "outputId": "e33f0fd4-19de-4fdf-f581-6060310bd79b",
        "colab": {
          "base_uri": "https://localhost:8080/",
          "height": 402
        }
      },
      "source": [
        "df_in = sns.load_dataset('diamonds')\n",
        "df_in"
      ],
      "execution_count": null,
      "outputs": [
        {
          "output_type": "execute_result",
          "data": {
            "text/html": [
              "<div>\n",
              "<style scoped>\n",
              "    .dataframe tbody tr th:only-of-type {\n",
              "        vertical-align: middle;\n",
              "    }\n",
              "\n",
              "    .dataframe tbody tr th {\n",
              "        vertical-align: top;\n",
              "    }\n",
              "\n",
              "    .dataframe thead th {\n",
              "        text-align: right;\n",
              "    }\n",
              "</style>\n",
              "<table border=\"1\" class=\"dataframe\">\n",
              "  <thead>\n",
              "    <tr style=\"text-align: right;\">\n",
              "      <th></th>\n",
              "      <th>carat</th>\n",
              "      <th>cut</th>\n",
              "      <th>color</th>\n",
              "      <th>clarity</th>\n",
              "      <th>depth</th>\n",
              "      <th>table</th>\n",
              "      <th>price</th>\n",
              "      <th>x</th>\n",
              "      <th>y</th>\n",
              "      <th>z</th>\n",
              "    </tr>\n",
              "  </thead>\n",
              "  <tbody>\n",
              "    <tr>\n",
              "      <th>0</th>\n",
              "      <td>0.23</td>\n",
              "      <td>Ideal</td>\n",
              "      <td>E</td>\n",
              "      <td>SI2</td>\n",
              "      <td>61.5</td>\n",
              "      <td>55.0</td>\n",
              "      <td>326</td>\n",
              "      <td>3.95</td>\n",
              "      <td>3.98</td>\n",
              "      <td>2.43</td>\n",
              "    </tr>\n",
              "    <tr>\n",
              "      <th>1</th>\n",
              "      <td>0.21</td>\n",
              "      <td>Premium</td>\n",
              "      <td>E</td>\n",
              "      <td>SI1</td>\n",
              "      <td>59.8</td>\n",
              "      <td>61.0</td>\n",
              "      <td>326</td>\n",
              "      <td>3.89</td>\n",
              "      <td>3.84</td>\n",
              "      <td>2.31</td>\n",
              "    </tr>\n",
              "    <tr>\n",
              "      <th>2</th>\n",
              "      <td>0.23</td>\n",
              "      <td>Good</td>\n",
              "      <td>E</td>\n",
              "      <td>VS1</td>\n",
              "      <td>56.9</td>\n",
              "      <td>65.0</td>\n",
              "      <td>327</td>\n",
              "      <td>4.05</td>\n",
              "      <td>4.07</td>\n",
              "      <td>2.31</td>\n",
              "    </tr>\n",
              "    <tr>\n",
              "      <th>3</th>\n",
              "      <td>0.29</td>\n",
              "      <td>Premium</td>\n",
              "      <td>I</td>\n",
              "      <td>VS2</td>\n",
              "      <td>62.4</td>\n",
              "      <td>58.0</td>\n",
              "      <td>334</td>\n",
              "      <td>4.20</td>\n",
              "      <td>4.23</td>\n",
              "      <td>2.63</td>\n",
              "    </tr>\n",
              "    <tr>\n",
              "      <th>4</th>\n",
              "      <td>0.31</td>\n",
              "      <td>Good</td>\n",
              "      <td>J</td>\n",
              "      <td>SI2</td>\n",
              "      <td>63.3</td>\n",
              "      <td>58.0</td>\n",
              "      <td>335</td>\n",
              "      <td>4.34</td>\n",
              "      <td>4.35</td>\n",
              "      <td>2.75</td>\n",
              "    </tr>\n",
              "    <tr>\n",
              "      <th>...</th>\n",
              "      <td>...</td>\n",
              "      <td>...</td>\n",
              "      <td>...</td>\n",
              "      <td>...</td>\n",
              "      <td>...</td>\n",
              "      <td>...</td>\n",
              "      <td>...</td>\n",
              "      <td>...</td>\n",
              "      <td>...</td>\n",
              "      <td>...</td>\n",
              "    </tr>\n",
              "    <tr>\n",
              "      <th>53935</th>\n",
              "      <td>0.72</td>\n",
              "      <td>Ideal</td>\n",
              "      <td>D</td>\n",
              "      <td>SI1</td>\n",
              "      <td>60.8</td>\n",
              "      <td>57.0</td>\n",
              "      <td>2757</td>\n",
              "      <td>5.75</td>\n",
              "      <td>5.76</td>\n",
              "      <td>3.50</td>\n",
              "    </tr>\n",
              "    <tr>\n",
              "      <th>53936</th>\n",
              "      <td>0.72</td>\n",
              "      <td>Good</td>\n",
              "      <td>D</td>\n",
              "      <td>SI1</td>\n",
              "      <td>63.1</td>\n",
              "      <td>55.0</td>\n",
              "      <td>2757</td>\n",
              "      <td>5.69</td>\n",
              "      <td>5.75</td>\n",
              "      <td>3.61</td>\n",
              "    </tr>\n",
              "    <tr>\n",
              "      <th>53937</th>\n",
              "      <td>0.70</td>\n",
              "      <td>Very Good</td>\n",
              "      <td>D</td>\n",
              "      <td>SI1</td>\n",
              "      <td>62.8</td>\n",
              "      <td>60.0</td>\n",
              "      <td>2757</td>\n",
              "      <td>5.66</td>\n",
              "      <td>5.68</td>\n",
              "      <td>3.56</td>\n",
              "    </tr>\n",
              "    <tr>\n",
              "      <th>53938</th>\n",
              "      <td>0.86</td>\n",
              "      <td>Premium</td>\n",
              "      <td>H</td>\n",
              "      <td>SI2</td>\n",
              "      <td>61.0</td>\n",
              "      <td>58.0</td>\n",
              "      <td>2757</td>\n",
              "      <td>6.15</td>\n",
              "      <td>6.12</td>\n",
              "      <td>3.74</td>\n",
              "    </tr>\n",
              "    <tr>\n",
              "      <th>53939</th>\n",
              "      <td>0.75</td>\n",
              "      <td>Ideal</td>\n",
              "      <td>D</td>\n",
              "      <td>SI2</td>\n",
              "      <td>62.2</td>\n",
              "      <td>55.0</td>\n",
              "      <td>2757</td>\n",
              "      <td>5.83</td>\n",
              "      <td>5.87</td>\n",
              "      <td>3.64</td>\n",
              "    </tr>\n",
              "  </tbody>\n",
              "</table>\n",
              "<p>53940 rows × 10 columns</p>\n",
              "</div>"
            ],
            "text/plain": [
              "       carat        cut color clarity  depth  table  price     x     y     z\n",
              "0       0.23      Ideal     E     SI2   61.5   55.0    326  3.95  3.98  2.43\n",
              "1       0.21    Premium     E     SI1   59.8   61.0    326  3.89  3.84  2.31\n",
              "2       0.23       Good     E     VS1   56.9   65.0    327  4.05  4.07  2.31\n",
              "3       0.29    Premium     I     VS2   62.4   58.0    334  4.20  4.23  2.63\n",
              "4       0.31       Good     J     SI2   63.3   58.0    335  4.34  4.35  2.75\n",
              "...      ...        ...   ...     ...    ...    ...    ...   ...   ...   ...\n",
              "53935   0.72      Ideal     D     SI1   60.8   57.0   2757  5.75  5.76  3.50\n",
              "53936   0.72       Good     D     SI1   63.1   55.0   2757  5.69  5.75  3.61\n",
              "53937   0.70  Very Good     D     SI1   62.8   60.0   2757  5.66  5.68  3.56\n",
              "53938   0.86    Premium     H     SI2   61.0   58.0   2757  6.15  6.12  3.74\n",
              "53939   0.75      Ideal     D     SI2   62.2   55.0   2757  5.83  5.87  3.64\n",
              "\n",
              "[53940 rows x 10 columns]"
            ]
          },
          "metadata": {
            "tags": []
          },
          "execution_count": 37
        }
      ]
    },
    {
      "cell_type": "markdown",
      "metadata": {
        "id": "AtoBM6uOZA9E"
      },
      "source": [
        "Looking back at the diamonds dataset, what if we wanted to predict the color based on the cut, clarity etc (INCLUDING PRICE!)"
      ]
    },
    {
      "cell_type": "code",
      "metadata": {
        "id": "KkKxdEVbYNjN"
      },
      "source": [
        "true_colours = df_in['color']"
      ],
      "execution_count": null,
      "outputs": []
    },
    {
      "cell_type": "markdown",
      "metadata": {
        "id": "YJGQCP3eZdr-"
      },
      "source": [
        "It turns out the column we are prediciting CAN be a `string`!! But all the other columns we will use for inputs, and they have to be mapped to `integers`. "
      ]
    },
    {
      "cell_type": "code",
      "metadata": {
        "id": "vye62QTRZPck",
        "outputId": "3e36679c-cd50-47eb-be36-28b30c94881a",
        "colab": {
          "base_uri": "https://localhost:8080/",
          "height": 402
        }
      },
      "source": [
        "df_in['cut_mapped'] = df_in['cut'].map({'Fair':1 , 'Good':2, 'Very Good':3, 'Premium':4,'Ideal':5})\n",
        "df_dia = df_in.drop(columns = ['color','cut', 'clarity'])\n",
        "df_dia"
      ],
      "execution_count": null,
      "outputs": [
        {
          "output_type": "execute_result",
          "data": {
            "text/html": [
              "<div>\n",
              "<style scoped>\n",
              "    .dataframe tbody tr th:only-of-type {\n",
              "        vertical-align: middle;\n",
              "    }\n",
              "\n",
              "    .dataframe tbody tr th {\n",
              "        vertical-align: top;\n",
              "    }\n",
              "\n",
              "    .dataframe thead th {\n",
              "        text-align: right;\n",
              "    }\n",
              "</style>\n",
              "<table border=\"1\" class=\"dataframe\">\n",
              "  <thead>\n",
              "    <tr style=\"text-align: right;\">\n",
              "      <th></th>\n",
              "      <th>carat</th>\n",
              "      <th>depth</th>\n",
              "      <th>table</th>\n",
              "      <th>price</th>\n",
              "      <th>x</th>\n",
              "      <th>y</th>\n",
              "      <th>z</th>\n",
              "      <th>cut_mapped</th>\n",
              "    </tr>\n",
              "  </thead>\n",
              "  <tbody>\n",
              "    <tr>\n",
              "      <th>0</th>\n",
              "      <td>0.23</td>\n",
              "      <td>61.5</td>\n",
              "      <td>55.0</td>\n",
              "      <td>326</td>\n",
              "      <td>3.95</td>\n",
              "      <td>3.98</td>\n",
              "      <td>2.43</td>\n",
              "      <td>5</td>\n",
              "    </tr>\n",
              "    <tr>\n",
              "      <th>1</th>\n",
              "      <td>0.21</td>\n",
              "      <td>59.8</td>\n",
              "      <td>61.0</td>\n",
              "      <td>326</td>\n",
              "      <td>3.89</td>\n",
              "      <td>3.84</td>\n",
              "      <td>2.31</td>\n",
              "      <td>4</td>\n",
              "    </tr>\n",
              "    <tr>\n",
              "      <th>2</th>\n",
              "      <td>0.23</td>\n",
              "      <td>56.9</td>\n",
              "      <td>65.0</td>\n",
              "      <td>327</td>\n",
              "      <td>4.05</td>\n",
              "      <td>4.07</td>\n",
              "      <td>2.31</td>\n",
              "      <td>2</td>\n",
              "    </tr>\n",
              "    <tr>\n",
              "      <th>3</th>\n",
              "      <td>0.29</td>\n",
              "      <td>62.4</td>\n",
              "      <td>58.0</td>\n",
              "      <td>334</td>\n",
              "      <td>4.20</td>\n",
              "      <td>4.23</td>\n",
              "      <td>2.63</td>\n",
              "      <td>4</td>\n",
              "    </tr>\n",
              "    <tr>\n",
              "      <th>4</th>\n",
              "      <td>0.31</td>\n",
              "      <td>63.3</td>\n",
              "      <td>58.0</td>\n",
              "      <td>335</td>\n",
              "      <td>4.34</td>\n",
              "      <td>4.35</td>\n",
              "      <td>2.75</td>\n",
              "      <td>2</td>\n",
              "    </tr>\n",
              "    <tr>\n",
              "      <th>...</th>\n",
              "      <td>...</td>\n",
              "      <td>...</td>\n",
              "      <td>...</td>\n",
              "      <td>...</td>\n",
              "      <td>...</td>\n",
              "      <td>...</td>\n",
              "      <td>...</td>\n",
              "      <td>...</td>\n",
              "    </tr>\n",
              "    <tr>\n",
              "      <th>53935</th>\n",
              "      <td>0.72</td>\n",
              "      <td>60.8</td>\n",
              "      <td>57.0</td>\n",
              "      <td>2757</td>\n",
              "      <td>5.75</td>\n",
              "      <td>5.76</td>\n",
              "      <td>3.50</td>\n",
              "      <td>5</td>\n",
              "    </tr>\n",
              "    <tr>\n",
              "      <th>53936</th>\n",
              "      <td>0.72</td>\n",
              "      <td>63.1</td>\n",
              "      <td>55.0</td>\n",
              "      <td>2757</td>\n",
              "      <td>5.69</td>\n",
              "      <td>5.75</td>\n",
              "      <td>3.61</td>\n",
              "      <td>2</td>\n",
              "    </tr>\n",
              "    <tr>\n",
              "      <th>53937</th>\n",
              "      <td>0.70</td>\n",
              "      <td>62.8</td>\n",
              "      <td>60.0</td>\n",
              "      <td>2757</td>\n",
              "      <td>5.66</td>\n",
              "      <td>5.68</td>\n",
              "      <td>3.56</td>\n",
              "      <td>3</td>\n",
              "    </tr>\n",
              "    <tr>\n",
              "      <th>53938</th>\n",
              "      <td>0.86</td>\n",
              "      <td>61.0</td>\n",
              "      <td>58.0</td>\n",
              "      <td>2757</td>\n",
              "      <td>6.15</td>\n",
              "      <td>6.12</td>\n",
              "      <td>3.74</td>\n",
              "      <td>4</td>\n",
              "    </tr>\n",
              "    <tr>\n",
              "      <th>53939</th>\n",
              "      <td>0.75</td>\n",
              "      <td>62.2</td>\n",
              "      <td>55.0</td>\n",
              "      <td>2757</td>\n",
              "      <td>5.83</td>\n",
              "      <td>5.87</td>\n",
              "      <td>3.64</td>\n",
              "      <td>5</td>\n",
              "    </tr>\n",
              "  </tbody>\n",
              "</table>\n",
              "<p>53940 rows × 8 columns</p>\n",
              "</div>"
            ],
            "text/plain": [
              "       carat  depth  table  price     x     y     z  cut_mapped\n",
              "0       0.23   61.5   55.0    326  3.95  3.98  2.43           5\n",
              "1       0.21   59.8   61.0    326  3.89  3.84  2.31           4\n",
              "2       0.23   56.9   65.0    327  4.05  4.07  2.31           2\n",
              "3       0.29   62.4   58.0    334  4.20  4.23  2.63           4\n",
              "4       0.31   63.3   58.0    335  4.34  4.35  2.75           2\n",
              "...      ...    ...    ...    ...   ...   ...   ...         ...\n",
              "53935   0.72   60.8   57.0   2757  5.75  5.76  3.50           5\n",
              "53936   0.72   63.1   55.0   2757  5.69  5.75  3.61           2\n",
              "53937   0.70   62.8   60.0   2757  5.66  5.68  3.56           3\n",
              "53938   0.86   61.0   58.0   2757  6.15  6.12  3.74           4\n",
              "53939   0.75   62.2   55.0   2757  5.83  5.87  3.64           5\n",
              "\n",
              "[53940 rows x 8 columns]"
            ]
          },
          "metadata": {
            "tags": []
          },
          "execution_count": 39
        }
      ]
    },
    {
      "cell_type": "markdown",
      "metadata": {
        "id": "4mnCkXab6p_f"
      },
      "source": [
        "NOTE THE DIFFERENCE, we are now using CLASSIFICATION models: predict a class. Rather than regression: predict a number. "
      ]
    },
    {
      "cell_type": "code",
      "metadata": {
        "id": "Quj6cEvSZtCS"
      },
      "source": [
        "from sklearn import tree\n",
        "model = tree.DecisionTreeClassifier()"
      ],
      "execution_count": null,
      "outputs": []
    },
    {
      "cell_type": "code",
      "metadata": {
        "id": "cGaHNxgHZ7Lt"
      },
      "source": [
        "X_train, X_test, y_train, y_test = train_test_split(df_dia, true_colours, test_size = 0.20)"
      ],
      "execution_count": null,
      "outputs": []
    },
    {
      "cell_type": "code",
      "metadata": {
        "id": "TIuY0kF9aWiN",
        "outputId": "0ebe30df-3fd1-4c33-d280-b47ca9fb869a",
        "colab": {
          "base_uri": "https://localhost:8080/",
          "height": 34
        }
      },
      "source": [
        "model.fit(X_train, y_train)\n",
        "predicted_colors = model.predict(X_test)\n",
        "predicted_colors"
      ],
      "execution_count": null,
      "outputs": [
        {
          "output_type": "execute_result",
          "data": {
            "text/plain": [
              "array(['J', 'F', 'G', ..., 'D', 'D', 'I'], dtype=object)"
            ]
          },
          "metadata": {
            "tags": []
          },
          "execution_count": 42
        }
      ]
    },
    {
      "cell_type": "code",
      "metadata": {
        "id": "fZggwiH960gg",
        "outputId": "29d5bee6-42b1-4930-da85-8c13359aad33",
        "colab": {
          "base_uri": "https://localhost:8080/",
          "height": 218
        }
      },
      "source": [
        "true_colours"
      ],
      "execution_count": null,
      "outputs": [
        {
          "output_type": "execute_result",
          "data": {
            "text/plain": [
              "0        E\n",
              "1        E\n",
              "2        E\n",
              "3        I\n",
              "4        J\n",
              "        ..\n",
              "53935    D\n",
              "53936    D\n",
              "53937    D\n",
              "53938    H\n",
              "53939    D\n",
              "Name: color, Length: 53940, dtype: object"
            ]
          },
          "metadata": {
            "tags": []
          },
          "execution_count": 44
        }
      ]
    },
    {
      "cell_type": "code",
      "metadata": {
        "id": "LBRZFagrahj4",
        "outputId": "21c97a1e-095c-4986-9c56-7e3808abb594",
        "colab": {
          "base_uri": "https://localhost:8080/",
          "height": 34
        }
      },
      "source": [
        "from sklearn.metrics import accuracy_score\n",
        "accuracy_score(y_test, predicted_colors)"
      ],
      "execution_count": null,
      "outputs": [
        {
          "output_type": "execute_result",
          "data": {
            "text/plain": [
              "0.325176121616611"
            ]
          },
          "metadata": {
            "tags": []
          },
          "execution_count": 45
        }
      ]
    },
    {
      "cell_type": "markdown",
      "metadata": {
        "id": "Zinw28wObHPw"
      },
      "source": [
        "#### Applied to the titanic dataset\n",
        "See Example project [here](https://colab.research.google.com/drive/1NiKOG4NgjvC0vXtXSxqa9IuH2leo2mLj?usp=sharing) to see it applied to another example"
      ]
    },
    {
      "cell_type": "code",
      "metadata": {
        "id": "-G-QgfW3bKEP",
        "outputId": "be646a77-9c62-4c5d-b64c-be6fedde6159",
        "colab": {
          "base_uri": "https://localhost:8080/",
          "height": 402
        }
      },
      "source": [
        "dfin = sns.load_dataset('titanic')\n",
        "dfin"
      ],
      "execution_count": null,
      "outputs": [
        {
          "output_type": "execute_result",
          "data": {
            "text/html": [
              "<div>\n",
              "<style scoped>\n",
              "    .dataframe tbody tr th:only-of-type {\n",
              "        vertical-align: middle;\n",
              "    }\n",
              "\n",
              "    .dataframe tbody tr th {\n",
              "        vertical-align: top;\n",
              "    }\n",
              "\n",
              "    .dataframe thead th {\n",
              "        text-align: right;\n",
              "    }\n",
              "</style>\n",
              "<table border=\"1\" class=\"dataframe\">\n",
              "  <thead>\n",
              "    <tr style=\"text-align: right;\">\n",
              "      <th></th>\n",
              "      <th>survived</th>\n",
              "      <th>pclass</th>\n",
              "      <th>sex</th>\n",
              "      <th>age</th>\n",
              "      <th>sibsp</th>\n",
              "      <th>parch</th>\n",
              "      <th>fare</th>\n",
              "      <th>embarked</th>\n",
              "      <th>class</th>\n",
              "      <th>who</th>\n",
              "      <th>adult_male</th>\n",
              "      <th>deck</th>\n",
              "      <th>embark_town</th>\n",
              "      <th>alive</th>\n",
              "      <th>alone</th>\n",
              "    </tr>\n",
              "  </thead>\n",
              "  <tbody>\n",
              "    <tr>\n",
              "      <th>0</th>\n",
              "      <td>0</td>\n",
              "      <td>3</td>\n",
              "      <td>male</td>\n",
              "      <td>22.0</td>\n",
              "      <td>1</td>\n",
              "      <td>0</td>\n",
              "      <td>7.2500</td>\n",
              "      <td>S</td>\n",
              "      <td>Third</td>\n",
              "      <td>man</td>\n",
              "      <td>True</td>\n",
              "      <td>NaN</td>\n",
              "      <td>Southampton</td>\n",
              "      <td>no</td>\n",
              "      <td>False</td>\n",
              "    </tr>\n",
              "    <tr>\n",
              "      <th>1</th>\n",
              "      <td>1</td>\n",
              "      <td>1</td>\n",
              "      <td>female</td>\n",
              "      <td>38.0</td>\n",
              "      <td>1</td>\n",
              "      <td>0</td>\n",
              "      <td>71.2833</td>\n",
              "      <td>C</td>\n",
              "      <td>First</td>\n",
              "      <td>woman</td>\n",
              "      <td>False</td>\n",
              "      <td>C</td>\n",
              "      <td>Cherbourg</td>\n",
              "      <td>yes</td>\n",
              "      <td>False</td>\n",
              "    </tr>\n",
              "    <tr>\n",
              "      <th>2</th>\n",
              "      <td>1</td>\n",
              "      <td>3</td>\n",
              "      <td>female</td>\n",
              "      <td>26.0</td>\n",
              "      <td>0</td>\n",
              "      <td>0</td>\n",
              "      <td>7.9250</td>\n",
              "      <td>S</td>\n",
              "      <td>Third</td>\n",
              "      <td>woman</td>\n",
              "      <td>False</td>\n",
              "      <td>NaN</td>\n",
              "      <td>Southampton</td>\n",
              "      <td>yes</td>\n",
              "      <td>True</td>\n",
              "    </tr>\n",
              "    <tr>\n",
              "      <th>3</th>\n",
              "      <td>1</td>\n",
              "      <td>1</td>\n",
              "      <td>female</td>\n",
              "      <td>35.0</td>\n",
              "      <td>1</td>\n",
              "      <td>0</td>\n",
              "      <td>53.1000</td>\n",
              "      <td>S</td>\n",
              "      <td>First</td>\n",
              "      <td>woman</td>\n",
              "      <td>False</td>\n",
              "      <td>C</td>\n",
              "      <td>Southampton</td>\n",
              "      <td>yes</td>\n",
              "      <td>False</td>\n",
              "    </tr>\n",
              "    <tr>\n",
              "      <th>4</th>\n",
              "      <td>0</td>\n",
              "      <td>3</td>\n",
              "      <td>male</td>\n",
              "      <td>35.0</td>\n",
              "      <td>0</td>\n",
              "      <td>0</td>\n",
              "      <td>8.0500</td>\n",
              "      <td>S</td>\n",
              "      <td>Third</td>\n",
              "      <td>man</td>\n",
              "      <td>True</td>\n",
              "      <td>NaN</td>\n",
              "      <td>Southampton</td>\n",
              "      <td>no</td>\n",
              "      <td>True</td>\n",
              "    </tr>\n",
              "    <tr>\n",
              "      <th>...</th>\n",
              "      <td>...</td>\n",
              "      <td>...</td>\n",
              "      <td>...</td>\n",
              "      <td>...</td>\n",
              "      <td>...</td>\n",
              "      <td>...</td>\n",
              "      <td>...</td>\n",
              "      <td>...</td>\n",
              "      <td>...</td>\n",
              "      <td>...</td>\n",
              "      <td>...</td>\n",
              "      <td>...</td>\n",
              "      <td>...</td>\n",
              "      <td>...</td>\n",
              "      <td>...</td>\n",
              "    </tr>\n",
              "    <tr>\n",
              "      <th>886</th>\n",
              "      <td>0</td>\n",
              "      <td>2</td>\n",
              "      <td>male</td>\n",
              "      <td>27.0</td>\n",
              "      <td>0</td>\n",
              "      <td>0</td>\n",
              "      <td>13.0000</td>\n",
              "      <td>S</td>\n",
              "      <td>Second</td>\n",
              "      <td>man</td>\n",
              "      <td>True</td>\n",
              "      <td>NaN</td>\n",
              "      <td>Southampton</td>\n",
              "      <td>no</td>\n",
              "      <td>True</td>\n",
              "    </tr>\n",
              "    <tr>\n",
              "      <th>887</th>\n",
              "      <td>1</td>\n",
              "      <td>1</td>\n",
              "      <td>female</td>\n",
              "      <td>19.0</td>\n",
              "      <td>0</td>\n",
              "      <td>0</td>\n",
              "      <td>30.0000</td>\n",
              "      <td>S</td>\n",
              "      <td>First</td>\n",
              "      <td>woman</td>\n",
              "      <td>False</td>\n",
              "      <td>B</td>\n",
              "      <td>Southampton</td>\n",
              "      <td>yes</td>\n",
              "      <td>True</td>\n",
              "    </tr>\n",
              "    <tr>\n",
              "      <th>888</th>\n",
              "      <td>0</td>\n",
              "      <td>3</td>\n",
              "      <td>female</td>\n",
              "      <td>NaN</td>\n",
              "      <td>1</td>\n",
              "      <td>2</td>\n",
              "      <td>23.4500</td>\n",
              "      <td>S</td>\n",
              "      <td>Third</td>\n",
              "      <td>woman</td>\n",
              "      <td>False</td>\n",
              "      <td>NaN</td>\n",
              "      <td>Southampton</td>\n",
              "      <td>no</td>\n",
              "      <td>False</td>\n",
              "    </tr>\n",
              "    <tr>\n",
              "      <th>889</th>\n",
              "      <td>1</td>\n",
              "      <td>1</td>\n",
              "      <td>male</td>\n",
              "      <td>26.0</td>\n",
              "      <td>0</td>\n",
              "      <td>0</td>\n",
              "      <td>30.0000</td>\n",
              "      <td>C</td>\n",
              "      <td>First</td>\n",
              "      <td>man</td>\n",
              "      <td>True</td>\n",
              "      <td>C</td>\n",
              "      <td>Cherbourg</td>\n",
              "      <td>yes</td>\n",
              "      <td>True</td>\n",
              "    </tr>\n",
              "    <tr>\n",
              "      <th>890</th>\n",
              "      <td>0</td>\n",
              "      <td>3</td>\n",
              "      <td>male</td>\n",
              "      <td>32.0</td>\n",
              "      <td>0</td>\n",
              "      <td>0</td>\n",
              "      <td>7.7500</td>\n",
              "      <td>Q</td>\n",
              "      <td>Third</td>\n",
              "      <td>man</td>\n",
              "      <td>True</td>\n",
              "      <td>NaN</td>\n",
              "      <td>Queenstown</td>\n",
              "      <td>no</td>\n",
              "      <td>True</td>\n",
              "    </tr>\n",
              "  </tbody>\n",
              "</table>\n",
              "<p>891 rows × 15 columns</p>\n",
              "</div>"
            ],
            "text/plain": [
              "     survived  pclass     sex   age  ...  deck  embark_town  alive  alone\n",
              "0           0       3    male  22.0  ...   NaN  Southampton     no  False\n",
              "1           1       1  female  38.0  ...     C    Cherbourg    yes  False\n",
              "2           1       3  female  26.0  ...   NaN  Southampton    yes   True\n",
              "3           1       1  female  35.0  ...     C  Southampton    yes  False\n",
              "4           0       3    male  35.0  ...   NaN  Southampton     no   True\n",
              "..        ...     ...     ...   ...  ...   ...          ...    ...    ...\n",
              "886         0       2    male  27.0  ...   NaN  Southampton     no   True\n",
              "887         1       1  female  19.0  ...     B  Southampton    yes   True\n",
              "888         0       3  female   NaN  ...   NaN  Southampton     no  False\n",
              "889         1       1    male  26.0  ...     C    Cherbourg    yes   True\n",
              "890         0       3    male  32.0  ...   NaN   Queenstown     no   True\n",
              "\n",
              "[891 rows x 15 columns]"
            ]
          },
          "metadata": {
            "tags": []
          },
          "execution_count": 46
        }
      ]
    },
    {
      "cell_type": "code",
      "metadata": {
        "id": "x1u8kmTU9jA8",
        "outputId": "9c7450a4-30ad-4f35-91c9-d5f466b65c56",
        "colab": {
          "base_uri": "https://localhost:8080/",
          "height": 286
        }
      },
      "source": [
        "dfin.isnull().sum()"
      ],
      "execution_count": null,
      "outputs": [
        {
          "output_type": "execute_result",
          "data": {
            "text/plain": [
              "survived         0\n",
              "pclass           0\n",
              "sex              0\n",
              "age            177\n",
              "sibsp            0\n",
              "parch            0\n",
              "fare             0\n",
              "embarked         2\n",
              "class            0\n",
              "who              0\n",
              "adult_male       0\n",
              "deck           688\n",
              "embark_town      2\n",
              "alive            0\n",
              "alone            0\n",
              "dtype: int64"
            ]
          },
          "metadata": {
            "tags": []
          },
          "execution_count": 47
        }
      ]
    },
    {
      "cell_type": "code",
      "metadata": {
        "id": "6X9Tj7SF9kE4"
      },
      "source": [
        "df_non = dfin.drop(columns = 'deck')"
      ],
      "execution_count": null,
      "outputs": []
    },
    {
      "cell_type": "code",
      "metadata": {
        "id": "6LyhuquW9mOS",
        "outputId": "e28d5f4e-ef71-4655-b0f7-2ea788976c04",
        "colab": {
          "base_uri": "https://localhost:8080/",
          "height": 282
        }
      },
      "source": [
        "df_non.age.hist()"
      ],
      "execution_count": null,
      "outputs": [
        {
          "output_type": "execute_result",
          "data": {
            "text/plain": [
              "<matplotlib.axes._subplots.AxesSubplot at 0x7f4fcc62e4a8>"
            ]
          },
          "metadata": {
            "tags": []
          },
          "execution_count": 49
        },
        {
          "output_type": "display_data",
          "data": {
            "image/png": "[encoded data removed]",
            "text/plain": [
              "<Figure size 432x288 with 1 Axes>"
            ]
          },
          "metadata": {
            "tags": [],
            "needs_background": "light"
          }
        }
      ]
    },
    {
      "cell_type": "markdown",
      "metadata": {
        "id": "toeounOg9rNU"
      },
      "source": [
        "An assumption here, that all the null values of age are given as 10. Hard to justifty, but better in my opinion than removing this entire feature."
      ]
    },
    {
      "cell_type": "code",
      "metadata": {
        "id": "aKf7qtYp9qjx"
      },
      "source": [
        "df_non['age'] = df_non['age'].fillna(value=10)"
      ],
      "execution_count": null,
      "outputs": []
    },
    {
      "cell_type": "code",
      "metadata": {
        "id": "9IWAGOcU9uqC",
        "outputId": "9cf813fc-ac06-4373-aad8-258c949fda81",
        "colab": {
          "base_uri": "https://localhost:8080/",
          "height": 269
        }
      },
      "source": [
        "df_non.isnull().sum()"
      ],
      "execution_count": null,
      "outputs": [
        {
          "output_type": "execute_result",
          "data": {
            "text/plain": [
              "survived       0\n",
              "pclass         0\n",
              "sex            0\n",
              "age            0\n",
              "sibsp          0\n",
              "parch          0\n",
              "fare           0\n",
              "embarked       2\n",
              "class          0\n",
              "who            0\n",
              "adult_male     0\n",
              "embark_town    2\n",
              "alive          0\n",
              "alone          0\n",
              "dtype: int64"
            ]
          },
          "metadata": {
            "tags": []
          },
          "execution_count": 51
        }
      ]
    },
    {
      "cell_type": "code",
      "metadata": {
        "id": "z4rxmf-h9vy1",
        "outputId": "2e0c9d48-d1dd-4b1c-887c-913dae885366",
        "colab": {
          "base_uri": "https://localhost:8080/",
          "height": 269
        }
      },
      "source": [
        "df_non = df_non.dropna()\n",
        "df_non.isnull().sum()"
      ],
      "execution_count": null,
      "outputs": [
        {
          "output_type": "execute_result",
          "data": {
            "text/plain": [
              "survived       0\n",
              "pclass         0\n",
              "sex            0\n",
              "age            0\n",
              "sibsp          0\n",
              "parch          0\n",
              "fare           0\n",
              "embarked       0\n",
              "class          0\n",
              "who            0\n",
              "adult_male     0\n",
              "embark_town    0\n",
              "alive          0\n",
              "alone          0\n",
              "dtype: int64"
            ]
          },
          "metadata": {
            "tags": []
          },
          "execution_count": 53
        }
      ]
    },
    {
      "cell_type": "code",
      "metadata": {
        "id": "Xjvmcfzo9wzu",
        "outputId": "2dccd055-598a-4474-e583-d9e460ae74c0",
        "colab": {
          "base_uri": "https://localhost:8080/",
          "height": 34
        }
      },
      "source": [
        "df_non.shape"
      ],
      "execution_count": null,
      "outputs": [
        {
          "output_type": "execute_result",
          "data": {
            "text/plain": [
              "(889, 14)"
            ]
          },
          "metadata": {
            "tags": []
          },
          "execution_count": 54
        }
      ]
    },
    {
      "cell_type": "markdown",
      "metadata": {
        "id": "BEsjmdVJ91k2"
      },
      "source": [
        "Now to process the features!"
      ]
    },
    {
      "cell_type": "code",
      "metadata": {
        "id": "sEf_wnw-9zdv"
      },
      "source": [
        "df_feats= df_non.copy()"
      ],
      "execution_count": null,
      "outputs": []
    },
    {
      "cell_type": "code",
      "metadata": {
        "id": "U7cR5U8W9zKa",
        "outputId": "c5d96341-9513-47b2-816d-87608112ea8e",
        "colab": {
          "base_uri": "https://localhost:8080/",
          "height": 195
        }
      },
      "source": [
        "df_feats.head()"
      ],
      "execution_count": null,
      "outputs": [
        {
          "output_type": "execute_result",
          "data": {
            "text/html": [
              "<div>\n",
              "<style scoped>\n",
              "    .dataframe tbody tr th:only-of-type {\n",
              "        vertical-align: middle;\n",
              "    }\n",
              "\n",
              "    .dataframe tbody tr th {\n",
              "        vertical-align: top;\n",
              "    }\n",
              "\n",
              "    .dataframe thead th {\n",
              "        text-align: right;\n",
              "    }\n",
              "</style>\n",
              "<table border=\"1\" class=\"dataframe\">\n",
              "  <thead>\n",
              "    <tr style=\"text-align: right;\">\n",
              "      <th></th>\n",
              "      <th>survived</th>\n",
              "      <th>pclass</th>\n",
              "      <th>sex</th>\n",
              "      <th>age</th>\n",
              "      <th>sibsp</th>\n",
              "      <th>parch</th>\n",
              "      <th>fare</th>\n",
              "      <th>embarked</th>\n",
              "      <th>class</th>\n",
              "      <th>who</th>\n",
              "      <th>adult_male</th>\n",
              "      <th>embark_town</th>\n",
              "      <th>alive</th>\n",
              "      <th>alone</th>\n",
              "    </tr>\n",
              "  </thead>\n",
              "  <tbody>\n",
              "    <tr>\n",
              "      <th>0</th>\n",
              "      <td>0</td>\n",
              "      <td>3</td>\n",
              "      <td>male</td>\n",
              "      <td>22.0</td>\n",
              "      <td>1</td>\n",
              "      <td>0</td>\n",
              "      <td>7.2500</td>\n",
              "      <td>S</td>\n",
              "      <td>Third</td>\n",
              "      <td>man</td>\n",
              "      <td>True</td>\n",
              "      <td>Southampton</td>\n",
              "      <td>no</td>\n",
              "      <td>False</td>\n",
              "    </tr>\n",
              "    <tr>\n",
              "      <th>1</th>\n",
              "      <td>1</td>\n",
              "      <td>1</td>\n",
              "      <td>female</td>\n",
              "      <td>38.0</td>\n",
              "      <td>1</td>\n",
              "      <td>0</td>\n",
              "      <td>71.2833</td>\n",
              "      <td>C</td>\n",
              "      <td>First</td>\n",
              "      <td>woman</td>\n",
              "      <td>False</td>\n",
              "      <td>Cherbourg</td>\n",
              "      <td>yes</td>\n",
              "      <td>False</td>\n",
              "    </tr>\n",
              "    <tr>\n",
              "      <th>2</th>\n",
              "      <td>1</td>\n",
              "      <td>3</td>\n",
              "      <td>female</td>\n",
              "      <td>26.0</td>\n",
              "      <td>0</td>\n",
              "      <td>0</td>\n",
              "      <td>7.9250</td>\n",
              "      <td>S</td>\n",
              "      <td>Third</td>\n",
              "      <td>woman</td>\n",
              "      <td>False</td>\n",
              "      <td>Southampton</td>\n",
              "      <td>yes</td>\n",
              "      <td>True</td>\n",
              "    </tr>\n",
              "    <tr>\n",
              "      <th>3</th>\n",
              "      <td>1</td>\n",
              "      <td>1</td>\n",
              "      <td>female</td>\n",
              "      <td>35.0</td>\n",
              "      <td>1</td>\n",
              "      <td>0</td>\n",
              "      <td>53.1000</td>\n",
              "      <td>S</td>\n",
              "      <td>First</td>\n",
              "      <td>woman</td>\n",
              "      <td>False</td>\n",
              "      <td>Southampton</td>\n",
              "      <td>yes</td>\n",
              "      <td>False</td>\n",
              "    </tr>\n",
              "    <tr>\n",
              "      <th>4</th>\n",
              "      <td>0</td>\n",
              "      <td>3</td>\n",
              "      <td>male</td>\n",
              "      <td>35.0</td>\n",
              "      <td>0</td>\n",
              "      <td>0</td>\n",
              "      <td>8.0500</td>\n",
              "      <td>S</td>\n",
              "      <td>Third</td>\n",
              "      <td>man</td>\n",
              "      <td>True</td>\n",
              "      <td>Southampton</td>\n",
              "      <td>no</td>\n",
              "      <td>True</td>\n",
              "    </tr>\n",
              "  </tbody>\n",
              "</table>\n",
              "</div>"
            ],
            "text/plain": [
              "   survived  pclass     sex   age  ...  adult_male  embark_town  alive  alone\n",
              "0         0       3    male  22.0  ...        True  Southampton     no  False\n",
              "1         1       1  female  38.0  ...       False    Cherbourg    yes  False\n",
              "2         1       3  female  26.0  ...       False  Southampton    yes   True\n",
              "3         1       1  female  35.0  ...       False  Southampton    yes  False\n",
              "4         0       3    male  35.0  ...        True  Southampton     no   True\n",
              "\n",
              "[5 rows x 14 columns]"
            ]
          },
          "metadata": {
            "tags": []
          },
          "execution_count": 83
        }
      ]
    },
    {
      "cell_type": "code",
      "metadata": {
        "id": "LWO2Rbf294XT",
        "outputId": "ebdebdcf-f989-45b4-caee-79573fe23b92",
        "colab": {
          "base_uri": "https://localhost:8080/",
          "height": 269
        }
      },
      "source": [
        "df_feats.dtypes"
      ],
      "execution_count": null,
      "outputs": [
        {
          "output_type": "execute_result",
          "data": {
            "text/plain": [
              "survived          int64\n",
              "pclass            int64\n",
              "sex              object\n",
              "age             float64\n",
              "sibsp             int64\n",
              "parch             int64\n",
              "fare            float64\n",
              "embarked         object\n",
              "class          category\n",
              "who              object\n",
              "adult_male         bool\n",
              "embark_town      object\n",
              "alive            object\n",
              "alone              bool\n",
              "dtype: object"
            ]
          },
          "metadata": {
            "tags": []
          },
          "execution_count": 84
        }
      ]
    },
    {
      "cell_type": "code",
      "metadata": {
        "id": "ybF9fBNj96of",
        "outputId": "bead3bdd-c239-48e8-d9e8-79a24c76ce15",
        "colab": {
          "base_uri": "https://localhost:8080/",
          "height": 269
        }
      },
      "source": [
        "df_feats.nunique()"
      ],
      "execution_count": null,
      "outputs": [
        {
          "output_type": "execute_result",
          "data": {
            "text/plain": [
              "survived         2\n",
              "pclass           3\n",
              "sex              2\n",
              "age             88\n",
              "sibsp            7\n",
              "parch            7\n",
              "fare           247\n",
              "embarked         3\n",
              "class            3\n",
              "who              3\n",
              "adult_male       2\n",
              "embark_town      3\n",
              "alive            2\n",
              "alone            2\n",
              "dtype: int64"
            ]
          },
          "metadata": {
            "tags": []
          },
          "execution_count": 85
        }
      ]
    },
    {
      "cell_type": "markdown",
      "metadata": {
        "id": "YmB9Q7DW99lr"
      },
      "source": [
        "For a simple conversion between strings and numbers, use `df['column_name'].map({...})` Make sure to use another DICTIONARY again with the keys being old values and the new values to follow."
      ]
    },
    {
      "cell_type": "code",
      "metadata": {
        "id": "wnzNbg4895oE",
        "outputId": "171bd8ad-3ac6-4af4-9f40-4e867e7f555a",
        "colab": {
          "base_uri": "https://localhost:8080/",
          "height": 218
        }
      },
      "source": [
        "df_feats['sex'].map({'female':1,'male':0})"
      ],
      "execution_count": null,
      "outputs": [
        {
          "output_type": "execute_result",
          "data": {
            "text/plain": [
              "0      0\n",
              "1      1\n",
              "2      1\n",
              "3      1\n",
              "4      0\n",
              "      ..\n",
              "886    0\n",
              "887    1\n",
              "888    1\n",
              "889    0\n",
              "890    0\n",
              "Name: sex, Length: 889, dtype: int64"
            ]
          },
          "metadata": {
            "tags": []
          },
          "execution_count": 86
        }
      ]
    },
    {
      "cell_type": "code",
      "metadata": {
        "id": "UR5G3h3c-AGH"
      },
      "source": [
        "df_feats['sex'] = df_feats['sex'].map({'female':1,'male':0})"
      ],
      "execution_count": null,
      "outputs": []
    },
    {
      "cell_type": "code",
      "metadata": {
        "id": "1fsc0A3J-BUm",
        "outputId": "25e67701-032f-4cf6-8292-792ae2811e99",
        "colab": {
          "base_uri": "https://localhost:8080/",
          "height": 269
        }
      },
      "source": [
        "df_feats.dtypes"
      ],
      "execution_count": null,
      "outputs": [
        {
          "output_type": "execute_result",
          "data": {
            "text/plain": [
              "survived          int64\n",
              "pclass            int64\n",
              "sex               int64\n",
              "age             float64\n",
              "sibsp             int64\n",
              "parch             int64\n",
              "fare            float64\n",
              "embarked         object\n",
              "class          category\n",
              "who              object\n",
              "adult_male         bool\n",
              "embark_town      object\n",
              "alive            object\n",
              "alone              bool\n",
              "dtype: object"
            ]
          },
          "metadata": {
            "tags": []
          },
          "execution_count": 88
        }
      ]
    },
    {
      "cell_type": "code",
      "metadata": {
        "id": "Qp2FmLFh-CbQ",
        "outputId": "72997f6a-21af-4f8c-f408-6984e8aa7156",
        "colab": {
          "base_uri": "https://localhost:8080/",
          "height": 84
        }
      },
      "source": [
        "df_feats['embarked'].value_counts()"
      ],
      "execution_count": null,
      "outputs": [
        {
          "output_type": "execute_result",
          "data": {
            "text/plain": [
              "S    644\n",
              "C    168\n",
              "Q     77\n",
              "Name: embarked, dtype: int64"
            ]
          },
          "metadata": {
            "tags": []
          },
          "execution_count": 89
        }
      ]
    },
    {
      "cell_type": "code",
      "metadata": {
        "id": "vTKDJtMM-DiA"
      },
      "source": [
        "df_feats['embarked'] = df_feats['embarked'].map({'S':0,'C':1, 'Q':2})"
      ],
      "execution_count": null,
      "outputs": []
    },
    {
      "cell_type": "code",
      "metadata": {
        "id": "hfD3irdK-ErV",
        "outputId": "4d8be2de-cbe0-409e-cff5-b5b0e44a7537",
        "colab": {
          "base_uri": "https://localhost:8080/",
          "height": 84
        }
      },
      "source": [
        "df_feats['class'].value_counts()"
      ],
      "execution_count": null,
      "outputs": [
        {
          "output_type": "execute_result",
          "data": {
            "text/plain": [
              "Third     491\n",
              "First     214\n",
              "Second    184\n",
              "Name: class, dtype: int64"
            ]
          },
          "metadata": {
            "tags": []
          },
          "execution_count": 91
        }
      ]
    },
    {
      "cell_type": "code",
      "metadata": {
        "id": "UEJus0mJ-FxL"
      },
      "source": [
        "df_feats['class'] = df_feats['class'].map({'First':1, 'Second':2, 'Third':3})"
      ],
      "execution_count": null,
      "outputs": []
    },
    {
      "cell_type": "code",
      "metadata": {
        "id": "jVx4Agha-HKr",
        "outputId": "0ccb42b1-743a-4b7f-d17e-ec8bf05fa0d3",
        "colab": {
          "base_uri": "https://localhost:8080/",
          "height": 218
        }
      },
      "source": [
        "df_feats['who'].map({'man':0, 'woman':0, 'child':1})"
      ],
      "execution_count": null,
      "outputs": [
        {
          "output_type": "execute_result",
          "data": {
            "text/plain": [
              "0      0\n",
              "1      0\n",
              "2      0\n",
              "3      0\n",
              "4      0\n",
              "      ..\n",
              "886    0\n",
              "887    0\n",
              "888    0\n",
              "889    0\n",
              "890    0\n",
              "Name: who, Length: 889, dtype: int64"
            ]
          },
          "metadata": {
            "tags": []
          },
          "execution_count": 93
        }
      ]
    },
    {
      "cell_type": "code",
      "metadata": {
        "id": "nvHy6pRy-IIv"
      },
      "source": [
        "df_feats['is_child'] = df_feats['who'].map({'man':0, 'woman':0, 'child':1})"
      ],
      "execution_count": null,
      "outputs": []
    },
    {
      "cell_type": "code",
      "metadata": {
        "id": "McgSFi32-K1P"
      },
      "source": [
        "df_feats = df_feats.drop(columns = ['who'])"
      ],
      "execution_count": null,
      "outputs": []
    },
    {
      "cell_type": "code",
      "metadata": {
        "id": "LaPWvMMl-L99",
        "outputId": "7f506801-4aca-4b7c-bba2-9b984a0cc2e1",
        "colab": {
          "base_uri": "https://localhost:8080/",
          "height": 67
        }
      },
      "source": [
        "df_feats['alive'].value_counts()"
      ],
      "execution_count": null,
      "outputs": [
        {
          "output_type": "execute_result",
          "data": {
            "text/plain": [
              "no     549\n",
              "yes    340\n",
              "Name: alive, dtype: int64"
            ]
          },
          "metadata": {
            "tags": []
          },
          "execution_count": 96
        }
      ]
    },
    {
      "cell_type": "code",
      "metadata": {
        "id": "mZgajx1e-M_v",
        "outputId": "154a1073-ea07-4320-ab3a-5d990d7069ee",
        "colab": {
          "base_uri": "https://localhost:8080/",
          "height": 67
        }
      },
      "source": [
        "df_feats['survived'].value_counts()"
      ],
      "execution_count": null,
      "outputs": [
        {
          "output_type": "execute_result",
          "data": {
            "text/plain": [
              "0    549\n",
              "1    340\n",
              "Name: survived, dtype: int64"
            ]
          },
          "metadata": {
            "tags": []
          },
          "execution_count": 97
        }
      ]
    },
    {
      "cell_type": "markdown",
      "metadata": {
        "id": "-RHRzSgM-ZYQ"
      },
      "source": [
        "We can check using the `==` comparison operator. "
      ]
    },
    {
      "cell_type": "code",
      "metadata": {
        "id": "2VMnVTMG-j9z",
        "outputId": "8530a69a-eafb-47d9-c421-d84836ab0bcd",
        "colab": {
          "base_uri": "https://localhost:8080/",
          "height": 34
        }
      },
      "source": [
        "(df_feats['alive'].map({'yes':1, 'no':0}) == df_feats['survived']).all()"
      ],
      "execution_count": null,
      "outputs": [
        {
          "output_type": "execute_result",
          "data": {
            "text/plain": [
              "True"
            ]
          },
          "metadata": {
            "tags": []
          },
          "execution_count": 98
        }
      ]
    },
    {
      "cell_type": "code",
      "metadata": {
        "id": "Jy-8SVjM-mnh",
        "outputId": "f736c57d-2bb6-45af-88cb-86809fb0a831",
        "colab": {
          "base_uri": "https://localhost:8080/",
          "height": 34
        }
      },
      "source": [
        "(df_feats['class'].astype(int) == df_feats.pclass).all()"
      ],
      "execution_count": null,
      "outputs": [
        {
          "output_type": "execute_result",
          "data": {
            "text/plain": [
              "True"
            ]
          },
          "metadata": {
            "tags": []
          },
          "execution_count": 99
        }
      ]
    },
    {
      "cell_type": "code",
      "metadata": {
        "id": "mSkP-6DP-Y0F"
      },
      "source": [
        "true_survive = df_feats['survived']\n",
        "df_feats = df_feats.drop(columns = ['alive', 'class','embark_town', 'survived'])"
      ],
      "execution_count": null,
      "outputs": []
    },
    {
      "cell_type": "code",
      "metadata": {
        "id": "glupNTh3-iYC",
        "outputId": "a5559a96-19d7-46a3-c935-5365838e6782",
        "colab": {
          "base_uri": "https://localhost:8080/",
          "height": 402
        }
      },
      "source": [
        "df_feats"
      ],
      "execution_count": null,
      "outputs": [
        {
          "output_type": "execute_result",
          "data": {
            "text/html": [
              "<div>\n",
              "<style scoped>\n",
              "    .dataframe tbody tr th:only-of-type {\n",
              "        vertical-align: middle;\n",
              "    }\n",
              "\n",
              "    .dataframe tbody tr th {\n",
              "        vertical-align: top;\n",
              "    }\n",
              "\n",
              "    .dataframe thead th {\n",
              "        text-align: right;\n",
              "    }\n",
              "</style>\n",
              "<table border=\"1\" class=\"dataframe\">\n",
              "  <thead>\n",
              "    <tr style=\"text-align: right;\">\n",
              "      <th></th>\n",
              "      <th>pclass</th>\n",
              "      <th>sex</th>\n",
              "      <th>age</th>\n",
              "      <th>sibsp</th>\n",
              "      <th>parch</th>\n",
              "      <th>fare</th>\n",
              "      <th>embarked</th>\n",
              "      <th>adult_male</th>\n",
              "      <th>alone</th>\n",
              "      <th>is_child</th>\n",
              "    </tr>\n",
              "  </thead>\n",
              "  <tbody>\n",
              "    <tr>\n",
              "      <th>0</th>\n",
              "      <td>3</td>\n",
              "      <td>0</td>\n",
              "      <td>22.0</td>\n",
              "      <td>1</td>\n",
              "      <td>0</td>\n",
              "      <td>7.2500</td>\n",
              "      <td>0</td>\n",
              "      <td>True</td>\n",
              "      <td>False</td>\n",
              "      <td>0</td>\n",
              "    </tr>\n",
              "    <tr>\n",
              "      <th>1</th>\n",
              "      <td>1</td>\n",
              "      <td>1</td>\n",
              "      <td>38.0</td>\n",
              "      <td>1</td>\n",
              "      <td>0</td>\n",
              "      <td>71.2833</td>\n",
              "      <td>1</td>\n",
              "      <td>False</td>\n",
              "      <td>False</td>\n",
              "      <td>0</td>\n",
              "    </tr>\n",
              "    <tr>\n",
              "      <th>2</th>\n",
              "      <td>3</td>\n",
              "      <td>1</td>\n",
              "      <td>26.0</td>\n",
              "      <td>0</td>\n",
              "      <td>0</td>\n",
              "      <td>7.9250</td>\n",
              "      <td>0</td>\n",
              "      <td>False</td>\n",
              "      <td>True</td>\n",
              "      <td>0</td>\n",
              "    </tr>\n",
              "    <tr>\n",
              "      <th>3</th>\n",
              "      <td>1</td>\n",
              "      <td>1</td>\n",
              "      <td>35.0</td>\n",
              "      <td>1</td>\n",
              "      <td>0</td>\n",
              "      <td>53.1000</td>\n",
              "      <td>0</td>\n",
              "      <td>False</td>\n",
              "      <td>False</td>\n",
              "      <td>0</td>\n",
              "    </tr>\n",
              "    <tr>\n",
              "      <th>4</th>\n",
              "      <td>3</td>\n",
              "      <td>0</td>\n",
              "      <td>35.0</td>\n",
              "      <td>0</td>\n",
              "      <td>0</td>\n",
              "      <td>8.0500</td>\n",
              "      <td>0</td>\n",
              "      <td>True</td>\n",
              "      <td>True</td>\n",
              "      <td>0</td>\n",
              "    </tr>\n",
              "    <tr>\n",
              "      <th>...</th>\n",
              "      <td>...</td>\n",
              "      <td>...</td>\n",
              "      <td>...</td>\n",
              "      <td>...</td>\n",
              "      <td>...</td>\n",
              "      <td>...</td>\n",
              "      <td>...</td>\n",
              "      <td>...</td>\n",
              "      <td>...</td>\n",
              "      <td>...</td>\n",
              "    </tr>\n",
              "    <tr>\n",
              "      <th>886</th>\n",
              "      <td>2</td>\n",
              "      <td>0</td>\n",
              "      <td>27.0</td>\n",
              "      <td>0</td>\n",
              "      <td>0</td>\n",
              "      <td>13.0000</td>\n",
              "      <td>0</td>\n",
              "      <td>True</td>\n",
              "      <td>True</td>\n",
              "      <td>0</td>\n",
              "    </tr>\n",
              "    <tr>\n",
              "      <th>887</th>\n",
              "      <td>1</td>\n",
              "      <td>1</td>\n",
              "      <td>19.0</td>\n",
              "      <td>0</td>\n",
              "      <td>0</td>\n",
              "      <td>30.0000</td>\n",
              "      <td>0</td>\n",
              "      <td>False</td>\n",
              "      <td>True</td>\n",
              "      <td>0</td>\n",
              "    </tr>\n",
              "    <tr>\n",
              "      <th>888</th>\n",
              "      <td>3</td>\n",
              "      <td>1</td>\n",
              "      <td>10.0</td>\n",
              "      <td>1</td>\n",
              "      <td>2</td>\n",
              "      <td>23.4500</td>\n",
              "      <td>0</td>\n",
              "      <td>False</td>\n",
              "      <td>False</td>\n",
              "      <td>0</td>\n",
              "    </tr>\n",
              "    <tr>\n",
              "      <th>889</th>\n",
              "      <td>1</td>\n",
              "      <td>0</td>\n",
              "      <td>26.0</td>\n",
              "      <td>0</td>\n",
              "      <td>0</td>\n",
              "      <td>30.0000</td>\n",
              "      <td>1</td>\n",
              "      <td>True</td>\n",
              "      <td>True</td>\n",
              "      <td>0</td>\n",
              "    </tr>\n",
              "    <tr>\n",
              "      <th>890</th>\n",
              "      <td>3</td>\n",
              "      <td>0</td>\n",
              "      <td>32.0</td>\n",
              "      <td>0</td>\n",
              "      <td>0</td>\n",
              "      <td>7.7500</td>\n",
              "      <td>2</td>\n",
              "      <td>True</td>\n",
              "      <td>True</td>\n",
              "      <td>0</td>\n",
              "    </tr>\n",
              "  </tbody>\n",
              "</table>\n",
              "<p>889 rows × 10 columns</p>\n",
              "</div>"
            ],
            "text/plain": [
              "     pclass  sex   age  sibsp  ...  embarked  adult_male  alone  is_child\n",
              "0         3    0  22.0      1  ...         0        True  False         0\n",
              "1         1    1  38.0      1  ...         1       False  False         0\n",
              "2         3    1  26.0      0  ...         0       False   True         0\n",
              "3         1    1  35.0      1  ...         0       False  False         0\n",
              "4         3    0  35.0      0  ...         0        True   True         0\n",
              "..      ...  ...   ...    ...  ...       ...         ...    ...       ...\n",
              "886       2    0  27.0      0  ...         0        True   True         0\n",
              "887       1    1  19.0      0  ...         0       False   True         0\n",
              "888       3    1  10.0      1  ...         0       False  False         0\n",
              "889       1    0  26.0      0  ...         1        True   True         0\n",
              "890       3    0  32.0      0  ...         2        True   True         0\n",
              "\n",
              "[889 rows x 10 columns]"
            ]
          },
          "metadata": {
            "tags": []
          },
          "execution_count": 101
        }
      ]
    },
    {
      "cell_type": "code",
      "metadata": {
        "id": "fkG2SEBV-p9o",
        "outputId": "c2cc9e06-19b4-4505-ec2c-9f75bfc9b16f",
        "colab": {
          "base_uri": "https://localhost:8080/",
          "height": 34
        }
      },
      "source": [
        "clf = tree.DecisionTreeClassifier()\n",
        "precision_scores = cross_val_score(clf, df_feats, true_survive, scoring = 'precision', cv=5)\n",
        "precision_scores.mean()"
      ],
      "execution_count": null,
      "outputs": [
        {
          "output_type": "execute_result",
          "data": {
            "text/plain": [
              "0.7128033697501575"
            ]
          },
          "metadata": {
            "tags": []
          },
          "execution_count": 106
        }
      ]
    },
    {
      "cell_type": "code",
      "metadata": {
        "id": "b0QEfr6L-53C",
        "outputId": "386684c8-af37-422a-df8a-1e2470aec4b1",
        "colab": {
          "base_uri": "https://localhost:8080/",
          "height": 34
        }
      },
      "source": [
        "from sklearn.ensemble import RandomForestClassifier\n",
        "\n",
        "clf2 = RandomForestClassifier(n_estimators = 50, max_depth=3, random_state=0)\n",
        "precision_scores = cross_val_score(clf2, df_feats, true_survive, scoring = 'precision', cv=5)\n",
        "precision_scores.mean()"
      ],
      "execution_count": null,
      "outputs": [
        {
          "output_type": "execute_result",
          "data": {
            "text/plain": [
              "0.7836942538593481"
            ]
          },
          "metadata": {
            "tags": []
          },
          "execution_count": 107
        }
      ]
    },
    {
      "cell_type": "code",
      "metadata": {
        "id": "a1C7n_JN_r-W",
        "outputId": "bba0cbf6-4864-4a8e-eb59-426e6011fbbb",
        "colab": {
          "base_uri": "https://localhost:8080/",
          "height": 34
        }
      },
      "source": [
        "recall_scores = cross_val_score(clf2, df_feats, true_survive, scoring = 'recall', cv=5)\n",
        "recall_scores.mean()"
      ],
      "execution_count": null,
      "outputs": [
        {
          "output_type": "execute_result",
          "data": {
            "text/plain": [
              "0.7264705882352941"
            ]
          },
          "metadata": {
            "tags": []
          },
          "execution_count": 108
        }
      ]
    },
    {
      "cell_type": "code",
      "metadata": {
        "id": "gABOz3uU_5tA"
      },
      "source": [
        ""
      ],
      "execution_count": null,
      "outputs": []
    }
  ]
}