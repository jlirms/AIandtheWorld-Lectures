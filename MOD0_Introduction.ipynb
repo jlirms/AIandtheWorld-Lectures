{
  "nbformat": 4,
  "nbformat_minor": 0,
  "metadata": {
    "colab": {
      "name": "MOD 0: FIRST Notebook.ipynb",
      "provenance": [],
      "toc_visible": true
    },
    "kernelspec": {
      "name": "python3",
      "display_name": "Python 3"
    }
  },
  "cells": [
    {
      "cell_type": "markdown",
      "metadata": {
        "id": "Nty94jcKai4u"
      },
      "source": [
        "# GETTING STARTED"
      ]
    },
    {
      "cell_type": "markdown",
      "metadata": {
        "id": "cnr6E-N9XACU"
      },
      "source": [
        "*Text cells* are just comments on the code, nothing happens because of them. To add a *code cell* click the `+ Code` symbol on the top. "
      ]
    },
    {
      "cell_type": "code",
      "metadata": {
        "id": "z66uRyTCWzZN"
      },
      "source": [
        "var_a = 2"
      ],
      "execution_count": null,
      "outputs": []
    },
    {
      "cell_type": "markdown",
      "metadata": {
        "id": "wMMDMOiTXSDW"
      },
      "source": [
        "Programming is a series of **COMMANDS** which are executed in a certain order. In these Notebooks we execute all the commands in a text cell by pressing the Play button on the left or clicking (shift + enter)"
      ]
    },
    {
      "cell_type": "code",
      "metadata": {
        "id": "z-qyE-UaXRlc"
      },
      "source": [
        "var_b = 3\n",
        "var_c = var_a + var_b"
      ],
      "execution_count": null,
      "outputs": []
    },
    {
      "cell_type": "markdown",
      "metadata": {
        "id": "XsOI7i3NX-qG"
      },
      "source": [
        "Our first code cell had one command: create a new *variable* called `var_a` and set it equal to 2. \n",
        "> A variable is just something that *holds data*, it has a name, in this case `var_a`. Use descriptive names for your variables please. Names are:\n",
        "\n",
        "\n",
        "*   Case sensitive (`var_a` is different from `Var_A`)\n",
        "*   Can only have letters, numbers and `_`\n",
        "*Cannot start with a number\n",
        "\n",
        "\n"
      ]
    },
    {
      "cell_type": "markdown",
      "metadata": {
        "id": "2j74PEmKYLdK"
      },
      "source": [
        "Our second code cell had 2 commands, and we expect the variable `var_c` to have a value of 5. "
      ]
    },
    {
      "cell_type": "code",
      "metadata": {
        "id": "Ryp8eQupYLDE",
        "outputId": "5f248de5-a50a-4ffc-fdc4-73c80a77da45",
        "colab": {
          "base_uri": "https://localhost:8080/",
          "height": 34
        }
      },
      "source": [
        "print(var_c)"
      ],
      "execution_count": null,
      "outputs": [
        {
          "output_type": "stream",
          "text": [
            "5\n"
          ],
          "name": "stdout"
        }
      ]
    },
    {
      "cell_type": "markdown",
      "metadata": {
        "id": "uedEcjOoYV-6"
      },
      "source": [
        "In the \"old days\" we would have to use a `print()` command to reveal the value of a variable (thus far its all been hidden) but in notebooks there's a new way called **INSPECTION**"
      ]
    },
    {
      "cell_type": "code",
      "metadata": {
        "id": "ilqDv72wX-JH",
        "outputId": "20867999-257c-4554-d006-1bbfea7ac164",
        "colab": {
          "base_uri": "https://localhost:8080/",
          "height": 34
        }
      },
      "source": [
        "var_c"
      ],
      "execution_count": null,
      "outputs": [
        {
          "output_type": "execute_result",
          "data": {
            "text/plain": [
              "5"
            ]
          },
          "metadata": {
            "tags": []
          },
          "execution_count": 4
        }
      ]
    },
    {
      "cell_type": "markdown",
      "metadata": {
        "id": "Cf6V5eYrYqXh"
      },
      "source": [
        "Just by putting the variable `c` in an *empty code cell* we can immediately see its value. Note that no commands are made in the code cell above, so we can run it as many times as we want, inspecting different variables. "
      ]
    },
    {
      "cell_type": "markdown",
      "metadata": {
        "id": "k2Dv3XR3bt4u"
      },
      "source": [
        "# TYPES OF DATA"
      ]
    },
    {
      "cell_type": "markdown",
      "metadata": {
        "id": "4Qn4jtLucdwT"
      },
      "source": [
        "Variables hold data, it's important to know what type (integer, string etc) of data is being held, four common types we will use for now are: \n",
        "![alt text](https://i.imgur.com/4sIlRgP.png)"
      ]
    },
    {
      "cell_type": "markdown",
      "metadata": {
        "id": "W_XtgpIpcZEI"
      },
      "source": [
        "You can see what data type a variable is by using the `type()` function. "
      ]
    },
    {
      "cell_type": "code",
      "metadata": {
        "id": "SJaX_WIxc085",
        "outputId": "46a55e3b-fe1e-4034-cd7c-9822097a8d73",
        "colab": {
          "base_uri": "https://localhost:8080/",
          "height": 34
        }
      },
      "source": [
        "type(var_a)"
      ],
      "execution_count": null,
      "outputs": [
        {
          "output_type": "execute_result",
          "data": {
            "text/plain": [
              "int"
            ]
          },
          "metadata": {
            "tags": []
          },
          "execution_count": 8
        }
      ]
    },
    {
      "cell_type": "markdown",
      "metadata": {
        "id": "-S3Vgyv8d3Pq"
      },
      "source": [
        "The above line is actually still an inspection, we aren't inspecting any varibles directly, but we are inspecting what `type(var_a)` *would have been*. This will be clear later, but since its an inspection, we can re-run that cell!"
      ]
    },
    {
      "cell_type": "code",
      "metadata": {
        "id": "DsTV9Yc8a25s"
      },
      "source": [
        "var_int = 42\n",
        "var_float = 2.1\n",
        "var_string = 'hello world'\n",
        "var_list = [1,3,5]"
      ],
      "execution_count": null,
      "outputs": []
    },
    {
      "cell_type": "markdown",
      "metadata": {
        "id": "ECitw5w2oSxY"
      },
      "source": [
        "We declare a few more variables, feel free to make your own!"
      ]
    },
    {
      "cell_type": "code",
      "metadata": {
        "id": "N4kYvqxXoSOf",
        "outputId": "976d99fa-6cab-4aec-c61f-6f2dc15d6695",
        "colab": {
          "base_uri": "https://localhost:8080/",
          "height": 34
        }
      },
      "source": [
        "var_list"
      ],
      "execution_count": null,
      "outputs": [
        {
          "output_type": "execute_result",
          "data": {
            "text/plain": [
              "[1, 3, 5]"
            ]
          },
          "metadata": {
            "tags": []
          },
          "execution_count": 10
        }
      ]
    },
    {
      "cell_type": "markdown",
      "metadata": {
        "id": "1bxxoJqbqWuN"
      },
      "source": [
        "The last thing we haven't seen yet are functions, denoted by parentheses `( )`. Many data types have built in functions, which can be used by all variables of that type."
      ]
    },
    {
      "cell_type": "code",
      "metadata": {
        "id": "yy_XVqHbqVmj"
      },
      "source": [
        "var_newlist = var_list.copy()"
      ],
      "execution_count": null,
      "outputs": []
    },
    {
      "cell_type": "code",
      "metadata": {
        "id": "dx8VNCoNqpOK",
        "outputId": "dd77dc54-c2ec-488f-8d02-7358e0ae0c8b",
        "colab": {
          "base_uri": "https://localhost:8080/",
          "height": 34
        }
      },
      "source": [
        "var_newlist"
      ],
      "execution_count": null,
      "outputs": [
        {
          "output_type": "execute_result",
          "data": {
            "text/plain": [
              "[1, 3, 5]"
            ]
          },
          "metadata": {
            "tags": []
          },
          "execution_count": 12
        }
      ]
    },
    {
      "cell_type": "markdown",
      "metadata": {
        "id": "7_iWlNivqv4s"
      },
      "source": [
        "eg. `lists` have a function called `.copy()` which makes a duplicated of this list, that we stored in another variable `var_newlist`. The benefit here is that changes in `var_newlist` will not affect `var_list`. We will NEVER do this:\n",
        "```\n",
        "var_newlist = var_list\n",
        "```\n",
        "Since changes to either variable will affect the other, making it confusing.\n"
      ]
    },
    {
      "cell_type": "code",
      "metadata": {
        "id": "wV4U04wDYDnS"
      },
      "source": [
        "## MANDATORY EXERCISE: Make a integer, float, string and list variable\n",
        "## then make a copy of the list variable, using the copy FUNCTION under a new name!"
      ],
      "execution_count": null,
      "outputs": []
    },
    {
      "cell_type": "markdown",
      "metadata": {
        "id": "kDWN-vIoZOJb"
      },
      "source": [
        "# DO NOT RUN CELLS OUT OF ORDER!!"
      ]
    },
    {
      "cell_type": "code",
      "metadata": {
        "id": "7Wa-IvV0XQuO"
      },
      "source": [
        "var_a = 5"
      ],
      "execution_count": null,
      "outputs": []
    },
    {
      "cell_type": "code",
      "metadata": {
        "id": "1gzM79KwZSvv"
      },
      "source": [
        "var_b = var_a + 2"
      ],
      "execution_count": null,
      "outputs": []
    },
    {
      "cell_type": "code",
      "metadata": {
        "id": "xfIaAQv9ZZjD",
        "outputId": "c1d1a49c-50a3-4319-e024-6fa6854aeec5",
        "colab": {
          "base_uri": "https://localhost:8080/",
          "height": 34
        }
      },
      "source": [
        "var_b"
      ],
      "execution_count": null,
      "outputs": [
        {
          "output_type": "execute_result",
          "data": {
            "text/plain": [
              "4"
            ]
          },
          "metadata": {
            "tags": []
          },
          "execution_count": 6
        }
      ]
    },
    {
      "cell_type": "markdown",
      "metadata": {
        "id": "PLn9nywrZjiS"
      },
      "source": [
        "We expect b to be 7 right? NO! Because we ran cell `b = a + 2` before running `a = 5` the command used the old value of `a`. The [numbers] besides the cell tells us about the order. "
      ]
    },
    {
      "cell_type": "markdown",
      "metadata": {
        "id": "I5l1bgoca4BP"
      },
      "source": [
        "Notebooks are meant to read **TOP-DOWN** therefore go to \n",
        "> Runtime - > Restart and Run all\n"
      ]
    },
    {
      "cell_type": "markdown",
      "metadata": {
        "id": "F8DpwJtYbV4_"
      },
      "source": [
        "This will remove all variables and runs every code cell top to bottom. **THIS IS A COMMON MISTAKE AND THE SOURCE OF A LOT OF FRUSTRATION** as you will see later, *Restart and Run all* often to avoid this headache. \n",
        "> *Restart and Run all* is DIFFERENT FROM *Run all*"
      ]
    },
    {
      "cell_type": "markdown",
      "metadata": {
        "id": "HTlClvuAX-L-"
      },
      "source": [
        "# First Dataframe!"
      ]
    },
    {
      "cell_type": "markdown",
      "metadata": {
        "id": "ihff-DjZomFP"
      },
      "source": [
        "Lists are one way of storing data, but we will be using **pandas dataframes**. *Pandas* is just short for panels data, dataframes are usually written as `df`. They are not native to python, but in a library (of elaborate python code) written by the community which we can use by simply `import` statement."
      ]
    },
    {
      "cell_type": "code",
      "metadata": {
        "id": "p5-u07CFoxd7"
      },
      "source": [
        "import pandas as pd"
      ],
      "execution_count": null,
      "outputs": []
    },
    {
      "cell_type": "markdown",
      "metadata": {
        "id": "SHQmN0rZrhSS"
      },
      "source": [
        "We just imported `pd` and all the amazing functions with it (such as `.read_csv()`, `.DataFrame()` ) for us to use"
      ]
    },
    {
      "cell_type": "code",
      "metadata": {
        "id": "W_b95rcvqByM"
      },
      "source": [
        "df_sample = pd.read_csv('/content/sample_data/california_housing_train.csv')"
      ],
      "execution_count": null,
      "outputs": []
    },
    {
      "cell_type": "markdown",
      "metadata": {
        "id": "rEBBBeARrtR7"
      },
      "source": [
        "Here we make a dataframe based on a csv file (a common way of storing data, excel and google sheets can read it too, learn more about csv files [here](https://www.howtogeek.com/348960/what-is-a-csv-file-and-how-do-i-open-it/).\n",
        "As we inspect we can see there's over 17000 rows of data and 9 columns, don't be afraid, pandas makes it very easy for us as we will soon see. "
      ]
    },
    {
      "cell_type": "code",
      "metadata": {
        "id": "6z3TQX0ro1xv",
        "outputId": "0cdca6e1-88b5-43ca-a734-a6ecff3e40d0",
        "colab": {
          "base_uri": "https://localhost:8080/"
        }
      },
      "source": [
        "df_sample"
      ],
      "execution_count": null,
      "outputs": [
        {
          "output_type": "execute_result",
          "data": {
            "text/html": [
              "<div>\n",
              "<style scoped>\n",
              "    .dataframe tbody tr th:only-of-type {\n",
              "        vertical-align: middle;\n",
              "    }\n",
              "\n",
              "    .dataframe tbody tr th {\n",
              "        vertical-align: top;\n",
              "    }\n",
              "\n",
              "    .dataframe thead th {\n",
              "        text-align: right;\n",
              "    }\n",
              "</style>\n",
              "<table border=\"1\" class=\"dataframe\">\n",
              "  <thead>\n",
              "    <tr style=\"text-align: right;\">\n",
              "      <th></th>\n",
              "      <th>longitude</th>\n",
              "      <th>latitude</th>\n",
              "      <th>housing_median_age</th>\n",
              "      <th>total_rooms</th>\n",
              "      <th>total_bedrooms</th>\n",
              "      <th>population</th>\n",
              "      <th>households</th>\n",
              "      <th>median_income</th>\n",
              "      <th>median_house_value</th>\n",
              "    </tr>\n",
              "  </thead>\n",
              "  <tbody>\n",
              "    <tr>\n",
              "      <th>0</th>\n",
              "      <td>-114.31</td>\n",
              "      <td>34.19</td>\n",
              "      <td>15.0</td>\n",
              "      <td>5612.0</td>\n",
              "      <td>1283.0</td>\n",
              "      <td>1015.0</td>\n",
              "      <td>472.0</td>\n",
              "      <td>1.4936</td>\n",
              "      <td>66900.0</td>\n",
              "    </tr>\n",
              "    <tr>\n",
              "      <th>1</th>\n",
              "      <td>-114.47</td>\n",
              "      <td>34.40</td>\n",
              "      <td>19.0</td>\n",
              "      <td>7650.0</td>\n",
              "      <td>1901.0</td>\n",
              "      <td>1129.0</td>\n",
              "      <td>463.0</td>\n",
              "      <td>1.8200</td>\n",
              "      <td>80100.0</td>\n",
              "    </tr>\n",
              "    <tr>\n",
              "      <th>2</th>\n",
              "      <td>-114.56</td>\n",
              "      <td>33.69</td>\n",
              "      <td>17.0</td>\n",
              "      <td>720.0</td>\n",
              "      <td>174.0</td>\n",
              "      <td>333.0</td>\n",
              "      <td>117.0</td>\n",
              "      <td>1.6509</td>\n",
              "      <td>85700.0</td>\n",
              "    </tr>\n",
              "    <tr>\n",
              "      <th>3</th>\n",
              "      <td>-114.57</td>\n",
              "      <td>33.64</td>\n",
              "      <td>14.0</td>\n",
              "      <td>1501.0</td>\n",
              "      <td>337.0</td>\n",
              "      <td>515.0</td>\n",
              "      <td>226.0</td>\n",
              "      <td>3.1917</td>\n",
              "      <td>73400.0</td>\n",
              "    </tr>\n",
              "    <tr>\n",
              "      <th>4</th>\n",
              "      <td>-114.57</td>\n",
              "      <td>33.57</td>\n",
              "      <td>20.0</td>\n",
              "      <td>1454.0</td>\n",
              "      <td>326.0</td>\n",
              "      <td>624.0</td>\n",
              "      <td>262.0</td>\n",
              "      <td>1.9250</td>\n",
              "      <td>65500.0</td>\n",
              "    </tr>\n",
              "    <tr>\n",
              "      <th>...</th>\n",
              "      <td>...</td>\n",
              "      <td>...</td>\n",
              "      <td>...</td>\n",
              "      <td>...</td>\n",
              "      <td>...</td>\n",
              "      <td>...</td>\n",
              "      <td>...</td>\n",
              "      <td>...</td>\n",
              "      <td>...</td>\n",
              "    </tr>\n",
              "    <tr>\n",
              "      <th>16995</th>\n",
              "      <td>-124.26</td>\n",
              "      <td>40.58</td>\n",
              "      <td>52.0</td>\n",
              "      <td>2217.0</td>\n",
              "      <td>394.0</td>\n",
              "      <td>907.0</td>\n",
              "      <td>369.0</td>\n",
              "      <td>2.3571</td>\n",
              "      <td>111400.0</td>\n",
              "    </tr>\n",
              "    <tr>\n",
              "      <th>16996</th>\n",
              "      <td>-124.27</td>\n",
              "      <td>40.69</td>\n",
              "      <td>36.0</td>\n",
              "      <td>2349.0</td>\n",
              "      <td>528.0</td>\n",
              "      <td>1194.0</td>\n",
              "      <td>465.0</td>\n",
              "      <td>2.5179</td>\n",
              "      <td>79000.0</td>\n",
              "    </tr>\n",
              "    <tr>\n",
              "      <th>16997</th>\n",
              "      <td>-124.30</td>\n",
              "      <td>41.84</td>\n",
              "      <td>17.0</td>\n",
              "      <td>2677.0</td>\n",
              "      <td>531.0</td>\n",
              "      <td>1244.0</td>\n",
              "      <td>456.0</td>\n",
              "      <td>3.0313</td>\n",
              "      <td>103600.0</td>\n",
              "    </tr>\n",
              "    <tr>\n",
              "      <th>16998</th>\n",
              "      <td>-124.30</td>\n",
              "      <td>41.80</td>\n",
              "      <td>19.0</td>\n",
              "      <td>2672.0</td>\n",
              "      <td>552.0</td>\n",
              "      <td>1298.0</td>\n",
              "      <td>478.0</td>\n",
              "      <td>1.9797</td>\n",
              "      <td>85800.0</td>\n",
              "    </tr>\n",
              "    <tr>\n",
              "      <th>16999</th>\n",
              "      <td>-124.35</td>\n",
              "      <td>40.54</td>\n",
              "      <td>52.0</td>\n",
              "      <td>1820.0</td>\n",
              "      <td>300.0</td>\n",
              "      <td>806.0</td>\n",
              "      <td>270.0</td>\n",
              "      <td>3.0147</td>\n",
              "      <td>94600.0</td>\n",
              "    </tr>\n",
              "  </tbody>\n",
              "</table>\n",
              "<p>17000 rows × 9 columns</p>\n",
              "</div>"
            ],
            "text/plain": [
              "       longitude  latitude  ...  median_income  median_house_value\n",
              "0        -114.31     34.19  ...         1.4936             66900.0\n",
              "1        -114.47     34.40  ...         1.8200             80100.0\n",
              "2        -114.56     33.69  ...         1.6509             85700.0\n",
              "3        -114.57     33.64  ...         3.1917             73400.0\n",
              "4        -114.57     33.57  ...         1.9250             65500.0\n",
              "...          ...       ...  ...            ...                 ...\n",
              "16995    -124.26     40.58  ...         2.3571            111400.0\n",
              "16996    -124.27     40.69  ...         2.5179             79000.0\n",
              "16997    -124.30     41.84  ...         3.0313            103600.0\n",
              "16998    -124.30     41.80  ...         1.9797             85800.0\n",
              "16999    -124.35     40.54  ...         3.0147             94600.0\n",
              "\n",
              "[17000 rows x 9 columns]"
            ]
          },
          "metadata": {
            "tags": []
          },
          "execution_count": 15
        }
      ]
    },
    {
      "cell_type": "markdown",
      "metadata": {
        "id": "JnzWg_TKsMfg"
      },
      "source": [
        "If you were wondering where the file came from, click the file folder symbol on the left of Google Colab. \n",
        "> *Folder symbol* -> sample_data -> *RIGHT CLICK* california_housing_train.csv -> Copy path"
      ]
    },
    {
      "cell_type": "markdown",
      "metadata": {
        "id": "JVbnQh9lsxJE"
      },
      "source": [
        "(the `.read_csv()` function requires a filepath, which we paste into the function)"
      ]
    }
  ]
}