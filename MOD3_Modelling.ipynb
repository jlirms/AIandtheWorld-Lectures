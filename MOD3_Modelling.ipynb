{
  "nbformat": 4,
  "nbformat_minor": 0,
  "metadata": {
    "colab": {
      "name": "MOD3_Modelling.ipynb",
      "provenance": [],
      "collapsed_sections": [
        "qllRm4XtQu1r",
        "AbhmOtJlWTTH",
        "HErmoFjVg-th",
        "4mVZEkzWAV-l",
        "3RNnyDHZqbuH",
        "TZA8J6hRlnK9",
        "wSfbkZr1msMg",
        "co2cJoR1a8Fs"
      ]
    },
    "kernelspec": {
      "name": "python3",
      "display_name": "Python 3"
    }
  },
  "cells": [
    {
      "cell_type": "markdown",
      "metadata": {
        "id": "qllRm4XtQu1r"
      },
      "source": [
        "# It's Day 3.0! "
      ]
    },
    {
      "cell_type": "markdown",
      "metadata": {
        "id": "0rgu7JSAQzMP"
      },
      "source": [
        "Keep in mind that transforming data takes up to 90% of the time for a typical data scientist...as we'll see today the modelling is a simple `.fit()` and wait. That's why we spent so long preparing out data, it will **ALL COME TOGETHER TODAY** Make sure you have all your transformations in order from Chapter 2 before moving on!!"
      ]
    },
    {
      "cell_type": "code",
      "metadata": {
        "id": "U_Sm5m5eRDcg",
        "outputId": "777e1419-26ad-4698-b866-479a66a71830",
        "colab": {
          "base_uri": "https://localhost:8080/",
          "height": 54
        }
      },
      "source": [
        "import pandas as pd\n",
        "import matplotlib.pyplot as plt\n",
        "import seaborn as sns\n",
        "\n",
        "\n",
        "from sklearn import linear_model\n",
        "from sklearn.metrics import mean_absolute_error\n",
        "from sklearn.metrics import mean_squared_error"
      ],
      "execution_count": null,
      "outputs": [
        {
          "output_type": "stream",
          "text": [
            "/usr/local/lib/python3.6/dist-packages/statsmodels/tools/_testing.py:19: FutureWarning: pandas.util.testing is deprecated. Use the functions in the public API at pandas.testing instead.\n",
            "  import pandas.util.testing as tm\n"
          ],
          "name": "stderr"
        }
      ]
    },
    {
      "cell_type": "markdown",
      "metadata": {
        "id": "BJq4TOVXgmy9"
      },
      "source": [
        "\n",
        "For this chapter we will model with the diamonds dataset.  [Additional info here](https://www.kaggle.com/shivam2503/diamonds)."
      ]
    },
    {
      "cell_type": "code",
      "metadata": {
        "id": "naq4PMHUQkJ1"
      },
      "source": [
        "df_in = sns.load_dataset('diamonds')"
      ],
      "execution_count": null,
      "outputs": []
    },
    {
      "cell_type": "code",
      "metadata": {
        "id": "ifXNjd2AhFZZ",
        "outputId": "d1f8f6df-f3cf-4b98-afa3-94f1f3a836ce",
        "colab": {
          "base_uri": "https://localhost:8080/",
          "height": 198
        }
      },
      "source": [
        "df_in.head()"
      ],
      "execution_count": null,
      "outputs": [
        {
          "output_type": "execute_result",
          "data": {
            "text/html": [
              "<div>\n",
              "<style scoped>\n",
              "    .dataframe tbody tr th:only-of-type {\n",
              "        vertical-align: middle;\n",
              "    }\n",
              "\n",
              "    .dataframe tbody tr th {\n",
              "        vertical-align: top;\n",
              "    }\n",
              "\n",
              "    .dataframe thead th {\n",
              "        text-align: right;\n",
              "    }\n",
              "</style>\n",
              "<table border=\"1\" class=\"dataframe\">\n",
              "  <thead>\n",
              "    <tr style=\"text-align: right;\">\n",
              "      <th></th>\n",
              "      <th>carat</th>\n",
              "      <th>cut</th>\n",
              "      <th>color</th>\n",
              "      <th>clarity</th>\n",
              "      <th>depth</th>\n",
              "      <th>table</th>\n",
              "      <th>price</th>\n",
              "      <th>x</th>\n",
              "      <th>y</th>\n",
              "      <th>z</th>\n",
              "    </tr>\n",
              "  </thead>\n",
              "  <tbody>\n",
              "    <tr>\n",
              "      <th>0</th>\n",
              "      <td>0.23</td>\n",
              "      <td>Ideal</td>\n",
              "      <td>E</td>\n",
              "      <td>SI2</td>\n",
              "      <td>61.5</td>\n",
              "      <td>55.0</td>\n",
              "      <td>326</td>\n",
              "      <td>3.95</td>\n",
              "      <td>3.98</td>\n",
              "      <td>2.43</td>\n",
              "    </tr>\n",
              "    <tr>\n",
              "      <th>1</th>\n",
              "      <td>0.21</td>\n",
              "      <td>Premium</td>\n",
              "      <td>E</td>\n",
              "      <td>SI1</td>\n",
              "      <td>59.8</td>\n",
              "      <td>61.0</td>\n",
              "      <td>326</td>\n",
              "      <td>3.89</td>\n",
              "      <td>3.84</td>\n",
              "      <td>2.31</td>\n",
              "    </tr>\n",
              "    <tr>\n",
              "      <th>2</th>\n",
              "      <td>0.23</td>\n",
              "      <td>Good</td>\n",
              "      <td>E</td>\n",
              "      <td>VS1</td>\n",
              "      <td>56.9</td>\n",
              "      <td>65.0</td>\n",
              "      <td>327</td>\n",
              "      <td>4.05</td>\n",
              "      <td>4.07</td>\n",
              "      <td>2.31</td>\n",
              "    </tr>\n",
              "    <tr>\n",
              "      <th>3</th>\n",
              "      <td>0.29</td>\n",
              "      <td>Premium</td>\n",
              "      <td>I</td>\n",
              "      <td>VS2</td>\n",
              "      <td>62.4</td>\n",
              "      <td>58.0</td>\n",
              "      <td>334</td>\n",
              "      <td>4.20</td>\n",
              "      <td>4.23</td>\n",
              "      <td>2.63</td>\n",
              "    </tr>\n",
              "    <tr>\n",
              "      <th>4</th>\n",
              "      <td>0.31</td>\n",
              "      <td>Good</td>\n",
              "      <td>J</td>\n",
              "      <td>SI2</td>\n",
              "      <td>63.3</td>\n",
              "      <td>58.0</td>\n",
              "      <td>335</td>\n",
              "      <td>4.34</td>\n",
              "      <td>4.35</td>\n",
              "      <td>2.75</td>\n",
              "    </tr>\n",
              "  </tbody>\n",
              "</table>\n",
              "</div>"
            ],
            "text/plain": [
              "   carat      cut color clarity  depth  table  price     x     y     z\n",
              "0   0.23    Ideal     E     SI2   61.5   55.0    326  3.95  3.98  2.43\n",
              "1   0.21  Premium     E     SI1   59.8   61.0    326  3.89  3.84  2.31\n",
              "2   0.23     Good     E     VS1   56.9   65.0    327  4.05  4.07  2.31\n",
              "3   0.29  Premium     I     VS2   62.4   58.0    334  4.20  4.23  2.63\n",
              "4   0.31     Good     J     SI2   63.3   58.0    335  4.34  4.35  2.75"
            ]
          },
          "metadata": {
            "tags": []
          },
          "execution_count": 3
        }
      ]
    },
    {
      "cell_type": "markdown",
      "metadata": {
        "id": "2h6dyE_ihWVP"
      },
      "source": [
        "First we check for null values, here's the shorthand version!"
      ]
    },
    {
      "cell_type": "code",
      "metadata": {
        "id": "X08lXex1Q_Ub",
        "outputId": "40e83c26-5f10-4660-a288-0f05e34a0b99",
        "colab": {
          "base_uri": "https://localhost:8080/",
          "height": 217
        }
      },
      "source": [
        "df_in.isnull().sum()"
      ],
      "execution_count": null,
      "outputs": [
        {
          "output_type": "execute_result",
          "data": {
            "text/plain": [
              "carat      0\n",
              "cut        0\n",
              "color      0\n",
              "clarity    0\n",
              "depth      0\n",
              "table      0\n",
              "price      0\n",
              "x          0\n",
              "y          0\n",
              "z          0\n",
              "dtype: int64"
            ]
          },
          "metadata": {
            "tags": []
          },
          "execution_count": 4
        }
      ]
    },
    {
      "cell_type": "markdown",
      "metadata": {
        "id": "1V7cIg1ghAKs"
      },
      "source": [
        "This is a useful function to see how many unique values are in each column!"
      ]
    },
    {
      "cell_type": "code",
      "metadata": {
        "id": "G0gwFP72RNLa",
        "outputId": "38876b01-5fca-4519-b65e-b9cb8bd77ee2",
        "colab": {
          "base_uri": "https://localhost:8080/",
          "height": 217
        }
      },
      "source": [
        "df_in.nunique()"
      ],
      "execution_count": null,
      "outputs": [
        {
          "output_type": "execute_result",
          "data": {
            "text/plain": [
              "carat        273\n",
              "cut            5\n",
              "color          7\n",
              "clarity        8\n",
              "depth        184\n",
              "table        127\n",
              "price      11602\n",
              "x            554\n",
              "y            552\n",
              "z            375\n",
              "dtype: int64"
            ]
          },
          "metadata": {
            "tags": []
          },
          "execution_count": 5
        }
      ]
    },
    {
      "cell_type": "markdown",
      "metadata": {
        "id": "G8XySbouhcXI"
      },
      "source": [
        "In particular the `'cut'`, `'color'` and `'clarity'` columns are definitely useful, but they are categories with 5 and 7 categories each, so we would have to make 12 different columns to encode all of them? eg. `df_in['is_Premium'], df_in['is_Ideal']`?"
      ]
    },
    {
      "cell_type": "code",
      "metadata": {
        "id": "7Kf8x4dMh-2T",
        "outputId": "b361c3c6-642c-483a-b1ce-644bd0a1342a",
        "colab": {
          "base_uri": "https://localhost:8080/",
          "height": 126
        }
      },
      "source": [
        "df_in['cut'].value_counts()"
      ],
      "execution_count": null,
      "outputs": [
        {
          "output_type": "execute_result",
          "data": {
            "text/plain": [
              "Ideal        21551\n",
              "Premium      13791\n",
              "Very Good    12082\n",
              "Good          4906\n",
              "Fair          1610\n",
              "Name: cut, dtype: int64"
            ]
          },
          "metadata": {
            "tags": []
          },
          "execution_count": 6
        }
      ]
    },
    {
      "cell_type": "code",
      "metadata": {
        "id": "rT_-pQVpD4oU",
        "outputId": "285b5a9e-6a9f-4196-c64b-5e028db25cc5",
        "colab": {
          "base_uri": "https://localhost:8080/",
          "height": 163
        }
      },
      "source": [
        "df_in['color'].value_counts()"
      ],
      "execution_count": null,
      "outputs": [
        {
          "output_type": "execute_result",
          "data": {
            "text/plain": [
              "G    11292\n",
              "E     9797\n",
              "F     9542\n",
              "H     8304\n",
              "D     6775\n",
              "I     5422\n",
              "J     2808\n",
              "Name: color, dtype: int64"
            ]
          },
          "metadata": {
            "tags": []
          },
          "execution_count": 7
        }
      ]
    },
    {
      "cell_type": "markdown",
      "metadata": {
        "id": "W2kvVGkmzjIo"
      },
      "source": [
        "`.value_counts()` is a very useful functino for your projects. So is `.groupby()`"
      ]
    },
    {
      "cell_type": "code",
      "metadata": {
        "id": "XQplxHMfzuCs",
        "outputId": "cb38f533-c1e4-4463-c182-abb7e40cd90f",
        "colab": {
          "base_uri": "https://localhost:8080/",
          "height": 225
        }
      },
      "source": [
        "df_in.groupby(by = 'cut').mean()"
      ],
      "execution_count": null,
      "outputs": [
        {
          "output_type": "execute_result",
          "data": {
            "text/html": [
              "<div>\n",
              "<style scoped>\n",
              "    .dataframe tbody tr th:only-of-type {\n",
              "        vertical-align: middle;\n",
              "    }\n",
              "\n",
              "    .dataframe tbody tr th {\n",
              "        vertical-align: top;\n",
              "    }\n",
              "\n",
              "    .dataframe thead th {\n",
              "        text-align: right;\n",
              "    }\n",
              "</style>\n",
              "<table border=\"1\" class=\"dataframe\">\n",
              "  <thead>\n",
              "    <tr style=\"text-align: right;\">\n",
              "      <th></th>\n",
              "      <th>carat</th>\n",
              "      <th>depth</th>\n",
              "      <th>table</th>\n",
              "      <th>price</th>\n",
              "      <th>x</th>\n",
              "      <th>y</th>\n",
              "      <th>z</th>\n",
              "    </tr>\n",
              "    <tr>\n",
              "      <th>cut</th>\n",
              "      <th></th>\n",
              "      <th></th>\n",
              "      <th></th>\n",
              "      <th></th>\n",
              "      <th></th>\n",
              "      <th></th>\n",
              "      <th></th>\n",
              "    </tr>\n",
              "  </thead>\n",
              "  <tbody>\n",
              "    <tr>\n",
              "      <th>Fair</th>\n",
              "      <td>1.046137</td>\n",
              "      <td>64.041677</td>\n",
              "      <td>59.053789</td>\n",
              "      <td>4358.757764</td>\n",
              "      <td>6.246894</td>\n",
              "      <td>6.182652</td>\n",
              "      <td>3.982770</td>\n",
              "    </tr>\n",
              "    <tr>\n",
              "      <th>Good</th>\n",
              "      <td>0.849185</td>\n",
              "      <td>62.365879</td>\n",
              "      <td>58.694639</td>\n",
              "      <td>3928.864452</td>\n",
              "      <td>5.838785</td>\n",
              "      <td>5.850744</td>\n",
              "      <td>3.639507</td>\n",
              "    </tr>\n",
              "    <tr>\n",
              "      <th>Ideal</th>\n",
              "      <td>0.702837</td>\n",
              "      <td>61.709401</td>\n",
              "      <td>55.951668</td>\n",
              "      <td>3457.541970</td>\n",
              "      <td>5.507451</td>\n",
              "      <td>5.520080</td>\n",
              "      <td>3.401448</td>\n",
              "    </tr>\n",
              "    <tr>\n",
              "      <th>Premium</th>\n",
              "      <td>0.891955</td>\n",
              "      <td>61.264673</td>\n",
              "      <td>58.746095</td>\n",
              "      <td>4584.257704</td>\n",
              "      <td>5.973887</td>\n",
              "      <td>5.944879</td>\n",
              "      <td>3.647124</td>\n",
              "    </tr>\n",
              "    <tr>\n",
              "      <th>Very Good</th>\n",
              "      <td>0.806381</td>\n",
              "      <td>61.818275</td>\n",
              "      <td>57.956150</td>\n",
              "      <td>3981.759891</td>\n",
              "      <td>5.740696</td>\n",
              "      <td>5.770026</td>\n",
              "      <td>3.559801</td>\n",
              "    </tr>\n",
              "  </tbody>\n",
              "</table>\n",
              "</div>"
            ],
            "text/plain": [
              "              carat      depth      table  ...         x         y         z\n",
              "cut                                        ...                              \n",
              "Fair       1.046137  64.041677  59.053789  ...  6.246894  6.182652  3.982770\n",
              "Good       0.849185  62.365879  58.694639  ...  5.838785  5.850744  3.639507\n",
              "Ideal      0.702837  61.709401  55.951668  ...  5.507451  5.520080  3.401448\n",
              "Premium    0.891955  61.264673  58.746095  ...  5.973887  5.944879  3.647124\n",
              "Very Good  0.806381  61.818275  57.956150  ...  5.740696  5.770026  3.559801\n",
              "\n",
              "[5 rows x 7 columns]"
            ]
          },
          "metadata": {
            "tags": []
          },
          "execution_count": 8
        }
      ]
    },
    {
      "cell_type": "code",
      "metadata": {
        "id": "4P61XM2Fz9Bi",
        "outputId": "4ff9f12a-e7a0-4eaf-8840-1a17f06739c9",
        "colab": {
          "base_uri": "https://localhost:8080/",
          "height": 1000
        }
      },
      "source": [
        "df_in.groupby(by = ['cut', 'color']).mean()"
      ],
      "execution_count": null,
      "outputs": [
        {
          "output_type": "execute_result",
          "data": {
            "text/html": [
              "<div>\n",
              "<style scoped>\n",
              "    .dataframe tbody tr th:only-of-type {\n",
              "        vertical-align: middle;\n",
              "    }\n",
              "\n",
              "    .dataframe tbody tr th {\n",
              "        vertical-align: top;\n",
              "    }\n",
              "\n",
              "    .dataframe thead th {\n",
              "        text-align: right;\n",
              "    }\n",
              "</style>\n",
              "<table border=\"1\" class=\"dataframe\">\n",
              "  <thead>\n",
              "    <tr style=\"text-align: right;\">\n",
              "      <th></th>\n",
              "      <th></th>\n",
              "      <th>carat</th>\n",
              "      <th>depth</th>\n",
              "      <th>table</th>\n",
              "      <th>price</th>\n",
              "      <th>x</th>\n",
              "      <th>y</th>\n",
              "      <th>z</th>\n",
              "    </tr>\n",
              "    <tr>\n",
              "      <th>cut</th>\n",
              "      <th>color</th>\n",
              "      <th></th>\n",
              "      <th></th>\n",
              "      <th></th>\n",
              "      <th></th>\n",
              "      <th></th>\n",
              "      <th></th>\n",
              "      <th></th>\n",
              "    </tr>\n",
              "  </thead>\n",
              "  <tbody>\n",
              "    <tr>\n",
              "      <th rowspan=\"7\" valign=\"top\">Fair</th>\n",
              "      <th>D</th>\n",
              "      <td>0.920123</td>\n",
              "      <td>64.048466</td>\n",
              "      <td>58.969325</td>\n",
              "      <td>4291.061350</td>\n",
              "      <td>6.018344</td>\n",
              "      <td>5.963190</td>\n",
              "      <td>3.839877</td>\n",
              "    </tr>\n",
              "    <tr>\n",
              "      <th>E</th>\n",
              "      <td>0.856607</td>\n",
              "      <td>63.319643</td>\n",
              "      <td>59.364732</td>\n",
              "      <td>3682.312500</td>\n",
              "      <td>5.909063</td>\n",
              "      <td>5.858214</td>\n",
              "      <td>3.722143</td>\n",
              "    </tr>\n",
              "    <tr>\n",
              "      <th>F</th>\n",
              "      <td>0.904712</td>\n",
              "      <td>63.508013</td>\n",
              "      <td>59.453205</td>\n",
              "      <td>3827.003205</td>\n",
              "      <td>5.990513</td>\n",
              "      <td>5.931122</td>\n",
              "      <td>3.787821</td>\n",
              "    </tr>\n",
              "    <tr>\n",
              "      <th>G</th>\n",
              "      <td>1.023822</td>\n",
              "      <td>64.339809</td>\n",
              "      <td>58.773248</td>\n",
              "      <td>4239.254777</td>\n",
              "      <td>6.173822</td>\n",
              "      <td>6.114076</td>\n",
              "      <td>3.963153</td>\n",
              "    </tr>\n",
              "    <tr>\n",
              "      <th>H</th>\n",
              "      <td>1.219175</td>\n",
              "      <td>64.585149</td>\n",
              "      <td>58.696370</td>\n",
              "      <td>5135.683168</td>\n",
              "      <td>6.579373</td>\n",
              "      <td>6.497393</td>\n",
              "      <td>4.219373</td>\n",
              "    </tr>\n",
              "    <tr>\n",
              "      <th>I</th>\n",
              "      <td>1.198057</td>\n",
              "      <td>64.220571</td>\n",
              "      <td>59.237143</td>\n",
              "      <td>4685.445714</td>\n",
              "      <td>6.564457</td>\n",
              "      <td>6.493486</td>\n",
              "      <td>4.193486</td>\n",
              "    </tr>\n",
              "    <tr>\n",
              "      <th>J</th>\n",
              "      <td>1.341176</td>\n",
              "      <td>64.357143</td>\n",
              "      <td>58.917647</td>\n",
              "      <td>4975.655462</td>\n",
              "      <td>6.747311</td>\n",
              "      <td>6.675882</td>\n",
              "      <td>4.319664</td>\n",
              "    </tr>\n",
              "    <tr>\n",
              "      <th rowspan=\"7\" valign=\"top\">Good</th>\n",
              "      <th>D</th>\n",
              "      <td>0.744517</td>\n",
              "      <td>62.365710</td>\n",
              "      <td>58.541541</td>\n",
              "      <td>3405.382175</td>\n",
              "      <td>5.620076</td>\n",
              "      <td>5.633897</td>\n",
              "      <td>3.504864</td>\n",
              "    </tr>\n",
              "    <tr>\n",
              "      <th>E</th>\n",
              "      <td>0.745134</td>\n",
              "      <td>62.203751</td>\n",
              "      <td>58.779957</td>\n",
              "      <td>3423.644159</td>\n",
              "      <td>5.617889</td>\n",
              "      <td>5.632454</td>\n",
              "      <td>3.496066</td>\n",
              "    </tr>\n",
              "    <tr>\n",
              "      <th>F</th>\n",
              "      <td>0.775930</td>\n",
              "      <td>62.202310</td>\n",
              "      <td>58.910891</td>\n",
              "      <td>3495.750275</td>\n",
              "      <td>5.693443</td>\n",
              "      <td>5.709659</td>\n",
              "      <td>3.544609</td>\n",
              "    </tr>\n",
              "    <tr>\n",
              "      <th>G</th>\n",
              "      <td>0.850896</td>\n",
              "      <td>62.526636</td>\n",
              "      <td>58.471986</td>\n",
              "      <td>4123.482204</td>\n",
              "      <td>5.850264</td>\n",
              "      <td>5.862824</td>\n",
              "      <td>3.647922</td>\n",
              "    </tr>\n",
              "    <tr>\n",
              "      <th>H</th>\n",
              "      <td>0.914729</td>\n",
              "      <td>62.499573</td>\n",
              "      <td>58.611111</td>\n",
              "      <td>4276.254986</td>\n",
              "      <td>5.968789</td>\n",
              "      <td>5.974245</td>\n",
              "      <td>3.726937</td>\n",
              "    </tr>\n",
              "    <tr>\n",
              "      <th>I</th>\n",
              "      <td>1.057222</td>\n",
              "      <td>62.475096</td>\n",
              "      <td>58.773946</td>\n",
              "      <td>5078.532567</td>\n",
              "      <td>6.253544</td>\n",
              "      <td>6.260536</td>\n",
              "      <td>3.901513</td>\n",
              "    </tr>\n",
              "    <tr>\n",
              "      <th>J</th>\n",
              "      <td>1.099544</td>\n",
              "      <td>62.395765</td>\n",
              "      <td>58.813029</td>\n",
              "      <td>4574.172638</td>\n",
              "      <td>6.377003</td>\n",
              "      <td>6.386026</td>\n",
              "      <td>3.977459</td>\n",
              "    </tr>\n",
              "    <tr>\n",
              "      <th rowspan=\"7\" valign=\"top\">Ideal</th>\n",
              "      <th>D</th>\n",
              "      <td>0.565766</td>\n",
              "      <td>61.678370</td>\n",
              "      <td>55.965632</td>\n",
              "      <td>2629.094566</td>\n",
              "      <td>5.186704</td>\n",
              "      <td>5.196224</td>\n",
              "      <td>3.201800</td>\n",
              "    </tr>\n",
              "    <tr>\n",
              "      <th>E</th>\n",
              "      <td>0.578401</td>\n",
              "      <td>61.686677</td>\n",
              "      <td>55.967461</td>\n",
              "      <td>2597.550090</td>\n",
              "      <td>5.215762</td>\n",
              "      <td>5.232214</td>\n",
              "      <td>3.220346</td>\n",
              "    </tr>\n",
              "    <tr>\n",
              "      <th>F</th>\n",
              "      <td>0.655829</td>\n",
              "      <td>61.675562</td>\n",
              "      <td>55.924203</td>\n",
              "      <td>3374.939362</td>\n",
              "      <td>5.408751</td>\n",
              "      <td>5.422250</td>\n",
              "      <td>3.338732</td>\n",
              "    </tr>\n",
              "    <tr>\n",
              "      <th>G</th>\n",
              "      <td>0.700715</td>\n",
              "      <td>61.700164</td>\n",
              "      <td>55.902375</td>\n",
              "      <td>3720.706388</td>\n",
              "      <td>5.511214</td>\n",
              "      <td>5.524007</td>\n",
              "      <td>3.403120</td>\n",
              "    </tr>\n",
              "    <tr>\n",
              "      <th>H</th>\n",
              "      <td>0.799525</td>\n",
              "      <td>61.733194</td>\n",
              "      <td>55.965843</td>\n",
              "      <td>3889.334831</td>\n",
              "      <td>5.731377</td>\n",
              "      <td>5.740446</td>\n",
              "      <td>3.539917</td>\n",
              "    </tr>\n",
              "    <tr>\n",
              "      <th>I</th>\n",
              "      <td>0.913029</td>\n",
              "      <td>61.793598</td>\n",
              "      <td>56.021357</td>\n",
              "      <td>4451.970377</td>\n",
              "      <td>5.976197</td>\n",
              "      <td>5.989479</td>\n",
              "      <td>3.695270</td>\n",
              "    </tr>\n",
              "    <tr>\n",
              "      <th>J</th>\n",
              "      <td>1.063594</td>\n",
              "      <td>61.821987</td>\n",
              "      <td>56.012612</td>\n",
              "      <td>4918.186384</td>\n",
              "      <td>6.320045</td>\n",
              "      <td>6.332098</td>\n",
              "      <td>3.912757</td>\n",
              "    </tr>\n",
              "    <tr>\n",
              "      <th rowspan=\"7\" valign=\"top\">Premium</th>\n",
              "      <th>D</th>\n",
              "      <td>0.721547</td>\n",
              "      <td>61.169245</td>\n",
              "      <td>58.718964</td>\n",
              "      <td>3631.292576</td>\n",
              "      <td>5.599869</td>\n",
              "      <td>5.571472</td>\n",
              "      <td>3.415926</td>\n",
              "    </tr>\n",
              "    <tr>\n",
              "      <th>E</th>\n",
              "      <td>0.717745</td>\n",
              "      <td>61.175909</td>\n",
              "      <td>58.779461</td>\n",
              "      <td>3538.914420</td>\n",
              "      <td>5.587116</td>\n",
              "      <td>5.558353</td>\n",
              "      <td>3.408875</td>\n",
              "    </tr>\n",
              "    <tr>\n",
              "      <th>F</th>\n",
              "      <td>0.827036</td>\n",
              "      <td>61.259974</td>\n",
              "      <td>58.679279</td>\n",
              "      <td>4324.890176</td>\n",
              "      <td>5.876692</td>\n",
              "      <td>5.844655</td>\n",
              "      <td>3.588391</td>\n",
              "    </tr>\n",
              "    <tr>\n",
              "      <th>G</th>\n",
              "      <td>0.841488</td>\n",
              "      <td>61.279480</td>\n",
              "      <td>58.702360</td>\n",
              "      <td>4500.742134</td>\n",
              "      <td>5.864254</td>\n",
              "      <td>5.833345</td>\n",
              "      <td>3.579641</td>\n",
              "    </tr>\n",
              "    <tr>\n",
              "      <th>H</th>\n",
              "      <td>1.016449</td>\n",
              "      <td>61.322034</td>\n",
              "      <td>58.792034</td>\n",
              "      <td>5216.706780</td>\n",
              "      <td>6.244508</td>\n",
              "      <td>6.228110</td>\n",
              "      <td>3.811699</td>\n",
              "    </tr>\n",
              "    <tr>\n",
              "      <th>I</th>\n",
              "      <td>1.144937</td>\n",
              "      <td>61.328641</td>\n",
              "      <td>58.771849</td>\n",
              "      <td>5946.180672</td>\n",
              "      <td>6.489531</td>\n",
              "      <td>6.453270</td>\n",
              "      <td>3.963894</td>\n",
              "    </tr>\n",
              "    <tr>\n",
              "      <th>J</th>\n",
              "      <td>1.293094</td>\n",
              "      <td>61.390099</td>\n",
              "      <td>58.874752</td>\n",
              "      <td>6294.591584</td>\n",
              "      <td>6.809975</td>\n",
              "      <td>6.770644</td>\n",
              "      <td>4.168020</td>\n",
              "    </tr>\n",
              "    <tr>\n",
              "      <th rowspan=\"7\" valign=\"top\">Very Good</th>\n",
              "      <th>D</th>\n",
              "      <td>0.696424</td>\n",
              "      <td>61.750165</td>\n",
              "      <td>58.041309</td>\n",
              "      <td>3470.467284</td>\n",
              "      <td>5.501210</td>\n",
              "      <td>5.531613</td>\n",
              "      <td>3.405089</td>\n",
              "    </tr>\n",
              "    <tr>\n",
              "      <th>E</th>\n",
              "      <td>0.676317</td>\n",
              "      <td>61.730250</td>\n",
              "      <td>58.038875</td>\n",
              "      <td>3214.652083</td>\n",
              "      <td>5.432467</td>\n",
              "      <td>5.463213</td>\n",
              "      <td>3.373996</td>\n",
              "    </tr>\n",
              "    <tr>\n",
              "      <th>F</th>\n",
              "      <td>0.740961</td>\n",
              "      <td>61.721627</td>\n",
              "      <td>57.848429</td>\n",
              "      <td>3778.820240</td>\n",
              "      <td>5.610504</td>\n",
              "      <td>5.642717</td>\n",
              "      <td>3.472902</td>\n",
              "    </tr>\n",
              "    <tr>\n",
              "      <th>G</th>\n",
              "      <td>0.766799</td>\n",
              "      <td>61.841279</td>\n",
              "      <td>57.784428</td>\n",
              "      <td>3872.753806</td>\n",
              "      <td>5.660204</td>\n",
              "      <td>5.688752</td>\n",
              "      <td>3.509883</td>\n",
              "    </tr>\n",
              "    <tr>\n",
              "      <th>H</th>\n",
              "      <td>0.915948</td>\n",
              "      <td>61.968366</td>\n",
              "      <td>57.903015</td>\n",
              "      <td>4535.390351</td>\n",
              "      <td>5.982286</td>\n",
              "      <td>6.006272</td>\n",
              "      <td>3.713849</td>\n",
              "    </tr>\n",
              "    <tr>\n",
              "      <th>I</th>\n",
              "      <td>1.046952</td>\n",
              "      <td>61.934551</td>\n",
              "      <td>58.105150</td>\n",
              "      <td>5255.879568</td>\n",
              "      <td>6.272259</td>\n",
              "      <td>6.299028</td>\n",
              "      <td>3.890972</td>\n",
              "    </tr>\n",
              "    <tr>\n",
              "      <th>J</th>\n",
              "      <td>1.133215</td>\n",
              "      <td>61.902065</td>\n",
              "      <td>58.277729</td>\n",
              "      <td>5103.513274</td>\n",
              "      <td>6.460782</td>\n",
              "      <td>6.495074</td>\n",
              "      <td>4.006873</td>\n",
              "    </tr>\n",
              "  </tbody>\n",
              "</table>\n",
              "</div>"
            ],
            "text/plain": [
              "                    carat      depth      table  ...         x         y         z\n",
              "cut       color                                  ...                              \n",
              "Fair      D      0.920123  64.048466  58.969325  ...  6.018344  5.963190  3.839877\n",
              "          E      0.856607  63.319643  59.364732  ...  5.909063  5.858214  3.722143\n",
              "          F      0.904712  63.508013  59.453205  ...  5.990513  5.931122  3.787821\n",
              "          G      1.023822  64.339809  58.773248  ...  6.173822  6.114076  3.963153\n",
              "          H      1.219175  64.585149  58.696370  ...  6.579373  6.497393  4.219373\n",
              "          I      1.198057  64.220571  59.237143  ...  6.564457  6.493486  4.193486\n",
              "          J      1.341176  64.357143  58.917647  ...  6.747311  6.675882  4.319664\n",
              "Good      D      0.744517  62.365710  58.541541  ...  5.620076  5.633897  3.504864\n",
              "          E      0.745134  62.203751  58.779957  ...  5.617889  5.632454  3.496066\n",
              "          F      0.775930  62.202310  58.910891  ...  5.693443  5.709659  3.544609\n",
              "          G      0.850896  62.526636  58.471986  ...  5.850264  5.862824  3.647922\n",
              "          H      0.914729  62.499573  58.611111  ...  5.968789  5.974245  3.726937\n",
              "          I      1.057222  62.475096  58.773946  ...  6.253544  6.260536  3.901513\n",
              "          J      1.099544  62.395765  58.813029  ...  6.377003  6.386026  3.977459\n",
              "Ideal     D      0.565766  61.678370  55.965632  ...  5.186704  5.196224  3.201800\n",
              "          E      0.578401  61.686677  55.967461  ...  5.215762  5.232214  3.220346\n",
              "          F      0.655829  61.675562  55.924203  ...  5.408751  5.422250  3.338732\n",
              "          G      0.700715  61.700164  55.902375  ...  5.511214  5.524007  3.403120\n",
              "          H      0.799525  61.733194  55.965843  ...  5.731377  5.740446  3.539917\n",
              "          I      0.913029  61.793598  56.021357  ...  5.976197  5.989479  3.695270\n",
              "          J      1.063594  61.821987  56.012612  ...  6.320045  6.332098  3.912757\n",
              "Premium   D      0.721547  61.169245  58.718964  ...  5.599869  5.571472  3.415926\n",
              "          E      0.717745  61.175909  58.779461  ...  5.587116  5.558353  3.408875\n",
              "          F      0.827036  61.259974  58.679279  ...  5.876692  5.844655  3.588391\n",
              "          G      0.841488  61.279480  58.702360  ...  5.864254  5.833345  3.579641\n",
              "          H      1.016449  61.322034  58.792034  ...  6.244508  6.228110  3.811699\n",
              "          I      1.144937  61.328641  58.771849  ...  6.489531  6.453270  3.963894\n",
              "          J      1.293094  61.390099  58.874752  ...  6.809975  6.770644  4.168020\n",
              "Very Good D      0.696424  61.750165  58.041309  ...  5.501210  5.531613  3.405089\n",
              "          E      0.676317  61.730250  58.038875  ...  5.432467  5.463213  3.373996\n",
              "          F      0.740961  61.721627  57.848429  ...  5.610504  5.642717  3.472902\n",
              "          G      0.766799  61.841279  57.784428  ...  5.660204  5.688752  3.509883\n",
              "          H      0.915948  61.968366  57.903015  ...  5.982286  6.006272  3.713849\n",
              "          I      1.046952  61.934551  58.105150  ...  6.272259  6.299028  3.890972\n",
              "          J      1.133215  61.902065  58.277729  ...  6.460782  6.495074  4.006873\n",
              "\n",
              "[35 rows x 7 columns]"
            ]
          },
          "metadata": {
            "tags": []
          },
          "execution_count": 9
        }
      ]
    },
    {
      "cell_type": "markdown",
      "metadata": {
        "id": "Mqli_CTbi_PH"
      },
      "source": [
        "We notice that the color of a diamond is actually graded on a scale, more info [here](https://www.lumeradiamonds.com/diamond-education/diamond-color). So unlike the usa, japan, europe situation, it makes sense for us to have a numerical ranking where 1 is D, 2 is E, 3 is F...etc. We do this using the map function on the `df_in['color']` column"
      ]
    },
    {
      "cell_type": "code",
      "metadata": {
        "id": "R_wL27xZi9nb",
        "outputId": "8eceb4c2-19f5-4636-ce24-7b7b3f3b63de",
        "colab": {
          "base_uri": "https://localhost:8080/",
          "height": 235
        }
      },
      "source": [
        "df_in['color'].map( {'D':1 , 'E':2, 'F':3, 'G':4,'H':5,'I':6 ,'J':7})"
      ],
      "execution_count": null,
      "outputs": [
        {
          "output_type": "execute_result",
          "data": {
            "text/plain": [
              "0        2\n",
              "1        2\n",
              "2        2\n",
              "3        6\n",
              "4        7\n",
              "        ..\n",
              "53935    1\n",
              "53936    1\n",
              "53937    1\n",
              "53938    5\n",
              "53939    1\n",
              "Name: color, Length: 53940, dtype: int64"
            ]
          },
          "metadata": {
            "tags": []
          },
          "execution_count": 8
        }
      ]
    },
    {
      "cell_type": "markdown",
      "metadata": {
        "id": "dl2nxrFfj4Br"
      },
      "source": [
        "Inside the `.map()` function is a dictionary, a ***new data type*** indicated by braces `{ }`. Inside we have these pairs of *keys* and *values* the *key* being the original value (a string), the value being the mapping (an integer). Once we're happy with the result we can make it a new column."
      ]
    },
    {
      "cell_type": "code",
      "metadata": {
        "id": "PvTmN1E2kbh4"
      },
      "source": [
        "df_in['color_mapped'] = df_in['color'].map( {'D':1 , 'E':2, 'F':3, 'G':4,'H':5,'I':6 ,'J':7})"
      ],
      "execution_count": null,
      "outputs": []
    },
    {
      "cell_type": "code",
      "metadata": {
        "id": "gNdX4dfIki_R"
      },
      "source": [
        "### Mandatory exercise, import the diamonds dataset and map the 'cut' column to numbers 1 to 5, Note that ideal is better than premium and fair is the worst\n",
        "## make a new column of 'cut_mapped'"
      ],
      "execution_count": null,
      "outputs": []
    },
    {
      "cell_type": "markdown",
      "metadata": {
        "id": "fcfJ7bDQlQUd"
      },
      "source": [
        "The advantage of this mapping is that it's easier to make but the 1 + 2 = 3 problem still exists and we are still unable to say that a D is twice as good as E and 3 times as good as F? We should go back to the True or False which we learned yesterday. "
      ]
    },
    {
      "cell_type": "code",
      "metadata": {
        "id": "eYYaZPZlstC5",
        "outputId": "d7e9bc2c-e015-4a0f-d995-8cde220da240",
        "colab": {
          "base_uri": "https://localhost:8080/",
          "height": 126
        }
      },
      "source": [
        "df_in['cut'].value_counts()"
      ],
      "execution_count": null,
      "outputs": [
        {
          "output_type": "execute_result",
          "data": {
            "text/plain": [
              "Ideal        21551\n",
              "Premium      13791\n",
              "Very Good    12082\n",
              "Good          4906\n",
              "Fair          1610\n",
              "Name: cut, dtype: int64"
            ]
          },
          "metadata": {
            "tags": []
          },
          "execution_count": 11
        }
      ]
    },
    {
      "cell_type": "code",
      "metadata": {
        "id": "vFSlca7Brb8w"
      },
      "source": [
        "df_in['is_Ideal'] = (df_in['cut'] == 'Ideal') \n",
        "df_in['is_Premium'] = (df_in['cut'] == 'Premium') \n",
        "df_in['is_Very Good'] = (df_in['cut'] == 'Very Good') \n",
        "df_in['is_Good'] = (df_in['cut'] == 'Good') \n",
        "df_in['is_Fair'] = (df_in['cut'] == 'Fair') "
      ],
      "execution_count": null,
      "outputs": []
    },
    {
      "cell_type": "code",
      "metadata": {
        "id": "Xlk2ijF6s7Tc",
        "outputId": "06dcaef0-8d15-49c4-d35b-8769d5faed31",
        "colab": {
          "base_uri": "https://localhost:8080/",
          "height": 407
        }
      },
      "source": [
        "df_in"
      ],
      "execution_count": null,
      "outputs": [
        {
          "output_type": "execute_result",
          "data": {
            "text/html": [
              "<div>\n",
              "<style scoped>\n",
              "    .dataframe tbody tr th:only-of-type {\n",
              "        vertical-align: middle;\n",
              "    }\n",
              "\n",
              "    .dataframe tbody tr th {\n",
              "        vertical-align: top;\n",
              "    }\n",
              "\n",
              "    .dataframe thead th {\n",
              "        text-align: right;\n",
              "    }\n",
              "</style>\n",
              "<table border=\"1\" class=\"dataframe\">\n",
              "  <thead>\n",
              "    <tr style=\"text-align: right;\">\n",
              "      <th></th>\n",
              "      <th>carat</th>\n",
              "      <th>cut</th>\n",
              "      <th>color</th>\n",
              "      <th>clarity</th>\n",
              "      <th>depth</th>\n",
              "      <th>table</th>\n",
              "      <th>price</th>\n",
              "      <th>x</th>\n",
              "      <th>y</th>\n",
              "      <th>z</th>\n",
              "      <th>color_mapped</th>\n",
              "      <th>is_Ideal</th>\n",
              "      <th>is_Premium</th>\n",
              "      <th>is_Very Good</th>\n",
              "      <th>is_Good</th>\n",
              "      <th>is_Fair</th>\n",
              "    </tr>\n",
              "  </thead>\n",
              "  <tbody>\n",
              "    <tr>\n",
              "      <th>0</th>\n",
              "      <td>0.23</td>\n",
              "      <td>Ideal</td>\n",
              "      <td>E</td>\n",
              "      <td>SI2</td>\n",
              "      <td>61.5</td>\n",
              "      <td>55.0</td>\n",
              "      <td>326</td>\n",
              "      <td>3.95</td>\n",
              "      <td>3.98</td>\n",
              "      <td>2.43</td>\n",
              "      <td>2</td>\n",
              "      <td>True</td>\n",
              "      <td>False</td>\n",
              "      <td>False</td>\n",
              "      <td>False</td>\n",
              "      <td>False</td>\n",
              "    </tr>\n",
              "    <tr>\n",
              "      <th>1</th>\n",
              "      <td>0.21</td>\n",
              "      <td>Premium</td>\n",
              "      <td>E</td>\n",
              "      <td>SI1</td>\n",
              "      <td>59.8</td>\n",
              "      <td>61.0</td>\n",
              "      <td>326</td>\n",
              "      <td>3.89</td>\n",
              "      <td>3.84</td>\n",
              "      <td>2.31</td>\n",
              "      <td>2</td>\n",
              "      <td>False</td>\n",
              "      <td>True</td>\n",
              "      <td>False</td>\n",
              "      <td>False</td>\n",
              "      <td>False</td>\n",
              "    </tr>\n",
              "    <tr>\n",
              "      <th>2</th>\n",
              "      <td>0.23</td>\n",
              "      <td>Good</td>\n",
              "      <td>E</td>\n",
              "      <td>VS1</td>\n",
              "      <td>56.9</td>\n",
              "      <td>65.0</td>\n",
              "      <td>327</td>\n",
              "      <td>4.05</td>\n",
              "      <td>4.07</td>\n",
              "      <td>2.31</td>\n",
              "      <td>2</td>\n",
              "      <td>False</td>\n",
              "      <td>False</td>\n",
              "      <td>False</td>\n",
              "      <td>True</td>\n",
              "      <td>False</td>\n",
              "    </tr>\n",
              "    <tr>\n",
              "      <th>3</th>\n",
              "      <td>0.29</td>\n",
              "      <td>Premium</td>\n",
              "      <td>I</td>\n",
              "      <td>VS2</td>\n",
              "      <td>62.4</td>\n",
              "      <td>58.0</td>\n",
              "      <td>334</td>\n",
              "      <td>4.20</td>\n",
              "      <td>4.23</td>\n",
              "      <td>2.63</td>\n",
              "      <td>6</td>\n",
              "      <td>False</td>\n",
              "      <td>True</td>\n",
              "      <td>False</td>\n",
              "      <td>False</td>\n",
              "      <td>False</td>\n",
              "    </tr>\n",
              "    <tr>\n",
              "      <th>4</th>\n",
              "      <td>0.31</td>\n",
              "      <td>Good</td>\n",
              "      <td>J</td>\n",
              "      <td>SI2</td>\n",
              "      <td>63.3</td>\n",
              "      <td>58.0</td>\n",
              "      <td>335</td>\n",
              "      <td>4.34</td>\n",
              "      <td>4.35</td>\n",
              "      <td>2.75</td>\n",
              "      <td>7</td>\n",
              "      <td>False</td>\n",
              "      <td>False</td>\n",
              "      <td>False</td>\n",
              "      <td>True</td>\n",
              "      <td>False</td>\n",
              "    </tr>\n",
              "    <tr>\n",
              "      <th>...</th>\n",
              "      <td>...</td>\n",
              "      <td>...</td>\n",
              "      <td>...</td>\n",
              "      <td>...</td>\n",
              "      <td>...</td>\n",
              "      <td>...</td>\n",
              "      <td>...</td>\n",
              "      <td>...</td>\n",
              "      <td>...</td>\n",
              "      <td>...</td>\n",
              "      <td>...</td>\n",
              "      <td>...</td>\n",
              "      <td>...</td>\n",
              "      <td>...</td>\n",
              "      <td>...</td>\n",
              "      <td>...</td>\n",
              "    </tr>\n",
              "    <tr>\n",
              "      <th>53935</th>\n",
              "      <td>0.72</td>\n",
              "      <td>Ideal</td>\n",
              "      <td>D</td>\n",
              "      <td>SI1</td>\n",
              "      <td>60.8</td>\n",
              "      <td>57.0</td>\n",
              "      <td>2757</td>\n",
              "      <td>5.75</td>\n",
              "      <td>5.76</td>\n",
              "      <td>3.50</td>\n",
              "      <td>1</td>\n",
              "      <td>True</td>\n",
              "      <td>False</td>\n",
              "      <td>False</td>\n",
              "      <td>False</td>\n",
              "      <td>False</td>\n",
              "    </tr>\n",
              "    <tr>\n",
              "      <th>53936</th>\n",
              "      <td>0.72</td>\n",
              "      <td>Good</td>\n",
              "      <td>D</td>\n",
              "      <td>SI1</td>\n",
              "      <td>63.1</td>\n",
              "      <td>55.0</td>\n",
              "      <td>2757</td>\n",
              "      <td>5.69</td>\n",
              "      <td>5.75</td>\n",
              "      <td>3.61</td>\n",
              "      <td>1</td>\n",
              "      <td>False</td>\n",
              "      <td>False</td>\n",
              "      <td>False</td>\n",
              "      <td>True</td>\n",
              "      <td>False</td>\n",
              "    </tr>\n",
              "    <tr>\n",
              "      <th>53937</th>\n",
              "      <td>0.70</td>\n",
              "      <td>Very Good</td>\n",
              "      <td>D</td>\n",
              "      <td>SI1</td>\n",
              "      <td>62.8</td>\n",
              "      <td>60.0</td>\n",
              "      <td>2757</td>\n",
              "      <td>5.66</td>\n",
              "      <td>5.68</td>\n",
              "      <td>3.56</td>\n",
              "      <td>1</td>\n",
              "      <td>False</td>\n",
              "      <td>False</td>\n",
              "      <td>True</td>\n",
              "      <td>False</td>\n",
              "      <td>False</td>\n",
              "    </tr>\n",
              "    <tr>\n",
              "      <th>53938</th>\n",
              "      <td>0.86</td>\n",
              "      <td>Premium</td>\n",
              "      <td>H</td>\n",
              "      <td>SI2</td>\n",
              "      <td>61.0</td>\n",
              "      <td>58.0</td>\n",
              "      <td>2757</td>\n",
              "      <td>6.15</td>\n",
              "      <td>6.12</td>\n",
              "      <td>3.74</td>\n",
              "      <td>5</td>\n",
              "      <td>False</td>\n",
              "      <td>True</td>\n",
              "      <td>False</td>\n",
              "      <td>False</td>\n",
              "      <td>False</td>\n",
              "    </tr>\n",
              "    <tr>\n",
              "      <th>53939</th>\n",
              "      <td>0.75</td>\n",
              "      <td>Ideal</td>\n",
              "      <td>D</td>\n",
              "      <td>SI2</td>\n",
              "      <td>62.2</td>\n",
              "      <td>55.0</td>\n",
              "      <td>2757</td>\n",
              "      <td>5.83</td>\n",
              "      <td>5.87</td>\n",
              "      <td>3.64</td>\n",
              "      <td>1</td>\n",
              "      <td>True</td>\n",
              "      <td>False</td>\n",
              "      <td>False</td>\n",
              "      <td>False</td>\n",
              "      <td>False</td>\n",
              "    </tr>\n",
              "  </tbody>\n",
              "</table>\n",
              "<p>53940 rows × 16 columns</p>\n",
              "</div>"
            ],
            "text/plain": [
              "       carat        cut color  ... is_Very Good  is_Good  is_Fair\n",
              "0       0.23      Ideal     E  ...        False    False    False\n",
              "1       0.21    Premium     E  ...        False    False    False\n",
              "2       0.23       Good     E  ...        False     True    False\n",
              "3       0.29    Premium     I  ...        False    False    False\n",
              "4       0.31       Good     J  ...        False     True    False\n",
              "...      ...        ...   ...  ...          ...      ...      ...\n",
              "53935   0.72      Ideal     D  ...        False    False    False\n",
              "53936   0.72       Good     D  ...        False     True    False\n",
              "53937   0.70  Very Good     D  ...         True    False    False\n",
              "53938   0.86    Premium     H  ...        False    False    False\n",
              "53939   0.75      Ideal     D  ...        False    False    False\n",
              "\n",
              "[53940 rows x 16 columns]"
            ]
          },
          "metadata": {
            "tags": []
          },
          "execution_count": 13
        }
      ]
    },
    {
      "cell_type": "markdown",
      "metadata": {
        "id": "9KHiiYvhs-HJ"
      },
      "source": [
        "Looks good! Now let's drop any columns we no longer need. We can drop multiple columns by passing in a **LIST** of column names into the `columns = ` input of the `.drop()` function. "
      ]
    },
    {
      "cell_type": "code",
      "metadata": {
        "id": "7CMOB0Q8s9n8",
        "outputId": "6b4d9a2f-b281-447c-a27b-1b633fbdb68f",
        "colab": {
          "base_uri": "https://localhost:8080/",
          "height": 402
        }
      },
      "source": [
        "df_in.drop(columns = ['cut','color','clarity']) ## DROP COLUMN MADE FROM EXERCISE"
      ],
      "execution_count": null,
      "outputs": [
        {
          "output_type": "execute_result",
          "data": {
            "text/html": [
              "<div>\n",
              "<style scoped>\n",
              "    .dataframe tbody tr th:only-of-type {\n",
              "        vertical-align: middle;\n",
              "    }\n",
              "\n",
              "    .dataframe tbody tr th {\n",
              "        vertical-align: top;\n",
              "    }\n",
              "\n",
              "    .dataframe thead th {\n",
              "        text-align: right;\n",
              "    }\n",
              "</style>\n",
              "<table border=\"1\" class=\"dataframe\">\n",
              "  <thead>\n",
              "    <tr style=\"text-align: right;\">\n",
              "      <th></th>\n",
              "      <th>carat</th>\n",
              "      <th>depth</th>\n",
              "      <th>table</th>\n",
              "      <th>price</th>\n",
              "      <th>x</th>\n",
              "      <th>y</th>\n",
              "      <th>z</th>\n",
              "      <th>color_mapped</th>\n",
              "      <th>is_Ideal</th>\n",
              "      <th>is_Premium</th>\n",
              "      <th>is_Very Good</th>\n",
              "      <th>is_Good</th>\n",
              "      <th>is_Fair</th>\n",
              "    </tr>\n",
              "  </thead>\n",
              "  <tbody>\n",
              "    <tr>\n",
              "      <th>0</th>\n",
              "      <td>0.23</td>\n",
              "      <td>61.5</td>\n",
              "      <td>55.0</td>\n",
              "      <td>326</td>\n",
              "      <td>3.95</td>\n",
              "      <td>3.98</td>\n",
              "      <td>2.43</td>\n",
              "      <td>2</td>\n",
              "      <td>True</td>\n",
              "      <td>False</td>\n",
              "      <td>False</td>\n",
              "      <td>False</td>\n",
              "      <td>False</td>\n",
              "    </tr>\n",
              "    <tr>\n",
              "      <th>1</th>\n",
              "      <td>0.21</td>\n",
              "      <td>59.8</td>\n",
              "      <td>61.0</td>\n",
              "      <td>326</td>\n",
              "      <td>3.89</td>\n",
              "      <td>3.84</td>\n",
              "      <td>2.31</td>\n",
              "      <td>2</td>\n",
              "      <td>False</td>\n",
              "      <td>True</td>\n",
              "      <td>False</td>\n",
              "      <td>False</td>\n",
              "      <td>False</td>\n",
              "    </tr>\n",
              "    <tr>\n",
              "      <th>2</th>\n",
              "      <td>0.23</td>\n",
              "      <td>56.9</td>\n",
              "      <td>65.0</td>\n",
              "      <td>327</td>\n",
              "      <td>4.05</td>\n",
              "      <td>4.07</td>\n",
              "      <td>2.31</td>\n",
              "      <td>2</td>\n",
              "      <td>False</td>\n",
              "      <td>False</td>\n",
              "      <td>False</td>\n",
              "      <td>True</td>\n",
              "      <td>False</td>\n",
              "    </tr>\n",
              "    <tr>\n",
              "      <th>3</th>\n",
              "      <td>0.29</td>\n",
              "      <td>62.4</td>\n",
              "      <td>58.0</td>\n",
              "      <td>334</td>\n",
              "      <td>4.20</td>\n",
              "      <td>4.23</td>\n",
              "      <td>2.63</td>\n",
              "      <td>6</td>\n",
              "      <td>False</td>\n",
              "      <td>True</td>\n",
              "      <td>False</td>\n",
              "      <td>False</td>\n",
              "      <td>False</td>\n",
              "    </tr>\n",
              "    <tr>\n",
              "      <th>4</th>\n",
              "      <td>0.31</td>\n",
              "      <td>63.3</td>\n",
              "      <td>58.0</td>\n",
              "      <td>335</td>\n",
              "      <td>4.34</td>\n",
              "      <td>4.35</td>\n",
              "      <td>2.75</td>\n",
              "      <td>7</td>\n",
              "      <td>False</td>\n",
              "      <td>False</td>\n",
              "      <td>False</td>\n",
              "      <td>True</td>\n",
              "      <td>False</td>\n",
              "    </tr>\n",
              "    <tr>\n",
              "      <th>...</th>\n",
              "      <td>...</td>\n",
              "      <td>...</td>\n",
              "      <td>...</td>\n",
              "      <td>...</td>\n",
              "      <td>...</td>\n",
              "      <td>...</td>\n",
              "      <td>...</td>\n",
              "      <td>...</td>\n",
              "      <td>...</td>\n",
              "      <td>...</td>\n",
              "      <td>...</td>\n",
              "      <td>...</td>\n",
              "      <td>...</td>\n",
              "    </tr>\n",
              "    <tr>\n",
              "      <th>53935</th>\n",
              "      <td>0.72</td>\n",
              "      <td>60.8</td>\n",
              "      <td>57.0</td>\n",
              "      <td>2757</td>\n",
              "      <td>5.75</td>\n",
              "      <td>5.76</td>\n",
              "      <td>3.50</td>\n",
              "      <td>1</td>\n",
              "      <td>True</td>\n",
              "      <td>False</td>\n",
              "      <td>False</td>\n",
              "      <td>False</td>\n",
              "      <td>False</td>\n",
              "    </tr>\n",
              "    <tr>\n",
              "      <th>53936</th>\n",
              "      <td>0.72</td>\n",
              "      <td>63.1</td>\n",
              "      <td>55.0</td>\n",
              "      <td>2757</td>\n",
              "      <td>5.69</td>\n",
              "      <td>5.75</td>\n",
              "      <td>3.61</td>\n",
              "      <td>1</td>\n",
              "      <td>False</td>\n",
              "      <td>False</td>\n",
              "      <td>False</td>\n",
              "      <td>True</td>\n",
              "      <td>False</td>\n",
              "    </tr>\n",
              "    <tr>\n",
              "      <th>53937</th>\n",
              "      <td>0.70</td>\n",
              "      <td>62.8</td>\n",
              "      <td>60.0</td>\n",
              "      <td>2757</td>\n",
              "      <td>5.66</td>\n",
              "      <td>5.68</td>\n",
              "      <td>3.56</td>\n",
              "      <td>1</td>\n",
              "      <td>False</td>\n",
              "      <td>False</td>\n",
              "      <td>True</td>\n",
              "      <td>False</td>\n",
              "      <td>False</td>\n",
              "    </tr>\n",
              "    <tr>\n",
              "      <th>53938</th>\n",
              "      <td>0.86</td>\n",
              "      <td>61.0</td>\n",
              "      <td>58.0</td>\n",
              "      <td>2757</td>\n",
              "      <td>6.15</td>\n",
              "      <td>6.12</td>\n",
              "      <td>3.74</td>\n",
              "      <td>5</td>\n",
              "      <td>False</td>\n",
              "      <td>True</td>\n",
              "      <td>False</td>\n",
              "      <td>False</td>\n",
              "      <td>False</td>\n",
              "    </tr>\n",
              "    <tr>\n",
              "      <th>53939</th>\n",
              "      <td>0.75</td>\n",
              "      <td>62.2</td>\n",
              "      <td>55.0</td>\n",
              "      <td>2757</td>\n",
              "      <td>5.83</td>\n",
              "      <td>5.87</td>\n",
              "      <td>3.64</td>\n",
              "      <td>1</td>\n",
              "      <td>True</td>\n",
              "      <td>False</td>\n",
              "      <td>False</td>\n",
              "      <td>False</td>\n",
              "      <td>False</td>\n",
              "    </tr>\n",
              "  </tbody>\n",
              "</table>\n",
              "<p>53940 rows × 13 columns</p>\n",
              "</div>"
            ],
            "text/plain": [
              "       carat  depth  table  price  ...  is_Premium  is_Very Good  is_Good  is_Fair\n",
              "0       0.23   61.5   55.0    326  ...       False         False    False    False\n",
              "1       0.21   59.8   61.0    326  ...        True         False    False    False\n",
              "2       0.23   56.9   65.0    327  ...       False         False     True    False\n",
              "3       0.29   62.4   58.0    334  ...        True         False    False    False\n",
              "4       0.31   63.3   58.0    335  ...       False         False     True    False\n",
              "...      ...    ...    ...    ...  ...         ...           ...      ...      ...\n",
              "53935   0.72   60.8   57.0   2757  ...       False         False    False    False\n",
              "53936   0.72   63.1   55.0   2757  ...       False         False     True    False\n",
              "53937   0.70   62.8   60.0   2757  ...       False          True    False    False\n",
              "53938   0.86   61.0   58.0   2757  ...        True         False    False    False\n",
              "53939   0.75   62.2   55.0   2757  ...       False         False    False    False\n",
              "\n",
              "[53940 rows x 13 columns]"
            ]
          },
          "metadata": {
            "tags": []
          },
          "execution_count": 14
        }
      ]
    },
    {
      "cell_type": "code",
      "metadata": {
        "id": "mlqTrna7tW6g"
      },
      "source": [
        "df_inputfinal = df_in.drop(columns = ['cut','color','clarity'])"
      ],
      "execution_count": null,
      "outputs": []
    },
    {
      "cell_type": "markdown",
      "metadata": {
        "id": "AbhmOtJlWTTH"
      },
      "source": [
        "# 3.1 Our first model, our first errors\n",
        "Lets start with a plot!"
      ]
    },
    {
      "cell_type": "code",
      "metadata": {
        "id": "DnoU7ITrU9lw",
        "outputId": "08dc881f-0141-4c27-a05c-bc29a0afa31d",
        "colab": {
          "base_uri": "https://localhost:8080/",
          "height": 195
        }
      },
      "source": [
        "df_inputfinal.head()"
      ],
      "execution_count": null,
      "outputs": [
        {
          "output_type": "execute_result",
          "data": {
            "text/html": [
              "<div>\n",
              "<style scoped>\n",
              "    .dataframe tbody tr th:only-of-type {\n",
              "        vertical-align: middle;\n",
              "    }\n",
              "\n",
              "    .dataframe tbody tr th {\n",
              "        vertical-align: top;\n",
              "    }\n",
              "\n",
              "    .dataframe thead th {\n",
              "        text-align: right;\n",
              "    }\n",
              "</style>\n",
              "<table border=\"1\" class=\"dataframe\">\n",
              "  <thead>\n",
              "    <tr style=\"text-align: right;\">\n",
              "      <th></th>\n",
              "      <th>carat</th>\n",
              "      <th>depth</th>\n",
              "      <th>table</th>\n",
              "      <th>price</th>\n",
              "      <th>x</th>\n",
              "      <th>y</th>\n",
              "      <th>z</th>\n",
              "      <th>color_mapped</th>\n",
              "      <th>is_Ideal</th>\n",
              "      <th>is_Premium</th>\n",
              "      <th>is_Very Good</th>\n",
              "      <th>is_Good</th>\n",
              "      <th>is_Fair</th>\n",
              "    </tr>\n",
              "  </thead>\n",
              "  <tbody>\n",
              "    <tr>\n",
              "      <th>0</th>\n",
              "      <td>0.23</td>\n",
              "      <td>61.5</td>\n",
              "      <td>55.0</td>\n",
              "      <td>326</td>\n",
              "      <td>3.95</td>\n",
              "      <td>3.98</td>\n",
              "      <td>2.43</td>\n",
              "      <td>2</td>\n",
              "      <td>True</td>\n",
              "      <td>False</td>\n",
              "      <td>False</td>\n",
              "      <td>False</td>\n",
              "      <td>False</td>\n",
              "    </tr>\n",
              "    <tr>\n",
              "      <th>1</th>\n",
              "      <td>0.21</td>\n",
              "      <td>59.8</td>\n",
              "      <td>61.0</td>\n",
              "      <td>326</td>\n",
              "      <td>3.89</td>\n",
              "      <td>3.84</td>\n",
              "      <td>2.31</td>\n",
              "      <td>2</td>\n",
              "      <td>False</td>\n",
              "      <td>True</td>\n",
              "      <td>False</td>\n",
              "      <td>False</td>\n",
              "      <td>False</td>\n",
              "    </tr>\n",
              "    <tr>\n",
              "      <th>2</th>\n",
              "      <td>0.23</td>\n",
              "      <td>56.9</td>\n",
              "      <td>65.0</td>\n",
              "      <td>327</td>\n",
              "      <td>4.05</td>\n",
              "      <td>4.07</td>\n",
              "      <td>2.31</td>\n",
              "      <td>2</td>\n",
              "      <td>False</td>\n",
              "      <td>False</td>\n",
              "      <td>False</td>\n",
              "      <td>True</td>\n",
              "      <td>False</td>\n",
              "    </tr>\n",
              "    <tr>\n",
              "      <th>3</th>\n",
              "      <td>0.29</td>\n",
              "      <td>62.4</td>\n",
              "      <td>58.0</td>\n",
              "      <td>334</td>\n",
              "      <td>4.20</td>\n",
              "      <td>4.23</td>\n",
              "      <td>2.63</td>\n",
              "      <td>6</td>\n",
              "      <td>False</td>\n",
              "      <td>True</td>\n",
              "      <td>False</td>\n",
              "      <td>False</td>\n",
              "      <td>False</td>\n",
              "    </tr>\n",
              "    <tr>\n",
              "      <th>4</th>\n",
              "      <td>0.31</td>\n",
              "      <td>63.3</td>\n",
              "      <td>58.0</td>\n",
              "      <td>335</td>\n",
              "      <td>4.34</td>\n",
              "      <td>4.35</td>\n",
              "      <td>2.75</td>\n",
              "      <td>7</td>\n",
              "      <td>False</td>\n",
              "      <td>False</td>\n",
              "      <td>False</td>\n",
              "      <td>True</td>\n",
              "      <td>False</td>\n",
              "    </tr>\n",
              "  </tbody>\n",
              "</table>\n",
              "</div>"
            ],
            "text/plain": [
              "   carat  depth  table  price  ...  is_Premium  is_Very Good  is_Good  is_Fair\n",
              "0   0.23   61.5   55.0    326  ...       False         False    False    False\n",
              "1   0.21   59.8   61.0    326  ...        True         False    False    False\n",
              "2   0.23   56.9   65.0    327  ...       False         False     True    False\n",
              "3   0.29   62.4   58.0    334  ...        True         False    False    False\n",
              "4   0.31   63.3   58.0    335  ...       False         False     True    False\n",
              "\n",
              "[5 rows x 13 columns]"
            ]
          },
          "metadata": {
            "tags": []
          },
          "execution_count": 16
        }
      ]
    },
    {
      "cell_type": "code",
      "metadata": {
        "id": "JUuDGDG8WYr8",
        "outputId": "f5aa2396-110b-489e-bf36-9dbc1afa54cf",
        "colab": {
          "base_uri": "https://localhost:8080/",
          "height": 265
        }
      },
      "source": [
        "fig, ax = plt.subplots()\n",
        "ax.scatter(df_inputfinal['carat'], df_inputfinal['price'])\n",
        "fig.show()"
      ],
      "execution_count": null,
      "outputs": [
        {
          "output_type": "display_data",
          "data": {
            "image/png": "[encoded data removed]",
            "text/plain": [
              "<Figure size 432x288 with 1 Axes>"
            ]
          },
          "metadata": {
            "tags": [],
            "needs_background": "light"
          }
        }
      ]
    },
    {
      "cell_type": "markdown",
      "metadata": {
        "id": "6NLH9_J6XXmW"
      },
      "source": [
        "We can clearly see a relationship between *carat* and *price*. And we'll hope that the other features (columns) will help us distinguish between all the diamonds of the same \"carat count\", some are `$1000`, others are `$15000`. "
      ]
    },
    {
      "cell_type": "markdown",
      "metadata": {
        "id": "tP4wa1OcXqUd"
      },
      "source": [
        "Right now, I'm going to use a geologists expertise, one of my parents is a Geologist (not my dad - but my mom). To build our very first model, 1 carat is worth about $1000. So the price can be estimated as the # of carats multiplied by 1000"
      ]
    },
    {
      "cell_type": "code",
      "metadata": {
        "id": "gwbSQBDdFMb5",
        "outputId": "e134bdd6-9bc8-487b-aec1-74e820361d52",
        "colab": {
          "base_uri": "https://localhost:8080/"
        }
      },
      "source": [
        "df_inputfinal['carat']*1000"
      ],
      "execution_count": null,
      "outputs": [
        {
          "output_type": "execute_result",
          "data": {
            "text/plain": [
              "0        230.0\n",
              "1        210.0\n",
              "2        230.0\n",
              "3        290.0\n",
              "4        310.0\n",
              "         ...  \n",
              "53935    720.0\n",
              "53936    720.0\n",
              "53937    700.0\n",
              "53938    860.0\n",
              "53939    750.0\n",
              "Name: carat, Length: 53940, dtype: float64"
            ]
          },
          "metadata": {
            "tags": []
          },
          "execution_count": 18
        }
      ]
    },
    {
      "cell_type": "code",
      "metadata": {
        "id": "ua2fc-k2WpRD"
      },
      "source": [
        "first_pred = df_inputfinal['carat']*1000"
      ],
      "execution_count": null,
      "outputs": []
    },
    {
      "cell_type": "markdown",
      "metadata": {
        "id": "mVeSVoZRX6Qk"
      },
      "source": [
        "We just made our first predictions! But how do we know how good the predictions are? We can make another plot, but it would look just like the one above (but the x axis would be `1000,2000,3000...`)"
      ]
    },
    {
      "cell_type": "markdown",
      "metadata": {
        "id": "qGJmQndyYJf_"
      },
      "source": [
        "We can use math, why don't we subtract our predicted values from the actual values. We'll also keep `df_inputfinal['price']` as our \"true\" price."
      ]
    },
    {
      "cell_type": "code",
      "metadata": {
        "id": "gsDc5ugkfpyU"
      },
      "source": [
        "true_price =  df_inputfinal['price']"
      ],
      "execution_count": null,
      "outputs": []
    },
    {
      "cell_type": "code",
      "metadata": {
        "id": "hsLRH6BsYI95"
      },
      "source": [
        "first_errors = true_price - first_pred"
      ],
      "execution_count": null,
      "outputs": []
    },
    {
      "cell_type": "markdown",
      "metadata": {
        "id": "j1yi9mmzc0Vs"
      },
      "source": [
        "In the background `true_price`, `first_pred` are both columns (aka series) with row names for each diamond. So we are subtracting the true price and predicted price for **each diamond**. We will get a series `first_errors` which is how far away our predictions were for each diamond. Let's inspect: "
      ]
    },
    {
      "cell_type": "code",
      "metadata": {
        "id": "egIbtLnAdGI4",
        "outputId": "e3be4c81-cc1e-4e3d-c7c7-1a32d57d402e",
        "colab": {
          "base_uri": "https://localhost:8080/"
        }
      },
      "source": [
        "first_errors"
      ],
      "execution_count": null,
      "outputs": [
        {
          "output_type": "execute_result",
          "data": {
            "text/plain": [
              "0          96.0\n",
              "1         116.0\n",
              "2          97.0\n",
              "3          44.0\n",
              "4          25.0\n",
              "          ...  \n",
              "53935    2037.0\n",
              "53936    2037.0\n",
              "53937    2057.0\n",
              "53938    1897.0\n",
              "53939    2007.0\n",
              "Length: 53940, dtype: float64"
            ]
          },
          "metadata": {
            "tags": []
          },
          "execution_count": 22
        }
      ]
    },
    {
      "cell_type": "markdown",
      "metadata": {
        "id": "06yqSL7sdQOX"
      },
      "source": [
        "An entire series is not very useful, we can take the sum of all the errors or the mean. Note that these are similar functions we saw in the last chapter applied to dataframes. Back then it gave us the mean or sum of every column.  When applied to a series (a single column) -  it will return a single value. "
      ]
    },
    {
      "cell_type": "code",
      "metadata": {
        "id": "yHeia7kYYDv-",
        "outputId": "e981cd7d-8e0f-41dd-ac61-9b0b9102657e",
        "colab": {
          "base_uri": "https://localhost:8080/"
        }
      },
      "source": [
        "first_errors.sum()"
      ],
      "execution_count": null,
      "outputs": [
        {
          "output_type": "execute_result",
          "data": {
            "text/plain": [
              "169094347.0"
            ]
          },
          "metadata": {
            "tags": []
          },
          "execution_count": 23
        }
      ]
    },
    {
      "cell_type": "code",
      "metadata": {
        "id": "U2EramzwWv_e",
        "outputId": "8cf33aec-d64e-4fdf-c157-7b799dd4b028",
        "colab": {
          "base_uri": "https://localhost:8080/"
        }
      },
      "source": [
        "first_errors.mean()"
      ],
      "execution_count": null,
      "outputs": [
        {
          "output_type": "execute_result",
          "data": {
            "text/plain": [
              "3134.8599740452355"
            ]
          },
          "metadata": {
            "tags": []
          },
          "execution_count": 24
        }
      ]
    },
    {
      "cell_type": "markdown",
      "metadata": {
        "id": "Hgsem3LiYvWB"
      },
      "source": [
        "Our the predictions any good? We don't know! (probably not). Because errors usually based on the *magnitude* of the numbers (how big the numbers you're trying to predict, predicted prices of apples `$1/$2` off would be bad, but predicted prices of diamonds that are `$1/$2` off would be very good. "
      ]
    },
    {
      "cell_type": "markdown",
      "metadata": {
        "id": "VJMVzCfHZCeT"
      },
      "source": [
        "This is why we should always start with a ***baseline***, future models we make should have lower errors than this. Let's call this first prediction a baseline. I've now consulted my dad, who is also a geologist, who says we can the depth of our diamond is worth about `$50` per depth in addition to `$1000` per carat, our second predictions now look like:"
      ]
    },
    {
      "cell_type": "code",
      "metadata": {
        "id": "wxrRstRbaoGC"
      },
      "source": [
        "second_pred = df_inputfinal['carat']*1000 + df_inputfinal['depth']*50.7674"
      ],
      "execution_count": null,
      "outputs": []
    },
    {
      "cell_type": "code",
      "metadata": {
        "id": "c8_7PwUrZB8x"
      },
      "source": [
        "second_errors = df_inputfinal['price'] - second_pred"
      ],
      "execution_count": null,
      "outputs": []
    },
    {
      "cell_type": "code",
      "metadata": {
        "id": "y39FhkJ6a9z6",
        "outputId": "6fbaae89-8e6d-4747-f00b-5875819e9f3c",
        "colab": {
          "base_uri": "https://localhost:8080/"
        }
      },
      "source": [
        "second_errors.mean()"
      ],
      "execution_count": null,
      "outputs": [
        {
          "output_type": "execute_result",
          "data": {
            "text/plain": [
              "0.003236012962857267"
            ]
          },
          "metadata": {
            "tags": []
          },
          "execution_count": 27
        }
      ]
    },
    {
      "cell_type": "code",
      "metadata": {
        "id": "rY5zR9ONhG9J"
      },
      "source": [
        "## What happened?"
      ],
      "execution_count": null,
      "outputs": []
    },
    {
      "cell_type": "markdown",
      "metadata": {
        "id": "UejHt74Zf76W"
      },
      "source": [
        "Gasp! Are you suspicious? **You should (always) be.** Data science is about being suspicious, engineering is about how much you trust the tools you have. When in doubt, plot:"
      ]
    },
    {
      "cell_type": "code",
      "metadata": {
        "id": "jJ8v9DAvbJmk",
        "outputId": "24305d80-a755-45c3-8731-82b0dede4267",
        "colab": {
          "base_uri": "https://localhost:8080/"
        }
      },
      "source": [
        "fig, ax = plt.subplots()\n",
        "ax.scatter(true_price, second_pred)\n",
        "fig.show()"
      ],
      "execution_count": null,
      "outputs": [
        {
          "output_type": "display_data",
          "data": {
            "image/png": "[encoded data removed]",
            "text/plain": [
              "<Figure size 432x288 with 1 Axes>"
            ]
          },
          "metadata": {
            "tags": [],
            "needs_background": "light"
          }
        }
      ]
    },
    {
      "cell_type": "markdown",
      "metadata": {
        "id": "6mnqxMZzBJoh"
      },
      "source": [
        "Here we plotted our predictions, the actual value `true_price` on the X axis and the predicted value `second_pred` on the Y. If the predicted values were near perfect, we would expect to see a perfectly diagonal line from (0,0) to (17500, 17500). We are nowhere close to that..."
      ]
    },
    {
      "cell_type": "code",
      "metadata": {
        "id": "wXS_vqlibJbj",
        "outputId": "657fd642-0914-42f4-820a-d4e1cb701d98",
        "colab": {
          "base_uri": "https://localhost:8080/",
          "height": 265
        }
      },
      "source": [
        "fig, ax = plt.subplots()\n",
        "ax.hist(second_errors)\n",
        "fig.show()"
      ],
      "execution_count": null,
      "outputs": [
        {
          "output_type": "display_data",
          "data": {
            "image/png": "[encoded data removed]",
            "text/plain": [
              "<Figure size 432x288 with 1 Axes>"
            ]
          },
          "metadata": {
            "tags": [],
            "needs_background": "light"
          }
        }
      ]
    },
    {
      "cell_type": "markdown",
      "metadata": {
        "id": "gEhF3lUZeAU4"
      },
      "source": [
        "This second plot reveals to us that our errors are still quite high, it just so happens that the **average** is around zero. The solution is to take the absolute value `.abs()` function of our errors, if you haven't heard about absolute values before, [read this](https://www.mathsisfun.com/numbers/absolute-value.html). "
      ]
    },
    {
      "cell_type": "code",
      "metadata": {
        "id": "q7QyUaiZd8lW",
        "outputId": "97b3faf8-fbfb-4114-85ea-c08cef445883",
        "colab": {
          "base_uri": "https://localhost:8080/",
          "height": 34
        }
      },
      "source": [
        "second_errors.abs().mean()"
      ],
      "execution_count": null,
      "outputs": [
        {
          "output_type": "execute_result",
          "data": {
            "text/plain": [
              "2668.7929961551176"
            ]
          },
          "metadata": {
            "tags": []
          },
          "execution_count": 31
        }
      ]
    },
    {
      "cell_type": "markdown",
      "metadata": {
        "id": "XkgyP_XLeblj"
      },
      "source": [
        "The error we just found is called the **mean absolute error**, there also exists a common **mean_squared_error**. In  `mean_squared_error` rather than taking the absolute value of the difference, we square the difference (the squared of any number is positive). Mean squared error is essentially: \n",
        "\n",
        "\n",
        "```\n",
        "second_errors_squared = second_errors*second_errors\n",
        "second_errors_squared.mean()\n",
        "```\n",
        "\n",
        "Of course, there are function for calculating errors, We introduce the fourth and final library we will use called sklearn. It's the machine learning one, and of course very good at calulating errors. We don't need all of it right now, just the following parts. \n",
        "```\n",
        "from sklearn.metrics import mean_absolute_error\n",
        "from sklearn.metrics import mean_squared_error\n",
        "```"
      ]
    },
    {
      "cell_type": "markdown",
      "metadata": {
        "id": "vMszTqs1e-Fi"
      },
      "source": [
        "The `mean_absolute_error()` and `mean_squared_error()` functions both take the same 2 inputs, the **real y values** and the **predicted values** you've made. "
      ]
    },
    {
      "cell_type": "code",
      "metadata": {
        "id": "HtepNC-Me5yA",
        "outputId": "3a8fecb5-e429-4677-8763-56fb42a884f8",
        "colab": {
          "base_uri": "https://localhost:8080/",
          "height": 34
        }
      },
      "source": [
        "mean_absolute_error(y_true = true_price, y_pred = second_pred)"
      ],
      "execution_count": null,
      "outputs": [
        {
          "output_type": "execute_result",
          "data": {
            "text/plain": [
              "2668.7929961553577"
            ]
          },
          "metadata": {
            "tags": []
          },
          "execution_count": 32
        }
      ]
    },
    {
      "cell_type": "code",
      "metadata": {
        "id": "YOEbSwk9Wvy8",
        "outputId": "bc44061f-e010-42dd-add2-0357719c48c5",
        "colab": {
          "base_uri": "https://localhost:8080/",
          "height": 34
        }
      },
      "source": [
        "mean_squared_error(y_true = true_price, y_pred = second_pred)"
      ],
      "execution_count": null,
      "outputs": [
        {
          "output_type": "execute_result",
          "data": {
            "text/plain": [
              "12667965.057203408"
            ]
          },
          "metadata": {
            "tags": []
          },
          "execution_count": 33
        }
      ]
    },
    {
      "cell_type": "code",
      "metadata": {
        "id": "LynvxEl9g2ew"
      },
      "source": [
        "## EASY CHALLENGE: find the two kinds of errors from our first set of predicition (first_pred) \n",
        "## using the functions we imported!\n",
        "## first_pred = df_inputfinal['carat']*1000\n",
        "## Were we better off? "
      ],
      "execution_count": null,
      "outputs": []
    },
    {
      "cell_type": "markdown",
      "metadata": {
        "id": "HErmoFjVg-th"
      },
      "source": [
        "# 3.2 Into Linear Model"
      ]
    },
    {
      "cell_type": "markdown",
      "metadata": {
        "id": "UqaHIoNigtO-"
      },
      "source": [
        "As we can see our models are clearly not good enough, but we on the right track in making predictions. All we need is some more information out of our other columns (aka features)"
      ]
    },
    {
      "cell_type": "markdown",
      "metadata": {
        "id": "0EfhkbVSh8Tb"
      },
      "source": [
        "Our predictions so far are actually considered a linear model.\n",
        "\n",
        "\n",
        "```\n",
        "df['carat']*1000 + df['depth']*50.7674\n",
        "```\n",
        "\n"
      ]
    },
    {
      "cell_type": "markdown",
      "metadata": {
        "id": "91TbpUBzIfLX"
      },
      "source": [
        "Which was actually based on *Human knowledge* (my parents) if you consider the definition of AI: \n",
        ">the theory and development of computer systems able to perform tasks that normally require human intelligence, such as visual perception, speech recognition, decision-making, and translation between languages."
      ]
    },
    {
      "cell_type": "markdown",
      "metadata": {
        "id": "JNIQaWXWIuVp"
      },
      "source": [
        "One of those tasks is predicting the price of diamonds!! And we need our AI to be as good or better at making those predictions. But how will the AI have any idea on diamond prices.... the answer is in the DATA OF COURSE!"
      ]
    },
    {
      "cell_type": "markdown",
      "metadata": {
        "id": "a1aoKeZQiQDj"
      },
      "source": [
        "There is tons of information about diamonds in our data, such as the `table`, `x y z length`, `fair`, `premium` etc.  "
      ]
    },
    {
      "cell_type": "code",
      "metadata": {
        "id": "sn1Im9_6gsSh",
        "outputId": "e32e41b5-1521-4bdf-be6a-4814b7796c94",
        "colab": {
          "base_uri": "https://localhost:8080/",
          "height": 195
        }
      },
      "source": [
        "df_inputfinal.head()"
      ],
      "execution_count": null,
      "outputs": [
        {
          "output_type": "execute_result",
          "data": {
            "text/html": [
              "<div>\n",
              "<style scoped>\n",
              "    .dataframe tbody tr th:only-of-type {\n",
              "        vertical-align: middle;\n",
              "    }\n",
              "\n",
              "    .dataframe tbody tr th {\n",
              "        vertical-align: top;\n",
              "    }\n",
              "\n",
              "    .dataframe thead th {\n",
              "        text-align: right;\n",
              "    }\n",
              "</style>\n",
              "<table border=\"1\" class=\"dataframe\">\n",
              "  <thead>\n",
              "    <tr style=\"text-align: right;\">\n",
              "      <th></th>\n",
              "      <th>carat</th>\n",
              "      <th>depth</th>\n",
              "      <th>table</th>\n",
              "      <th>price</th>\n",
              "      <th>x</th>\n",
              "      <th>y</th>\n",
              "      <th>z</th>\n",
              "      <th>color_mapped</th>\n",
              "      <th>is_Ideal</th>\n",
              "      <th>is_Premium</th>\n",
              "      <th>is_Very Good</th>\n",
              "      <th>is_Good</th>\n",
              "      <th>is_Fair</th>\n",
              "    </tr>\n",
              "  </thead>\n",
              "  <tbody>\n",
              "    <tr>\n",
              "      <th>0</th>\n",
              "      <td>0.23</td>\n",
              "      <td>61.5</td>\n",
              "      <td>55.0</td>\n",
              "      <td>326</td>\n",
              "      <td>3.95</td>\n",
              "      <td>3.98</td>\n",
              "      <td>2.43</td>\n",
              "      <td>2</td>\n",
              "      <td>True</td>\n",
              "      <td>False</td>\n",
              "      <td>False</td>\n",
              "      <td>False</td>\n",
              "      <td>False</td>\n",
              "    </tr>\n",
              "    <tr>\n",
              "      <th>1</th>\n",
              "      <td>0.21</td>\n",
              "      <td>59.8</td>\n",
              "      <td>61.0</td>\n",
              "      <td>326</td>\n",
              "      <td>3.89</td>\n",
              "      <td>3.84</td>\n",
              "      <td>2.31</td>\n",
              "      <td>2</td>\n",
              "      <td>False</td>\n",
              "      <td>True</td>\n",
              "      <td>False</td>\n",
              "      <td>False</td>\n",
              "      <td>False</td>\n",
              "    </tr>\n",
              "    <tr>\n",
              "      <th>2</th>\n",
              "      <td>0.23</td>\n",
              "      <td>56.9</td>\n",
              "      <td>65.0</td>\n",
              "      <td>327</td>\n",
              "      <td>4.05</td>\n",
              "      <td>4.07</td>\n",
              "      <td>2.31</td>\n",
              "      <td>2</td>\n",
              "      <td>False</td>\n",
              "      <td>False</td>\n",
              "      <td>False</td>\n",
              "      <td>True</td>\n",
              "      <td>False</td>\n",
              "    </tr>\n",
              "    <tr>\n",
              "      <th>3</th>\n",
              "      <td>0.29</td>\n",
              "      <td>62.4</td>\n",
              "      <td>58.0</td>\n",
              "      <td>334</td>\n",
              "      <td>4.20</td>\n",
              "      <td>4.23</td>\n",
              "      <td>2.63</td>\n",
              "      <td>6</td>\n",
              "      <td>False</td>\n",
              "      <td>True</td>\n",
              "      <td>False</td>\n",
              "      <td>False</td>\n",
              "      <td>False</td>\n",
              "    </tr>\n",
              "    <tr>\n",
              "      <th>4</th>\n",
              "      <td>0.31</td>\n",
              "      <td>63.3</td>\n",
              "      <td>58.0</td>\n",
              "      <td>335</td>\n",
              "      <td>4.34</td>\n",
              "      <td>4.35</td>\n",
              "      <td>2.75</td>\n",
              "      <td>7</td>\n",
              "      <td>False</td>\n",
              "      <td>False</td>\n",
              "      <td>False</td>\n",
              "      <td>True</td>\n",
              "      <td>False</td>\n",
              "    </tr>\n",
              "  </tbody>\n",
              "</table>\n",
              "</div>"
            ],
            "text/plain": [
              "   carat  depth  table  price  ...  is_Premium  is_Very Good  is_Good  is_Fair\n",
              "0   0.23   61.5   55.0    326  ...       False         False    False    False\n",
              "1   0.21   59.8   61.0    326  ...        True         False    False    False\n",
              "2   0.23   56.9   65.0    327  ...       False         False     True    False\n",
              "3   0.29   62.4   58.0    334  ...        True         False    False    False\n",
              "4   0.31   63.3   58.0    335  ...       False         False     True    False\n",
              "\n",
              "[5 rows x 13 columns]"
            ]
          },
          "metadata": {
            "tags": []
          },
          "execution_count": 35
        }
      ]
    },
    {
      "cell_type": "markdown",
      "metadata": {
        "id": "tVdHMkfbic79"
      },
      "source": [
        "What if we can multiply each of those columns by some number (factor) too and add it to our predictions. Our new predictions could be\n",
        "\n",
        "\n",
        "\n",
        "```\n",
        "42 + df['carat']*1000 + df['depth']*50.7674 + df['table']*-12.54 + ...\n",
        "+ df['x']*13 * df['y']*-12 + *df['z']*-8.9 + df['is_Fair']*-500 ... \n",
        "+ df['is_Premium'] * 789 + ...\n",
        "```\n",
        "\n"
      ]
    },
    {
      "cell_type": "markdown",
      "metadata": {
        "id": "uvRvb6wxjKoI"
      },
      "source": [
        "What does this mean:  \n",
        "\n",
        "1.   every diamond has a starting price of `$42`\n",
        "2.   Then they are worth an extra `$1000 per carat`\n",
        "3. They are worth`-12.54 per table value` and `$13 per x value` (obviously not as much of an impact) \n",
        "4.since the `'x0_Fair'` columns are all zero unless the diamond is fair then it is a `$-500` dollar deduction if the diamond is fair\n",
        "5. Similarly if the diamond is premium that is a `$789` boost to its price. "
      ]
    },
    {
      "cell_type": "markdown",
      "metadata": {
        "id": "J8bGtxg_kese"
      },
      "source": [
        "Its important to note that these factors, the `1000` and `42` and ... apply to **ALL THE DIAMONDS**. They do not change from one diamond to another, and our goal is to find these valus (called *coefficients*) such that they **minimize the overall errors from *the predictions for all diamonds***. "
      ]
    },
    {
      "cell_type": "markdown",
      "metadata": {
        "id": "byjFb-0dnpyX"
      },
      "source": [
        "Get familiar with the term ***coefficient***, we'll be using it a lot\n",
        "\n",
        "![Courtesy of mathisfun.com/algebra](https://www.mathsisfun.com/algebra/images/variable-constant.svg)"
      ]
    },
    {
      "cell_type": "markdown",
      "metadata": {
        "id": "Sz4d3XLJmF1k"
      },
      "source": [
        "> **RT: A linear model is each column being multiplied by a coefficient and added together to make a prediction**"
      ]
    },
    {
      "cell_type": "markdown",
      "metadata": {
        "id": "UwcQi1avkyxP"
      },
      "source": [
        "For some diamonds the predicted price will be a little higher and others a little lower, the goal will be to reduce the `mean_squared_error()` for the entire dataset. To do so will involve complex gradient descent and matrix inversion to the power of...\n"
      ]
    },
    {
      "cell_type": "markdown",
      "metadata": {
        "id": "gIDJms_LlFiH"
      },
      "source": [
        "#### Just kidding, there's a function for that"
      ]
    },
    {
      "cell_type": "markdown",
      "metadata": {
        "id": "MMo4QZ1_vNJv"
      },
      "source": [
        "Remember that almost everything we've been importing so far has been objects. See:\n",
        "\n",
        "```\n",
        "fig = plt.subplots()\n",
        "ax = plt.axes()\n",
        "df = pd.DataFrame()\n",
        "```\n",
        "(the third line will just give you a blank dataframe) we are following the pattern:\n",
        "\n",
        "`new_variable = importedlibrary.objectWeWant()`."
      ]
    },
    {
      "cell_type": "code",
      "metadata": {
        "id": "2v3eViyyjJuj"
      },
      "source": [
        "first_linear_model = linear_model.LinearRegression()"
      ],
      "execution_count": null,
      "outputs": []
    },
    {
      "cell_type": "markdown",
      "metadata": {
        "id": "jNn8MGuVgZve"
      },
      "source": [
        "When it comes to machine learning, sklearn doesn't care about the column names or the column headers. Rather than taking the dataframe, it actually requires an ***ARRAY*** (basically dataframes without the column headers and row numbers). \n",
        ">Luckily we can get an array from a dataframe using the `.value` attribute. "
      ]
    },
    {
      "cell_type": "code",
      "metadata": {
        "id": "EinCzG_jv1wF",
        "outputId": "2d480f84-28ce-4286-c4a9-893ea2326a6b",
        "colab": {
          "base_uri": "https://localhost:8080/"
        }
      },
      "source": [
        "df_inputfinal.values"
      ],
      "execution_count": null,
      "outputs": [
        {
          "output_type": "execute_result",
          "data": {
            "text/plain": [
              "array([[0.23, 61.5, 55.0, ..., False, False, False],\n",
              "       [0.21, 59.8, 61.0, ..., False, False, False],\n",
              "       [0.23, 56.9, 65.0, ..., False, True, False],\n",
              "       ...,\n",
              "       [0.7, 62.8, 60.0, ..., True, False, False],\n",
              "       [0.86, 61.0, 58.0, ..., False, False, False],\n",
              "       [0.75, 62.2, 55.0, ..., False, False, False]], dtype=object)"
            ]
          },
          "metadata": {
            "tags": []
          },
          "execution_count": 37
        }
      ]
    },
    {
      "cell_type": "markdown",
      "metadata": {
        "id": "Tu4eByC6h4w3"
      },
      "source": [
        "The linear model uses a `.fit()` function. But remember we are trying to find the **coefficients** that will get us closest to the **real values** so we need to specify both the inputs `X=` and the values we are trying to precit `y=`."
      ]
    },
    {
      "cell_type": "code",
      "metadata": {
        "id": "paX1NyDMiiSh",
        "outputId": "fbb84430-a7ac-4233-a949-125cf6dc8add",
        "colab": {
          "base_uri": "https://localhost:8080/"
        }
      },
      "source": [
        "first_linear_model.fit(X = df_inputfinal.values, y = true_price)"
      ],
      "execution_count": null,
      "outputs": [
        {
          "output_type": "execute_result",
          "data": {
            "text/plain": [
              "LinearRegression(copy_X=True, fit_intercept=True, n_jobs=None, normalize=False)"
            ]
          },
          "metadata": {
            "tags": []
          },
          "execution_count": 38
        }
      ]
    },
    {
      "cell_type": "markdown",
      "metadata": {
        "id": "QpLSK6M3icQI"
      },
      "source": [
        "\n",
        "* `X` is expecting *2 dimensional data* here. If you only have one feature, you'll need do `df[['feature name']].values`\n",
        "*   `y` is expecting a *Series of values*, usually its one target value to be predicted. Which is the true price of the diamonds!!\n"
      ]
    },
    {
      "cell_type": "markdown",
      "metadata": {
        "id": "Kpye878Lj2i8"
      },
      "source": [
        "The `LinearRegression()` is a **model/predictor** we use the `.predict()` function. \n",
        ">(after the `.fit()` function, if you try to predict without `.fit()` first, it won't work, it won't know what to predict!!)"
      ]
    },
    {
      "cell_type": "markdown",
      "metadata": {
        "id": "NwZ_8Dimdw-E"
      },
      "source": [
        "![Copy of LINMODEL (1).png](data:image/png;base64,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)"
      ]
    },
    {
      "cell_type": "code",
      "metadata": {
        "id": "oODvd_VAiiQg",
        "outputId": "fac7a22b-386e-4a1c-d882-bc57ea2ec9f7",
        "colab": {
          "base_uri": "https://localhost:8080/"
        }
      },
      "source": [
        "first_linear_model.predict(X = df_inputfinal.values)"
      ],
      "execution_count": null,
      "outputs": [
        {
          "output_type": "execute_result",
          "data": {
            "text/plain": [
              "array([ 326.,  326.,  327., ..., 2757., 2757., 2757.])"
            ]
          },
          "metadata": {
            "tags": []
          },
          "execution_count": 39
        }
      ]
    },
    {
      "cell_type": "markdown",
      "metadata": {
        "id": "4FSHBKQrlGBE"
      },
      "source": [
        "This array is the predicted price of all the diamonds. Look at that! It took less then one second, and did everything we described in: \n",
        "```\n",
        "42 + df['carat']*1000 + df['depth']*50.7674 + df['table']*-12.54 + ...\n",
        "```\n",
        "\n",
        "by finding just the right ***coefficients*** (to multiply each column by) which will give us close to the actual price of our diamonds. Let's save our predictions (we don't know what the coefficients are just yet, but we can find out!!)."
      ]
    },
    {
      "cell_type": "code",
      "metadata": {
        "id": "NniNzXQUiiOZ"
      },
      "source": [
        "model_predictions = first_linear_model.predict(X = df_inputfinal.values)"
      ],
      "execution_count": null,
      "outputs": []
    },
    {
      "cell_type": "markdown",
      "metadata": {
        "id": "_A3Kw5qSl4Fv"
      },
      "source": [
        "We can look at the errors using `mean_squared_error()`"
      ]
    },
    {
      "cell_type": "code",
      "metadata": {
        "id": "R_qgG-g2iiMU",
        "outputId": "6e42275e-1d63-44b3-a2cc-3c078f7c895f",
        "colab": {
          "base_uri": "https://localhost:8080/"
        }
      },
      "source": [
        "mean_squared_error(y_true = true_price, y_pred = model_predictions)"
      ],
      "execution_count": null,
      "outputs": [
        {
          "output_type": "execute_result",
          "data": {
            "text/plain": [
              "1.649008701666133e-23"
            ]
          },
          "metadata": {
            "tags": []
          },
          "execution_count": 41
        }
      ]
    },
    {
      "cell_type": "markdown",
      "metadata": {
        "id": "vusEUTl6mFYP"
      },
      "source": [
        "GASP! Shall we be suspicious? "
      ]
    },
    {
      "cell_type": "markdown",
      "metadata": {
        "id": "D2VWCoRHmckN"
      },
      "source": [
        "Okay back to the suspicion. When in doubt, plot"
      ]
    },
    {
      "cell_type": "code",
      "metadata": {
        "id": "4nzW1PxeiiKI",
        "outputId": "c6897059-64bc-4983-daf5-ce034202cc82",
        "colab": {
          "base_uri": "https://localhost:8080/"
        }
      },
      "source": [
        "fig, ax = plt.subplots()\n",
        "ax.scatter(true_price, model_predictions)\n",
        "plt.show()"
      ],
      "execution_count": null,
      "outputs": [
        {
          "output_type": "display_data",
          "data": {
            "image/png": "[encoded data removed]",
            "text/plain": [
              "<Figure size 432x288 with 1 Axes>"
            ]
          },
          "metadata": {
            "tags": [],
            "needs_background": "light"
          }
        }
      ]
    },
    {
      "cell_type": "markdown",
      "metadata": {
        "id": "-b6ldQxbmrr4"
      },
      "source": [
        "I'm even more ***SKEPTICAL*** now. This is showing a near perfect prediction for EVERY DIAMOND. To investigate: Why don't we look at the coefficients. Remember we had about 1000*price but the model might go about the problem slightly differently. \n",
        "> We can access the linear coefficients using the `.coef_` attribute. Mind the '_' and of course the model has to be `'.fit()` to some data first for `.coef_` for work"
      ]
    },
    {
      "cell_type": "code",
      "metadata": {
        "id": "GNaKpwrvmv80",
        "outputId": "c90547ba-0e0d-4ffa-9430-5da36c24eddf",
        "colab": {
          "base_uri": "https://localhost:8080/"
        }
      },
      "source": [
        "first_linear_model.coef_"
      ],
      "execution_count": null,
      "outputs": [
        {
          "output_type": "execute_result",
          "data": {
            "text/plain": [
              "array([ 9.65606670e-13,  6.42819131e-14,  7.91387626e-14,  1.00000000e+00,\n",
              "       -2.07781925e-14,  3.87401699e-15, -1.73954818e-15,  5.26296129e-15,\n",
              "       -5.68715539e-15,  1.65379168e-14, -5.70278760e-15, -4.84746834e-15,\n",
              "       -3.00495102e-16])"
            ]
          },
          "metadata": {
            "tags": []
          },
          "execution_count": 43
        }
      ]
    },
    {
      "cell_type": "markdown",
      "metadata": {
        "id": "NAOpmMXhnZdk"
      },
      "source": [
        "Hmm it looks like all the coefficients are very small, except for 1 on the 4th column. What is the data in the fourth column?"
      ]
    },
    {
      "cell_type": "code",
      "metadata": {
        "id": "B29z6mJeoRTz",
        "outputId": "7eb3afcc-04a5-4283-991f-93093f3439ec",
        "colab": {
          "base_uri": "https://localhost:8080/",
          "height": 195
        }
      },
      "source": [
        "df_inputfinal.head()"
      ],
      "execution_count": null,
      "outputs": [
        {
          "output_type": "execute_result",
          "data": {
            "text/html": [
              "<div>\n",
              "<style scoped>\n",
              "    .dataframe tbody tr th:only-of-type {\n",
              "        vertical-align: middle;\n",
              "    }\n",
              "\n",
              "    .dataframe tbody tr th {\n",
              "        vertical-align: top;\n",
              "    }\n",
              "\n",
              "    .dataframe thead th {\n",
              "        text-align: right;\n",
              "    }\n",
              "</style>\n",
              "<table border=\"1\" class=\"dataframe\">\n",
              "  <thead>\n",
              "    <tr style=\"text-align: right;\">\n",
              "      <th></th>\n",
              "      <th>carat</th>\n",
              "      <th>depth</th>\n",
              "      <th>table</th>\n",
              "      <th>price</th>\n",
              "      <th>x</th>\n",
              "      <th>y</th>\n",
              "      <th>z</th>\n",
              "      <th>color_mapped</th>\n",
              "      <th>is_Ideal</th>\n",
              "      <th>is_Premium</th>\n",
              "      <th>is_Very Good</th>\n",
              "      <th>is_Good</th>\n",
              "      <th>is_Fair</th>\n",
              "    </tr>\n",
              "  </thead>\n",
              "  <tbody>\n",
              "    <tr>\n",
              "      <th>0</th>\n",
              "      <td>0.23</td>\n",
              "      <td>61.5</td>\n",
              "      <td>55.0</td>\n",
              "      <td>326</td>\n",
              "      <td>3.95</td>\n",
              "      <td>3.98</td>\n",
              "      <td>2.43</td>\n",
              "      <td>2</td>\n",
              "      <td>True</td>\n",
              "      <td>False</td>\n",
              "      <td>False</td>\n",
              "      <td>False</td>\n",
              "      <td>False</td>\n",
              "    </tr>\n",
              "    <tr>\n",
              "      <th>1</th>\n",
              "      <td>0.21</td>\n",
              "      <td>59.8</td>\n",
              "      <td>61.0</td>\n",
              "      <td>326</td>\n",
              "      <td>3.89</td>\n",
              "      <td>3.84</td>\n",
              "      <td>2.31</td>\n",
              "      <td>2</td>\n",
              "      <td>False</td>\n",
              "      <td>True</td>\n",
              "      <td>False</td>\n",
              "      <td>False</td>\n",
              "      <td>False</td>\n",
              "    </tr>\n",
              "    <tr>\n",
              "      <th>2</th>\n",
              "      <td>0.23</td>\n",
              "      <td>56.9</td>\n",
              "      <td>65.0</td>\n",
              "      <td>327</td>\n",
              "      <td>4.05</td>\n",
              "      <td>4.07</td>\n",
              "      <td>2.31</td>\n",
              "      <td>2</td>\n",
              "      <td>False</td>\n",
              "      <td>False</td>\n",
              "      <td>False</td>\n",
              "      <td>True</td>\n",
              "      <td>False</td>\n",
              "    </tr>\n",
              "    <tr>\n",
              "      <th>3</th>\n",
              "      <td>0.29</td>\n",
              "      <td>62.4</td>\n",
              "      <td>58.0</td>\n",
              "      <td>334</td>\n",
              "      <td>4.20</td>\n",
              "      <td>4.23</td>\n",
              "      <td>2.63</td>\n",
              "      <td>6</td>\n",
              "      <td>False</td>\n",
              "      <td>True</td>\n",
              "      <td>False</td>\n",
              "      <td>False</td>\n",
              "      <td>False</td>\n",
              "    </tr>\n",
              "    <tr>\n",
              "      <th>4</th>\n",
              "      <td>0.31</td>\n",
              "      <td>63.3</td>\n",
              "      <td>58.0</td>\n",
              "      <td>335</td>\n",
              "      <td>4.34</td>\n",
              "      <td>4.35</td>\n",
              "      <td>2.75</td>\n",
              "      <td>7</td>\n",
              "      <td>False</td>\n",
              "      <td>False</td>\n",
              "      <td>False</td>\n",
              "      <td>True</td>\n",
              "      <td>False</td>\n",
              "    </tr>\n",
              "  </tbody>\n",
              "</table>\n",
              "</div>"
            ],
            "text/plain": [
              "   carat  depth  table  price  ...  is_Premium  is_Very Good  is_Good  is_Fair\n",
              "0   0.23   61.5   55.0    326  ...       False         False    False    False\n",
              "1   0.21   59.8   61.0    326  ...        True         False    False    False\n",
              "2   0.23   56.9   65.0    327  ...       False         False     True    False\n",
              "3   0.29   62.4   58.0    334  ...        True         False    False    False\n",
              "4   0.31   63.3   58.0    335  ...       False         False     True    False\n",
              "\n",
              "[5 rows x 13 columns]"
            ]
          },
          "metadata": {
            "tags": []
          },
          "execution_count": 44
        }
      ]
    },
    {
      "cell_type": "code",
      "metadata": {
        "id": "JiXdNn7roROk"
      },
      "source": [
        "## MANDATORY EXERCISE, FIX THE df_inputfinal MATRIX, its a silly mistake but a common one. \n",
        "## then make a prediction again ( model = linear_model.LinearRegression())\n",
        "##model.fit..., model.predict...and check the error actual error of the model\n"
      ],
      "execution_count": null,
      "outputs": []
    },
    {
      "cell_type": "markdown",
      "metadata": {
        "id": "4mVZEkzWAV-l"
      },
      "source": [
        "# 3.3 The Most Common Mistake"
      ]
    },
    {
      "cell_type": "markdown",
      "metadata": {
        "id": "ppcz3OQmAbES"
      },
      "source": [
        "So far I've been intentionally setting the examples to show silly mistakes which you can fix as long as you remain skeptical and use the right tools. This next mistake is something every data scientist and machine learning research will lose sleep over, it is perhaps the goal of proper machine learning. And I'll tell you what it is right away: ***overfitting***. "
      ]
    },
    {
      "cell_type": "markdown",
      "metadata": {
        "id": "khjoP0sVFvWv"
      },
      "source": [
        "Lets load in the cars dataset again, use your solution from Section 2.5 to get to df_carsfinal. "
      ]
    },
    {
      "cell_type": "code",
      "metadata": {
        "id": "TDmLjnwjoo49"
      },
      "source": [
        "df_carsin = sns.load_dataset(\"mpg\")\n",
        "df_cars = df_carsin.dropna().copy()\n",
        "df_cars['weight_to_hp_ratio'] = df_cars['horsepower'] / df_cars['weight']\n",
        "df_cars['is_usa'] = (df_cars['origin'] == 'usa')\n",
        "df_cars['is_europe'] = (df_cars['origin'] == 'europe')\n",
        "df_cars['is_japan'] = (df_cars['origin'] == 'japan')\n",
        "df_cars = df_cars.drop(columns = ['name','weight_to_hp_ratio','origin'])"
      ],
      "execution_count": null,
      "outputs": []
    },
    {
      "cell_type": "markdown",
      "metadata": {
        "id": "hsZom__aF3_W"
      },
      "source": [
        "We are trying to predict the `mpg` of a column and thus its efficiency, so we will drop it. "
      ]
    },
    {
      "cell_type": "code",
      "metadata": {
        "id": "7uxdk6qeB1rg",
        "outputId": "6b216651-4e5c-4052-83a3-22248fa84290",
        "colab": {
          "base_uri": "https://localhost:8080/",
          "height": 222
        }
      },
      "source": [
        "true_mpg = df_cars['mpg']\n",
        "df_cars = df_cars.drop(columns = 'mpg')\n",
        "df_cars.head()"
      ],
      "execution_count": null,
      "outputs": [
        {
          "output_type": "execute_result",
          "data": {
            "text/html": [
              "<div>\n",
              "<style scoped>\n",
              "    .dataframe tbody tr th:only-of-type {\n",
              "        vertical-align: middle;\n",
              "    }\n",
              "\n",
              "    .dataframe tbody tr th {\n",
              "        vertical-align: top;\n",
              "    }\n",
              "\n",
              "    .dataframe thead th {\n",
              "        text-align: right;\n",
              "    }\n",
              "</style>\n",
              "<table border=\"1\" class=\"dataframe\">\n",
              "  <thead>\n",
              "    <tr style=\"text-align: right;\">\n",
              "      <th></th>\n",
              "      <th>cylinders</th>\n",
              "      <th>displacement</th>\n",
              "      <th>horsepower</th>\n",
              "      <th>weight</th>\n",
              "      <th>acceleration</th>\n",
              "      <th>model_year</th>\n",
              "      <th>is_usa</th>\n",
              "      <th>is_europe</th>\n",
              "      <th>is_japan</th>\n",
              "    </tr>\n",
              "  </thead>\n",
              "  <tbody>\n",
              "    <tr>\n",
              "      <th>0</th>\n",
              "      <td>8</td>\n",
              "      <td>307.0</td>\n",
              "      <td>130.0</td>\n",
              "      <td>3504</td>\n",
              "      <td>12.0</td>\n",
              "      <td>70</td>\n",
              "      <td>True</td>\n",
              "      <td>False</td>\n",
              "      <td>False</td>\n",
              "    </tr>\n",
              "    <tr>\n",
              "      <th>1</th>\n",
              "      <td>8</td>\n",
              "      <td>350.0</td>\n",
              "      <td>165.0</td>\n",
              "      <td>3693</td>\n",
              "      <td>11.5</td>\n",
              "      <td>70</td>\n",
              "      <td>True</td>\n",
              "      <td>False</td>\n",
              "      <td>False</td>\n",
              "    </tr>\n",
              "    <tr>\n",
              "      <th>2</th>\n",
              "      <td>8</td>\n",
              "      <td>318.0</td>\n",
              "      <td>150.0</td>\n",
              "      <td>3436</td>\n",
              "      <td>11.0</td>\n",
              "      <td>70</td>\n",
              "      <td>True</td>\n",
              "      <td>False</td>\n",
              "      <td>False</td>\n",
              "    </tr>\n",
              "    <tr>\n",
              "      <th>3</th>\n",
              "      <td>8</td>\n",
              "      <td>304.0</td>\n",
              "      <td>150.0</td>\n",
              "      <td>3433</td>\n",
              "      <td>12.0</td>\n",
              "      <td>70</td>\n",
              "      <td>True</td>\n",
              "      <td>False</td>\n",
              "      <td>False</td>\n",
              "    </tr>\n",
              "    <tr>\n",
              "      <th>4</th>\n",
              "      <td>8</td>\n",
              "      <td>302.0</td>\n",
              "      <td>140.0</td>\n",
              "      <td>3449</td>\n",
              "      <td>10.5</td>\n",
              "      <td>70</td>\n",
              "      <td>True</td>\n",
              "      <td>False</td>\n",
              "      <td>False</td>\n",
              "    </tr>\n",
              "  </tbody>\n",
              "</table>\n",
              "</div>"
            ],
            "text/plain": [
              "   cylinders  displacement  horsepower  ...  is_usa  is_europe  is_japan\n",
              "0          8         307.0       130.0  ...    True      False     False\n",
              "1          8         350.0       165.0  ...    True      False     False\n",
              "2          8         318.0       150.0  ...    True      False     False\n",
              "3          8         304.0       150.0  ...    True      False     False\n",
              "4          8         302.0       140.0  ...    True      False     False\n",
              "\n",
              "[5 rows x 9 columns]"
            ]
          },
          "metadata": {
            "tags": []
          },
          "execution_count": 3
        }
      ]
    },
    {
      "cell_type": "markdown",
      "metadata": {
        "id": "Ovg4TXwhCppf"
      },
      "source": [
        "Let us use a linear model again. We've already imported the library, however we are declaring a new instance, a fresh model that has not been fitted to any data yet. "
      ]
    },
    {
      "cell_type": "code",
      "metadata": {
        "id": "HicvJc_vCrqs"
      },
      "source": [
        "cars_linear_model = linear_model.LinearRegression()"
      ],
      "execution_count": null,
      "outputs": []
    },
    {
      "cell_type": "code",
      "metadata": {
        "id": "uzl3WlJTCfdS",
        "outputId": "a352b765-890d-4e6f-b53d-a06edfa3bb73",
        "colab": {
          "base_uri": "https://localhost:8080/",
          "height": 35
        }
      },
      "source": [
        "cars_linear_model.fit(X = df_cars.values, y = true_mpg )"
      ],
      "execution_count": null,
      "outputs": [
        {
          "output_type": "execute_result",
          "data": {
            "text/plain": [
              "LinearRegression(copy_X=True, fit_intercept=True, n_jobs=None, normalize=False)"
            ]
          },
          "metadata": {
            "tags": []
          },
          "execution_count": 5
        }
      ]
    },
    {
      "cell_type": "code",
      "metadata": {
        "id": "MrWaZZBADBSG"
      },
      "source": [
        "first_mpg_predictions = cars_linear_model.predict(X = df_cars.values)"
      ],
      "execution_count": null,
      "outputs": []
    },
    {
      "cell_type": "code",
      "metadata": {
        "id": "nS68je2xDLgu",
        "outputId": "efc8207c-02ec-43b5-f5e4-ffd75b2a17a3",
        "colab": {
          "base_uri": "https://localhost:8080/",
          "height": 35
        }
      },
      "source": [
        "mean_squared_error(true_mpg, first_mpg_predictions)"
      ],
      "execution_count": null,
      "outputs": [
        {
          "output_type": "execute_result",
          "data": {
            "text/plain": [
              "10.682121627762635"
            ]
          },
          "metadata": {
            "tags": []
          },
          "execution_count": 7
        }
      ]
    },
    {
      "cell_type": "markdown",
      "metadata": {
        "id": "BGQzXCeHDRKd"
      },
      "source": [
        "Not bad. We didn't take a complete baseline (once we get better at modelling, this linear model will be the baseline). Lets make a plot: "
      ]
    },
    {
      "cell_type": "code",
      "metadata": {
        "id": "L4RG1OF1DbmL",
        "outputId": "dcecc77a-dc13-4552-8e98-a1f282edc7fc",
        "colab": {
          "base_uri": "https://localhost:8080/"
        }
      },
      "source": [
        "fig, ax = plt.subplots()\n",
        "ax.scatter(true_mpg, first_mpg_predictions)\n",
        "fig.show()"
      ],
      "execution_count": null,
      "outputs": [
        {
          "output_type": "display_data",
          "data": {
            "image/png": "[encoded data removed]",
            "text/plain": [
              "<Figure size 432x288 with 1 Axes>"
            ]
          },
          "metadata": {
            "tags": [],
            "needs_background": "light"
          }
        }
      ]
    },
    {
      "cell_type": "markdown",
      "metadata": {
        "id": "FN3ke5ZZDmOB"
      },
      "source": [
        "Say we want to improve our model, and an obvious place would be to use the **names** of the cars, lets backtrack. "
      ]
    },
    {
      "cell_type": "code",
      "metadata": {
        "id": "uwQGHtKKDjVW",
        "outputId": "cb031cae-c6fc-49eb-d8ec-92c337a61a58",
        "colab": {
          "base_uri": "https://localhost:8080/",
          "height": 661
        }
      },
      "source": [
        "df_carsin.dropna()"
      ],
      "execution_count": null,
      "outputs": [
        {
          "output_type": "execute_result",
          "data": {
            "text/html": [
              "<div>\n",
              "<style scoped>\n",
              "    .dataframe tbody tr th:only-of-type {\n",
              "        vertical-align: middle;\n",
              "    }\n",
              "\n",
              "    .dataframe tbody tr th {\n",
              "        vertical-align: top;\n",
              "    }\n",
              "\n",
              "    .dataframe thead th {\n",
              "        text-align: right;\n",
              "    }\n",
              "</style>\n",
              "<table border=\"1\" class=\"dataframe\">\n",
              "  <thead>\n",
              "    <tr style=\"text-align: right;\">\n",
              "      <th></th>\n",
              "      <th>mpg</th>\n",
              "      <th>cylinders</th>\n",
              "      <th>displacement</th>\n",
              "      <th>horsepower</th>\n",
              "      <th>weight</th>\n",
              "      <th>acceleration</th>\n",
              "      <th>model_year</th>\n",
              "      <th>origin</th>\n",
              "      <th>name</th>\n",
              "    </tr>\n",
              "  </thead>\n",
              "  <tbody>\n",
              "    <tr>\n",
              "      <th>0</th>\n",
              "      <td>18.0</td>\n",
              "      <td>8</td>\n",
              "      <td>307.0</td>\n",
              "      <td>130.0</td>\n",
              "      <td>3504</td>\n",
              "      <td>12.0</td>\n",
              "      <td>70</td>\n",
              "      <td>usa</td>\n",
              "      <td>chevrolet chevelle malibu</td>\n",
              "    </tr>\n",
              "    <tr>\n",
              "      <th>1</th>\n",
              "      <td>15.0</td>\n",
              "      <td>8</td>\n",
              "      <td>350.0</td>\n",
              "      <td>165.0</td>\n",
              "      <td>3693</td>\n",
              "      <td>11.5</td>\n",
              "      <td>70</td>\n",
              "      <td>usa</td>\n",
              "      <td>buick skylark 320</td>\n",
              "    </tr>\n",
              "    <tr>\n",
              "      <th>2</th>\n",
              "      <td>18.0</td>\n",
              "      <td>8</td>\n",
              "      <td>318.0</td>\n",
              "      <td>150.0</td>\n",
              "      <td>3436</td>\n",
              "      <td>11.0</td>\n",
              "      <td>70</td>\n",
              "      <td>usa</td>\n",
              "      <td>plymouth satellite</td>\n",
              "    </tr>\n",
              "    <tr>\n",
              "      <th>3</th>\n",
              "      <td>16.0</td>\n",
              "      <td>8</td>\n",
              "      <td>304.0</td>\n",
              "      <td>150.0</td>\n",
              "      <td>3433</td>\n",
              "      <td>12.0</td>\n",
              "      <td>70</td>\n",
              "      <td>usa</td>\n",
              "      <td>amc rebel sst</td>\n",
              "    </tr>\n",
              "    <tr>\n",
              "      <th>4</th>\n",
              "      <td>17.0</td>\n",
              "      <td>8</td>\n",
              "      <td>302.0</td>\n",
              "      <td>140.0</td>\n",
              "      <td>3449</td>\n",
              "      <td>10.5</td>\n",
              "      <td>70</td>\n",
              "      <td>usa</td>\n",
              "      <td>ford torino</td>\n",
              "    </tr>\n",
              "    <tr>\n",
              "      <th>...</th>\n",
              "      <td>...</td>\n",
              "      <td>...</td>\n",
              "      <td>...</td>\n",
              "      <td>...</td>\n",
              "      <td>...</td>\n",
              "      <td>...</td>\n",
              "      <td>...</td>\n",
              "      <td>...</td>\n",
              "      <td>...</td>\n",
              "    </tr>\n",
              "    <tr>\n",
              "      <th>393</th>\n",
              "      <td>27.0</td>\n",
              "      <td>4</td>\n",
              "      <td>140.0</td>\n",
              "      <td>86.0</td>\n",
              "      <td>2790</td>\n",
              "      <td>15.6</td>\n",
              "      <td>82</td>\n",
              "      <td>usa</td>\n",
              "      <td>ford mustang gl</td>\n",
              "    </tr>\n",
              "    <tr>\n",
              "      <th>394</th>\n",
              "      <td>44.0</td>\n",
              "      <td>4</td>\n",
              "      <td>97.0</td>\n",
              "      <td>52.0</td>\n",
              "      <td>2130</td>\n",
              "      <td>24.6</td>\n",
              "      <td>82</td>\n",
              "      <td>europe</td>\n",
              "      <td>vw pickup</td>\n",
              "    </tr>\n",
              "    <tr>\n",
              "      <th>395</th>\n",
              "      <td>32.0</td>\n",
              "      <td>4</td>\n",
              "      <td>135.0</td>\n",
              "      <td>84.0</td>\n",
              "      <td>2295</td>\n",
              "      <td>11.6</td>\n",
              "      <td>82</td>\n",
              "      <td>usa</td>\n",
              "      <td>dodge rampage</td>\n",
              "    </tr>\n",
              "    <tr>\n",
              "      <th>396</th>\n",
              "      <td>28.0</td>\n",
              "      <td>4</td>\n",
              "      <td>120.0</td>\n",
              "      <td>79.0</td>\n",
              "      <td>2625</td>\n",
              "      <td>18.6</td>\n",
              "      <td>82</td>\n",
              "      <td>usa</td>\n",
              "      <td>ford ranger</td>\n",
              "    </tr>\n",
              "    <tr>\n",
              "      <th>397</th>\n",
              "      <td>31.0</td>\n",
              "      <td>4</td>\n",
              "      <td>119.0</td>\n",
              "      <td>82.0</td>\n",
              "      <td>2720</td>\n",
              "      <td>19.4</td>\n",
              "      <td>82</td>\n",
              "      <td>usa</td>\n",
              "      <td>chevy s-10</td>\n",
              "    </tr>\n",
              "  </tbody>\n",
              "</table>\n",
              "<p>392 rows × 9 columns</p>\n",
              "</div>"
            ],
            "text/plain": [
              "      mpg  cylinders  ...  origin                       name\n",
              "0    18.0          8  ...     usa  chevrolet chevelle malibu\n",
              "1    15.0          8  ...     usa          buick skylark 320\n",
              "2    18.0          8  ...     usa         plymouth satellite\n",
              "3    16.0          8  ...     usa              amc rebel sst\n",
              "4    17.0          8  ...     usa                ford torino\n",
              "..    ...        ...  ...     ...                        ...\n",
              "393  27.0          4  ...     usa            ford mustang gl\n",
              "394  44.0          4  ...  europe                  vw pickup\n",
              "395  32.0          4  ...     usa              dodge rampage\n",
              "396  28.0          4  ...     usa                ford ranger\n",
              "397  31.0          4  ...     usa                 chevy s-10\n",
              "\n",
              "[392 rows x 9 columns]"
            ]
          },
          "metadata": {
            "tags": []
          },
          "execution_count": 8
        }
      ]
    },
    {
      "cell_type": "markdown",
      "metadata": {
        "id": "SHyr-Tl5EVNR"
      },
      "source": [
        "Let's use a new encoder this time and encode the car names. Then we do the same thing merging our data and dropping the columns we encoded. This step would be really tedious if not for this OneHotEncoder() that we won't be formally going over, but is explained in ***Section 2.5** and **Section 3.6***"
      ]
    },
    {
      "cell_type": "code",
      "metadata": {
        "id": "u73b3j5cDjJS",
        "outputId": "189fecf4-d357-4562-8055-08c20103429e",
        "colab": {
          "base_uri": "https://localhost:8080/"
        }
      },
      "source": [
        "import sklearn.preprocessing as skpre \n",
        "df_in2 = df_carsin.dropna().copy()\n",
        "encoder = skpre.OneHotEncoder()\n",
        "encoder.fit(X = df_in2[['origin', 'name']].values)\n",
        "\n",
        "array = encoder.transform(X = df_in2[['origin','name']].values).toarray() \n",
        "df_encoded= pd.DataFrame(data = array, index = df_in2.index, columns = encoder.get_feature_names())\n",
        "df_carsmerged = pd.concat(objs = [df_in2, df_encoded], axis = 1)\n",
        "\n",
        "df_carsnames= df_carsmerged.drop(columns = ['origin', 'name'])\n",
        "df_carsnames"
      ],
      "execution_count": null,
      "outputs": [
        {
          "output_type": "execute_result",
          "data": {
            "text/html": [
              "<div>\n",
              "<style scoped>\n",
              "    .dataframe tbody tr th:only-of-type {\n",
              "        vertical-align: middle;\n",
              "    }\n",
              "\n",
              "    .dataframe tbody tr th {\n",
              "        vertical-align: top;\n",
              "    }\n",
              "\n",
              "    .dataframe thead th {\n",
              "        text-align: right;\n",
              "    }\n",
              "</style>\n",
              "<table border=\"1\" class=\"dataframe\">\n",
              "  <thead>\n",
              "    <tr style=\"text-align: right;\">\n",
              "      <th></th>\n",
              "      <th>mpg</th>\n",
              "      <th>cylinders</th>\n",
              "      <th>displacement</th>\n",
              "      <th>horsepower</th>\n",
              "      <th>weight</th>\n",
              "      <th>acceleration</th>\n",
              "      <th>model_year</th>\n",
              "      <th>x0_europe</th>\n",
              "      <th>x0_japan</th>\n",
              "      <th>x0_usa</th>\n",
              "      <th>x1_amc ambassador brougham</th>\n",
              "      <th>x1_amc ambassador dpl</th>\n",
              "      <th>x1_amc ambassador sst</th>\n",
              "      <th>x1_amc concord</th>\n",
              "      <th>x1_amc concord d/l</th>\n",
              "      <th>x1_amc concord dl 6</th>\n",
              "      <th>x1_amc gremlin</th>\n",
              "      <th>x1_amc hornet</th>\n",
              "      <th>x1_amc hornet sportabout (sw)</th>\n",
              "      <th>x1_amc matador</th>\n",
              "      <th>x1_amc matador (sw)</th>\n",
              "      <th>x1_amc pacer</th>\n",
              "      <th>x1_amc pacer d/l</th>\n",
              "      <th>x1_amc rebel sst</th>\n",
              "      <th>x1_amc spirit dl</th>\n",
              "      <th>x1_audi 100 ls</th>\n",
              "      <th>x1_audi 100ls</th>\n",
              "      <th>x1_audi 4000</th>\n",
              "      <th>x1_audi 5000</th>\n",
              "      <th>x1_audi 5000s (diesel)</th>\n",
              "      <th>x1_audi fox</th>\n",
              "      <th>x1_bmw 2002</th>\n",
              "      <th>x1_bmw 320i</th>\n",
              "      <th>x1_buick century</th>\n",
              "      <th>x1_buick century 350</th>\n",
              "      <th>x1_buick century limited</th>\n",
              "      <th>x1_buick century luxus (sw)</th>\n",
              "      <th>x1_buick century special</th>\n",
              "      <th>x1_buick electra 225 custom</th>\n",
              "      <th>x1_buick estate wagon (sw)</th>\n",
              "      <th>...</th>\n",
              "      <th>x1_toyota celica gt liftback</th>\n",
              "      <th>x1_toyota corolla</th>\n",
              "      <th>x1_toyota corolla 1200</th>\n",
              "      <th>x1_toyota corolla 1600 (sw)</th>\n",
              "      <th>x1_toyota corolla liftback</th>\n",
              "      <th>x1_toyota corolla tercel</th>\n",
              "      <th>x1_toyota corona</th>\n",
              "      <th>x1_toyota corona hardtop</th>\n",
              "      <th>x1_toyota corona liftback</th>\n",
              "      <th>x1_toyota corona mark ii</th>\n",
              "      <th>x1_toyota cressida</th>\n",
              "      <th>x1_toyota mark ii</th>\n",
              "      <th>x1_toyota starlet</th>\n",
              "      <th>x1_toyota tercel</th>\n",
              "      <th>x1_toyouta corona mark ii (sw)</th>\n",
              "      <th>x1_triumph tr7 coupe</th>\n",
              "      <th>x1_vokswagen rabbit</th>\n",
              "      <th>x1_volkswagen 1131 deluxe sedan</th>\n",
              "      <th>x1_volkswagen 411 (sw)</th>\n",
              "      <th>x1_volkswagen dasher</th>\n",
              "      <th>x1_volkswagen jetta</th>\n",
              "      <th>x1_volkswagen model 111</th>\n",
              "      <th>x1_volkswagen rabbit</th>\n",
              "      <th>x1_volkswagen rabbit custom</th>\n",
              "      <th>x1_volkswagen rabbit custom diesel</th>\n",
              "      <th>x1_volkswagen rabbit l</th>\n",
              "      <th>x1_volkswagen scirocco</th>\n",
              "      <th>x1_volkswagen super beetle</th>\n",
              "      <th>x1_volkswagen type 3</th>\n",
              "      <th>x1_volvo 144ea</th>\n",
              "      <th>x1_volvo 145e (sw)</th>\n",
              "      <th>x1_volvo 244dl</th>\n",
              "      <th>x1_volvo 245</th>\n",
              "      <th>x1_volvo 264gl</th>\n",
              "      <th>x1_volvo diesel</th>\n",
              "      <th>x1_vw dasher (diesel)</th>\n",
              "      <th>x1_vw pickup</th>\n",
              "      <th>x1_vw rabbit</th>\n",
              "      <th>x1_vw rabbit c (diesel)</th>\n",
              "      <th>x1_vw rabbit custom</th>\n",
              "    </tr>\n",
              "  </thead>\n",
              "  <tbody>\n",
              "    <tr>\n",
              "      <th>0</th>\n",
              "      <td>18.0</td>\n",
              "      <td>8</td>\n",
              "      <td>307.0</td>\n",
              "      <td>130.0</td>\n",
              "      <td>3504</td>\n",
              "      <td>12.0</td>\n",
              "      <td>70</td>\n",
              "      <td>0.0</td>\n",
              "      <td>0.0</td>\n",
              "      <td>1.0</td>\n",
              "      <td>0.0</td>\n",
              "      <td>0.0</td>\n",
              "      <td>0.0</td>\n",
              "      <td>0.0</td>\n",
              "      <td>0.0</td>\n",
              "      <td>0.0</td>\n",
              "      <td>0.0</td>\n",
              "      <td>0.0</td>\n",
              "      <td>0.0</td>\n",
              "      <td>0.0</td>\n",
              "      <td>0.0</td>\n",
              "      <td>0.0</td>\n",
              "      <td>0.0</td>\n",
              "      <td>0.0</td>\n",
              "      <td>0.0</td>\n",
              "      <td>0.0</td>\n",
              "      <td>0.0</td>\n",
              "      <td>0.0</td>\n",
              "      <td>0.0</td>\n",
              "      <td>0.0</td>\n",
              "      <td>0.0</td>\n",
              "      <td>0.0</td>\n",
              "      <td>0.0</td>\n",
              "      <td>0.0</td>\n",
              "      <td>0.0</td>\n",
              "      <td>0.0</td>\n",
              "      <td>0.0</td>\n",
              "      <td>0.0</td>\n",
              "      <td>0.0</td>\n",
              "      <td>0.0</td>\n",
              "      <td>...</td>\n",
              "      <td>0.0</td>\n",
              "      <td>0.0</td>\n",
              "      <td>0.0</td>\n",
              "      <td>0.0</td>\n",
              "      <td>0.0</td>\n",
              "      <td>0.0</td>\n",
              "      <td>0.0</td>\n",
              "      <td>0.0</td>\n",
              "      <td>0.0</td>\n",
              "      <td>0.0</td>\n",
              "      <td>0.0</td>\n",
              "      <td>0.0</td>\n",
              "      <td>0.0</td>\n",
              "      <td>0.0</td>\n",
              "      <td>0.0</td>\n",
              "      <td>0.0</td>\n",
              "      <td>0.0</td>\n",
              "      <td>0.0</td>\n",
              "      <td>0.0</td>\n",
              "      <td>0.0</td>\n",
              "      <td>0.0</td>\n",
              "      <td>0.0</td>\n",
              "      <td>0.0</td>\n",
              "      <td>0.0</td>\n",
              "      <td>0.0</td>\n",
              "      <td>0.0</td>\n",
              "      <td>0.0</td>\n",
              "      <td>0.0</td>\n",
              "      <td>0.0</td>\n",
              "      <td>0.0</td>\n",
              "      <td>0.0</td>\n",
              "      <td>0.0</td>\n",
              "      <td>0.0</td>\n",
              "      <td>0.0</td>\n",
              "      <td>0.0</td>\n",
              "      <td>0.0</td>\n",
              "      <td>0.0</td>\n",
              "      <td>0.0</td>\n",
              "      <td>0.0</td>\n",
              "      <td>0.0</td>\n",
              "    </tr>\n",
              "    <tr>\n",
              "      <th>1</th>\n",
              "      <td>15.0</td>\n",
              "      <td>8</td>\n",
              "      <td>350.0</td>\n",
              "      <td>165.0</td>\n",
              "      <td>3693</td>\n",
              "      <td>11.5</td>\n",
              "      <td>70</td>\n",
              "      <td>0.0</td>\n",
              "      <td>0.0</td>\n",
              "      <td>1.0</td>\n",
              "      <td>0.0</td>\n",
              "      <td>0.0</td>\n",
              "      <td>0.0</td>\n",
              "      <td>0.0</td>\n",
              "      <td>0.0</td>\n",
              "      <td>0.0</td>\n",
              "      <td>0.0</td>\n",
              "      <td>0.0</td>\n",
              "      <td>0.0</td>\n",
              "      <td>0.0</td>\n",
              "      <td>0.0</td>\n",
              "      <td>0.0</td>\n",
              "      <td>0.0</td>\n",
              "      <td>0.0</td>\n",
              "      <td>0.0</td>\n",
              "      <td>0.0</td>\n",
              "      <td>0.0</td>\n",
              "      <td>0.0</td>\n",
              "      <td>0.0</td>\n",
              "      <td>0.0</td>\n",
              "      <td>0.0</td>\n",
              "      <td>0.0</td>\n",
              "      <td>0.0</td>\n",
              "      <td>0.0</td>\n",
              "      <td>0.0</td>\n",
              "      <td>0.0</td>\n",
              "      <td>0.0</td>\n",
              "      <td>0.0</td>\n",
              "      <td>0.0</td>\n",
              "      <td>0.0</td>\n",
              "      <td>...</td>\n",
              "      <td>0.0</td>\n",
              "      <td>0.0</td>\n",
              "      <td>0.0</td>\n",
              "      <td>0.0</td>\n",
              "      <td>0.0</td>\n",
              "      <td>0.0</td>\n",
              "      <td>0.0</td>\n",
              "      <td>0.0</td>\n",
              "      <td>0.0</td>\n",
              "      <td>0.0</td>\n",
              "      <td>0.0</td>\n",
              "      <td>0.0</td>\n",
              "      <td>0.0</td>\n",
              "      <td>0.0</td>\n",
              "      <td>0.0</td>\n",
              "      <td>0.0</td>\n",
              "      <td>0.0</td>\n",
              "      <td>0.0</td>\n",
              "      <td>0.0</td>\n",
              "      <td>0.0</td>\n",
              "      <td>0.0</td>\n",
              "      <td>0.0</td>\n",
              "      <td>0.0</td>\n",
              "      <td>0.0</td>\n",
              "      <td>0.0</td>\n",
              "      <td>0.0</td>\n",
              "      <td>0.0</td>\n",
              "      <td>0.0</td>\n",
              "      <td>0.0</td>\n",
              "      <td>0.0</td>\n",
              "      <td>0.0</td>\n",
              "      <td>0.0</td>\n",
              "      <td>0.0</td>\n",
              "      <td>0.0</td>\n",
              "      <td>0.0</td>\n",
              "      <td>0.0</td>\n",
              "      <td>0.0</td>\n",
              "      <td>0.0</td>\n",
              "      <td>0.0</td>\n",
              "      <td>0.0</td>\n",
              "    </tr>\n",
              "    <tr>\n",
              "      <th>2</th>\n",
              "      <td>18.0</td>\n",
              "      <td>8</td>\n",
              "      <td>318.0</td>\n",
              "      <td>150.0</td>\n",
              "      <td>3436</td>\n",
              "      <td>11.0</td>\n",
              "      <td>70</td>\n",
              "      <td>0.0</td>\n",
              "      <td>0.0</td>\n",
              "      <td>1.0</td>\n",
              "      <td>0.0</td>\n",
              "      <td>0.0</td>\n",
              "      <td>0.0</td>\n",
              "      <td>0.0</td>\n",
              "      <td>0.0</td>\n",
              "      <td>0.0</td>\n",
              "      <td>0.0</td>\n",
              "      <td>0.0</td>\n",
              "      <td>0.0</td>\n",
              "      <td>0.0</td>\n",
              "      <td>0.0</td>\n",
              "      <td>0.0</td>\n",
              "      <td>0.0</td>\n",
              "      <td>0.0</td>\n",
              "      <td>0.0</td>\n",
              "      <td>0.0</td>\n",
              "      <td>0.0</td>\n",
              "      <td>0.0</td>\n",
              "      <td>0.0</td>\n",
              "      <td>0.0</td>\n",
              "      <td>0.0</td>\n",
              "      <td>0.0</td>\n",
              "      <td>0.0</td>\n",
              "      <td>0.0</td>\n",
              "      <td>0.0</td>\n",
              "      <td>0.0</td>\n",
              "      <td>0.0</td>\n",
              "      <td>0.0</td>\n",
              "      <td>0.0</td>\n",
              "      <td>0.0</td>\n",
              "      <td>...</td>\n",
              "      <td>0.0</td>\n",
              "      <td>0.0</td>\n",
              "      <td>0.0</td>\n",
              "      <td>0.0</td>\n",
              "      <td>0.0</td>\n",
              "      <td>0.0</td>\n",
              "      <td>0.0</td>\n",
              "      <td>0.0</td>\n",
              "      <td>0.0</td>\n",
              "      <td>0.0</td>\n",
              "      <td>0.0</td>\n",
              "      <td>0.0</td>\n",
              "      <td>0.0</td>\n",
              "      <td>0.0</td>\n",
              "      <td>0.0</td>\n",
              "      <td>0.0</td>\n",
              "      <td>0.0</td>\n",
              "      <td>0.0</td>\n",
              "      <td>0.0</td>\n",
              "      <td>0.0</td>\n",
              "      <td>0.0</td>\n",
              "      <td>0.0</td>\n",
              "      <td>0.0</td>\n",
              "      <td>0.0</td>\n",
              "      <td>0.0</td>\n",
              "      <td>0.0</td>\n",
              "      <td>0.0</td>\n",
              "      <td>0.0</td>\n",
              "      <td>0.0</td>\n",
              "      <td>0.0</td>\n",
              "      <td>0.0</td>\n",
              "      <td>0.0</td>\n",
              "      <td>0.0</td>\n",
              "      <td>0.0</td>\n",
              "      <td>0.0</td>\n",
              "      <td>0.0</td>\n",
              "      <td>0.0</td>\n",
              "      <td>0.0</td>\n",
              "      <td>0.0</td>\n",
              "      <td>0.0</td>\n",
              "    </tr>\n",
              "    <tr>\n",
              "      <th>3</th>\n",
              "      <td>16.0</td>\n",
              "      <td>8</td>\n",
              "      <td>304.0</td>\n",
              "      <td>150.0</td>\n",
              "      <td>3433</td>\n",
              "      <td>12.0</td>\n",
              "      <td>70</td>\n",
              "      <td>0.0</td>\n",
              "      <td>0.0</td>\n",
              "      <td>1.0</td>\n",
              "      <td>0.0</td>\n",
              "      <td>0.0</td>\n",
              "      <td>0.0</td>\n",
              "      <td>0.0</td>\n",
              "      <td>0.0</td>\n",
              "      <td>0.0</td>\n",
              "      <td>0.0</td>\n",
              "      <td>0.0</td>\n",
              "      <td>0.0</td>\n",
              "      <td>0.0</td>\n",
              "      <td>0.0</td>\n",
              "      <td>0.0</td>\n",
              "      <td>0.0</td>\n",
              "      <td>1.0</td>\n",
              "      <td>0.0</td>\n",
              "      <td>0.0</td>\n",
              "      <td>0.0</td>\n",
              "      <td>0.0</td>\n",
              "      <td>0.0</td>\n",
              "      <td>0.0</td>\n",
              "      <td>0.0</td>\n",
              "      <td>0.0</td>\n",
              "      <td>0.0</td>\n",
              "      <td>0.0</td>\n",
              "      <td>0.0</td>\n",
              "      <td>0.0</td>\n",
              "      <td>0.0</td>\n",
              "      <td>0.0</td>\n",
              "      <td>0.0</td>\n",
              "      <td>0.0</td>\n",
              "      <td>...</td>\n",
              "      <td>0.0</td>\n",
              "      <td>0.0</td>\n",
              "      <td>0.0</td>\n",
              "      <td>0.0</td>\n",
              "      <td>0.0</td>\n",
              "      <td>0.0</td>\n",
              "      <td>0.0</td>\n",
              "      <td>0.0</td>\n",
              "      <td>0.0</td>\n",
              "      <td>0.0</td>\n",
              "      <td>0.0</td>\n",
              "      <td>0.0</td>\n",
              "      <td>0.0</td>\n",
              "      <td>0.0</td>\n",
              "      <td>0.0</td>\n",
              "      <td>0.0</td>\n",
              "      <td>0.0</td>\n",
              "      <td>0.0</td>\n",
              "      <td>0.0</td>\n",
              "      <td>0.0</td>\n",
              "      <td>0.0</td>\n",
              "      <td>0.0</td>\n",
              "      <td>0.0</td>\n",
              "      <td>0.0</td>\n",
              "      <td>0.0</td>\n",
              "      <td>0.0</td>\n",
              "      <td>0.0</td>\n",
              "      <td>0.0</td>\n",
              "      <td>0.0</td>\n",
              "      <td>0.0</td>\n",
              "      <td>0.0</td>\n",
              "      <td>0.0</td>\n",
              "      <td>0.0</td>\n",
              "      <td>0.0</td>\n",
              "      <td>0.0</td>\n",
              "      <td>0.0</td>\n",
              "      <td>0.0</td>\n",
              "      <td>0.0</td>\n",
              "      <td>0.0</td>\n",
              "      <td>0.0</td>\n",
              "    </tr>\n",
              "    <tr>\n",
              "      <th>4</th>\n",
              "      <td>17.0</td>\n",
              "      <td>8</td>\n",
              "      <td>302.0</td>\n",
              "      <td>140.0</td>\n",
              "      <td>3449</td>\n",
              "      <td>10.5</td>\n",
              "      <td>70</td>\n",
              "      <td>0.0</td>\n",
              "      <td>0.0</td>\n",
              "      <td>1.0</td>\n",
              "      <td>0.0</td>\n",
              "      <td>0.0</td>\n",
              "      <td>0.0</td>\n",
              "      <td>0.0</td>\n",
              "      <td>0.0</td>\n",
              "      <td>0.0</td>\n",
              "      <td>0.0</td>\n",
              "      <td>0.0</td>\n",
              "      <td>0.0</td>\n",
              "      <td>0.0</td>\n",
              "      <td>0.0</td>\n",
              "      <td>0.0</td>\n",
              "      <td>0.0</td>\n",
              "      <td>0.0</td>\n",
              "      <td>0.0</td>\n",
              "      <td>0.0</td>\n",
              "      <td>0.0</td>\n",
              "      <td>0.0</td>\n",
              "      <td>0.0</td>\n",
              "      <td>0.0</td>\n",
              "      <td>0.0</td>\n",
              "      <td>0.0</td>\n",
              "      <td>0.0</td>\n",
              "      <td>0.0</td>\n",
              "      <td>0.0</td>\n",
              "      <td>0.0</td>\n",
              "      <td>0.0</td>\n",
              "      <td>0.0</td>\n",
              "      <td>0.0</td>\n",
              "      <td>0.0</td>\n",
              "      <td>...</td>\n",
              "      <td>0.0</td>\n",
              "      <td>0.0</td>\n",
              "      <td>0.0</td>\n",
              "      <td>0.0</td>\n",
              "      <td>0.0</td>\n",
              "      <td>0.0</td>\n",
              "      <td>0.0</td>\n",
              "      <td>0.0</td>\n",
              "      <td>0.0</td>\n",
              "      <td>0.0</td>\n",
              "      <td>0.0</td>\n",
              "      <td>0.0</td>\n",
              "      <td>0.0</td>\n",
              "      <td>0.0</td>\n",
              "      <td>0.0</td>\n",
              "      <td>0.0</td>\n",
              "      <td>0.0</td>\n",
              "      <td>0.0</td>\n",
              "      <td>0.0</td>\n",
              "      <td>0.0</td>\n",
              "      <td>0.0</td>\n",
              "      <td>0.0</td>\n",
              "      <td>0.0</td>\n",
              "      <td>0.0</td>\n",
              "      <td>0.0</td>\n",
              "      <td>0.0</td>\n",
              "      <td>0.0</td>\n",
              "      <td>0.0</td>\n",
              "      <td>0.0</td>\n",
              "      <td>0.0</td>\n",
              "      <td>0.0</td>\n",
              "      <td>0.0</td>\n",
              "      <td>0.0</td>\n",
              "      <td>0.0</td>\n",
              "      <td>0.0</td>\n",
              "      <td>0.0</td>\n",
              "      <td>0.0</td>\n",
              "      <td>0.0</td>\n",
              "      <td>0.0</td>\n",
              "      <td>0.0</td>\n",
              "    </tr>\n",
              "    <tr>\n",
              "      <th>...</th>\n",
              "      <td>...</td>\n",
              "      <td>...</td>\n",
              "      <td>...</td>\n",
              "      <td>...</td>\n",
              "      <td>...</td>\n",
              "      <td>...</td>\n",
              "      <td>...</td>\n",
              "      <td>...</td>\n",
              "      <td>...</td>\n",
              "      <td>...</td>\n",
              "      <td>...</td>\n",
              "      <td>...</td>\n",
              "      <td>...</td>\n",
              "      <td>...</td>\n",
              "      <td>...</td>\n",
              "      <td>...</td>\n",
              "      <td>...</td>\n",
              "      <td>...</td>\n",
              "      <td>...</td>\n",
              "      <td>...</td>\n",
              "      <td>...</td>\n",
              "      <td>...</td>\n",
              "      <td>...</td>\n",
              "      <td>...</td>\n",
              "      <td>...</td>\n",
              "      <td>...</td>\n",
              "      <td>...</td>\n",
              "      <td>...</td>\n",
              "      <td>...</td>\n",
              "      <td>...</td>\n",
              "      <td>...</td>\n",
              "      <td>...</td>\n",
              "      <td>...</td>\n",
              "      <td>...</td>\n",
              "      <td>...</td>\n",
              "      <td>...</td>\n",
              "      <td>...</td>\n",
              "      <td>...</td>\n",
              "      <td>...</td>\n",
              "      <td>...</td>\n",
              "      <td>...</td>\n",
              "      <td>...</td>\n",
              "      <td>...</td>\n",
              "      <td>...</td>\n",
              "      <td>...</td>\n",
              "      <td>...</td>\n",
              "      <td>...</td>\n",
              "      <td>...</td>\n",
              "      <td>...</td>\n",
              "      <td>...</td>\n",
              "      <td>...</td>\n",
              "      <td>...</td>\n",
              "      <td>...</td>\n",
              "      <td>...</td>\n",
              "      <td>...</td>\n",
              "      <td>...</td>\n",
              "      <td>...</td>\n",
              "      <td>...</td>\n",
              "      <td>...</td>\n",
              "      <td>...</td>\n",
              "      <td>...</td>\n",
              "      <td>...</td>\n",
              "      <td>...</td>\n",
              "      <td>...</td>\n",
              "      <td>...</td>\n",
              "      <td>...</td>\n",
              "      <td>...</td>\n",
              "      <td>...</td>\n",
              "      <td>...</td>\n",
              "      <td>...</td>\n",
              "      <td>...</td>\n",
              "      <td>...</td>\n",
              "      <td>...</td>\n",
              "      <td>...</td>\n",
              "      <td>...</td>\n",
              "      <td>...</td>\n",
              "      <td>...</td>\n",
              "      <td>...</td>\n",
              "      <td>...</td>\n",
              "      <td>...</td>\n",
              "      <td>...</td>\n",
              "    </tr>\n",
              "    <tr>\n",
              "      <th>393</th>\n",
              "      <td>27.0</td>\n",
              "      <td>4</td>\n",
              "      <td>140.0</td>\n",
              "      <td>86.0</td>\n",
              "      <td>2790</td>\n",
              "      <td>15.6</td>\n",
              "      <td>82</td>\n",
              "      <td>0.0</td>\n",
              "      <td>0.0</td>\n",
              "      <td>1.0</td>\n",
              "      <td>0.0</td>\n",
              "      <td>0.0</td>\n",
              "      <td>0.0</td>\n",
              "      <td>0.0</td>\n",
              "      <td>0.0</td>\n",
              "      <td>0.0</td>\n",
              "      <td>0.0</td>\n",
              "      <td>0.0</td>\n",
              "      <td>0.0</td>\n",
              "      <td>0.0</td>\n",
              "      <td>0.0</td>\n",
              "      <td>0.0</td>\n",
              "      <td>0.0</td>\n",
              "      <td>0.0</td>\n",
              "      <td>0.0</td>\n",
              "      <td>0.0</td>\n",
              "      <td>0.0</td>\n",
              "      <td>0.0</td>\n",
              "      <td>0.0</td>\n",
              "      <td>0.0</td>\n",
              "      <td>0.0</td>\n",
              "      <td>0.0</td>\n",
              "      <td>0.0</td>\n",
              "      <td>0.0</td>\n",
              "      <td>0.0</td>\n",
              "      <td>0.0</td>\n",
              "      <td>0.0</td>\n",
              "      <td>0.0</td>\n",
              "      <td>0.0</td>\n",
              "      <td>0.0</td>\n",
              "      <td>...</td>\n",
              "      <td>0.0</td>\n",
              "      <td>0.0</td>\n",
              "      <td>0.0</td>\n",
              "      <td>0.0</td>\n",
              "      <td>0.0</td>\n",
              "      <td>0.0</td>\n",
              "      <td>0.0</td>\n",
              "      <td>0.0</td>\n",
              "      <td>0.0</td>\n",
              "      <td>0.0</td>\n",
              "      <td>0.0</td>\n",
              "      <td>0.0</td>\n",
              "      <td>0.0</td>\n",
              "      <td>0.0</td>\n",
              "      <td>0.0</td>\n",
              "      <td>0.0</td>\n",
              "      <td>0.0</td>\n",
              "      <td>0.0</td>\n",
              "      <td>0.0</td>\n",
              "      <td>0.0</td>\n",
              "      <td>0.0</td>\n",
              "      <td>0.0</td>\n",
              "      <td>0.0</td>\n",
              "      <td>0.0</td>\n",
              "      <td>0.0</td>\n",
              "      <td>0.0</td>\n",
              "      <td>0.0</td>\n",
              "      <td>0.0</td>\n",
              "      <td>0.0</td>\n",
              "      <td>0.0</td>\n",
              "      <td>0.0</td>\n",
              "      <td>0.0</td>\n",
              "      <td>0.0</td>\n",
              "      <td>0.0</td>\n",
              "      <td>0.0</td>\n",
              "      <td>0.0</td>\n",
              "      <td>0.0</td>\n",
              "      <td>0.0</td>\n",
              "      <td>0.0</td>\n",
              "      <td>0.0</td>\n",
              "    </tr>\n",
              "    <tr>\n",
              "      <th>394</th>\n",
              "      <td>44.0</td>\n",
              "      <td>4</td>\n",
              "      <td>97.0</td>\n",
              "      <td>52.0</td>\n",
              "      <td>2130</td>\n",
              "      <td>24.6</td>\n",
              "      <td>82</td>\n",
              "      <td>1.0</td>\n",
              "      <td>0.0</td>\n",
              "      <td>0.0</td>\n",
              "      <td>0.0</td>\n",
              "      <td>0.0</td>\n",
              "      <td>0.0</td>\n",
              "      <td>0.0</td>\n",
              "      <td>0.0</td>\n",
              "      <td>0.0</td>\n",
              "      <td>0.0</td>\n",
              "      <td>0.0</td>\n",
              "      <td>0.0</td>\n",
              "      <td>0.0</td>\n",
              "      <td>0.0</td>\n",
              "      <td>0.0</td>\n",
              "      <td>0.0</td>\n",
              "      <td>0.0</td>\n",
              "      <td>0.0</td>\n",
              "      <td>0.0</td>\n",
              "      <td>0.0</td>\n",
              "      <td>0.0</td>\n",
              "      <td>0.0</td>\n",
              "      <td>0.0</td>\n",
              "      <td>0.0</td>\n",
              "      <td>0.0</td>\n",
              "      <td>0.0</td>\n",
              "      <td>0.0</td>\n",
              "      <td>0.0</td>\n",
              "      <td>0.0</td>\n",
              "      <td>0.0</td>\n",
              "      <td>0.0</td>\n",
              "      <td>0.0</td>\n",
              "      <td>0.0</td>\n",
              "      <td>...</td>\n",
              "      <td>0.0</td>\n",
              "      <td>0.0</td>\n",
              "      <td>0.0</td>\n",
              "      <td>0.0</td>\n",
              "      <td>0.0</td>\n",
              "      <td>0.0</td>\n",
              "      <td>0.0</td>\n",
              "      <td>0.0</td>\n",
              "      <td>0.0</td>\n",
              "      <td>0.0</td>\n",
              "      <td>0.0</td>\n",
              "      <td>0.0</td>\n",
              "      <td>0.0</td>\n",
              "      <td>0.0</td>\n",
              "      <td>0.0</td>\n",
              "      <td>0.0</td>\n",
              "      <td>0.0</td>\n",
              "      <td>0.0</td>\n",
              "      <td>0.0</td>\n",
              "      <td>0.0</td>\n",
              "      <td>0.0</td>\n",
              "      <td>0.0</td>\n",
              "      <td>0.0</td>\n",
              "      <td>0.0</td>\n",
              "      <td>0.0</td>\n",
              "      <td>0.0</td>\n",
              "      <td>0.0</td>\n",
              "      <td>0.0</td>\n",
              "      <td>0.0</td>\n",
              "      <td>0.0</td>\n",
              "      <td>0.0</td>\n",
              "      <td>0.0</td>\n",
              "      <td>0.0</td>\n",
              "      <td>0.0</td>\n",
              "      <td>0.0</td>\n",
              "      <td>0.0</td>\n",
              "      <td>1.0</td>\n",
              "      <td>0.0</td>\n",
              "      <td>0.0</td>\n",
              "      <td>0.0</td>\n",
              "    </tr>\n",
              "    <tr>\n",
              "      <th>395</th>\n",
              "      <td>32.0</td>\n",
              "      <td>4</td>\n",
              "      <td>135.0</td>\n",
              "      <td>84.0</td>\n",
              "      <td>2295</td>\n",
              "      <td>11.6</td>\n",
              "      <td>82</td>\n",
              "      <td>0.0</td>\n",
              "      <td>0.0</td>\n",
              "      <td>1.0</td>\n",
              "      <td>0.0</td>\n",
              "      <td>0.0</td>\n",
              "      <td>0.0</td>\n",
              "      <td>0.0</td>\n",
              "      <td>0.0</td>\n",
              "      <td>0.0</td>\n",
              "      <td>0.0</td>\n",
              "      <td>0.0</td>\n",
              "      <td>0.0</td>\n",
              "      <td>0.0</td>\n",
              "      <td>0.0</td>\n",
              "      <td>0.0</td>\n",
              "      <td>0.0</td>\n",
              "      <td>0.0</td>\n",
              "      <td>0.0</td>\n",
              "      <td>0.0</td>\n",
              "      <td>0.0</td>\n",
              "      <td>0.0</td>\n",
              "      <td>0.0</td>\n",
              "      <td>0.0</td>\n",
              "      <td>0.0</td>\n",
              "      <td>0.0</td>\n",
              "      <td>0.0</td>\n",
              "      <td>0.0</td>\n",
              "      <td>0.0</td>\n",
              "      <td>0.0</td>\n",
              "      <td>0.0</td>\n",
              "      <td>0.0</td>\n",
              "      <td>0.0</td>\n",
              "      <td>0.0</td>\n",
              "      <td>...</td>\n",
              "      <td>0.0</td>\n",
              "      <td>0.0</td>\n",
              "      <td>0.0</td>\n",
              "      <td>0.0</td>\n",
              "      <td>0.0</td>\n",
              "      <td>0.0</td>\n",
              "      <td>0.0</td>\n",
              "      <td>0.0</td>\n",
              "      <td>0.0</td>\n",
              "      <td>0.0</td>\n",
              "      <td>0.0</td>\n",
              "      <td>0.0</td>\n",
              "      <td>0.0</td>\n",
              "      <td>0.0</td>\n",
              "      <td>0.0</td>\n",
              "      <td>0.0</td>\n",
              "      <td>0.0</td>\n",
              "      <td>0.0</td>\n",
              "      <td>0.0</td>\n",
              "      <td>0.0</td>\n",
              "      <td>0.0</td>\n",
              "      <td>0.0</td>\n",
              "      <td>0.0</td>\n",
              "      <td>0.0</td>\n",
              "      <td>0.0</td>\n",
              "      <td>0.0</td>\n",
              "      <td>0.0</td>\n",
              "      <td>0.0</td>\n",
              "      <td>0.0</td>\n",
              "      <td>0.0</td>\n",
              "      <td>0.0</td>\n",
              "      <td>0.0</td>\n",
              "      <td>0.0</td>\n",
              "      <td>0.0</td>\n",
              "      <td>0.0</td>\n",
              "      <td>0.0</td>\n",
              "      <td>0.0</td>\n",
              "      <td>0.0</td>\n",
              "      <td>0.0</td>\n",
              "      <td>0.0</td>\n",
              "    </tr>\n",
              "    <tr>\n",
              "      <th>396</th>\n",
              "      <td>28.0</td>\n",
              "      <td>4</td>\n",
              "      <td>120.0</td>\n",
              "      <td>79.0</td>\n",
              "      <td>2625</td>\n",
              "      <td>18.6</td>\n",
              "      <td>82</td>\n",
              "      <td>0.0</td>\n",
              "      <td>0.0</td>\n",
              "      <td>1.0</td>\n",
              "      <td>0.0</td>\n",
              "      <td>0.0</td>\n",
              "      <td>0.0</td>\n",
              "      <td>0.0</td>\n",
              "      <td>0.0</td>\n",
              "      <td>0.0</td>\n",
              "      <td>0.0</td>\n",
              "      <td>0.0</td>\n",
              "      <td>0.0</td>\n",
              "      <td>0.0</td>\n",
              "      <td>0.0</td>\n",
              "      <td>0.0</td>\n",
              "      <td>0.0</td>\n",
              "      <td>0.0</td>\n",
              "      <td>0.0</td>\n",
              "      <td>0.0</td>\n",
              "      <td>0.0</td>\n",
              "      <td>0.0</td>\n",
              "      <td>0.0</td>\n",
              "      <td>0.0</td>\n",
              "      <td>0.0</td>\n",
              "      <td>0.0</td>\n",
              "      <td>0.0</td>\n",
              "      <td>0.0</td>\n",
              "      <td>0.0</td>\n",
              "      <td>0.0</td>\n",
              "      <td>0.0</td>\n",
              "      <td>0.0</td>\n",
              "      <td>0.0</td>\n",
              "      <td>0.0</td>\n",
              "      <td>...</td>\n",
              "      <td>0.0</td>\n",
              "      <td>0.0</td>\n",
              "      <td>0.0</td>\n",
              "      <td>0.0</td>\n",
              "      <td>0.0</td>\n",
              "      <td>0.0</td>\n",
              "      <td>0.0</td>\n",
              "      <td>0.0</td>\n",
              "      <td>0.0</td>\n",
              "      <td>0.0</td>\n",
              "      <td>0.0</td>\n",
              "      <td>0.0</td>\n",
              "      <td>0.0</td>\n",
              "      <td>0.0</td>\n",
              "      <td>0.0</td>\n",
              "      <td>0.0</td>\n",
              "      <td>0.0</td>\n",
              "      <td>0.0</td>\n",
              "      <td>0.0</td>\n",
              "      <td>0.0</td>\n",
              "      <td>0.0</td>\n",
              "      <td>0.0</td>\n",
              "      <td>0.0</td>\n",
              "      <td>0.0</td>\n",
              "      <td>0.0</td>\n",
              "      <td>0.0</td>\n",
              "      <td>0.0</td>\n",
              "      <td>0.0</td>\n",
              "      <td>0.0</td>\n",
              "      <td>0.0</td>\n",
              "      <td>0.0</td>\n",
              "      <td>0.0</td>\n",
              "      <td>0.0</td>\n",
              "      <td>0.0</td>\n",
              "      <td>0.0</td>\n",
              "      <td>0.0</td>\n",
              "      <td>0.0</td>\n",
              "      <td>0.0</td>\n",
              "      <td>0.0</td>\n",
              "      <td>0.0</td>\n",
              "    </tr>\n",
              "    <tr>\n",
              "      <th>397</th>\n",
              "      <td>31.0</td>\n",
              "      <td>4</td>\n",
              "      <td>119.0</td>\n",
              "      <td>82.0</td>\n",
              "      <td>2720</td>\n",
              "      <td>19.4</td>\n",
              "      <td>82</td>\n",
              "      <td>0.0</td>\n",
              "      <td>0.0</td>\n",
              "      <td>1.0</td>\n",
              "      <td>0.0</td>\n",
              "      <td>0.0</td>\n",
              "      <td>0.0</td>\n",
              "      <td>0.0</td>\n",
              "      <td>0.0</td>\n",
              "      <td>0.0</td>\n",
              "      <td>0.0</td>\n",
              "      <td>0.0</td>\n",
              "      <td>0.0</td>\n",
              "      <td>0.0</td>\n",
              "      <td>0.0</td>\n",
              "      <td>0.0</td>\n",
              "      <td>0.0</td>\n",
              "      <td>0.0</td>\n",
              "      <td>0.0</td>\n",
              "      <td>0.0</td>\n",
              "      <td>0.0</td>\n",
              "      <td>0.0</td>\n",
              "      <td>0.0</td>\n",
              "      <td>0.0</td>\n",
              "      <td>0.0</td>\n",
              "      <td>0.0</td>\n",
              "      <td>0.0</td>\n",
              "      <td>0.0</td>\n",
              "      <td>0.0</td>\n",
              "      <td>0.0</td>\n",
              "      <td>0.0</td>\n",
              "      <td>0.0</td>\n",
              "      <td>0.0</td>\n",
              "      <td>0.0</td>\n",
              "      <td>...</td>\n",
              "      <td>0.0</td>\n",
              "      <td>0.0</td>\n",
              "      <td>0.0</td>\n",
              "      <td>0.0</td>\n",
              "      <td>0.0</td>\n",
              "      <td>0.0</td>\n",
              "      <td>0.0</td>\n",
              "      <td>0.0</td>\n",
              "      <td>0.0</td>\n",
              "      <td>0.0</td>\n",
              "      <td>0.0</td>\n",
              "      <td>0.0</td>\n",
              "      <td>0.0</td>\n",
              "      <td>0.0</td>\n",
              "      <td>0.0</td>\n",
              "      <td>0.0</td>\n",
              "      <td>0.0</td>\n",
              "      <td>0.0</td>\n",
              "      <td>0.0</td>\n",
              "      <td>0.0</td>\n",
              "      <td>0.0</td>\n",
              "      <td>0.0</td>\n",
              "      <td>0.0</td>\n",
              "      <td>0.0</td>\n",
              "      <td>0.0</td>\n",
              "      <td>0.0</td>\n",
              "      <td>0.0</td>\n",
              "      <td>0.0</td>\n",
              "      <td>0.0</td>\n",
              "      <td>0.0</td>\n",
              "      <td>0.0</td>\n",
              "      <td>0.0</td>\n",
              "      <td>0.0</td>\n",
              "      <td>0.0</td>\n",
              "      <td>0.0</td>\n",
              "      <td>0.0</td>\n",
              "      <td>0.0</td>\n",
              "      <td>0.0</td>\n",
              "      <td>0.0</td>\n",
              "      <td>0.0</td>\n",
              "    </tr>\n",
              "  </tbody>\n",
              "</table>\n",
              "<p>392 rows × 311 columns</p>\n",
              "</div>"
            ],
            "text/plain": [
              "      mpg  cylinders  ...  x1_vw rabbit c (diesel)  x1_vw rabbit custom\n",
              "0    18.0          8  ...                      0.0                  0.0\n",
              "1    15.0          8  ...                      0.0                  0.0\n",
              "2    18.0          8  ...                      0.0                  0.0\n",
              "3    16.0          8  ...                      0.0                  0.0\n",
              "4    17.0          8  ...                      0.0                  0.0\n",
              "..    ...        ...  ...                      ...                  ...\n",
              "393  27.0          4  ...                      0.0                  0.0\n",
              "394  44.0          4  ...                      0.0                  0.0\n",
              "395  32.0          4  ...                      0.0                  0.0\n",
              "396  28.0          4  ...                      0.0                  0.0\n",
              "397  31.0          4  ...                      0.0                  0.0\n",
              "\n",
              "[392 rows x 311 columns]"
            ]
          },
          "metadata": {
            "tags": []
          },
          "execution_count": 54
        }
      ]
    },
    {
      "cell_type": "markdown",
      "metadata": {
        "id": "VQgPQY9dE4pG"
      },
      "source": [
        "Basically, we've made a new dataset where the ***NAMES OF THE CARS*** are made as new columns. We need to make a another model and fit it to our new inputs. The predicted values `true_mpg` does not need to be changed. "
      ]
    },
    {
      "cell_type": "code",
      "metadata": {
        "id": "ynV30MIOEkcX",
        "outputId": "12f3e907-2371-4246-c596-5f068b08faf8",
        "colab": {
          "base_uri": "https://localhost:8080/"
        }
      },
      "source": [
        "cars_linear_model_2 = linear_model.LinearRegression()\n",
        "cars_linear_model_2.fit(X = df_carsnames.values, y = true_mpg )"
      ],
      "execution_count": null,
      "outputs": [
        {
          "output_type": "execute_result",
          "data": {
            "text/plain": [
              "LinearRegression(copy_X=True, fit_intercept=True, n_jobs=None, normalize=False)"
            ]
          },
          "metadata": {
            "tags": []
          },
          "execution_count": 55
        }
      ]
    },
    {
      "cell_type": "code",
      "metadata": {
        "id": "hGAfXyj4FEFx"
      },
      "source": [
        "second_mpg_predictions = cars_linear_model_2.predict(X = df_carsnames)"
      ],
      "execution_count": null,
      "outputs": []
    },
    {
      "cell_type": "code",
      "metadata": {
        "id": "T6dApXO6FT1l",
        "outputId": "f60f8bfc-742b-4789-ec6f-78b187350dfe",
        "colab": {
          "base_uri": "https://localhost:8080/"
        }
      },
      "source": [
        "mean_squared_error(true_mpg, second_mpg_predictions)"
      ],
      "execution_count": null,
      "outputs": [
        {
          "output_type": "execute_result",
          "data": {
            "text/plain": [
              "1.6438895312677044e-28"
            ]
          },
          "metadata": {
            "tags": []
          },
          "execution_count": 57
        }
      ]
    },
    {
      "cell_type": "markdown",
      "metadata": {
        "id": "m2nJsmjgFZFv"
      },
      "source": [
        "GASP again, what happened this time? Let's plot"
      ]
    },
    {
      "cell_type": "code",
      "metadata": {
        "id": "pVE7cT_eFLyf",
        "outputId": "fa4b5d0e-ec3f-42d2-bcbb-228b41cf14ea",
        "colab": {
          "base_uri": "https://localhost:8080/"
        }
      },
      "source": [
        "fig, ax = plt.subplots()\n",
        "ax.scatter(true_mpg, second_mpg_predictions)\n",
        "fig.show()"
      ],
      "execution_count": null,
      "outputs": [
        {
          "output_type": "display_data",
          "data": {
            "image/png": "[encoded data removed]",
            "text/plain": [
              "<Figure size 432x288 with 1 Axes>"
            ]
          },
          "metadata": {
            "tags": [],
            "needs_background": "light"
          }
        }
      ]
    },
    {
      "cell_type": "markdown",
      "metadata": {
        "id": "lYPEVunXFiNq"
      },
      "source": [
        "Let's check the coefficients"
      ]
    },
    {
      "cell_type": "code",
      "metadata": {
        "id": "xLmT0MknFcmG",
        "outputId": "5cc3ce56-7d8c-4d1c-b22f-e1cee2ce6358",
        "colab": {
          "base_uri": "https://localhost:8080/"
        }
      },
      "source": [
        "cars_linear_model_2.coef_"
      ],
      "execution_count": null,
      "outputs": [
        {
          "output_type": "execute_result",
          "data": {
            "text/plain": [
              "array([ 1.00000000e+00, -6.36452677e-16, -4.58268972e-17,  2.11406830e-17,\n",
              "        1.41761610e-17,  3.69512690e-16, -1.71013958e-15, -1.93395695e-16,\n",
              "        4.01263726e-15, -3.81924157e-15, -1.68804770e-15, -1.58169358e-14,\n",
              "       -2.08489429e-15,  1.56914587e-15,  1.87442265e-15,  4.20835142e-16,\n",
              "       -3.95736142e-15, -4.01983245e-15, -6.50959428e-15, -4.23636319e-15,\n",
              "       -3.00330828e-15, -3.54292027e-15, -2.78289273e-15, -4.75802352e-16,\n",
              "        6.76777977e-15, -3.24759012e-15, -5.79789481e-16,  4.89765275e-15,\n",
              "        5.93793709e-15,  5.05404064e-16, -6.00082513e-16, -6.00652760e-15,\n",
              "        5.92163654e-15,  2.45321263e-16, -2.35778316e-15,  1.14955169e-14,\n",
              "       -7.05538546e-15,  1.87494336e-15, -7.55780255e-15, -3.99548870e-15,\n",
              "       -8.60040604e-15,  5.82255755e-15,  9.57633058e-15, -7.17793207e-16,\n",
              "        2.72224247e-15, -1.06751250e-14,  5.58949251e-15, -4.60680669e-15,\n",
              "       -3.84437685e-17,  3.49538727e-15, -6.35865045e-15, -6.43027454e-15,\n",
              "        8.28990136e-15, -5.78005615e-16,  1.07397500e-14,  1.07524881e-14,\n",
              "        1.18183027e-14, -5.56325651e-15,  2.57204838e-14, -2.44206748e-15,\n",
              "        5.93169441e-15,  1.30305807e-14, -1.78389602e-16, -6.90812489e-15,\n",
              "       -1.44724745e-15,  5.14642199e-15, -1.46494562e-14,  6.28291188e-16,\n",
              "       -6.22848776e-15, -3.92026716e-16, -6.00950910e-15, -7.07622554e-15,\n",
              "       -6.96665918e-15, -5.54083541e-15, -7.37459318e-15,  2.35563357e-15,\n",
              "        1.24539083e-16, -2.38821941e-14,  8.21112723e-15, -1.21106301e-15,\n",
              "        1.04842205e-14,  5.26804336e-15,  1.00464622e-15, -5.22064805e-15,\n",
              "       -8.26098275e-15, -8.11696385e-15,  2.12852549e-15,  3.28605989e-15,\n",
              "        2.81458892e-15,  2.11672129e-15,  5.83705099e-15,  1.79327221e-15,\n",
              "        4.05053028e-15,  1.85638958e-15, -6.43006881e-15,  5.18164752e-16,\n",
              "       -4.12332075e-15, -1.01001323e-15,  4.12528045e-16,  7.94364150e-15,\n",
              "       -2.16983807e-15, -5.91055378e-15, -3.33530323e-15, -3.24293863e-15,\n",
              "       -4.27545404e-15,  1.02549155e-14,  9.09432913e-15,  7.02350618e-16,\n",
              "        4.05890316e-15, -3.02986688e-15, -9.62596131e-15,  1.10587581e-14,\n",
              "        6.07161230e-15,  9.40586995e-16,  1.18382119e-15,  8.93032770e-15,\n",
              "        6.52443703e-15, -7.47852811e-16, -1.48212361e-15, -5.08622188e-15,\n",
              "        1.82564311e-15, -6.44640703e-15,  2.15406552e-16,  1.91638149e-15,\n",
              "        2.06419191e-15, -1.07961875e-14,  4.10812177e-16,  6.86217649e-15,\n",
              "        1.28266824e-14,  1.63588987e-15,  8.19198313e-18, -1.30109241e-15,\n",
              "       -3.90233121e-15, -1.92331931e-15,  1.36707152e-15,  5.51493956e-15,\n",
              "       -1.43706504e-15, -1.10816784e-14, -4.68661435e-15,  8.35084376e-15,\n",
              "        1.02399573e-14,  9.61112264e-16,  4.74413417e-15,  5.58904280e-15,\n",
              "        3.31709176e-15,  5.21193704e-15,  5.62119623e-15,  1.02538122e-14,\n",
              "        8.03483285e-15,  4.89546087e-15, -1.30980311e-14, -4.07816875e-15,\n",
              "       -3.90412625e-15, -2.30830035e-15, -8.98000798e-15,  6.69771688e-15,\n",
              "        9.30231558e-15, -5.03215935e-15,  4.33395948e-15, -4.96355034e-15,\n",
              "       -9.41522132e-15,  9.88954726e-15,  2.64712472e-15,  3.70313082e-15,\n",
              "        6.72592383e-16, -3.37784411e-16,  4.96202218e-16,  9.59017275e-15,\n",
              "       -3.86990544e-15, -6.21698380e-15, -1.00999030e-14,  1.23233614e-14,\n",
              "        4.91788820e-15, -2.75797141e-15, -9.91966673e-16, -1.39871755e-15,\n",
              "        6.58052447e-15,  3.77725928e-15, -3.50674490e-15,  2.50023166e-16,\n",
              "        1.27200286e-15, -4.75534317e-16, -5.83088677e-16,  2.56301958e-15,\n",
              "       -3.64700758e-15,  1.81126121e-15,  5.47464298e-15,  3.72015783e-15,\n",
              "       -1.75432604e-15,  4.01937816e-15,  8.49229352e-15, -1.75391381e-15,\n",
              "       -5.42944238e-15, -4.81046731e-15,  6.55928538e-16, -2.67408825e-16,\n",
              "        4.48087772e-15, -1.66728198e-15,  3.10217725e-16,  1.03429621e-14,\n",
              "       -6.37004386e-15, -9.23496045e-15, -8.63864536e-15,  3.11933589e-15,\n",
              "        2.64871961e-15,  3.35521386e-15,  4.63935687e-15,  9.51400911e-17,\n",
              "       -4.95145618e-15, -1.11381519e-15, -1.85971736e-15, -7.39071870e-15,\n",
              "       -2.82318335e-16,  1.05830178e-14,  2.96006433e-15, -3.78411183e-15,\n",
              "       -1.91096573e-15, -1.51386394e-15, -6.02669215e-15,  1.75035117e-15,\n",
              "       -6.70279000e-15, -5.61462369e-16,  6.93952733e-15, -9.18655956e-15,\n",
              "        7.89544500e-15,  1.04407536e-14, -1.60111384e-15, -5.20425666e-15,\n",
              "       -6.40644927e-15, -5.94020991e-15, -6.52500281e-15, -1.04726694e-14,\n",
              "       -4.64424928e-15,  6.45527258e-15,  9.37494001e-15,  8.99648736e-15,\n",
              "        9.07943663e-15,  8.11267846e-15,  5.71132435e-15, -1.04030687e-14,\n",
              "       -6.18132831e-15, -5.58336454e-15, -4.87686126e-15, -2.24247578e-15,\n",
              "       -2.01883264e-15,  4.12349242e-16, -3.84546132e-16,  1.76584491e-15,\n",
              "       -2.30269713e-16, -6.70446509e-15, -1.30828882e-14, -8.76312171e-15,\n",
              "       -1.67017735e-15, -2.47893715e-15,  1.11625780e-14,  3.94234363e-15,\n",
              "        5.29812460e-15, -6.24307562e-16, -1.25820887e-14,  2.85996707e-15,\n",
              "       -2.53874365e-15, -4.14979502e-15,  2.70120477e-15,  7.20524285e-16,\n",
              "       -3.45214704e-15,  6.27205288e-15,  1.69579660e-15,  1.04641839e-15,\n",
              "        2.42829379e-15, -4.51830085e-15,  4.54736989e-15,  9.30875300e-16,\n",
              "        2.15696935e-16, -2.25623492e-15, -5.39126937e-15, -1.02111323e-15,\n",
              "       -6.23659749e-16, -1.65114831e-15, -5.38919272e-15, -3.34617955e-17,\n",
              "       -1.01696606e-14,  5.76527122e-15,  3.42481127e-16,  7.68029793e-16,\n",
              "        7.25050412e-17, -5.84181835e-15,  2.28934819e-15,  7.54697150e-15,\n",
              "       -1.15883005e-14, -6.27435437e-15, -7.17429313e-16,  6.87385343e-15,\n",
              "       -5.90659960e-15,  2.62991786e-15,  5.22961337e-15, -4.58252449e-15,\n",
              "        8.11700761e-15,  4.95225844e-15, -6.10751165e-15, -8.31562680e-15,\n",
              "        8.95090010e-16, -1.36305219e-15,  8.98877889e-17, -1.28621387e-16,\n",
              "        7.49816548e-15,  2.75906594e-15, -2.37359310e-16, -1.53489135e-15,\n",
              "        2.31979611e-15, -2.75783668e-15,  6.78694075e-15])"
            ]
          },
          "metadata": {
            "tags": []
          },
          "execution_count": 59
        }
      ]
    },
    {
      "cell_type": "markdown",
      "metadata": {
        "id": "sVlw9V-DFsoB"
      },
      "source": [
        "Wow there are so many, could it be that we are OVERFITTING?"
      ]
    },
    {
      "cell_type": "markdown",
      "metadata": {
        "id": "VLt24s4NFwrD"
      },
      "source": [
        "Overfittting is a real problem, we have over 300 coefficients and we are trying to predict the mpg for about 300 cars. If ***each car has its own coefficient, then the fitted value would just be the `mpg` of the car itself***. Imagine a two car scenario. "
      ]
    },
    {
      "cell_type": "markdown",
      "metadata": {
        "id": "ZedNhVCzBxZR"
      },
      "source": [
        "```\n",
        "car, hp, name, mpg\n",
        "CAR1, 86.0, 'ford mustang', 27.0\n",
        "CAR2, 160, 'oldsmobile', 12.0\n",
        "```\n",
        "If we transform this into encoded features\n",
        "```\n",
        "car, hp, is_ford, is_oldsmobile, mpg\n",
        "CAR1, 86.0, 1,0, 27.0\n",
        "CAR2, 160, 0, 1, 12.0\n",
        "```\n",
        "\n",
        "Then a perfect linear model would be:\n",
        "```\n",
        "mpg = is_ford*27 + is_oldsmobile*12\n",
        "```"
      ]
    },
    {
      "cell_type": "markdown",
      "metadata": {
        "id": "ppy9RcRPDdXv"
      },
      "source": [
        "Great, we know the fuel consumption of ford mustangs and oldsmobiles but the model hasn't learned anything about **cars in general**. What if a third toyota corolla comes along? There is no point in being really good at predicting the *mpg of cars we already know,* we must predict the mpg of new cars - specifially - cars the model has not seen before. "
      ]
    },
    {
      "cell_type": "markdown",
      "metadata": {
        "id": "BA8rqYBOEWYZ"
      },
      "source": [
        ">Basically, you can't fit to the data and then *make predictions on the **same** data.* Your model is only as good as its predictions on new data, data it was not fitted on. **This is how you deal with overfitting**"
      ]
    },
    {
      "cell_type": "markdown",
      "metadata": {
        "id": "8bQvq9_OJJtE"
      },
      "source": [
        "Since it would be rather difficult to go and acquire lots of new cars and their mpg values to *properly test the model* the next best thing would be to divde all the data we have (392 rows) into training and validation data.\n"
      ]
    },
    {
      "cell_type": "markdown",
      "metadata": {
        "id": "a9MH_eE8J3IC"
      },
      "source": [
        "We will use the first 300 rows to train the data - the same way as before to `.fit()` the model, and then **make predictions on the remaining 92 rows* comparing the accuracy of those predictions to the mpg of those vehicles (which we know) will tell us how accurate our model is. "
      ]
    },
    {
      "cell_type": "markdown",
      "metadata": {
        "id": "ssJ4i0QdKIeK"
      },
      "source": [
        "We could simply: \n",
        "```\n",
        "X_train = df_carsfinal.head(300)\n",
        "X_test = df_carsfinal.tail(392-300)\n",
        "y_train = true_mpg[0:300]\n",
        "y_test = true_mpg[300:]\n",
        "```\n",
        "\n",
        "\n",
        "But before you as, yes there is a function to split the data for us!\n",
        "```import sklearn.model_selection as skmodelselect```"
      ]
    },
    {
      "cell_type": "code",
      "metadata": {
        "id": "dpajyzI-8enC"
      },
      "source": [
        "from sklearn.model_selection import train_test_split"
      ],
      "execution_count": null,
      "outputs": []
    },
    {
      "cell_type": "markdown",
      "metadata": {
        "id": "KE84VKobKhQO"
      },
      "source": [
        "The function is called `train_test_split()`, \n",
        "\n",
        "*   NEEDS: the full input X array and full y values,\n",
        "*   WILL: *randomly* (random is  good, in case the order of the data gives something away) pick a percentage of the data to be test. \n",
        "\n",
        "Generally, we choose 20% of the data to be used for testing, 80% for training. Of course this is a fine balance, we'll talk about it more later. \n",
        "We're not using the heavily encoded df_carnames anymore, lets go back to df_cars"
      ]
    },
    {
      "cell_type": "code",
      "metadata": {
        "id": "X0jM6zu_iMlz",
        "outputId": "70bde9f5-d2c8-4fb8-bff4-070a0496a141",
        "colab": {
          "base_uri": "https://localhost:8080/"
        }
      },
      "source": [
        "df_cars"
      ],
      "execution_count": null,
      "outputs": [
        {
          "output_type": "execute_result",
          "data": {
            "text/html": [
              "<div>\n",
              "<style scoped>\n",
              "    .dataframe tbody tr th:only-of-type {\n",
              "        vertical-align: middle;\n",
              "    }\n",
              "\n",
              "    .dataframe tbody tr th {\n",
              "        vertical-align: top;\n",
              "    }\n",
              "\n",
              "    .dataframe thead th {\n",
              "        text-align: right;\n",
              "    }\n",
              "</style>\n",
              "<table border=\"1\" class=\"dataframe\">\n",
              "  <thead>\n",
              "    <tr style=\"text-align: right;\">\n",
              "      <th></th>\n",
              "      <th>cylinders</th>\n",
              "      <th>displacement</th>\n",
              "      <th>horsepower</th>\n",
              "      <th>weight</th>\n",
              "      <th>acceleration</th>\n",
              "      <th>model_year</th>\n",
              "      <th>is_usa</th>\n",
              "      <th>is_europe</th>\n",
              "      <th>is_japan</th>\n",
              "    </tr>\n",
              "  </thead>\n",
              "  <tbody>\n",
              "    <tr>\n",
              "      <th>0</th>\n",
              "      <td>8</td>\n",
              "      <td>307.0</td>\n",
              "      <td>130.0</td>\n",
              "      <td>3504</td>\n",
              "      <td>12.0</td>\n",
              "      <td>70</td>\n",
              "      <td>True</td>\n",
              "      <td>False</td>\n",
              "      <td>False</td>\n",
              "    </tr>\n",
              "    <tr>\n",
              "      <th>1</th>\n",
              "      <td>8</td>\n",
              "      <td>350.0</td>\n",
              "      <td>165.0</td>\n",
              "      <td>3693</td>\n",
              "      <td>11.5</td>\n",
              "      <td>70</td>\n",
              "      <td>True</td>\n",
              "      <td>False</td>\n",
              "      <td>False</td>\n",
              "    </tr>\n",
              "    <tr>\n",
              "      <th>2</th>\n",
              "      <td>8</td>\n",
              "      <td>318.0</td>\n",
              "      <td>150.0</td>\n",
              "      <td>3436</td>\n",
              "      <td>11.0</td>\n",
              "      <td>70</td>\n",
              "      <td>True</td>\n",
              "      <td>False</td>\n",
              "      <td>False</td>\n",
              "    </tr>\n",
              "    <tr>\n",
              "      <th>3</th>\n",
              "      <td>8</td>\n",
              "      <td>304.0</td>\n",
              "      <td>150.0</td>\n",
              "      <td>3433</td>\n",
              "      <td>12.0</td>\n",
              "      <td>70</td>\n",
              "      <td>True</td>\n",
              "      <td>False</td>\n",
              "      <td>False</td>\n",
              "    </tr>\n",
              "    <tr>\n",
              "      <th>4</th>\n",
              "      <td>8</td>\n",
              "      <td>302.0</td>\n",
              "      <td>140.0</td>\n",
              "      <td>3449</td>\n",
              "      <td>10.5</td>\n",
              "      <td>70</td>\n",
              "      <td>True</td>\n",
              "      <td>False</td>\n",
              "      <td>False</td>\n",
              "    </tr>\n",
              "    <tr>\n",
              "      <th>...</th>\n",
              "      <td>...</td>\n",
              "      <td>...</td>\n",
              "      <td>...</td>\n",
              "      <td>...</td>\n",
              "      <td>...</td>\n",
              "      <td>...</td>\n",
              "      <td>...</td>\n",
              "      <td>...</td>\n",
              "      <td>...</td>\n",
              "    </tr>\n",
              "    <tr>\n",
              "      <th>393</th>\n",
              "      <td>4</td>\n",
              "      <td>140.0</td>\n",
              "      <td>86.0</td>\n",
              "      <td>2790</td>\n",
              "      <td>15.6</td>\n",
              "      <td>82</td>\n",
              "      <td>True</td>\n",
              "      <td>False</td>\n",
              "      <td>False</td>\n",
              "    </tr>\n",
              "    <tr>\n",
              "      <th>394</th>\n",
              "      <td>4</td>\n",
              "      <td>97.0</td>\n",
              "      <td>52.0</td>\n",
              "      <td>2130</td>\n",
              "      <td>24.6</td>\n",
              "      <td>82</td>\n",
              "      <td>False</td>\n",
              "      <td>True</td>\n",
              "      <td>False</td>\n",
              "    </tr>\n",
              "    <tr>\n",
              "      <th>395</th>\n",
              "      <td>4</td>\n",
              "      <td>135.0</td>\n",
              "      <td>84.0</td>\n",
              "      <td>2295</td>\n",
              "      <td>11.6</td>\n",
              "      <td>82</td>\n",
              "      <td>True</td>\n",
              "      <td>False</td>\n",
              "      <td>False</td>\n",
              "    </tr>\n",
              "    <tr>\n",
              "      <th>396</th>\n",
              "      <td>4</td>\n",
              "      <td>120.0</td>\n",
              "      <td>79.0</td>\n",
              "      <td>2625</td>\n",
              "      <td>18.6</td>\n",
              "      <td>82</td>\n",
              "      <td>True</td>\n",
              "      <td>False</td>\n",
              "      <td>False</td>\n",
              "    </tr>\n",
              "    <tr>\n",
              "      <th>397</th>\n",
              "      <td>4</td>\n",
              "      <td>119.0</td>\n",
              "      <td>82.0</td>\n",
              "      <td>2720</td>\n",
              "      <td>19.4</td>\n",
              "      <td>82</td>\n",
              "      <td>True</td>\n",
              "      <td>False</td>\n",
              "      <td>False</td>\n",
              "    </tr>\n",
              "  </tbody>\n",
              "</table>\n",
              "<p>392 rows × 9 columns</p>\n",
              "</div>"
            ],
            "text/plain": [
              "     cylinders  displacement  horsepower  ...  is_usa  is_europe  is_japan\n",
              "0            8         307.0       130.0  ...    True      False     False\n",
              "1            8         350.0       165.0  ...    True      False     False\n",
              "2            8         318.0       150.0  ...    True      False     False\n",
              "3            8         304.0       150.0  ...    True      False     False\n",
              "4            8         302.0       140.0  ...    True      False     False\n",
              "..         ...           ...         ...  ...     ...        ...       ...\n",
              "393          4         140.0        86.0  ...    True      False     False\n",
              "394          4          97.0        52.0  ...   False       True     False\n",
              "395          4         135.0        84.0  ...    True      False     False\n",
              "396          4         120.0        79.0  ...    True      False     False\n",
              "397          4         119.0        82.0  ...    True      False     False\n",
              "\n",
              "[392 rows x 9 columns]"
            ]
          },
          "metadata": {
            "tags": []
          },
          "execution_count": 61
        }
      ]
    },
    {
      "cell_type": "code",
      "metadata": {
        "id": "R9plBAnQKbd_"
      },
      "source": [
        "X_train, X_test, y_train, y_test = train_test_split(df_cars, true_mpg, test_size = 0.20)"
      ],
      "execution_count": null,
      "outputs": []
    },
    {
      "cell_type": "markdown",
      "metadata": {
        "id": "gdpqtg1UjteO"
      },
      "source": [
        "Note that as you inspect these values, your `X_train` and your other variables will be different from mine since the selection is done **randomly**"
      ]
    },
    {
      "cell_type": "code",
      "metadata": {
        "id": "DzzK6slHK0m8",
        "outputId": "efa74098-2565-47f2-8105-8817b3976aa0",
        "colab": {
          "base_uri": "https://localhost:8080/"
        }
      },
      "source": [
        "X_test ## only 79 rows, 20% of data"
      ],
      "execution_count": null,
      "outputs": [
        {
          "output_type": "execute_result",
          "data": {
            "text/html": [
              "<div>\n",
              "<style scoped>\n",
              "    .dataframe tbody tr th:only-of-type {\n",
              "        vertical-align: middle;\n",
              "    }\n",
              "\n",
              "    .dataframe tbody tr th {\n",
              "        vertical-align: top;\n",
              "    }\n",
              "\n",
              "    .dataframe thead th {\n",
              "        text-align: right;\n",
              "    }\n",
              "</style>\n",
              "<table border=\"1\" class=\"dataframe\">\n",
              "  <thead>\n",
              "    <tr style=\"text-align: right;\">\n",
              "      <th></th>\n",
              "      <th>cylinders</th>\n",
              "      <th>displacement</th>\n",
              "      <th>horsepower</th>\n",
              "      <th>weight</th>\n",
              "      <th>acceleration</th>\n",
              "      <th>model_year</th>\n",
              "      <th>is_usa</th>\n",
              "      <th>is_europe</th>\n",
              "      <th>is_japan</th>\n",
              "    </tr>\n",
              "  </thead>\n",
              "  <tbody>\n",
              "    <tr>\n",
              "      <th>12</th>\n",
              "      <td>8</td>\n",
              "      <td>400.0</td>\n",
              "      <td>150.0</td>\n",
              "      <td>3761</td>\n",
              "      <td>9.5</td>\n",
              "      <td>70</td>\n",
              "      <td>True</td>\n",
              "      <td>False</td>\n",
              "      <td>False</td>\n",
              "    </tr>\n",
              "    <tr>\n",
              "      <th>274</th>\n",
              "      <td>5</td>\n",
              "      <td>131.0</td>\n",
              "      <td>103.0</td>\n",
              "      <td>2830</td>\n",
              "      <td>15.9</td>\n",
              "      <td>78</td>\n",
              "      <td>False</td>\n",
              "      <td>True</td>\n",
              "      <td>False</td>\n",
              "    </tr>\n",
              "    <tr>\n",
              "      <th>242</th>\n",
              "      <td>4</td>\n",
              "      <td>121.0</td>\n",
              "      <td>110.0</td>\n",
              "      <td>2600</td>\n",
              "      <td>12.8</td>\n",
              "      <td>77</td>\n",
              "      <td>False</td>\n",
              "      <td>True</td>\n",
              "      <td>False</td>\n",
              "    </tr>\n",
              "    <tr>\n",
              "      <th>364</th>\n",
              "      <td>8</td>\n",
              "      <td>350.0</td>\n",
              "      <td>105.0</td>\n",
              "      <td>3725</td>\n",
              "      <td>19.0</td>\n",
              "      <td>81</td>\n",
              "      <td>True</td>\n",
              "      <td>False</td>\n",
              "      <td>False</td>\n",
              "    </tr>\n",
              "    <tr>\n",
              "      <th>74</th>\n",
              "      <td>8</td>\n",
              "      <td>302.0</td>\n",
              "      <td>140.0</td>\n",
              "      <td>4294</td>\n",
              "      <td>16.0</td>\n",
              "      <td>72</td>\n",
              "      <td>True</td>\n",
              "      <td>False</td>\n",
              "      <td>False</td>\n",
              "    </tr>\n",
              "    <tr>\n",
              "      <th>...</th>\n",
              "      <td>...</td>\n",
              "      <td>...</td>\n",
              "      <td>...</td>\n",
              "      <td>...</td>\n",
              "      <td>...</td>\n",
              "      <td>...</td>\n",
              "      <td>...</td>\n",
              "      <td>...</td>\n",
              "      <td>...</td>\n",
              "    </tr>\n",
              "    <tr>\n",
              "      <th>145</th>\n",
              "      <td>4</td>\n",
              "      <td>83.0</td>\n",
              "      <td>61.0</td>\n",
              "      <td>2003</td>\n",
              "      <td>19.0</td>\n",
              "      <td>74</td>\n",
              "      <td>False</td>\n",
              "      <td>False</td>\n",
              "      <td>True</td>\n",
              "    </tr>\n",
              "    <tr>\n",
              "      <th>25</th>\n",
              "      <td>8</td>\n",
              "      <td>360.0</td>\n",
              "      <td>215.0</td>\n",
              "      <td>4615</td>\n",
              "      <td>14.0</td>\n",
              "      <td>70</td>\n",
              "      <td>True</td>\n",
              "      <td>False</td>\n",
              "      <td>False</td>\n",
              "    </tr>\n",
              "    <tr>\n",
              "      <th>276</th>\n",
              "      <td>4</td>\n",
              "      <td>121.0</td>\n",
              "      <td>115.0</td>\n",
              "      <td>2795</td>\n",
              "      <td>15.7</td>\n",
              "      <td>78</td>\n",
              "      <td>False</td>\n",
              "      <td>True</td>\n",
              "      <td>False</td>\n",
              "    </tr>\n",
              "    <tr>\n",
              "      <th>244</th>\n",
              "      <td>4</td>\n",
              "      <td>90.0</td>\n",
              "      <td>48.0</td>\n",
              "      <td>1985</td>\n",
              "      <td>21.5</td>\n",
              "      <td>78</td>\n",
              "      <td>False</td>\n",
              "      <td>True</td>\n",
              "      <td>False</td>\n",
              "    </tr>\n",
              "    <tr>\n",
              "      <th>14</th>\n",
              "      <td>4</td>\n",
              "      <td>113.0</td>\n",
              "      <td>95.0</td>\n",
              "      <td>2372</td>\n",
              "      <td>15.0</td>\n",
              "      <td>70</td>\n",
              "      <td>False</td>\n",
              "      <td>False</td>\n",
              "      <td>True</td>\n",
              "    </tr>\n",
              "  </tbody>\n",
              "</table>\n",
              "<p>79 rows × 9 columns</p>\n",
              "</div>"
            ],
            "text/plain": [
              "     cylinders  displacement  horsepower  ...  is_usa  is_europe  is_japan\n",
              "12           8         400.0       150.0  ...    True      False     False\n",
              "274          5         131.0       103.0  ...   False       True     False\n",
              "242          4         121.0       110.0  ...   False       True     False\n",
              "364          8         350.0       105.0  ...    True      False     False\n",
              "74           8         302.0       140.0  ...    True      False     False\n",
              "..         ...           ...         ...  ...     ...        ...       ...\n",
              "145          4          83.0        61.0  ...   False      False      True\n",
              "25           8         360.0       215.0  ...    True      False     False\n",
              "276          4         121.0       115.0  ...   False       True     False\n",
              "244          4          90.0        48.0  ...   False       True     False\n",
              "14           4         113.0        95.0  ...   False      False      True\n",
              "\n",
              "[79 rows x 9 columns]"
            ]
          },
          "metadata": {
            "tags": []
          },
          "execution_count": 63
        }
      ]
    },
    {
      "cell_type": "code",
      "metadata": {
        "id": "0vjuh8iT_OJB"
      },
      "source": [
        "### MANDATORY CHALLENGE: INSPECT X_train, y_train, X_test, y_test ETC!!!\n",
        "###THEN. use training (.fit()) of linear model on X_train and y_train. Make predictions using X_test\n"
      ],
      "execution_count": null,
      "outputs": []
    },
    {
      "cell_type": "markdown",
      "metadata": {
        "id": "8CBhEUDafhC7"
      },
      "source": [
        "Let's make the same model again:"
      ]
    },
    {
      "cell_type": "code",
      "metadata": {
        "id": "H9yAlFP4LQA0"
      },
      "source": [
        "cars_linear_model_2 = linear_model.LinearRegression()"
      ],
      "execution_count": null,
      "outputs": []
    },
    {
      "cell_type": "markdown",
      "metadata": {
        "id": "sdLTfNfpflA7"
      },
      "source": [
        "But this time, **only fit it** to the data in `X_train` and `y_train`"
      ]
    },
    {
      "cell_type": "code",
      "metadata": {
        "id": "2nniQv8nLP4H",
        "outputId": "00ba84e0-5a79-4c91-a2d0-eb3bf38162aa",
        "colab": {
          "base_uri": "https://localhost:8080/"
        }
      },
      "source": [
        "cars_linear_model_2.fit(X = X_train, y = y_train)"
      ],
      "execution_count": null,
      "outputs": [
        {
          "output_type": "execute_result",
          "data": {
            "text/plain": [
              "LinearRegression(copy_X=True, fit_intercept=True, n_jobs=None, normalize=False)"
            ]
          },
          "metadata": {
            "tags": []
          },
          "execution_count": 69
        }
      ]
    },
    {
      "cell_type": "markdown",
      "metadata": {
        "id": "2KFC3myxhB_D"
      },
      "source": [
        "Now, rather than making predictions on the same data it was 'fitted' on, we make predictions on `X_test`. The requirement, of course is that `X_test` has the same columns and the same transformations as `X_train`"
      ]
    },
    {
      "cell_type": "code",
      "metadata": {
        "id": "_O7hFYeZLPt0",
        "outputId": "74118c41-1f6c-4c73-8e30-38d1202335c2",
        "colab": {
          "base_uri": "https://localhost:8080/"
        }
      },
      "source": [
        "cars_linear_model_2.predict(X = X_test)"
      ],
      "execution_count": null,
      "outputs": [
        {
          "output_type": "execute_result",
          "data": {
            "text/plain": [
              "array([14.5316702 , 26.34727313, 26.91871886, 23.84415811, 11.3234727 ,\n",
              "       31.81476486, 10.71601803, 25.79784235, 22.80347942, 16.32552211,\n",
              "       28.08274367, 24.44932336, 14.8287237 , 20.14861362, 28.1767684 ,\n",
              "       32.22744489, 20.92568457, 20.41598371, 21.0476185 , 21.83738006,\n",
              "       27.98009451, 17.49890133, 20.17260801, 12.12062101, 29.85285955,\n",
              "       24.52612423, 25.72100317, 12.41167477,  6.06051685, 30.84782242,\n",
              "       33.19283344, 23.4962158 , 26.59269484, 12.93888334, 10.45032637,\n",
              "       32.4457196 , 26.30068424, 23.35948826, 31.07304925, 34.61539544,\n",
              "       20.58914123,  9.04286767, 35.33366043, 31.73636492, 29.50021624,\n",
              "       16.4196973 , 22.67359972, 27.49222819, 32.50852304, 11.74572212,\n",
              "       26.07252872, 23.97885235, 17.22772884, 25.72037965, 11.77018596,\n",
              "       15.70870958, 31.62190883, 25.87472664, 23.85354254, 15.31378336,\n",
              "       20.99200819, 19.91845478, 25.91832847, 10.262218  , 26.21182764,\n",
              "       20.82521549, 11.25462733, 13.75921792, 28.52041428, 15.64650474,\n",
              "       12.89387396, 19.62287224, 29.64726774, 22.44984349, 29.39982654,\n",
              "        7.2275565 , 26.5216213 , 32.72172702, 23.60243289])"
            ]
          },
          "metadata": {
            "tags": []
          },
          "execution_count": 70
        }
      ]
    },
    {
      "cell_type": "markdown",
      "metadata": {
        "id": "PecdWBA5hVjk"
      },
      "source": [
        "Now, we compare this array of values to the ground truth `y_test`:"
      ]
    },
    {
      "cell_type": "code",
      "metadata": {
        "id": "NHjTXfQuhf_F"
      },
      "source": [
        "y_predicted_test = cars_linear_model_2.predict(X = X_test)"
      ],
      "execution_count": null,
      "outputs": []
    },
    {
      "cell_type": "code",
      "metadata": {
        "id": "L1wZNq2hi-Pc",
        "outputId": "78cd6408-f355-4589-d37d-938c99211a66",
        "colab": {
          "base_uri": "https://localhost:8080/"
        }
      },
      "source": [
        "mean_squared_error(y_test, y_predicted_test)"
      ],
      "execution_count": null,
      "outputs": [
        {
          "output_type": "execute_result",
          "data": {
            "text/plain": [
              "10.664613274842763"
            ]
          },
          "metadata": {
            "tags": []
          },
          "execution_count": 72
        }
      ]
    },
    {
      "cell_type": "markdown",
      "metadata": {
        "id": "HUfh-5NBjUB3"
      },
      "source": [
        "This errror value is reasonable. And thus far the best model we have made. \n",
        "\n",
        "\n",
        "But you probably had a different error, there lies the problem. Because the train_test_split is random, the errors will change too, say we were to run the same lines again: "
      ]
    },
    {
      "cell_type": "code",
      "metadata": {
        "id": "x9kjGVvrlXiE",
        "outputId": "e7008726-acf0-4681-f265-36a74afdf42a",
        "colab": {
          "base_uri": "https://localhost:8080/"
        }
      },
      "source": [
        "X_train, X_test, y_train, y_test = train_test_split(df_cars, true_mpg, test_size = 0.20)\n",
        "cars_linear_model_2 = linear_model.LinearRegression()\n",
        "cars_linear_model_2.fit(X = X_train, y = y_train)\n",
        "y_predicted_test = cars_linear_model_2.predict(X = X_test)\n",
        "mean_squared_error(y_test, y_predicted_test)"
      ],
      "execution_count": null,
      "outputs": [
        {
          "output_type": "execute_result",
          "data": {
            "text/plain": [
              "14.06500132768623"
            ]
          },
          "metadata": {
            "tags": []
          },
          "execution_count": 78
        }
      ]
    },
    {
      "cell_type": "markdown",
      "metadata": {
        "id": "QZJQWZm5mIti"
      },
      "source": [
        "We are breaking the rule of never running the same cell twice here. In this case it is okay since all of the variables are contained, we are over-writing `X_train, X_test, y_train, y_test` each time. "
      ]
    },
    {
      "cell_type": "markdown",
      "metadata": {
        "id": "IFd3MU3TnsMK"
      },
      "source": [
        "Here we are using the model to make 2 predictions (which is totally okay, you can make as many as you want). The key here is to note that the errors from the training data is lower than the errors from the testing data. This is to be expected, since it knows the training data better, but the real accuracy of the model must be judged on the **testing data**."
      ]
    },
    {
      "cell_type": "code",
      "metadata": {
        "id": "j0WWDwiunbYL",
        "outputId": "c23a18a6-422e-46ee-bcc2-2d2867392aff",
        "colab": {
          "base_uri": "https://localhost:8080/",
          "height": 34
        }
      },
      "source": [
        "X_train, X_test, y_train, y_test = train_test_split(df_cars, true_mpg, test_size = 0.20)\n",
        "cars_linear_model_2 = linear_model.LinearRegression()\n",
        "cars_linear_model_2.fit(X = X_train, y = y_train)\n",
        "\n",
        "y_predicted_train = cars_linear_model_2.predict(X = X_train)\n",
        "mean_squared_error(y_train, y_predicted_train)"
      ],
      "execution_count": null,
      "outputs": [
        {
          "output_type": "execute_result",
          "data": {
            "text/plain": [
              "10.572083220905428"
            ]
          },
          "metadata": {
            "tags": []
          },
          "execution_count": 80
        }
      ]
    },
    {
      "cell_type": "code",
      "metadata": {
        "id": "RRWJX-ponqR2",
        "outputId": "504e3b1a-20af-43ff-9688-c3c666575abb",
        "colab": {
          "base_uri": "https://localhost:8080/",
          "height": 34
        }
      },
      "source": [
        "y_predicted_test = cars_linear_model_2.predict(X = X_test)\n",
        "mean_squared_error(y_test, y_predicted_test)"
      ],
      "execution_count": null,
      "outputs": [
        {
          "output_type": "execute_result",
          "data": {
            "text/plain": [
              "11.330418710387262"
            ]
          },
          "metadata": {
            "tags": []
          },
          "execution_count": 81
        }
      ]
    },
    {
      "cell_type": "code",
      "metadata": {
        "id": "rwWB7_57oKaF",
        "outputId": "ea01ee7a-cf6d-4580-89d8-8854e937f79b",
        "colab": {
          "base_uri": "https://localhost:8080/",
          "height": 472
        }
      },
      "source": [
        "df_carsnames"
      ],
      "execution_count": null,
      "outputs": [
        {
          "output_type": "execute_result",
          "data": {
            "text/html": [
              "<div>\n",
              "<style scoped>\n",
              "    .dataframe tbody tr th:only-of-type {\n",
              "        vertical-align: middle;\n",
              "    }\n",
              "\n",
              "    .dataframe tbody tr th {\n",
              "        vertical-align: top;\n",
              "    }\n",
              "\n",
              "    .dataframe thead th {\n",
              "        text-align: right;\n",
              "    }\n",
              "</style>\n",
              "<table border=\"1\" class=\"dataframe\">\n",
              "  <thead>\n",
              "    <tr style=\"text-align: right;\">\n",
              "      <th></th>\n",
              "      <th>mpg</th>\n",
              "      <th>cylinders</th>\n",
              "      <th>displacement</th>\n",
              "      <th>horsepower</th>\n",
              "      <th>weight</th>\n",
              "      <th>acceleration</th>\n",
              "      <th>model_year</th>\n",
              "      <th>x0_europe</th>\n",
              "      <th>x0_japan</th>\n",
              "      <th>x0_usa</th>\n",
              "      <th>x1_amc ambassador brougham</th>\n",
              "      <th>x1_amc ambassador dpl</th>\n",
              "      <th>x1_amc ambassador sst</th>\n",
              "      <th>x1_amc concord</th>\n",
              "      <th>x1_amc concord d/l</th>\n",
              "      <th>x1_amc concord dl 6</th>\n",
              "      <th>x1_amc gremlin</th>\n",
              "      <th>x1_amc hornet</th>\n",
              "      <th>x1_amc hornet sportabout (sw)</th>\n",
              "      <th>x1_amc matador</th>\n",
              "      <th>x1_amc matador (sw)</th>\n",
              "      <th>x1_amc pacer</th>\n",
              "      <th>x1_amc pacer d/l</th>\n",
              "      <th>x1_amc rebel sst</th>\n",
              "      <th>x1_amc spirit dl</th>\n",
              "      <th>x1_audi 100 ls</th>\n",
              "      <th>x1_audi 100ls</th>\n",
              "      <th>x1_audi 4000</th>\n",
              "      <th>x1_audi 5000</th>\n",
              "      <th>x1_audi 5000s (diesel)</th>\n",
              "      <th>x1_audi fox</th>\n",
              "      <th>x1_bmw 2002</th>\n",
              "      <th>x1_bmw 320i</th>\n",
              "      <th>x1_buick century</th>\n",
              "      <th>x1_buick century 350</th>\n",
              "      <th>x1_buick century limited</th>\n",
              "      <th>x1_buick century luxus (sw)</th>\n",
              "      <th>x1_buick century special</th>\n",
              "      <th>x1_buick electra 225 custom</th>\n",
              "      <th>x1_buick estate wagon (sw)</th>\n",
              "      <th>...</th>\n",
              "      <th>x1_toyota celica gt liftback</th>\n",
              "      <th>x1_toyota corolla</th>\n",
              "      <th>x1_toyota corolla 1200</th>\n",
              "      <th>x1_toyota corolla 1600 (sw)</th>\n",
              "      <th>x1_toyota corolla liftback</th>\n",
              "      <th>x1_toyota corolla tercel</th>\n",
              "      <th>x1_toyota corona</th>\n",
              "      <th>x1_toyota corona hardtop</th>\n",
              "      <th>x1_toyota corona liftback</th>\n",
              "      <th>x1_toyota corona mark ii</th>\n",
              "      <th>x1_toyota cressida</th>\n",
              "      <th>x1_toyota mark ii</th>\n",
              "      <th>x1_toyota starlet</th>\n",
              "      <th>x1_toyota tercel</th>\n",
              "      <th>x1_toyouta corona mark ii (sw)</th>\n",
              "      <th>x1_triumph tr7 coupe</th>\n",
              "      <th>x1_vokswagen rabbit</th>\n",
              "      <th>x1_volkswagen 1131 deluxe sedan</th>\n",
              "      <th>x1_volkswagen 411 (sw)</th>\n",
              "      <th>x1_volkswagen dasher</th>\n",
              "      <th>x1_volkswagen jetta</th>\n",
              "      <th>x1_volkswagen model 111</th>\n",
              "      <th>x1_volkswagen rabbit</th>\n",
              "      <th>x1_volkswagen rabbit custom</th>\n",
              "      <th>x1_volkswagen rabbit custom diesel</th>\n",
              "      <th>x1_volkswagen rabbit l</th>\n",
              "      <th>x1_volkswagen scirocco</th>\n",
              "      <th>x1_volkswagen super beetle</th>\n",
              "      <th>x1_volkswagen type 3</th>\n",
              "      <th>x1_volvo 144ea</th>\n",
              "      <th>x1_volvo 145e (sw)</th>\n",
              "      <th>x1_volvo 244dl</th>\n",
              "      <th>x1_volvo 245</th>\n",
              "      <th>x1_volvo 264gl</th>\n",
              "      <th>x1_volvo diesel</th>\n",
              "      <th>x1_vw dasher (diesel)</th>\n",
              "      <th>x1_vw pickup</th>\n",
              "      <th>x1_vw rabbit</th>\n",
              "      <th>x1_vw rabbit c (diesel)</th>\n",
              "      <th>x1_vw rabbit custom</th>\n",
              "    </tr>\n",
              "  </thead>\n",
              "  <tbody>\n",
              "    <tr>\n",
              "      <th>0</th>\n",
              "      <td>18.0</td>\n",
              "      <td>8</td>\n",
              "      <td>307.0</td>\n",
              "      <td>130.0</td>\n",
              "      <td>3504</td>\n",
              "      <td>12.0</td>\n",
              "      <td>70</td>\n",
              "      <td>0.0</td>\n",
              "      <td>0.0</td>\n",
              "      <td>1.0</td>\n",
              "      <td>0.0</td>\n",
              "      <td>0.0</td>\n",
              "      <td>0.0</td>\n",
              "      <td>0.0</td>\n",
              "      <td>0.0</td>\n",
              "      <td>0.0</td>\n",
              "      <td>0.0</td>\n",
              "      <td>0.0</td>\n",
              "      <td>0.0</td>\n",
              "      <td>0.0</td>\n",
              "      <td>0.0</td>\n",
              "      <td>0.0</td>\n",
              "      <td>0.0</td>\n",
              "      <td>0.0</td>\n",
              "      <td>0.0</td>\n",
              "      <td>0.0</td>\n",
              "      <td>0.0</td>\n",
              "      <td>0.0</td>\n",
              "      <td>0.0</td>\n",
              "      <td>0.0</td>\n",
              "      <td>0.0</td>\n",
              "      <td>0.0</td>\n",
              "      <td>0.0</td>\n",
              "      <td>0.0</td>\n",
              "      <td>0.0</td>\n",
              "      <td>0.0</td>\n",
              "      <td>0.0</td>\n",
              "      <td>0.0</td>\n",
              "      <td>0.0</td>\n",
              "      <td>0.0</td>\n",
              "      <td>...</td>\n",
              "      <td>0.0</td>\n",
              "      <td>0.0</td>\n",
              "      <td>0.0</td>\n",
              "      <td>0.0</td>\n",
              "      <td>0.0</td>\n",
              "      <td>0.0</td>\n",
              "      <td>0.0</td>\n",
              "      <td>0.0</td>\n",
              "      <td>0.0</td>\n",
              "      <td>0.0</td>\n",
              "      <td>0.0</td>\n",
              "      <td>0.0</td>\n",
              "      <td>0.0</td>\n",
              "      <td>0.0</td>\n",
              "      <td>0.0</td>\n",
              "      <td>0.0</td>\n",
              "      <td>0.0</td>\n",
              "      <td>0.0</td>\n",
              "      <td>0.0</td>\n",
              "      <td>0.0</td>\n",
              "      <td>0.0</td>\n",
              "      <td>0.0</td>\n",
              "      <td>0.0</td>\n",
              "      <td>0.0</td>\n",
              "      <td>0.0</td>\n",
              "      <td>0.0</td>\n",
              "      <td>0.0</td>\n",
              "      <td>0.0</td>\n",
              "      <td>0.0</td>\n",
              "      <td>0.0</td>\n",
              "      <td>0.0</td>\n",
              "      <td>0.0</td>\n",
              "      <td>0.0</td>\n",
              "      <td>0.0</td>\n",
              "      <td>0.0</td>\n",
              "      <td>0.0</td>\n",
              "      <td>0.0</td>\n",
              "      <td>0.0</td>\n",
              "      <td>0.0</td>\n",
              "      <td>0.0</td>\n",
              "    </tr>\n",
              "    <tr>\n",
              "      <th>1</th>\n",
              "      <td>15.0</td>\n",
              "      <td>8</td>\n",
              "      <td>350.0</td>\n",
              "      <td>165.0</td>\n",
              "      <td>3693</td>\n",
              "      <td>11.5</td>\n",
              "      <td>70</td>\n",
              "      <td>0.0</td>\n",
              "      <td>0.0</td>\n",
              "      <td>1.0</td>\n",
              "      <td>0.0</td>\n",
              "      <td>0.0</td>\n",
              "      <td>0.0</td>\n",
              "      <td>0.0</td>\n",
              "      <td>0.0</td>\n",
              "      <td>0.0</td>\n",
              "      <td>0.0</td>\n",
              "      <td>0.0</td>\n",
              "      <td>0.0</td>\n",
              "      <td>0.0</td>\n",
              "      <td>0.0</td>\n",
              "      <td>0.0</td>\n",
              "      <td>0.0</td>\n",
              "      <td>0.0</td>\n",
              "      <td>0.0</td>\n",
              "      <td>0.0</td>\n",
              "      <td>0.0</td>\n",
              "      <td>0.0</td>\n",
              "      <td>0.0</td>\n",
              "      <td>0.0</td>\n",
              "      <td>0.0</td>\n",
              "      <td>0.0</td>\n",
              "      <td>0.0</td>\n",
              "      <td>0.0</td>\n",
              "      <td>0.0</td>\n",
              "      <td>0.0</td>\n",
              "      <td>0.0</td>\n",
              "      <td>0.0</td>\n",
              "      <td>0.0</td>\n",
              "      <td>0.0</td>\n",
              "      <td>...</td>\n",
              "      <td>0.0</td>\n",
              "      <td>0.0</td>\n",
              "      <td>0.0</td>\n",
              "      <td>0.0</td>\n",
              "      <td>0.0</td>\n",
              "      <td>0.0</td>\n",
              "      <td>0.0</td>\n",
              "      <td>0.0</td>\n",
              "      <td>0.0</td>\n",
              "      <td>0.0</td>\n",
              "      <td>0.0</td>\n",
              "      <td>0.0</td>\n",
              "      <td>0.0</td>\n",
              "      <td>0.0</td>\n",
              "      <td>0.0</td>\n",
              "      <td>0.0</td>\n",
              "      <td>0.0</td>\n",
              "      <td>0.0</td>\n",
              "      <td>0.0</td>\n",
              "      <td>0.0</td>\n",
              "      <td>0.0</td>\n",
              "      <td>0.0</td>\n",
              "      <td>0.0</td>\n",
              "      <td>0.0</td>\n",
              "      <td>0.0</td>\n",
              "      <td>0.0</td>\n",
              "      <td>0.0</td>\n",
              "      <td>0.0</td>\n",
              "      <td>0.0</td>\n",
              "      <td>0.0</td>\n",
              "      <td>0.0</td>\n",
              "      <td>0.0</td>\n",
              "      <td>0.0</td>\n",
              "      <td>0.0</td>\n",
              "      <td>0.0</td>\n",
              "      <td>0.0</td>\n",
              "      <td>0.0</td>\n",
              "      <td>0.0</td>\n",
              "      <td>0.0</td>\n",
              "      <td>0.0</td>\n",
              "    </tr>\n",
              "    <tr>\n",
              "      <th>2</th>\n",
              "      <td>18.0</td>\n",
              "      <td>8</td>\n",
              "      <td>318.0</td>\n",
              "      <td>150.0</td>\n",
              "      <td>3436</td>\n",
              "      <td>11.0</td>\n",
              "      <td>70</td>\n",
              "      <td>0.0</td>\n",
              "      <td>0.0</td>\n",
              "      <td>1.0</td>\n",
              "      <td>0.0</td>\n",
              "      <td>0.0</td>\n",
              "      <td>0.0</td>\n",
              "      <td>0.0</td>\n",
              "      <td>0.0</td>\n",
              "      <td>0.0</td>\n",
              "      <td>0.0</td>\n",
              "      <td>0.0</td>\n",
              "      <td>0.0</td>\n",
              "      <td>0.0</td>\n",
              "      <td>0.0</td>\n",
              "      <td>0.0</td>\n",
              "      <td>0.0</td>\n",
              "      <td>0.0</td>\n",
              "      <td>0.0</td>\n",
              "      <td>0.0</td>\n",
              "      <td>0.0</td>\n",
              "      <td>0.0</td>\n",
              "      <td>0.0</td>\n",
              "      <td>0.0</td>\n",
              "      <td>0.0</td>\n",
              "      <td>0.0</td>\n",
              "      <td>0.0</td>\n",
              "      <td>0.0</td>\n",
              "      <td>0.0</td>\n",
              "      <td>0.0</td>\n",
              "      <td>0.0</td>\n",
              "      <td>0.0</td>\n",
              "      <td>0.0</td>\n",
              "      <td>0.0</td>\n",
              "      <td>...</td>\n",
              "      <td>0.0</td>\n",
              "      <td>0.0</td>\n",
              "      <td>0.0</td>\n",
              "      <td>0.0</td>\n",
              "      <td>0.0</td>\n",
              "      <td>0.0</td>\n",
              "      <td>0.0</td>\n",
              "      <td>0.0</td>\n",
              "      <td>0.0</td>\n",
              "      <td>0.0</td>\n",
              "      <td>0.0</td>\n",
              "      <td>0.0</td>\n",
              "      <td>0.0</td>\n",
              "      <td>0.0</td>\n",
              "      <td>0.0</td>\n",
              "      <td>0.0</td>\n",
              "      <td>0.0</td>\n",
              "      <td>0.0</td>\n",
              "      <td>0.0</td>\n",
              "      <td>0.0</td>\n",
              "      <td>0.0</td>\n",
              "      <td>0.0</td>\n",
              "      <td>0.0</td>\n",
              "      <td>0.0</td>\n",
              "      <td>0.0</td>\n",
              "      <td>0.0</td>\n",
              "      <td>0.0</td>\n",
              "      <td>0.0</td>\n",
              "      <td>0.0</td>\n",
              "      <td>0.0</td>\n",
              "      <td>0.0</td>\n",
              "      <td>0.0</td>\n",
              "      <td>0.0</td>\n",
              "      <td>0.0</td>\n",
              "      <td>0.0</td>\n",
              "      <td>0.0</td>\n",
              "      <td>0.0</td>\n",
              "      <td>0.0</td>\n",
              "      <td>0.0</td>\n",
              "      <td>0.0</td>\n",
              "    </tr>\n",
              "    <tr>\n",
              "      <th>3</th>\n",
              "      <td>16.0</td>\n",
              "      <td>8</td>\n",
              "      <td>304.0</td>\n",
              "      <td>150.0</td>\n",
              "      <td>3433</td>\n",
              "      <td>12.0</td>\n",
              "      <td>70</td>\n",
              "      <td>0.0</td>\n",
              "      <td>0.0</td>\n",
              "      <td>1.0</td>\n",
              "      <td>0.0</td>\n",
              "      <td>0.0</td>\n",
              "      <td>0.0</td>\n",
              "      <td>0.0</td>\n",
              "      <td>0.0</td>\n",
              "      <td>0.0</td>\n",
              "      <td>0.0</td>\n",
              "      <td>0.0</td>\n",
              "      <td>0.0</td>\n",
              "      <td>0.0</td>\n",
              "      <td>0.0</td>\n",
              "      <td>0.0</td>\n",
              "      <td>0.0</td>\n",
              "      <td>1.0</td>\n",
              "      <td>0.0</td>\n",
              "      <td>0.0</td>\n",
              "      <td>0.0</td>\n",
              "      <td>0.0</td>\n",
              "      <td>0.0</td>\n",
              "      <td>0.0</td>\n",
              "      <td>0.0</td>\n",
              "      <td>0.0</td>\n",
              "      <td>0.0</td>\n",
              "      <td>0.0</td>\n",
              "      <td>0.0</td>\n",
              "      <td>0.0</td>\n",
              "      <td>0.0</td>\n",
              "      <td>0.0</td>\n",
              "      <td>0.0</td>\n",
              "      <td>0.0</td>\n",
              "      <td>...</td>\n",
              "      <td>0.0</td>\n",
              "      <td>0.0</td>\n",
              "      <td>0.0</td>\n",
              "      <td>0.0</td>\n",
              "      <td>0.0</td>\n",
              "      <td>0.0</td>\n",
              "      <td>0.0</td>\n",
              "      <td>0.0</td>\n",
              "      <td>0.0</td>\n",
              "      <td>0.0</td>\n",
              "      <td>0.0</td>\n",
              "      <td>0.0</td>\n",
              "      <td>0.0</td>\n",
              "      <td>0.0</td>\n",
              "      <td>0.0</td>\n",
              "      <td>0.0</td>\n",
              "      <td>0.0</td>\n",
              "      <td>0.0</td>\n",
              "      <td>0.0</td>\n",
              "      <td>0.0</td>\n",
              "      <td>0.0</td>\n",
              "      <td>0.0</td>\n",
              "      <td>0.0</td>\n",
              "      <td>0.0</td>\n",
              "      <td>0.0</td>\n",
              "      <td>0.0</td>\n",
              "      <td>0.0</td>\n",
              "      <td>0.0</td>\n",
              "      <td>0.0</td>\n",
              "      <td>0.0</td>\n",
              "      <td>0.0</td>\n",
              "      <td>0.0</td>\n",
              "      <td>0.0</td>\n",
              "      <td>0.0</td>\n",
              "      <td>0.0</td>\n",
              "      <td>0.0</td>\n",
              "      <td>0.0</td>\n",
              "      <td>0.0</td>\n",
              "      <td>0.0</td>\n",
              "      <td>0.0</td>\n",
              "    </tr>\n",
              "    <tr>\n",
              "      <th>4</th>\n",
              "      <td>17.0</td>\n",
              "      <td>8</td>\n",
              "      <td>302.0</td>\n",
              "      <td>140.0</td>\n",
              "      <td>3449</td>\n",
              "      <td>10.5</td>\n",
              "      <td>70</td>\n",
              "      <td>0.0</td>\n",
              "      <td>0.0</td>\n",
              "      <td>1.0</td>\n",
              "      <td>0.0</td>\n",
              "      <td>0.0</td>\n",
              "      <td>0.0</td>\n",
              "      <td>0.0</td>\n",
              "      <td>0.0</td>\n",
              "      <td>0.0</td>\n",
              "      <td>0.0</td>\n",
              "      <td>0.0</td>\n",
              "      <td>0.0</td>\n",
              "      <td>0.0</td>\n",
              "      <td>0.0</td>\n",
              "      <td>0.0</td>\n",
              "      <td>0.0</td>\n",
              "      <td>0.0</td>\n",
              "      <td>0.0</td>\n",
              "      <td>0.0</td>\n",
              "      <td>0.0</td>\n",
              "      <td>0.0</td>\n",
              "      <td>0.0</td>\n",
              "      <td>0.0</td>\n",
              "      <td>0.0</td>\n",
              "      <td>0.0</td>\n",
              "      <td>0.0</td>\n",
              "      <td>0.0</td>\n",
              "      <td>0.0</td>\n",
              "      <td>0.0</td>\n",
              "      <td>0.0</td>\n",
              "      <td>0.0</td>\n",
              "      <td>0.0</td>\n",
              "      <td>0.0</td>\n",
              "      <td>...</td>\n",
              "      <td>0.0</td>\n",
              "      <td>0.0</td>\n",
              "      <td>0.0</td>\n",
              "      <td>0.0</td>\n",
              "      <td>0.0</td>\n",
              "      <td>0.0</td>\n",
              "      <td>0.0</td>\n",
              "      <td>0.0</td>\n",
              "      <td>0.0</td>\n",
              "      <td>0.0</td>\n",
              "      <td>0.0</td>\n",
              "      <td>0.0</td>\n",
              "      <td>0.0</td>\n",
              "      <td>0.0</td>\n",
              "      <td>0.0</td>\n",
              "      <td>0.0</td>\n",
              "      <td>0.0</td>\n",
              "      <td>0.0</td>\n",
              "      <td>0.0</td>\n",
              "      <td>0.0</td>\n",
              "      <td>0.0</td>\n",
              "      <td>0.0</td>\n",
              "      <td>0.0</td>\n",
              "      <td>0.0</td>\n",
              "      <td>0.0</td>\n",
              "      <td>0.0</td>\n",
              "      <td>0.0</td>\n",
              "      <td>0.0</td>\n",
              "      <td>0.0</td>\n",
              "      <td>0.0</td>\n",
              "      <td>0.0</td>\n",
              "      <td>0.0</td>\n",
              "      <td>0.0</td>\n",
              "      <td>0.0</td>\n",
              "      <td>0.0</td>\n",
              "      <td>0.0</td>\n",
              "      <td>0.0</td>\n",
              "      <td>0.0</td>\n",
              "      <td>0.0</td>\n",
              "      <td>0.0</td>\n",
              "    </tr>\n",
              "    <tr>\n",
              "      <th>...</th>\n",
              "      <td>...</td>\n",
              "      <td>...</td>\n",
              "      <td>...</td>\n",
              "      <td>...</td>\n",
              "      <td>...</td>\n",
              "      <td>...</td>\n",
              "      <td>...</td>\n",
              "      <td>...</td>\n",
              "      <td>...</td>\n",
              "      <td>...</td>\n",
              "      <td>...</td>\n",
              "      <td>...</td>\n",
              "      <td>...</td>\n",
              "      <td>...</td>\n",
              "      <td>...</td>\n",
              "      <td>...</td>\n",
              "      <td>...</td>\n",
              "      <td>...</td>\n",
              "      <td>...</td>\n",
              "      <td>...</td>\n",
              "      <td>...</td>\n",
              "      <td>...</td>\n",
              "      <td>...</td>\n",
              "      <td>...</td>\n",
              "      <td>...</td>\n",
              "      <td>...</td>\n",
              "      <td>...</td>\n",
              "      <td>...</td>\n",
              "      <td>...</td>\n",
              "      <td>...</td>\n",
              "      <td>...</td>\n",
              "      <td>...</td>\n",
              "      <td>...</td>\n",
              "      <td>...</td>\n",
              "      <td>...</td>\n",
              "      <td>...</td>\n",
              "      <td>...</td>\n",
              "      <td>...</td>\n",
              "      <td>...</td>\n",
              "      <td>...</td>\n",
              "      <td>...</td>\n",
              "      <td>...</td>\n",
              "      <td>...</td>\n",
              "      <td>...</td>\n",
              "      <td>...</td>\n",
              "      <td>...</td>\n",
              "      <td>...</td>\n",
              "      <td>...</td>\n",
              "      <td>...</td>\n",
              "      <td>...</td>\n",
              "      <td>...</td>\n",
              "      <td>...</td>\n",
              "      <td>...</td>\n",
              "      <td>...</td>\n",
              "      <td>...</td>\n",
              "      <td>...</td>\n",
              "      <td>...</td>\n",
              "      <td>...</td>\n",
              "      <td>...</td>\n",
              "      <td>...</td>\n",
              "      <td>...</td>\n",
              "      <td>...</td>\n",
              "      <td>...</td>\n",
              "      <td>...</td>\n",
              "      <td>...</td>\n",
              "      <td>...</td>\n",
              "      <td>...</td>\n",
              "      <td>...</td>\n",
              "      <td>...</td>\n",
              "      <td>...</td>\n",
              "      <td>...</td>\n",
              "      <td>...</td>\n",
              "      <td>...</td>\n",
              "      <td>...</td>\n",
              "      <td>...</td>\n",
              "      <td>...</td>\n",
              "      <td>...</td>\n",
              "      <td>...</td>\n",
              "      <td>...</td>\n",
              "      <td>...</td>\n",
              "      <td>...</td>\n",
              "    </tr>\n",
              "    <tr>\n",
              "      <th>393</th>\n",
              "      <td>27.0</td>\n",
              "      <td>4</td>\n",
              "      <td>140.0</td>\n",
              "      <td>86.0</td>\n",
              "      <td>2790</td>\n",
              "      <td>15.6</td>\n",
              "      <td>82</td>\n",
              "      <td>0.0</td>\n",
              "      <td>0.0</td>\n",
              "      <td>1.0</td>\n",
              "      <td>0.0</td>\n",
              "      <td>0.0</td>\n",
              "      <td>0.0</td>\n",
              "      <td>0.0</td>\n",
              "      <td>0.0</td>\n",
              "      <td>0.0</td>\n",
              "      <td>0.0</td>\n",
              "      <td>0.0</td>\n",
              "      <td>0.0</td>\n",
              "      <td>0.0</td>\n",
              "      <td>0.0</td>\n",
              "      <td>0.0</td>\n",
              "      <td>0.0</td>\n",
              "      <td>0.0</td>\n",
              "      <td>0.0</td>\n",
              "      <td>0.0</td>\n",
              "      <td>0.0</td>\n",
              "      <td>0.0</td>\n",
              "      <td>0.0</td>\n",
              "      <td>0.0</td>\n",
              "      <td>0.0</td>\n",
              "      <td>0.0</td>\n",
              "      <td>0.0</td>\n",
              "      <td>0.0</td>\n",
              "      <td>0.0</td>\n",
              "      <td>0.0</td>\n",
              "      <td>0.0</td>\n",
              "      <td>0.0</td>\n",
              "      <td>0.0</td>\n",
              "      <td>0.0</td>\n",
              "      <td>...</td>\n",
              "      <td>0.0</td>\n",
              "      <td>0.0</td>\n",
              "      <td>0.0</td>\n",
              "      <td>0.0</td>\n",
              "      <td>0.0</td>\n",
              "      <td>0.0</td>\n",
              "      <td>0.0</td>\n",
              "      <td>0.0</td>\n",
              "      <td>0.0</td>\n",
              "      <td>0.0</td>\n",
              "      <td>0.0</td>\n",
              "      <td>0.0</td>\n",
              "      <td>0.0</td>\n",
              "      <td>0.0</td>\n",
              "      <td>0.0</td>\n",
              "      <td>0.0</td>\n",
              "      <td>0.0</td>\n",
              "      <td>0.0</td>\n",
              "      <td>0.0</td>\n",
              "      <td>0.0</td>\n",
              "      <td>0.0</td>\n",
              "      <td>0.0</td>\n",
              "      <td>0.0</td>\n",
              "      <td>0.0</td>\n",
              "      <td>0.0</td>\n",
              "      <td>0.0</td>\n",
              "      <td>0.0</td>\n",
              "      <td>0.0</td>\n",
              "      <td>0.0</td>\n",
              "      <td>0.0</td>\n",
              "      <td>0.0</td>\n",
              "      <td>0.0</td>\n",
              "      <td>0.0</td>\n",
              "      <td>0.0</td>\n",
              "      <td>0.0</td>\n",
              "      <td>0.0</td>\n",
              "      <td>0.0</td>\n",
              "      <td>0.0</td>\n",
              "      <td>0.0</td>\n",
              "      <td>0.0</td>\n",
              "    </tr>\n",
              "    <tr>\n",
              "      <th>394</th>\n",
              "      <td>44.0</td>\n",
              "      <td>4</td>\n",
              "      <td>97.0</td>\n",
              "      <td>52.0</td>\n",
              "      <td>2130</td>\n",
              "      <td>24.6</td>\n",
              "      <td>82</td>\n",
              "      <td>1.0</td>\n",
              "      <td>0.0</td>\n",
              "      <td>0.0</td>\n",
              "      <td>0.0</td>\n",
              "      <td>0.0</td>\n",
              "      <td>0.0</td>\n",
              "      <td>0.0</td>\n",
              "      <td>0.0</td>\n",
              "      <td>0.0</td>\n",
              "      <td>0.0</td>\n",
              "      <td>0.0</td>\n",
              "      <td>0.0</td>\n",
              "      <td>0.0</td>\n",
              "      <td>0.0</td>\n",
              "      <td>0.0</td>\n",
              "      <td>0.0</td>\n",
              "      <td>0.0</td>\n",
              "      <td>0.0</td>\n",
              "      <td>0.0</td>\n",
              "      <td>0.0</td>\n",
              "      <td>0.0</td>\n",
              "      <td>0.0</td>\n",
              "      <td>0.0</td>\n",
              "      <td>0.0</td>\n",
              "      <td>0.0</td>\n",
              "      <td>0.0</td>\n",
              "      <td>0.0</td>\n",
              "      <td>0.0</td>\n",
              "      <td>0.0</td>\n",
              "      <td>0.0</td>\n",
              "      <td>0.0</td>\n",
              "      <td>0.0</td>\n",
              "      <td>0.0</td>\n",
              "      <td>...</td>\n",
              "      <td>0.0</td>\n",
              "      <td>0.0</td>\n",
              "      <td>0.0</td>\n",
              "      <td>0.0</td>\n",
              "      <td>0.0</td>\n",
              "      <td>0.0</td>\n",
              "      <td>0.0</td>\n",
              "      <td>0.0</td>\n",
              "      <td>0.0</td>\n",
              "      <td>0.0</td>\n",
              "      <td>0.0</td>\n",
              "      <td>0.0</td>\n",
              "      <td>0.0</td>\n",
              "      <td>0.0</td>\n",
              "      <td>0.0</td>\n",
              "      <td>0.0</td>\n",
              "      <td>0.0</td>\n",
              "      <td>0.0</td>\n",
              "      <td>0.0</td>\n",
              "      <td>0.0</td>\n",
              "      <td>0.0</td>\n",
              "      <td>0.0</td>\n",
              "      <td>0.0</td>\n",
              "      <td>0.0</td>\n",
              "      <td>0.0</td>\n",
              "      <td>0.0</td>\n",
              "      <td>0.0</td>\n",
              "      <td>0.0</td>\n",
              "      <td>0.0</td>\n",
              "      <td>0.0</td>\n",
              "      <td>0.0</td>\n",
              "      <td>0.0</td>\n",
              "      <td>0.0</td>\n",
              "      <td>0.0</td>\n",
              "      <td>0.0</td>\n",
              "      <td>0.0</td>\n",
              "      <td>1.0</td>\n",
              "      <td>0.0</td>\n",
              "      <td>0.0</td>\n",
              "      <td>0.0</td>\n",
              "    </tr>\n",
              "    <tr>\n",
              "      <th>395</th>\n",
              "      <td>32.0</td>\n",
              "      <td>4</td>\n",
              "      <td>135.0</td>\n",
              "      <td>84.0</td>\n",
              "      <td>2295</td>\n",
              "      <td>11.6</td>\n",
              "      <td>82</td>\n",
              "      <td>0.0</td>\n",
              "      <td>0.0</td>\n",
              "      <td>1.0</td>\n",
              "      <td>0.0</td>\n",
              "      <td>0.0</td>\n",
              "      <td>0.0</td>\n",
              "      <td>0.0</td>\n",
              "      <td>0.0</td>\n",
              "      <td>0.0</td>\n",
              "      <td>0.0</td>\n",
              "      <td>0.0</td>\n",
              "      <td>0.0</td>\n",
              "      <td>0.0</td>\n",
              "      <td>0.0</td>\n",
              "      <td>0.0</td>\n",
              "      <td>0.0</td>\n",
              "      <td>0.0</td>\n",
              "      <td>0.0</td>\n",
              "      <td>0.0</td>\n",
              "      <td>0.0</td>\n",
              "      <td>0.0</td>\n",
              "      <td>0.0</td>\n",
              "      <td>0.0</td>\n",
              "      <td>0.0</td>\n",
              "      <td>0.0</td>\n",
              "      <td>0.0</td>\n",
              "      <td>0.0</td>\n",
              "      <td>0.0</td>\n",
              "      <td>0.0</td>\n",
              "      <td>0.0</td>\n",
              "      <td>0.0</td>\n",
              "      <td>0.0</td>\n",
              "      <td>0.0</td>\n",
              "      <td>...</td>\n",
              "      <td>0.0</td>\n",
              "      <td>0.0</td>\n",
              "      <td>0.0</td>\n",
              "      <td>0.0</td>\n",
              "      <td>0.0</td>\n",
              "      <td>0.0</td>\n",
              "      <td>0.0</td>\n",
              "      <td>0.0</td>\n",
              "      <td>0.0</td>\n",
              "      <td>0.0</td>\n",
              "      <td>0.0</td>\n",
              "      <td>0.0</td>\n",
              "      <td>0.0</td>\n",
              "      <td>0.0</td>\n",
              "      <td>0.0</td>\n",
              "      <td>0.0</td>\n",
              "      <td>0.0</td>\n",
              "      <td>0.0</td>\n",
              "      <td>0.0</td>\n",
              "      <td>0.0</td>\n",
              "      <td>0.0</td>\n",
              "      <td>0.0</td>\n",
              "      <td>0.0</td>\n",
              "      <td>0.0</td>\n",
              "      <td>0.0</td>\n",
              "      <td>0.0</td>\n",
              "      <td>0.0</td>\n",
              "      <td>0.0</td>\n",
              "      <td>0.0</td>\n",
              "      <td>0.0</td>\n",
              "      <td>0.0</td>\n",
              "      <td>0.0</td>\n",
              "      <td>0.0</td>\n",
              "      <td>0.0</td>\n",
              "      <td>0.0</td>\n",
              "      <td>0.0</td>\n",
              "      <td>0.0</td>\n",
              "      <td>0.0</td>\n",
              "      <td>0.0</td>\n",
              "      <td>0.0</td>\n",
              "    </tr>\n",
              "    <tr>\n",
              "      <th>396</th>\n",
              "      <td>28.0</td>\n",
              "      <td>4</td>\n",
              "      <td>120.0</td>\n",
              "      <td>79.0</td>\n",
              "      <td>2625</td>\n",
              "      <td>18.6</td>\n",
              "      <td>82</td>\n",
              "      <td>0.0</td>\n",
              "      <td>0.0</td>\n",
              "      <td>1.0</td>\n",
              "      <td>0.0</td>\n",
              "      <td>0.0</td>\n",
              "      <td>0.0</td>\n",
              "      <td>0.0</td>\n",
              "      <td>0.0</td>\n",
              "      <td>0.0</td>\n",
              "      <td>0.0</td>\n",
              "      <td>0.0</td>\n",
              "      <td>0.0</td>\n",
              "      <td>0.0</td>\n",
              "      <td>0.0</td>\n",
              "      <td>0.0</td>\n",
              "      <td>0.0</td>\n",
              "      <td>0.0</td>\n",
              "      <td>0.0</td>\n",
              "      <td>0.0</td>\n",
              "      <td>0.0</td>\n",
              "      <td>0.0</td>\n",
              "      <td>0.0</td>\n",
              "      <td>0.0</td>\n",
              "      <td>0.0</td>\n",
              "      <td>0.0</td>\n",
              "      <td>0.0</td>\n",
              "      <td>0.0</td>\n",
              "      <td>0.0</td>\n",
              "      <td>0.0</td>\n",
              "      <td>0.0</td>\n",
              "      <td>0.0</td>\n",
              "      <td>0.0</td>\n",
              "      <td>0.0</td>\n",
              "      <td>...</td>\n",
              "      <td>0.0</td>\n",
              "      <td>0.0</td>\n",
              "      <td>0.0</td>\n",
              "      <td>0.0</td>\n",
              "      <td>0.0</td>\n",
              "      <td>0.0</td>\n",
              "      <td>0.0</td>\n",
              "      <td>0.0</td>\n",
              "      <td>0.0</td>\n",
              "      <td>0.0</td>\n",
              "      <td>0.0</td>\n",
              "      <td>0.0</td>\n",
              "      <td>0.0</td>\n",
              "      <td>0.0</td>\n",
              "      <td>0.0</td>\n",
              "      <td>0.0</td>\n",
              "      <td>0.0</td>\n",
              "      <td>0.0</td>\n",
              "      <td>0.0</td>\n",
              "      <td>0.0</td>\n",
              "      <td>0.0</td>\n",
              "      <td>0.0</td>\n",
              "      <td>0.0</td>\n",
              "      <td>0.0</td>\n",
              "      <td>0.0</td>\n",
              "      <td>0.0</td>\n",
              "      <td>0.0</td>\n",
              "      <td>0.0</td>\n",
              "      <td>0.0</td>\n",
              "      <td>0.0</td>\n",
              "      <td>0.0</td>\n",
              "      <td>0.0</td>\n",
              "      <td>0.0</td>\n",
              "      <td>0.0</td>\n",
              "      <td>0.0</td>\n",
              "      <td>0.0</td>\n",
              "      <td>0.0</td>\n",
              "      <td>0.0</td>\n",
              "      <td>0.0</td>\n",
              "      <td>0.0</td>\n",
              "    </tr>\n",
              "    <tr>\n",
              "      <th>397</th>\n",
              "      <td>31.0</td>\n",
              "      <td>4</td>\n",
              "      <td>119.0</td>\n",
              "      <td>82.0</td>\n",
              "      <td>2720</td>\n",
              "      <td>19.4</td>\n",
              "      <td>82</td>\n",
              "      <td>0.0</td>\n",
              "      <td>0.0</td>\n",
              "      <td>1.0</td>\n",
              "      <td>0.0</td>\n",
              "      <td>0.0</td>\n",
              "      <td>0.0</td>\n",
              "      <td>0.0</td>\n",
              "      <td>0.0</td>\n",
              "      <td>0.0</td>\n",
              "      <td>0.0</td>\n",
              "      <td>0.0</td>\n",
              "      <td>0.0</td>\n",
              "      <td>0.0</td>\n",
              "      <td>0.0</td>\n",
              "      <td>0.0</td>\n",
              "      <td>0.0</td>\n",
              "      <td>0.0</td>\n",
              "      <td>0.0</td>\n",
              "      <td>0.0</td>\n",
              "      <td>0.0</td>\n",
              "      <td>0.0</td>\n",
              "      <td>0.0</td>\n",
              "      <td>0.0</td>\n",
              "      <td>0.0</td>\n",
              "      <td>0.0</td>\n",
              "      <td>0.0</td>\n",
              "      <td>0.0</td>\n",
              "      <td>0.0</td>\n",
              "      <td>0.0</td>\n",
              "      <td>0.0</td>\n",
              "      <td>0.0</td>\n",
              "      <td>0.0</td>\n",
              "      <td>0.0</td>\n",
              "      <td>...</td>\n",
              "      <td>0.0</td>\n",
              "      <td>0.0</td>\n",
              "      <td>0.0</td>\n",
              "      <td>0.0</td>\n",
              "      <td>0.0</td>\n",
              "      <td>0.0</td>\n",
              "      <td>0.0</td>\n",
              "      <td>0.0</td>\n",
              "      <td>0.0</td>\n",
              "      <td>0.0</td>\n",
              "      <td>0.0</td>\n",
              "      <td>0.0</td>\n",
              "      <td>0.0</td>\n",
              "      <td>0.0</td>\n",
              "      <td>0.0</td>\n",
              "      <td>0.0</td>\n",
              "      <td>0.0</td>\n",
              "      <td>0.0</td>\n",
              "      <td>0.0</td>\n",
              "      <td>0.0</td>\n",
              "      <td>0.0</td>\n",
              "      <td>0.0</td>\n",
              "      <td>0.0</td>\n",
              "      <td>0.0</td>\n",
              "      <td>0.0</td>\n",
              "      <td>0.0</td>\n",
              "      <td>0.0</td>\n",
              "      <td>0.0</td>\n",
              "      <td>0.0</td>\n",
              "      <td>0.0</td>\n",
              "      <td>0.0</td>\n",
              "      <td>0.0</td>\n",
              "      <td>0.0</td>\n",
              "      <td>0.0</td>\n",
              "      <td>0.0</td>\n",
              "      <td>0.0</td>\n",
              "      <td>0.0</td>\n",
              "      <td>0.0</td>\n",
              "      <td>0.0</td>\n",
              "      <td>0.0</td>\n",
              "    </tr>\n",
              "  </tbody>\n",
              "</table>\n",
              "<p>392 rows × 311 columns</p>\n",
              "</div>"
            ],
            "text/plain": [
              "      mpg  cylinders  ...  x1_vw rabbit c (diesel)  x1_vw rabbit custom\n",
              "0    18.0          8  ...                      0.0                  0.0\n",
              "1    15.0          8  ...                      0.0                  0.0\n",
              "2    18.0          8  ...                      0.0                  0.0\n",
              "3    16.0          8  ...                      0.0                  0.0\n",
              "4    17.0          8  ...                      0.0                  0.0\n",
              "..    ...        ...  ...                      ...                  ...\n",
              "393  27.0          4  ...                      0.0                  0.0\n",
              "394  44.0          4  ...                      0.0                  0.0\n",
              "395  32.0          4  ...                      0.0                  0.0\n",
              "396  28.0          4  ...                      0.0                  0.0\n",
              "397  31.0          4  ...                      0.0                  0.0\n",
              "\n",
              "[392 rows x 311 columns]"
            ]
          },
          "metadata": {
            "tags": []
          },
          "execution_count": 83
        }
      ]
    },
    {
      "cell_type": "code",
      "metadata": {
        "id": "bjU6n3Y-o9Bi"
      },
      "source": [
        "df_carsnames = df_carsnames.drop(columns = 'mpg')"
      ],
      "execution_count": null,
      "outputs": []
    },
    {
      "cell_type": "markdown",
      "metadata": {
        "id": "DMuKGsKToOQz"
      },
      "source": [
        "If we had instead used `df_carsfinal_2` which is 300+ columns, we will see the effect of overfitting: "
      ]
    },
    {
      "cell_type": "code",
      "metadata": {
        "id": "lAHc0NqqoKTU",
        "outputId": "c2175a41-fa15-4eb7-f674-8a4c9de2ed52",
        "colab": {
          "base_uri": "https://localhost:8080/"
        }
      },
      "source": [
        "X_train, X_test, y_train, y_test = train_test_split(df_carsnames, true_mpg, test_size = 0.20)\n",
        "cars_linear_model_2 = linear_model.LinearRegression()\n",
        "cars_linear_model_2.fit(X = X_train, y = y_train)\n",
        "\n",
        "y_predicted_train = cars_linear_model_2.predict(X = X_train)\n",
        "mean_squared_error(y_train, y_predicted_train)"
      ],
      "execution_count": null,
      "outputs": [
        {
          "output_type": "execute_result",
          "data": {
            "text/plain": [
              "0.7626237793120978"
            ]
          },
          "metadata": {
            "tags": []
          },
          "execution_count": 85
        }
      ]
    },
    {
      "cell_type": "code",
      "metadata": {
        "id": "1pPPltRGoKKN",
        "outputId": "ad5452f6-0468-4a52-9ee0-34c14fbdb730",
        "colab": {
          "base_uri": "https://localhost:8080/"
        }
      },
      "source": [
        "y_predicted_test = cars_linear_model_2.predict(X = X_test)\n",
        "mean_squared_error(y_test, y_predicted_test)"
      ],
      "execution_count": null,
      "outputs": [
        {
          "output_type": "execute_result",
          "data": {
            "text/plain": [
              "3.7281306660409704e+16"
            ]
          },
          "metadata": {
            "tags": []
          },
          "execution_count": 87
        }
      ]
    },
    {
      "cell_type": "markdown",
      "metadata": {
        "id": "cwoZSiKgpb3P"
      },
      "source": [
        "This is how you detect overfitting, whe the error from the training data is low, but the error from the testing data is extraordinary, billions of times higher. This would render the model built from `df_carsfinal_2` is basically useless. "
      ]
    },
    {
      "cell_type": "code",
      "metadata": {
        "id": "jNFzml2-onl3"
      },
      "source": [
        "## MANDATORY EXERCISE, split the DIAMONDS (df_inputfinal) dataset into training and testing data. \n",
        "## Find the error of a linear model on the testing data of 20% of the entire dataset. "
      ],
      "execution_count": null,
      "outputs": []
    },
    {
      "cell_type": "code",
      "metadata": {
        "id": "prG1SbUJnK7F",
        "outputId": "af9a7326-f0ed-48d8-d93b-663e473e28dc",
        "colab": {
          "base_uri": "https://localhost:8080/",
          "height": 402
        }
      },
      "source": [
        "df_inputfinal"
      ],
      "execution_count": null,
      "outputs": [
        {
          "output_type": "execute_result",
          "data": {
            "text/html": [
              "<div>\n",
              "<style scoped>\n",
              "    .dataframe tbody tr th:only-of-type {\n",
              "        vertical-align: middle;\n",
              "    }\n",
              "\n",
              "    .dataframe tbody tr th {\n",
              "        vertical-align: top;\n",
              "    }\n",
              "\n",
              "    .dataframe thead th {\n",
              "        text-align: right;\n",
              "    }\n",
              "</style>\n",
              "<table border=\"1\" class=\"dataframe\">\n",
              "  <thead>\n",
              "    <tr style=\"text-align: right;\">\n",
              "      <th></th>\n",
              "      <th>carat</th>\n",
              "      <th>depth</th>\n",
              "      <th>table</th>\n",
              "      <th>price</th>\n",
              "      <th>x</th>\n",
              "      <th>y</th>\n",
              "      <th>z</th>\n",
              "      <th>color_mapped</th>\n",
              "      <th>is_Ideal</th>\n",
              "      <th>is_Premium</th>\n",
              "      <th>is_Very Good</th>\n",
              "      <th>is_Good</th>\n",
              "      <th>is_Fair</th>\n",
              "    </tr>\n",
              "  </thead>\n",
              "  <tbody>\n",
              "    <tr>\n",
              "      <th>0</th>\n",
              "      <td>0.23</td>\n",
              "      <td>61.5</td>\n",
              "      <td>55.0</td>\n",
              "      <td>326</td>\n",
              "      <td>3.95</td>\n",
              "      <td>3.98</td>\n",
              "      <td>2.43</td>\n",
              "      <td>2</td>\n",
              "      <td>True</td>\n",
              "      <td>False</td>\n",
              "      <td>False</td>\n",
              "      <td>False</td>\n",
              "      <td>False</td>\n",
              "    </tr>\n",
              "    <tr>\n",
              "      <th>1</th>\n",
              "      <td>0.21</td>\n",
              "      <td>59.8</td>\n",
              "      <td>61.0</td>\n",
              "      <td>326</td>\n",
              "      <td>3.89</td>\n",
              "      <td>3.84</td>\n",
              "      <td>2.31</td>\n",
              "      <td>2</td>\n",
              "      <td>False</td>\n",
              "      <td>True</td>\n",
              "      <td>False</td>\n",
              "      <td>False</td>\n",
              "      <td>False</td>\n",
              "    </tr>\n",
              "    <tr>\n",
              "      <th>2</th>\n",
              "      <td>0.23</td>\n",
              "      <td>56.9</td>\n",
              "      <td>65.0</td>\n",
              "      <td>327</td>\n",
              "      <td>4.05</td>\n",
              "      <td>4.07</td>\n",
              "      <td>2.31</td>\n",
              "      <td>2</td>\n",
              "      <td>False</td>\n",
              "      <td>False</td>\n",
              "      <td>False</td>\n",
              "      <td>True</td>\n",
              "      <td>False</td>\n",
              "    </tr>\n",
              "    <tr>\n",
              "      <th>3</th>\n",
              "      <td>0.29</td>\n",
              "      <td>62.4</td>\n",
              "      <td>58.0</td>\n",
              "      <td>334</td>\n",
              "      <td>4.20</td>\n",
              "      <td>4.23</td>\n",
              "      <td>2.63</td>\n",
              "      <td>6</td>\n",
              "      <td>False</td>\n",
              "      <td>True</td>\n",
              "      <td>False</td>\n",
              "      <td>False</td>\n",
              "      <td>False</td>\n",
              "    </tr>\n",
              "    <tr>\n",
              "      <th>4</th>\n",
              "      <td>0.31</td>\n",
              "      <td>63.3</td>\n",
              "      <td>58.0</td>\n",
              "      <td>335</td>\n",
              "      <td>4.34</td>\n",
              "      <td>4.35</td>\n",
              "      <td>2.75</td>\n",
              "      <td>7</td>\n",
              "      <td>False</td>\n",
              "      <td>False</td>\n",
              "      <td>False</td>\n",
              "      <td>True</td>\n",
              "      <td>False</td>\n",
              "    </tr>\n",
              "    <tr>\n",
              "      <th>...</th>\n",
              "      <td>...</td>\n",
              "      <td>...</td>\n",
              "      <td>...</td>\n",
              "      <td>...</td>\n",
              "      <td>...</td>\n",
              "      <td>...</td>\n",
              "      <td>...</td>\n",
              "      <td>...</td>\n",
              "      <td>...</td>\n",
              "      <td>...</td>\n",
              "      <td>...</td>\n",
              "      <td>...</td>\n",
              "      <td>...</td>\n",
              "    </tr>\n",
              "    <tr>\n",
              "      <th>53935</th>\n",
              "      <td>0.72</td>\n",
              "      <td>60.8</td>\n",
              "      <td>57.0</td>\n",
              "      <td>2757</td>\n",
              "      <td>5.75</td>\n",
              "      <td>5.76</td>\n",
              "      <td>3.50</td>\n",
              "      <td>1</td>\n",
              "      <td>True</td>\n",
              "      <td>False</td>\n",
              "      <td>False</td>\n",
              "      <td>False</td>\n",
              "      <td>False</td>\n",
              "    </tr>\n",
              "    <tr>\n",
              "      <th>53936</th>\n",
              "      <td>0.72</td>\n",
              "      <td>63.1</td>\n",
              "      <td>55.0</td>\n",
              "      <td>2757</td>\n",
              "      <td>5.69</td>\n",
              "      <td>5.75</td>\n",
              "      <td>3.61</td>\n",
              "      <td>1</td>\n",
              "      <td>False</td>\n",
              "      <td>False</td>\n",
              "      <td>False</td>\n",
              "      <td>True</td>\n",
              "      <td>False</td>\n",
              "    </tr>\n",
              "    <tr>\n",
              "      <th>53937</th>\n",
              "      <td>0.70</td>\n",
              "      <td>62.8</td>\n",
              "      <td>60.0</td>\n",
              "      <td>2757</td>\n",
              "      <td>5.66</td>\n",
              "      <td>5.68</td>\n",
              "      <td>3.56</td>\n",
              "      <td>1</td>\n",
              "      <td>False</td>\n",
              "      <td>False</td>\n",
              "      <td>True</td>\n",
              "      <td>False</td>\n",
              "      <td>False</td>\n",
              "    </tr>\n",
              "    <tr>\n",
              "      <th>53938</th>\n",
              "      <td>0.86</td>\n",
              "      <td>61.0</td>\n",
              "      <td>58.0</td>\n",
              "      <td>2757</td>\n",
              "      <td>6.15</td>\n",
              "      <td>6.12</td>\n",
              "      <td>3.74</td>\n",
              "      <td>5</td>\n",
              "      <td>False</td>\n",
              "      <td>True</td>\n",
              "      <td>False</td>\n",
              "      <td>False</td>\n",
              "      <td>False</td>\n",
              "    </tr>\n",
              "    <tr>\n",
              "      <th>53939</th>\n",
              "      <td>0.75</td>\n",
              "      <td>62.2</td>\n",
              "      <td>55.0</td>\n",
              "      <td>2757</td>\n",
              "      <td>5.83</td>\n",
              "      <td>5.87</td>\n",
              "      <td>3.64</td>\n",
              "      <td>1</td>\n",
              "      <td>True</td>\n",
              "      <td>False</td>\n",
              "      <td>False</td>\n",
              "      <td>False</td>\n",
              "      <td>False</td>\n",
              "    </tr>\n",
              "  </tbody>\n",
              "</table>\n",
              "<p>53940 rows × 13 columns</p>\n",
              "</div>"
            ],
            "text/plain": [
              "       carat  depth  table  price  ...  is_Premium  is_Very Good  is_Good  is_Fair\n",
              "0       0.23   61.5   55.0    326  ...       False         False    False    False\n",
              "1       0.21   59.8   61.0    326  ...        True         False    False    False\n",
              "2       0.23   56.9   65.0    327  ...       False         False     True    False\n",
              "3       0.29   62.4   58.0    334  ...        True         False    False    False\n",
              "4       0.31   63.3   58.0    335  ...       False         False     True    False\n",
              "...      ...    ...    ...    ...  ...         ...           ...      ...      ...\n",
              "53935   0.72   60.8   57.0   2757  ...       False         False    False    False\n",
              "53936   0.72   63.1   55.0   2757  ...       False         False     True    False\n",
              "53937   0.70   62.8   60.0   2757  ...       False          True    False    False\n",
              "53938   0.86   61.0   58.0   2757  ...        True         False    False    False\n",
              "53939   0.75   62.2   55.0   2757  ...       False         False    False    False\n",
              "\n",
              "[53940 rows x 13 columns]"
            ]
          },
          "metadata": {
            "tags": []
          },
          "execution_count": 89
        }
      ]
    },
    {
      "cell_type": "markdown",
      "metadata": {
        "id": "3RNnyDHZqbuH"
      },
      "source": [
        "#3.4 To FIX our model!"
      ]
    },
    {
      "cell_type": "markdown",
      "metadata": {
        "id": "FY7UKTlDqf9g"
      },
      "source": [
        "Overfitting is a huge problem and costs data science lots of sleep and business lots of money when the model isn't preforming as expected or advertised. Its very subtle because striving for a better model gets better results to a certain point, and then overfitting comes in and things go downhill. "
      ]
    },
    {
      "cell_type": "markdown",
      "metadata": {
        "id": "aUEWa8nbq7AS"
      },
      "source": [
        "> The goal is to find the best model possible and *adjust it* (adjustments tell the model to behave and train itself a certain way), while focusing on the testing results."
      ]
    },
    {
      "cell_type": "markdown",
      "metadata": {
        "id": "LYwEtqZtVPSN"
      },
      "source": [
        "Lets bring in a different kind of linear model, it will help us"
      ]
    },
    {
      "cell_type": "code",
      "metadata": {
        "id": "vacPKcDlq6hJ"
      },
      "source": [
        "lasso_linear_model = linear_model.Lasso()"
      ],
      "execution_count": null,
      "outputs": []
    },
    {
      "cell_type": "markdown",
      "metadata": {
        "id": "8u5PHgAyZMWh"
      },
      "source": [
        "We also add the `random_state` variable, which is any integer value which determines the background randomness algorithm and gives us the **same  train test split** each time. Although your errors might differ from me earlier, once we set random_state to 0 (could have been any integer), we should get the same errors"
      ]
    },
    {
      "cell_type": "code",
      "metadata": {
        "id": "H5nS_ODVonZS",
        "outputId": "b8141768-fc3b-49ef-acbe-96a0d4394938",
        "colab": {
          "base_uri": "https://localhost:8080/",
          "height": 34
        }
      },
      "source": [
        "X_train, X_test, y_train, y_test = train_test_split(df_carsnames, true_mpg, test_size = 0.20, random_state = 0)\n",
        "\n",
        "lasso_linear_model.fit(X = X_train, y = y_train)\n",
        "\n",
        "y_predicted_train = lasso_linear_model.predict(X = X_train)\n",
        "mean_squared_error(y_train, y_predicted_train)"
      ],
      "execution_count": null,
      "outputs": [
        {
          "output_type": "execute_result",
          "data": {
            "text/plain": [
              "11.72441335326703"
            ]
          },
          "metadata": {
            "tags": []
          },
          "execution_count": 107
        }
      ]
    },
    {
      "cell_type": "code",
      "metadata": {
        "id": "Qrnb-Grwrw82",
        "outputId": "1dbe245d-e07d-46ae-ec70-2b0d59c0e1f2",
        "colab": {
          "base_uri": "https://localhost:8080/",
          "height": 34
        }
      },
      "source": [
        "y_predicted_test = lasso_linear_model.predict(X = X_test)\n",
        "mean_squared_error(y_test, y_predicted_test)"
      ],
      "execution_count": null,
      "outputs": [
        {
          "output_type": "execute_result",
          "data": {
            "text/plain": [
              "11.919422233359253"
            ]
          },
          "metadata": {
            "tags": []
          },
          "execution_count": 108
        }
      ]
    },
    {
      "cell_type": "markdown",
      "metadata": {
        "id": "jLVi7vI7r-af"
      },
      "source": [
        "In the model above we are still using `df_carsnames` which is very prone to overfitting. But unlike last time, the errors on the test set is no longer in the billions. All we changed was the model, rather than using `linear_model.LinearRegression()` we used `linear_model.Lasso()`"
      ]
    },
    {
      "cell_type": "markdown",
      "metadata": {
        "id": "17diKoY8sj-t"
      },
      "source": [
        "> **Changes in the model changes our predictions, our goal is to find the right model for the job.**"
      ]
    },
    {
      "cell_type": "code",
      "metadata": {
        "id": "mqG6vRQcsFqQ",
        "outputId": "d2423abb-2182-485d-be9e-3095bd23a103",
        "colab": {
          "base_uri": "https://localhost:8080/",
          "height": 1000
        }
      },
      "source": [
        "lasso_linear_model.coef_"
      ],
      "execution_count": null,
      "outputs": [
        {
          "output_type": "execute_result",
          "data": {
            "text/plain": [
              "array([-0.        ,  0.        , -0.00824087, -0.00651267,  0.        ,\n",
              "        0.64968408,  0.        ,  0.        , -0.        , -0.        ,\n",
              "        0.        ,  0.        , -0.        , -0.        , -0.        ,\n",
              "       -0.        , -0.        , -0.        , -0.        ,  0.        ,\n",
              "       -0.        , -0.        , -0.        , -0.        ,  0.        ,\n",
              "       -0.        ,  0.        , -0.        ,  0.        ,  0.        ,\n",
              "        0.        , -0.        , -0.        , -0.        ,  0.        ,\n",
              "        0.        , -0.        ,  0.        , -0.        ,  0.        ,\n",
              "        0.        , -0.        ,  0.        , -0.        ,  0.        ,\n",
              "        0.        ,  0.        ,  0.        , -0.        ,  0.        ,\n",
              "        0.        , -0.        , -0.        , -0.        ,  0.        ,\n",
              "        0.        , -0.        ,  0.        ,  0.        , -0.        ,\n",
              "       -0.        , -0.        ,  0.        , -0.        , -0.        ,\n",
              "        0.        , -0.        ,  0.        , -0.        , -0.        ,\n",
              "       -0.        , -0.        ,  0.        ,  0.        , -0.        ,\n",
              "       -0.        ,  0.        ,  0.        ,  0.        , -0.        ,\n",
              "       -0.        , -0.        ,  0.        ,  0.        ,  0.        ,\n",
              "       -0.        ,  0.        , -0.        ,  0.        ,  0.        ,\n",
              "        0.        ,  0.        , -0.        ,  0.        ,  0.        ,\n",
              "       -0.        ,  0.        , -0.        , -0.        ,  0.        ,\n",
              "        0.        ,  0.        ,  0.        ,  0.        ,  0.        ,\n",
              "        0.        , -0.        , -0.        ,  0.        ,  0.        ,\n",
              "        0.        , -0.        ,  0.        , -0.        ,  0.        ,\n",
              "        0.        ,  0.        , -0.        ,  0.        , -0.        ,\n",
              "        0.        , -0.        , -0.        ,  0.        ,  0.        ,\n",
              "        0.        ,  0.        ,  0.        , -0.        ,  0.        ,\n",
              "        0.        ,  0.        , -0.        ,  0.        ,  0.        ,\n",
              "        0.        ,  0.        ,  0.        , -0.        ,  0.        ,\n",
              "       -0.        ,  0.        , -0.        , -0.        ,  0.        ,\n",
              "        0.        , -0.        ,  0.        , -0.        ,  0.        ,\n",
              "       -0.        ,  0.        , -0.        , -0.        ,  0.        ,\n",
              "       -0.        ,  0.        ,  0.        , -0.        , -0.        ,\n",
              "       -0.        ,  0.        , -0.        , -0.        , -0.        ,\n",
              "        0.        , -0.        ,  0.        ,  0.        ,  0.        ,\n",
              "        0.        ,  0.        ,  0.        , -0.        ,  0.        ,\n",
              "       -0.        ,  0.        ,  0.        ,  0.        ,  0.        ,\n",
              "        0.        , -0.        ,  0.        ,  0.        ,  0.        ,\n",
              "       -0.        ,  0.        ,  0.        , -0.        , -0.        ,\n",
              "       -0.        ,  0.        ,  0.        , -0.        , -0.        ,\n",
              "       -0.        , -0.        , -0.        ,  0.        ,  0.        ,\n",
              "        0.        , -0.        , -0.        , -0.        , -0.        ,\n",
              "        0.        ,  0.        ,  0.        , -0.        ,  0.        ,\n",
              "        0.        , -0.        , -0.        , -0.        ,  0.        ,\n",
              "       -0.        , -0.        ,  0.        ,  0.        ,  0.        ,\n",
              "        0.        , -0.        , -0.        , -0.        ,  0.        ,\n",
              "        0.        ,  0.        ,  0.        ,  0.        ,  0.        ,\n",
              "        0.        ,  0.        ,  0.        ,  0.        ,  0.        ,\n",
              "        0.        , -0.        , -0.        ,  0.        , -0.        ,\n",
              "        0.        ,  0.        , -0.        , -0.        , -0.        ,\n",
              "       -0.        , -0.        , -0.        ,  0.        ,  0.        ,\n",
              "        0.        ,  0.        ,  0.        ,  0.        , -0.        ,\n",
              "        0.        , -0.        ,  0.        ,  0.        , -0.        ,\n",
              "        0.        , -0.        ,  0.        ,  0.        ,  0.        ,\n",
              "        0.        , -0.        , -0.        ,  0.        ,  0.        ,\n",
              "       -0.        ,  0.        ,  0.        ,  0.        , -0.        ,\n",
              "        0.        , -0.        , -0.        ,  0.        ,  0.        ,\n",
              "       -0.        , -0.        ,  0.        ,  0.        , -0.        ,\n",
              "        0.        , -0.        , -0.        ,  0.        , -0.        ,\n",
              "        0.        ,  0.        , -0.        ,  0.        ,  0.        ,\n",
              "        0.        ,  0.        , -0.        , -0.        , -0.        ,\n",
              "       -0.        , -0.        , -0.        , -0.        ,  0.        ,\n",
              "        0.        ,  0.        , -0.        ,  0.        , -0.        ])"
            ]
          },
          "metadata": {
            "tags": []
          },
          "execution_count": 109
        }
      ]
    },
    {
      "cell_type": "markdown",
      "metadata": {
        "id": "OhBmHdSqs7C_"
      },
      "source": [
        "But what is Lasso? It is still a linear model that finds coefficients etc..\n",
        "However as we analyze the coefficients we can see that the majority are zeros. This is reflected in its goal. "
      ]
    },
    {
      "cell_type": "markdown",
      "metadata": {
        "id": "Rhbo5-MFtIvt"
      },
      "source": [
        "Its still trying to minimize the total squared error, however it tries to do so with the fewest non-zero coefficients possible. It's *objective* is:\n",
        "\n",
        "\n",
        "```\n",
        "minimize squared error + alpha*(absolute value of all coefficients, summed) \n",
        "```\n",
        "\n",
        "So having many zeroes will benefit the model, and the model wants zeroes which benefits us. Since the majority of the columns will no longer be used, we avoid the problem of overfitting by only using the important columns that applies to all the data. "
      ]
    },
    {
      "cell_type": "code",
      "metadata": {
        "id": "kiTBMrLg9Y6t"
      },
      "source": [
        "## EXERCISE, use the LASSO model df_inputfinal and investigate to see if you get the same coefficients\n",
        "## as above"
      ],
      "execution_count": null,
      "outputs": []
    },
    {
      "cell_type": "markdown",
      "metadata": {
        "id": "B_2I7okM9Npb"
      },
      "source": [
        "Lets now try it on the original df_cars dataset, remember that this dataset had less features, will we still see a lot of zeros?"
      ]
    },
    {
      "cell_type": "code",
      "metadata": {
        "id": "UBa12sRAuHRO",
        "outputId": "2c048d98-7c87-49e0-bba7-948407e7173f",
        "colab": {
          "base_uri": "https://localhost:8080/",
          "height": 34
        }
      },
      "source": [
        "X_train, X_test, y_train, y_test = train_test_split(df_cars, true_mpg, test_size = 0.20, random_state = 416)\n",
        "cars_linear_model_3 = linear_model.Lasso()\n",
        "cars_linear_model_3.fit(X = X_train, y = y_train)\n",
        "\n",
        "y_predicted_train = cars_linear_model_3.predict(X = X_train)\n",
        "mean_squared_error(y_train, y_predicted_train)"
      ],
      "execution_count": null,
      "outputs": [
        {
          "output_type": "execute_result",
          "data": {
            "text/plain": [
              "12.901084617225893"
            ]
          },
          "metadata": {
            "tags": []
          },
          "execution_count": 110
        }
      ]
    },
    {
      "cell_type": "code",
      "metadata": {
        "id": "2UTdcKtPsFm4",
        "outputId": "5a9442a9-62a0-4de3-fda6-4df885e45760",
        "colab": {
          "base_uri": "https://localhost:8080/",
          "height": 34
        }
      },
      "source": [
        "y_predicted_test = cars_linear_model_3.predict(X = X_test)\n",
        "mean_squared_error(y_test, y_predicted_test)"
      ],
      "execution_count": null,
      "outputs": [
        {
          "output_type": "execute_result",
          "data": {
            "text/plain": [
              "7.33084361927002"
            ]
          },
          "metadata": {
            "tags": []
          },
          "execution_count": 111
        }
      ]
    },
    {
      "cell_type": "markdown",
      "metadata": {
        "id": "SyN_3dk9-5IB"
      },
      "source": [
        "It turns out our model is performing around the same as basic `.LinearRegression()` but looking at the objective equation for`Lasso()` again: \n",
        "\n",
        "```\n",
        "minimize squared error + alpha*(absolute value of all coefficients, summed) \n",
        "```\n"
      ]
    },
    {
      "cell_type": "markdown",
      "metadata": {
        "id": "lb8LwKqwW9S2"
      },
      "source": [
        "The alpha value is key. If `alpha = 0` then the objective would be the same as `.LinearRegression()` . We can see there is a default value for `alpha = 1.0` , when we initiate `linear_model.Lasso()`, lets change that to be really small "
      ]
    },
    {
      "cell_type": "code",
      "metadata": {
        "id": "_oTpPJZWW8a2",
        "outputId": "611e2caa-3267-48b9-e1b9-873a9b2f504f",
        "colab": {
          "base_uri": "https://localhost:8080/",
          "height": 34
        }
      },
      "source": [
        "X_train, X_test, y_train, y_test = train_test_split(df_cars, true_mpg, test_size = 0.20, random_state = 416)\n",
        "cars_linear_model_3 = linear_model.Lasso(alpha = 0.001)\n",
        "cars_linear_model_3.fit(X = X_train, y = y_train)\n",
        "## straight to predictions\n",
        "y_predicted_test = cars_linear_model_3.predict(X = X_test)\n",
        "mean_squared_error(y_test, y_predicted_test)"
      ],
      "execution_count": null,
      "outputs": [
        {
          "output_type": "execute_result",
          "data": {
            "text/plain": [
              "7.286100787404706"
            ]
          },
          "metadata": {
            "tags": []
          },
          "execution_count": 112
        }
      ]
    },
    {
      "cell_type": "markdown",
      "metadata": {
        "id": "jEGiOudnYex3"
      },
      "source": [
        "The point is, `.Lasso()` gives us an option to customize it, by altering the `alpha = ` parameter, there is some alpha which gives us the most accurate prediction without overfitting (**lowest testing error**). Just because the error decreased when we went from 1 -> 0.001 it does not mean our best model is at 0.001, its likely to be at some middle ground in between. "
      ]
    },
    {
      "cell_type": "code",
      "metadata": {
        "id": "4fCo4hl2Yb8N",
        "outputId": "cc906b6a-47bf-4107-9985-53154a9dd5fd",
        "colab": {
          "base_uri": "https://localhost:8080/",
          "height": 34
        }
      },
      "source": [
        "X_train, X_test, y_train, y_test = train_test_split(df_cars, true_mpg, test_size = 0.20, random_state = 416)\n",
        "cars_linear_model_3 = linear_model.Lasso(alpha = 0.015)\n",
        "cars_linear_model_3.fit(X = X_train, y = y_train)\n",
        "## straight to predictions\n",
        "y_predicted_test = cars_linear_model_3.predict(X = X_test)\n",
        "mean_squared_error(y_test, y_predicted_test)"
      ],
      "execution_count": null,
      "outputs": [
        {
          "output_type": "execute_result",
          "data": {
            "text/plain": [
              "7.225572456065225"
            ]
          },
          "metadata": {
            "tags": []
          },
          "execution_count": 113
        }
      ]
    },
    {
      "cell_type": "markdown",
      "metadata": {
        "id": "GerRYEo7adPO"
      },
      "source": [
        "See, told ya!"
      ]
    },
    {
      "cell_type": "code",
      "metadata": {
        "id": "5OykgOcjYbv3"
      },
      "source": [
        "## MANDATORY Exercise: There is another linear_model that can be adjusted with an alpha value. \n",
        "## try .linear_model.Ridge() and find the best alpha for the cars dataset \n",
        "## make sure you use .train_test_split() (keep random_state = 0)"
      ],
      "execution_count": null,
      "outputs": []
    },
    {
      "cell_type": "markdown",
      "metadata": {
        "id": "IxqUwdAdbv1t"
      },
      "source": [
        "These exercises are really important, we've covered a lot about modelling and its crucial that you apply it and use it before the next step. "
      ]
    },
    {
      "cell_type": "markdown",
      "metadata": {
        "id": "TZA8J6hRlnK9"
      },
      "source": [
        "# HOMEWORK Exercise"
      ]
    },
    {
      "cell_type": "code",
      "metadata": {
        "id": "bf-RCZmTlosr"
      },
      "source": [
        "df_housing = pd.read_csv('/content/sample_data/california_housing_train.csv')"
      ],
      "execution_count": null,
      "outputs": []
    },
    {
      "cell_type": "markdown",
      "metadata": {
        "id": "G21MDduTl8B7"
      },
      "source": [
        "I've found you a new dataset, don't worry about where I got it from. Have a look, the column names are rather explanatory. Each row/observation in this dataset is a district in California and various properties of houses there. "
      ]
    },
    {
      "cell_type": "code",
      "metadata": {
        "id": "IJjRA6P6l1TD",
        "outputId": "d5854d06-eb86-41cb-fb53-aaa2d8ebc51a",
        "colab": {
          "base_uri": "https://localhost:8080/",
          "height": 422
        }
      },
      "source": [
        "df_housing"
      ],
      "execution_count": null,
      "outputs": [
        {
          "output_type": "execute_result",
          "data": {
            "text/html": [
              "<div>\n",
              "<style scoped>\n",
              "    .dataframe tbody tr th:only-of-type {\n",
              "        vertical-align: middle;\n",
              "    }\n",
              "\n",
              "    .dataframe tbody tr th {\n",
              "        vertical-align: top;\n",
              "    }\n",
              "\n",
              "    .dataframe thead th {\n",
              "        text-align: right;\n",
              "    }\n",
              "</style>\n",
              "<table border=\"1\" class=\"dataframe\">\n",
              "  <thead>\n",
              "    <tr style=\"text-align: right;\">\n",
              "      <th></th>\n",
              "      <th>longitude</th>\n",
              "      <th>latitude</th>\n",
              "      <th>housing_median_age</th>\n",
              "      <th>total_rooms</th>\n",
              "      <th>total_bedrooms</th>\n",
              "      <th>population</th>\n",
              "      <th>households</th>\n",
              "      <th>median_income</th>\n",
              "      <th>median_house_value</th>\n",
              "    </tr>\n",
              "  </thead>\n",
              "  <tbody>\n",
              "    <tr>\n",
              "      <th>0</th>\n",
              "      <td>-114.31</td>\n",
              "      <td>34.19</td>\n",
              "      <td>15.0</td>\n",
              "      <td>5612.0</td>\n",
              "      <td>1283.0</td>\n",
              "      <td>1015.0</td>\n",
              "      <td>472.0</td>\n",
              "      <td>1.4936</td>\n",
              "      <td>66900.0</td>\n",
              "    </tr>\n",
              "    <tr>\n",
              "      <th>1</th>\n",
              "      <td>-114.47</td>\n",
              "      <td>34.40</td>\n",
              "      <td>19.0</td>\n",
              "      <td>7650.0</td>\n",
              "      <td>1901.0</td>\n",
              "      <td>1129.0</td>\n",
              "      <td>463.0</td>\n",
              "      <td>1.8200</td>\n",
              "      <td>80100.0</td>\n",
              "    </tr>\n",
              "    <tr>\n",
              "      <th>2</th>\n",
              "      <td>-114.56</td>\n",
              "      <td>33.69</td>\n",
              "      <td>17.0</td>\n",
              "      <td>720.0</td>\n",
              "      <td>174.0</td>\n",
              "      <td>333.0</td>\n",
              "      <td>117.0</td>\n",
              "      <td>1.6509</td>\n",
              "      <td>85700.0</td>\n",
              "    </tr>\n",
              "    <tr>\n",
              "      <th>3</th>\n",
              "      <td>-114.57</td>\n",
              "      <td>33.64</td>\n",
              "      <td>14.0</td>\n",
              "      <td>1501.0</td>\n",
              "      <td>337.0</td>\n",
              "      <td>515.0</td>\n",
              "      <td>226.0</td>\n",
              "      <td>3.1917</td>\n",
              "      <td>73400.0</td>\n",
              "    </tr>\n",
              "    <tr>\n",
              "      <th>4</th>\n",
              "      <td>-114.57</td>\n",
              "      <td>33.57</td>\n",
              "      <td>20.0</td>\n",
              "      <td>1454.0</td>\n",
              "      <td>326.0</td>\n",
              "      <td>624.0</td>\n",
              "      <td>262.0</td>\n",
              "      <td>1.9250</td>\n",
              "      <td>65500.0</td>\n",
              "    </tr>\n",
              "    <tr>\n",
              "      <th>...</th>\n",
              "      <td>...</td>\n",
              "      <td>...</td>\n",
              "      <td>...</td>\n",
              "      <td>...</td>\n",
              "      <td>...</td>\n",
              "      <td>...</td>\n",
              "      <td>...</td>\n",
              "      <td>...</td>\n",
              "      <td>...</td>\n",
              "    </tr>\n",
              "    <tr>\n",
              "      <th>16995</th>\n",
              "      <td>-124.26</td>\n",
              "      <td>40.58</td>\n",
              "      <td>52.0</td>\n",
              "      <td>2217.0</td>\n",
              "      <td>394.0</td>\n",
              "      <td>907.0</td>\n",
              "      <td>369.0</td>\n",
              "      <td>2.3571</td>\n",
              "      <td>111400.0</td>\n",
              "    </tr>\n",
              "    <tr>\n",
              "      <th>16996</th>\n",
              "      <td>-124.27</td>\n",
              "      <td>40.69</td>\n",
              "      <td>36.0</td>\n",
              "      <td>2349.0</td>\n",
              "      <td>528.0</td>\n",
              "      <td>1194.0</td>\n",
              "      <td>465.0</td>\n",
              "      <td>2.5179</td>\n",
              "      <td>79000.0</td>\n",
              "    </tr>\n",
              "    <tr>\n",
              "      <th>16997</th>\n",
              "      <td>-124.30</td>\n",
              "      <td>41.84</td>\n",
              "      <td>17.0</td>\n",
              "      <td>2677.0</td>\n",
              "      <td>531.0</td>\n",
              "      <td>1244.0</td>\n",
              "      <td>456.0</td>\n",
              "      <td>3.0313</td>\n",
              "      <td>103600.0</td>\n",
              "    </tr>\n",
              "    <tr>\n",
              "      <th>16998</th>\n",
              "      <td>-124.30</td>\n",
              "      <td>41.80</td>\n",
              "      <td>19.0</td>\n",
              "      <td>2672.0</td>\n",
              "      <td>552.0</td>\n",
              "      <td>1298.0</td>\n",
              "      <td>478.0</td>\n",
              "      <td>1.9797</td>\n",
              "      <td>85800.0</td>\n",
              "    </tr>\n",
              "    <tr>\n",
              "      <th>16999</th>\n",
              "      <td>-124.35</td>\n",
              "      <td>40.54</td>\n",
              "      <td>52.0</td>\n",
              "      <td>1820.0</td>\n",
              "      <td>300.0</td>\n",
              "      <td>806.0</td>\n",
              "      <td>270.0</td>\n",
              "      <td>3.0147</td>\n",
              "      <td>94600.0</td>\n",
              "    </tr>\n",
              "  </tbody>\n",
              "</table>\n",
              "<p>17000 rows × 9 columns</p>\n",
              "</div>"
            ],
            "text/plain": [
              "       longitude  latitude  ...  median_income  median_house_value\n",
              "0        -114.31     34.19  ...         1.4936             66900.0\n",
              "1        -114.47     34.40  ...         1.8200             80100.0\n",
              "2        -114.56     33.69  ...         1.6509             85700.0\n",
              "3        -114.57     33.64  ...         3.1917             73400.0\n",
              "4        -114.57     33.57  ...         1.9250             65500.0\n",
              "...          ...       ...  ...            ...                 ...\n",
              "16995    -124.26     40.58  ...         2.3571            111400.0\n",
              "16996    -124.27     40.69  ...         2.5179             79000.0\n",
              "16997    -124.30     41.84  ...         3.0313            103600.0\n",
              "16998    -124.30     41.80  ...         1.9797             85800.0\n",
              "16999    -124.35     40.54  ...         3.0147             94600.0\n",
              "\n",
              "[17000 rows x 9 columns]"
            ]
          },
          "metadata": {
            "tags": []
          },
          "execution_count": 117
        }
      ]
    },
    {
      "cell_type": "markdown",
      "metadata": {
        "id": "Vv5TAf26myWS"
      },
      "source": [
        "Tasks:\n",
        "1. Make some simple plots based on your intuition of which columns/features would have a correlation with median_house_value\n",
        "2. Use ridge regressions alpha = 1.0 and a train test split to predict the median_house_value of a the data using .train_test_split(), test on 15% of the data. \n",
        "3. Repeat step three using the new value you found, compare and contrast results\n",
        "4. (After tomorrow, or reading ahead) Use validation curves to find the optimal value of alpha, choose a suitable number of folds yourself"
      ]
    },
    {
      "cell_type": "markdown",
      "metadata": {
        "id": "wSfbkZr1msMg"
      },
      "source": [
        "#BONUS Content Sklearn preprocessing"
      ]
    },
    {
      "cell_type": "markdown",
      "metadata": {
        "id": "mCfJFIiPgqeL"
      },
      "source": [
        "We introduced the fourth and final library we will use, called sklearn.The tool we want is called `OneHotEncoder()`. We will use this to change our features of strings into numerical numbers for our models in Chp 3. This is a shorter, one line way of produduing `'is_USA'`, `'is_Japan'`, `'is_Europe'` encoded columns. \n",
        "> For categories where there are many options (such as `'color'` and `'clarity'` in the diamonds dataset, this is the perferred way)  \n"
      ]
    },
    {
      "cell_type": "code",
      "metadata": {
        "id": "4E6l1chTg5TJ"
      },
      "source": [
        "encoder = skpre.OneHotEncoder()"
      ],
      "execution_count": null,
      "outputs": []
    },
    {
      "cell_type": "markdown",
      "metadata": {
        "id": "3zspiSoQl9dX"
      },
      "source": [
        "Sklearn is the machine learning library, and it doesn't care about column labels or row numbers anymore, all it wants are the numbers in an `array`. Luckily we can get the `array` of our dataframes using the `.values` attribute. "
      ]
    },
    {
      "cell_type": "code",
      "metadata": {
        "id": "3nweoHHemP3N"
      },
      "source": [
        "df_in.values ## this gives us an array"
      ],
      "execution_count": null,
      "outputs": []
    },
    {
      "cell_type": "markdown",
      "metadata": {
        "id": "a5DG41Z7l946"
      },
      "source": [
        "For objects from `scikit learn` the function we most care about is to `.fit()`. Currently, the encoder knows nothing because haven't 'fitted' it to anything yet. When we fit, the encoder will be introduced to the data we have, and it will adjust itself to be useful for that data. "
      ]
    },
    {
      "cell_type": "markdown",
      "metadata": {
        "id": "PHtmDYYYbMyn"
      },
      "source": [
        "Let's encode the columns `'cut'` and `'clarity'`. To get 2 columns back from a dataframe, index with a `list` of column names. You don't need the spaces here, I'm just showing that its a list. "
      ]
    },
    {
      "cell_type": "code",
      "metadata": {
        "id": "2YBoIWwInHNg"
      },
      "source": [
        "df_in[ ['cut','clarity'] ]"
      ],
      "execution_count": null,
      "outputs": []
    },
    {
      "cell_type": "markdown",
      "metadata": {
        "id": "U5GPcEtpnP0P"
      },
      "source": [
        "Remember we need to use `.values` to get that array!!"
      ]
    },
    {
      "cell_type": "code",
      "metadata": {
        "id": "du2g7cg6RQ8L"
      },
      "source": [
        "encoder.fit(X = df_in[['cut','clarity']].values)"
      ],
      "execution_count": null,
      "outputs": []
    },
    {
      "cell_type": "markdown",
      "metadata": {
        "id": "Mf5k40B6nWzg"
      },
      "source": [
        "Now that it has ***fitted itself*** to the data, we can use some of the features to get the feature names we want and also use it for transformations"
      ]
    },
    {
      "cell_type": "code",
      "metadata": {
        "id": "Zp2jitNRUBPc"
      },
      "source": [
        "encoder.get_feature_names()"
      ],
      "execution_count": null,
      "outputs": []
    },
    {
      "cell_type": "code",
      "metadata": {
        "id": "XciwNFwaUDY9"
      },
      "source": [
        "encoder.transform(X = df_in[['cut','clarity']]).toarray()"
      ],
      "execution_count": null,
      "outputs": []
    },
    {
      "cell_type": "markdown",
      "metadata": {
        "id": "7Bl6KsNnpvks"
      },
      "source": [
        "Technically we are stacking functions here, but the `.toarray()` function is pretty standard since usually encoder gives us a matrix (don't worry about matrix, we convert it to an array)"
      ]
    },
    {
      "cell_type": "markdown",
      "metadata": {
        "id": "Kp2fjr_dpom-"
      },
      "source": [
        "![alt text](https://i.imgur.com/z8i5Ky0.png)"
      ]
    },
    {
      "cell_type": "markdown",
      "metadata": {
        "id": "SQS5I4Xxp3XG"
      },
      "source": [
        "We can see that the encoder is as good as useless until we fit it into some data, this example we used: `encoder.fit(X = df_in[['cut','clarity']].values))` after the `.fit()` we can give it more data to transform it. We gave it `.transform(X = df_in[['cut','clarity']]).toarray()`\n"
      ]
    },
    {
      "cell_type": "markdown",
      "metadata": {
        "id": "TRDezQQaqNF3"
      },
      "source": [
        "It was perfectly fine to transform the same data it was fitted on, but we are not limited, we can transform even more or even less data. The transformed array has 13 columns, one for each category specified in .get_feature_names() for each of: `['x0_Fair', 'x0_Good', 'x0_Ideal', 'x0_Premium', 'x0_Very Good',\n",
        "       'x1_I1', 'x1_IF', 'x1_SI1', 'x1_SI2', 'x1_VS1', 'x1_VS2',\n",
        "       'x1_VVS1', 'x1_VVS2']`\n"
      ]
    },
    {
      "cell_type": "markdown",
      "metadata": {
        "id": "-9H_2ggwnk19"
      },
      "source": [
        "The feature names actually ***MATCH*** the columns of the array! They are both useful and we will save it with the goal of getting it back into a ***DATAFRAME***"
      ]
    },
    {
      "cell_type": "code",
      "metadata": {
        "id": "4mXIQ7iOn3lr"
      },
      "source": [
        "colum_names = encoder.get_feature_names()\n",
        "array = encoder.transform(X = df_in[['cut','clarity']]).toarray()"
      ],
      "execution_count": null,
      "outputs": []
    },
    {
      "cell_type": "markdown",
      "metadata": {
        "id": "AvwfchYOoOL_"
      },
      "source": [
        "And the row names should be the same as the row names of `df_in`, also called `index`. It's basically whole numbers from 0 to 53940 (length of dataset). "
      ]
    },
    {
      "cell_type": "code",
      "metadata": {
        "id": "cfWgVp9JoXMp"
      },
      "source": [
        "df_in.index"
      ],
      "execution_count": null,
      "outputs": []
    },
    {
      "cell_type": "code",
      "metadata": {
        "id": "zzik7GYWoNuH"
      },
      "source": [
        "row_names = df_in.index"
      ],
      "execution_count": null,
      "outputs": []
    },
    {
      "cell_type": "markdown",
      "metadata": {
        "id": "C6S8MtwFopL6"
      },
      "source": [
        "Now we need to take these three peices of information and put them together in a dataframe!! We use the `pd.DataFrame()` function which is expecting 3 inputs (array = , index = , and columns = )"
      ]
    },
    {
      "cell_type": "code",
      "metadata": {
        "id": "24xWZZmioAgQ"
      },
      "source": [
        "pd.DataFrame(data = array, index = row_names, columns = colum_names)"
      ],
      "execution_count": null,
      "outputs": []
    },
    {
      "cell_type": "markdown",
      "metadata": {
        "id": "RWWd315QpBO-"
      },
      "source": [
        "There we have it, we just encoded 2 columns for 53940 rows, the first diamond was an IDEA and SI2, the second was Premium and SI1 etc!!"
      ]
    },
    {
      "cell_type": "markdown",
      "metadata": {
        "id": "74s-g9sPoA0c"
      },
      "source": [
        "An alternative way to do this would be to ditch the variable names and directly add the array, columns and index to `pd.DataFrame()` like so: \n",
        "\n",
        "\n",
        "```\n",
        "df_encoded = pd.DataFrame(data = encoder.transform(X = df_in[['cut','color']]).toarray(),\n",
        "             index = df_in.index,\n",
        "             columns = encoder.get_feature_names())\n",
        "```\n",
        "\n"
      ]
    },
    {
      "cell_type": "code",
      "metadata": {
        "id": "JF1fKt-soAd5"
      },
      "source": [
        "df_encoded = pd.DataFrame(data = array, index = row_names, columns = colum_names)"
      ],
      "execution_count": null,
      "outputs": []
    },
    {
      "cell_type": "code",
      "metadata": {
        "id": "IHjm6_dKpLKh"
      },
      "source": [
        "## Mandatory exercise, encode the original 'color' column. Use a new encoder \n",
        "## encoder2 = skpre.OneHotEncoder()\n",
        "## even though its one column, we still have to use\n",
        "## df_in[ ['color',] ] as a list of 1, just trust me here..."
      ],
      "execution_count": null,
      "outputs": []
    },
    {
      "cell_type": "markdown",
      "metadata": {
        "id": "8lbxfdTaqlZs"
      },
      "source": [
        "Now we need to take the encoded dataframe and MERGE IT with our old df_in! Luckily there's a function here: "
      ]
    },
    {
      "cell_type": "code",
      "metadata": {
        "id": "bizuAUfKUd0-"
      },
      "source": [
        "pd.concat([df_in, df_encoded], axis = 1)"
      ],
      "execution_count": null,
      "outputs": []
    },
    {
      "cell_type": "markdown",
      "metadata": {
        "id": "lBZYVs46qyYN"
      },
      "source": [
        "Just like how we have lists of numbers `[1,2,3]` we can have lists of dataframes to `[df1,df2,df3]`. We can actually have lists of anything, but the function `pd.concat(objs = )` was specifically looking for a list of dataframes, which is what we provided. `axis = 1` tells the function to add everything as new columns, without affecting the rows. `axis = 0 ` would have added thousands of rows below (try it!)"
      ]
    },
    {
      "cell_type": "code",
      "metadata": {
        "id": "7lAVRNW6Uxci"
      },
      "source": [
        "df_merged = pd.concat([df_in, df_encoded], axis = 1)"
      ],
      "execution_count": null,
      "outputs": []
    },
    {
      "cell_type": "markdown",
      "metadata": {
        "id": "ZohLk6lgb617"
      },
      "source": [
        "We drop `'cut'` and `'color'` since we encoded them, and `clarity` since we are ignoring it. "
      ]
    },
    {
      "cell_type": "code",
      "metadata": {
        "id": "93rB-kkIUqGB"
      },
      "source": [
        "df_input_encoded_final = df_merged.drop(columns = ['cut','color','clarity'])"
      ],
      "execution_count": null,
      "outputs": []
    },
    {
      "cell_type": "markdown",
      "metadata": {
        "id": "co2cJoR1a8Fs"
      },
      "source": [
        "# Tomorrows Content - all about validation"
      ]
    },
    {
      "cell_type": "markdown",
      "metadata": {
        "id": "KMfC6yEBeCeW"
      },
      "source": [
        "Now we have to address the 2 pesky problems I've let you get away with so far. \n",
        "\n",
        "1.   Re-running the cell, there must be a better way of testing the models and seeing all the results\n",
        "2.   The random state variable, if the model is best in one random state (of train test split) it might be worse on another\n",
        "\n"
      ]
    },
    {
      "cell_type": "markdown",
      "metadata": {
        "id": "HGzaTO3UeXxV"
      },
      "source": [
        "The second problem is key especially in a small datast since a few tough values will really ramp up the error. So a model might just be lucky that the hardest to predict values were not in the test set, lucky rather than good. Imagine if the mpg was: \n",
        "`10,11,13,15,35,9,9,11...` then wherever that 35 is - will ruin everything. "
      ]
    },
    {
      "cell_type": "markdown",
      "metadata": {
        "id": "VuuI9WuQfFdg"
      },
      "source": [
        "What we need is cross validation, best shown in a picture: \n",
        "![Cross Validation](https://upload.wikimedia.org/wikipedia/commons/thumb/b/b5/K-fold_cross_validation_EN.svg/1024px-K-fold_cross_validation_EN.svg.png)"
      ]
    },
    {
      "cell_type": "markdown",
      "metadata": {
        "id": "1HFudLJYfV0w"
      },
      "source": [
        "Essentially all of our data gets to be in the **testing set** exactly **once**. Each iteration takes a different slice or ***fold*** of the data to **test with**, we keep track of the error and use the median of all the tests as our result. "
      ]
    },
    {
      "cell_type": "markdown",
      "metadata": {
        "id": "8W31oiuZfmig"
      },
      "source": [
        "Of course there is a way for us to slice the data and keep track of the folds, I'm not going to bother (I've heard that when it comes to high level data science...if you're writing a loop...you're probably doing it wrong)"
      ]
    },
    {
      "cell_type": "code",
      "metadata": {
        "id": "lQHi0iAx-_j5"
      },
      "source": [
        "from sklearn.model_selection import cross_val_score"
      ],
      "execution_count": null,
      "outputs": []
    },
    {
      "cell_type": "code",
      "metadata": {
        "id": "cRQInLrggDGl"
      },
      "source": [
        "lasso_linear_model = linear_model.Lasso(alpha = 0.015)"
      ],
      "execution_count": null,
      "outputs": []
    },
    {
      "cell_type": "code",
      "metadata": {
        "id": "qktUN-xKgHsP"
      },
      "source": [
        "scores = cross_val_score(estimator = lasso_linear_model, \n",
        "                         X = df_carsfinal, \n",
        "                         y = true_mpg, cv = 5)"
      ],
      "execution_count": null,
      "outputs": []
    },
    {
      "cell_type": "markdown",
      "metadata": {
        "id": "bxZKF7j5lvI8"
      },
      "source": [
        "Rather than specifying the size of the test set, we specity the number of folds we want to use. (5 folds means 20% +- nearest integer) will be tested at once. `cross_val_score()` will:\n",
        "\n",
        "1. Take the model passed in as the `estimator = ` and fit it to all but 1 fold of the data\n",
        "2. Test the model on the 1 fold and save the result\n",
        "3. Repeat for each of the folds, as specified by the cv. \n",
        "4. Return an array of the test score from each fold"
      ]
    },
    {
      "cell_type": "code",
      "metadata": {
        "id": "MnMleD6gll2x"
      },
      "source": [
        "scores"
      ],
      "execution_count": null,
      "outputs": []
    },
    {
      "cell_type": "markdown",
      "metadata": {
        "id": "CQ8zarKgnv5q"
      },
      "source": [
        "What it has returned is the default scoring called R^2 score (aka Coefficient of determination) for now just know that the perfect fit is 1, complete trash is 0. This average score  of the five scores is a better representation of the overall error. "
      ]
    },
    {
      "cell_type": "code",
      "metadata": {
        "id": "M4czKVvfgPjH"
      },
      "source": [
        "scores.mean()"
      ],
      "execution_count": null,
      "outputs": []
    },
    {
      "cell_type": "markdown",
      "metadata": {
        "id": "oDW7mCvkoKjg"
      },
      "source": [
        "We can ask `cross_val_score()` to calculate the errors we are more familiar with instead using the `scoring = ` input. Go for: \n",
        "\n",
        "`'neg_mean_square_error'` or `'neg_mean_absolute_error'`"
      ]
    },
    {
      "cell_type": "code",
      "metadata": {
        "id": "1jY1V35wlRW6"
      },
      "source": [
        "scores_2 = cross_val_score(estimator = lasso_linear_model, \n",
        "                         X = df_carsfinal, \n",
        "                         y = true_mpg, cv = 5, scoring = 'neg_mean_squared_error')"
      ],
      "execution_count": null,
      "outputs": []
    },
    {
      "cell_type": "markdown",
      "metadata": {
        "id": "YHaOCBvqo1AH"
      },
      "source": [
        "A negative value is returned because in scoring higher score is better, so we take the negative of the error at the end, a smaller negative value is better. This is still the `mean_squared_error` we saw earlier.  "
      ]
    },
    {
      "cell_type": "code",
      "metadata": {
        "id": "Xwpy1xFEo2TB"
      },
      "source": [
        "scores_2.mean()"
      ],
      "execution_count": null,
      "outputs": []
    },
    {
      "cell_type": "markdown",
      "metadata": {
        "id": "MdkjGxJprJMu"
      },
      "source": [
        "The advantage of using `cross_val_score()` is that it gives us a more accurate measure of the error and does not \"waste\" any data by leaving it in the testing set. The disadvantage is of course computational, since we train and fit 5 times, if we were using a large dataset (such as the diamonds) this would take more time. "
      ]
    },
    {
      "cell_type": "code",
      "metadata": {
        "id": "lkxq3Gc8pD7I"
      },
      "source": [
        "lasso_linear_model = linear_model.Lasso(alpha = 0.015)\n",
        "scores_2 = cross_val_score(estimator = lasso_linear_model, \n",
        "                         X = df_carsfinal, \n",
        "                         y = true_mpg, cv = 5, scoring = 'neg_mean_squared_error')\n",
        "scores_2.mean()"
      ],
      "execution_count": null,
      "outputs": []
    },
    {
      "cell_type": "markdown",
      "metadata": {
        "id": "TrcmfGh4ruPv"
      },
      "source": [
        "It is also repeatable, there is no random state or shuffling. So now, we can compare different values of alpha to find us the best model with the lowest error after cross validation. "
      ]
    },
    {
      "cell_type": "code",
      "metadata": {
        "id": "kLYTrYuepDyA"
      },
      "source": [
        "lasso_linear_model = linear_model.Lasso(alpha = 0.001)\n",
        "scores_2 = cross_val_score(estimator = lasso_linear_model, \n",
        "                         X = df_carsfinal, \n",
        "                         y = true_mpg, cv = 5, scoring = 'neg_mean_squared_error')\n",
        "scores_2.mean()"
      ],
      "execution_count": null,
      "outputs": []
    },
    {
      "cell_type": "markdown",
      "metadata": {
        "id": "L701BZYQsrzP"
      },
      "source": [
        "Indeed a `.Lasso(alpha = 0.015)` is better than `alpha = 0.001` now do we just test a bunch of values and hope we find the best `alpha`? "
      ]
    },
    {
      "cell_type": "markdown",
      "metadata": {
        "id": "JVv0UR3ds8zR"
      },
      "source": [
        "## luckily, there's a function for that"
      ]
    },
    {
      "cell_type": "code",
      "metadata": {
        "id": "BNNc7yRXsVMd"
      },
      "source": [
        "from sklearn.model_selection import validation_curve"
      ],
      "execution_count": null,
      "outputs": []
    },
    {
      "cell_type": "markdown",
      "metadata": {
        "id": "ltK32tVFtUmZ"
      },
      "source": [
        "A validation curve will help us..requirements:\n",
        "\n",
        "\n",
        "*  INPUTS: the model, X values, y values, the paramter we are investigating (`alpha`) and a list of `alpha` values we want to test eg `[0.001,0.01,0.1,0.2,0.5,1,2]`. And number of folds for the cross validation. \n",
        "*   OUPUTS: Two arrays, one for the training scores, the other for the testing\n"
      ]
    },
    {
      "cell_type": "code",
      "metadata": {
        "id": "R3iSrbJgsVC4"
      },
      "source": [
        "alpha_range = [0.001,0.005,0.01,0.02,0.4,0.5]\n",
        "train_scores, valid_scores = validation_curve(estimator = linear_model.Lasso(),\n",
        "                                              X = df_carsfinal, \n",
        "                                              y = true_mpg, \n",
        "                                              param_name = 'alpha',\n",
        "                                              param_range = alpha_range, \n",
        "                                              cv = 5)"
      ],
      "execution_count": null,
      "outputs": []
    },
    {
      "cell_type": "code",
      "metadata": {
        "id": "jLgdyYYesU3w"
      },
      "source": [
        "train_scores"
      ],
      "execution_count": null,
      "outputs": []
    },
    {
      "cell_type": "markdown",
      "metadata": {
        "id": "cBOsnvb0uU30"
      },
      "source": [
        "We asked the function to test 6 different `alpha` values, and train over 5 folds each time, all the scores are shown above (still R^2 score, 1.0 is best). We only want to look at the mean of each alpha test (row wise, axis = 1 for numpy arrays)"
      ]
    },
    {
      "cell_type": "code",
      "metadata": {
        "id": "CirJ5GAwut4n"
      },
      "source": [
        "avg_train_scores = np.mean(train_scores, axis = 1)\n",
        "avg_valid_scores = np.mean(valid_scores, axis = 1)"
      ],
      "execution_count": null,
      "outputs": []
    },
    {
      "cell_type": "code",
      "metadata": {
        "id": "K387Gw5pvcJc"
      },
      "source": [
        "avg_train_scores"
      ],
      "execution_count": null,
      "outputs": []
    },
    {
      "cell_type": "markdown",
      "metadata": {
        "id": "JnVdqmanvM97"
      },
      "source": [
        "what do we do? Plot!"
      ]
    },
    {
      "cell_type": "code",
      "metadata": {
        "id": "nNsp4DO0vLv7"
      },
      "source": [
        "fig, ax = plt.subplots()\n",
        "ax.semilogx(alpha_range, avg_train_scores, marker = '.')\n",
        "ax.semilogx(alpha_range, avg_valid_scores, marker = '.')\n",
        "ax.set(title = 'Validation Curve for Lasso Model')\n",
        "fig.show()"
      ],
      "execution_count": null,
      "outputs": []
    },
    {
      "cell_type": "markdown",
      "metadata": {
        "id": "evawoZExyahz"
      },
      "source": [
        "These curves are very useful to show how the model behaves as one parameter changes. Luckily in a linear model there is usually one major parameter to change, tomorrow when we skip ahead to Neural Networks there will be multiple parameters to adjust, however the concept of **train test split, overfitting, validation, cross validation** will still apply"
      ]
    },
    {
      "cell_type": "markdown",
      "metadata": {
        "id": "Gvd19H7BzPad"
      },
      "source": [
        "Make sure you review today's content, there was a lot and make sure you complete all the exercises. It doesn't hurt to spend a lot of time on this chapter, tinkering with the models, as the next chapter will be the last day of content before the project. "
      ]
    },
    {
      "cell_type": "code",
      "metadata": {
        "id": "ZlK5s0jrjqOh"
      },
      "source": [
        "## MANDATORY EXERCISE: use the lasso OR ridge model to beat the linear model you used\n",
        "## on the DIAMONDS dataset \n",
        "## Then create a validation curve to find the optimal alpha value "
      ],
      "execution_count": null,
      "outputs": []
    }
  ]
}